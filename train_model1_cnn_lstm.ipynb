{
  "nbformat": 4,
  "nbformat_minor": 0,
  "metadata": {
    "colab": {
      "name": "train_model1_cnn_lstm.ipynb",
      "provenance": [],
      "collapsed_sections": [],
      "toc_visible": true,
      "machine_shape": "hm"
    },
    "kernelspec": {
      "name": "python3",
      "display_name": "Python 3"
    },
    "language_info": {
      "name": "python"
    },
    "accelerator": "TPU"
  },
  "cells": [
    {
      "cell_type": "code",
      "metadata": {
        "colab": {
          "base_uri": "https://localhost:8080/"
        },
        "id": "Q_acOOXjYOcD",
        "outputId": "5c45d03f-546c-4441-8861-50a28ff0ea6d"
      },
      "source": [
        "# Mount Google Drive to the Colab VM.\n",
        "from google.colab import drive\n",
        "drive.mount('/content/drive', force_remount=True)\n",
        "\n",
        "# Specify working directory.\n",
        "FOLDERNAME = 'cs231n/project/'\n",
        "%cd /content/drive/My\\ Drive/$FOLDERNAME\n",
        "\n",
        "# Ensure that the Python interpreter of the Colab VM can load python files from\n",
        "# within it.\n",
        "import sys\n",
        "sys.path.append('/content/drive/My Drive/{}'.format(FOLDERNAME))"
      ],
      "execution_count": 1,
      "outputs": [
        {
          "output_type": "stream",
          "text": [
            "Mounted at /content/drive\n",
            "/content/drive/My Drive/cs231n/project\n"
          ],
          "name": "stdout"
        }
      ]
    },
    {
      "cell_type": "markdown",
      "metadata": {
        "id": "dFg3BpW0YQga"
      },
      "source": [
        "## Load dataset and labels"
      ]
    },
    {
      "cell_type": "code",
      "metadata": {
        "id": "wDduMsrCYQzb"
      },
      "source": [
        "import numpy as np\n",
        "import os\n",
        "\n",
        "base_dir = '/content/drive/My Drive/cs231n/project/dataset/shaped_data'\n",
        "\n",
        "train_data = np.load(os.path.join(base_dir, 'train_data.npy'))\n",
        "val_data = np.load(os.path.join(base_dir, 'val_data.npy'))\n",
        "\n",
        "train_labels = np.load(os.path.join(base_dir, 'train_labels.npy'))\n",
        "val_labels = np.load(os.path.join(base_dir, 'val_labels.npy'))"
      ],
      "execution_count": 2,
      "outputs": []
    },
    {
      "cell_type": "code",
      "metadata": {
        "id": "IEY0wBBwYUhB",
        "colab": {
          "base_uri": "https://localhost:8080/"
        },
        "outputId": "ceaef2bc-1cfe-490b-e06d-6bdde13a7f76"
      },
      "source": [
        "print('Training data shape: ', train_data.shape)\n",
        "print('Training label shape: ', train_labels.shape)\n",
        "print('Train Label=1 ratio:', np.sum(train_labels ) /train_labels.shape[0])\n",
        "print('Validation data shape: ', val_data.shape)\n",
        "print('Validation label shape: ', val_labels.shape)\n",
        "print('Validation Label=1 ratio:', np.sum(val_labels) / val_labels.shape[0])"
      ],
      "execution_count": 3,
      "outputs": [
        {
          "output_type": "stream",
          "text": [
            "Training data shape:  (1007, 20, 250, 250, 1)\n",
            "Training label shape:  (1007,)\n",
            "Train Label=1 ratio: 0.24925521350546176\n",
            "Validation data shape:  (433, 20, 250, 250, 1)\n",
            "Validation label shape:  (433,)\n",
            "Validation Label=1 ratio: 0.2517321016166282\n"
          ],
          "name": "stdout"
        }
      ]
    },
    {
      "cell_type": "markdown",
      "metadata": {
        "id": "xJY0oZCPnmWa"
      },
      "source": [
        "## Model 1: CNN and LSTM (basic architecture)"
      ]
    },
    {
      "cell_type": "code",
      "metadata": {
        "colab": {
          "base_uri": "https://localhost:8080/"
        },
        "id": "POAXQXJTnvZr",
        "outputId": "4b100b0c-fc69-48a5-ebe7-c37e90b0356a"
      },
      "source": [
        "from keras.layers import TimeDistributed, Conv2D, Dense, MaxPooling2D, Flatten, LSTM, Dropout, BatchNormalization\n",
        "from keras import models\n",
        "model = models.Sequential()\n",
        "model.add(TimeDistributed(Conv2D(128, (3, 3), strides=(1,1),activation='relu'),\n",
        "                                input_shape=(20, 250, 250, 1)))\n",
        "model.add(TimeDistributed(Conv2D(64, (3, 3), strides=(1,1),activation='relu')))\n",
        "model.add(TimeDistributed(MaxPooling2D(2,2)))\n",
        "model.add(TimeDistributed(Conv2D(64, (3, 3), strides=(1,1),activation='relu')))\n",
        "model.add(TimeDistributed(Conv2D(32, (3, 3), strides=(1,1),activation='relu')))\n",
        "model.add(TimeDistributed(MaxPooling2D(2,2)))\n",
        "model.add(TimeDistributed(BatchNormalization()))\n",
        "model.add(TimeDistributed(Flatten()))\n",
        "model.add(Dropout(0.2))\n",
        "\n",
        "model.add(LSTM(32, return_sequences=False, dropout=0.2)) # used 32 units\n",
        "\n",
        "model.add(Dense(64, activation='relu'))\n",
        "model.add(Dense(32, activation='relu'))\n",
        "model.add(Dropout(0.2))\n",
        "model.add(Dense(1, activation='sigmoid'))\n",
        "model.summary()"
      ],
      "execution_count": 4,
      "outputs": [
        {
          "output_type": "stream",
          "text": [
            "Model: \"sequential\"\n",
            "_________________________________________________________________\n",
            "Layer (type)                 Output Shape              Param #   \n",
            "=================================================================\n",
            "time_distributed (TimeDistri (None, 20, 248, 248, 128) 1280      \n",
            "_________________________________________________________________\n",
            "time_distributed_1 (TimeDist (None, 20, 246, 246, 64)  73792     \n",
            "_________________________________________________________________\n",
            "time_distributed_2 (TimeDist (None, 20, 123, 123, 64)  0         \n",
            "_________________________________________________________________\n",
            "time_distributed_3 (TimeDist (None, 20, 121, 121, 64)  36928     \n",
            "_________________________________________________________________\n",
            "time_distributed_4 (TimeDist (None, 20, 119, 119, 32)  18464     \n",
            "_________________________________________________________________\n",
            "time_distributed_5 (TimeDist (None, 20, 59, 59, 32)    0         \n",
            "_________________________________________________________________\n",
            "time_distributed_6 (TimeDist (None, 20, 59, 59, 32)    128       \n",
            "_________________________________________________________________\n",
            "time_distributed_7 (TimeDist (None, 20, 111392)        0         \n",
            "_________________________________________________________________\n",
            "dropout (Dropout)            (None, 20, 111392)        0         \n",
            "_________________________________________________________________\n",
            "lstm (LSTM)                  (None, 32)                14262400  \n",
            "_________________________________________________________________\n",
            "dense (Dense)                (None, 64)                2112      \n",
            "_________________________________________________________________\n",
            "dense_1 (Dense)              (None, 32)                2080      \n",
            "_________________________________________________________________\n",
            "dropout_1 (Dropout)          (None, 32)                0         \n",
            "_________________________________________________________________\n",
            "dense_2 (Dense)              (None, 1)                 33        \n",
            "=================================================================\n",
            "Total params: 14,397,217\n",
            "Trainable params: 14,397,153\n",
            "Non-trainable params: 64\n",
            "_________________________________________________________________\n"
          ],
          "name": "stdout"
        }
      ]
    },
    {
      "cell_type": "code",
      "metadata": {
        "id": "AMeWSB60owla"
      },
      "source": [
        "import keras\n",
        "callbacks_list = [keras.callbacks.EarlyStopping(monitor='acc',patience=5),\n",
        "                  keras.callbacks.ModelCheckpoint(\n",
        "                      filepath='cnn_lstm_model_v1.h5',\n",
        "                      monitor='val_loss',\n",
        "                      save_best_only=True\n",
        "                  ),\n",
        "                  keras.callbacks.ReduceLROnPlateau(\n",
        "                      monitor = \"val_loss\", factor = 0.1, patience = 3\n",
        "                  )]\n",
        "\n",
        "from keras import optimizers\n",
        "\n",
        "optimizer_new=optimizers.Adam(lr=1e-4)\n",
        "model.compile(optimizer=optimizer_new,\n",
        "                    loss='binary_crossentropy',\n",
        "                    metrics=['acc'])"
      ],
      "execution_count": 5,
      "outputs": []
    },
    {
      "cell_type": "code",
      "metadata": {
        "colab": {
          "base_uri": "https://localhost:8080/"
        },
        "id": "d6NefbDRqoLi",
        "outputId": "0e378c65-b885-4a97-9009-3284815b865e"
      },
      "source": [
        "history = model.fit(train_data, train_labels,\n",
        "                    validation_data=(val_data, val_labels),\n",
        "                    batch_size=10, epochs=10,\n",
        "                    callbacks=callbacks_list)"
      ],
      "execution_count": null,
      "outputs": [
        {
          "output_type": "stream",
          "text": [
            "Epoch 1/10\n"
          ],
          "name": "stdout"
        }
      ]
    },
    {
      "cell_type": "code",
      "metadata": {
        "id": "RG_R4D_Iq8YD"
      },
      "source": [
        ""
      ],
      "execution_count": null,
      "outputs": []
    }
  ]
}
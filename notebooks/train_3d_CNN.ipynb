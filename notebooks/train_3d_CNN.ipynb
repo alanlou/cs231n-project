{
 "cells": [
  {
   "cell_type": "markdown",
   "id": "attractive-ferry",
   "metadata": {},
   "source": [
    "# Train 3d CNN + Attention"
   ]
  },
  {
   "cell_type": "markdown",
   "id": "logical-swift",
   "metadata": {},
   "source": [
    "## Setup"
   ]
  },
  {
   "cell_type": "code",
   "execution_count": 1,
   "id": "engaged-firmware",
   "metadata": {},
   "outputs": [
    {
     "name": "stdout",
     "output_type": "stream",
     "text": [
      "Not on Google Colab.\n"
     ]
    }
   ],
   "source": [
    "# Skip this cell if we are not on Google Colab\n",
    "try:\n",
    "    # Mount Google Drive to the Colab VM.\n",
    "    from google.colab import drive\n",
    "    drive.mount('/content/drive', force_remount=True)\n",
    "\n",
    "    # Specify working directory.\n",
    "    FOLDERNAME = 'cs231n/project/'\n",
    "    %cd /content/drive/My\\ Drive/$FOLDERNAME\n",
    "\n",
    "    # Ensure that the Python interpreter of the Colab VM can load python files from\n",
    "    # within it.\n",
    "    import sys\n",
    "    sys.path.append('/content/drive/My Drive/{}'.format(FOLDERNAME))\n",
    "except ImportError as e:\n",
    "    print(\"Not on Google Colab.\")"
   ]
  },
  {
   "cell_type": "markdown",
   "id": "hired-squad",
   "metadata": {},
   "source": [
    "## Load dataset and labels"
   ]
  },
  {
   "cell_type": "code",
   "execution_count": 2,
   "id": "previous-leave",
   "metadata": {},
   "outputs": [],
   "source": [
    "import numpy as np\n",
    "import os\n",
    "\n",
    "#base_dir = '/content/drive/My Drive/cs231n/project/dataset/shaped_hrnet_data'\n",
    "base_dir = '/home/ubuntu'\n",
    "\n",
    "train_data = np.load(os.path.join(base_dir, 'train_data_pre12.npy'))\n",
    "train_actions = np.load(os.path.join(base_dir, 'train_actions_pre12.npy'), allow_pickle=True)\n",
    "train_labels = np.load(os.path.join(base_dir, 'train_labels_pre12.npy'))\n",
    "\n",
    "val_data = np.load(os.path.join(base_dir, 'val_data_pre12.npy'))\n",
    "val_actions = np.load(os.path.join(base_dir, 'val_actions_pre12.npy'), allow_pickle=True)\n",
    "val_labels = np.load(os.path.join(base_dir, 'val_labels_pre12.npy'))"
   ]
  },
  {
   "cell_type": "code",
   "execution_count": 3,
   "id": "bottom-socket",
   "metadata": {},
   "outputs": [
    {
     "name": "stdout",
     "output_type": "stream",
     "text": [
      "Training data shape:  (1007, 12, 224, 224, 3)\n",
      "Training label shape:  (1007,)\n",
      "Training action shape:  (1007,)\n",
      "Train Label=1 ratio: 0.24925521350546176\n",
      "Validation data shape:  (433, 12, 224, 224, 3)\n",
      "Validation label shape:  (433,)\n",
      "Validation action shape:  (433,)\n",
      "Validation Label=1 ratio: 0.2517321016166282\n"
     ]
    }
   ],
   "source": [
    "print('Training data shape: ', train_data.shape)\n",
    "print('Training label shape: ', train_labels.shape)\n",
    "print('Training action shape: ', train_actions.shape)\n",
    "print('Train Label=1 ratio:', np.sum(train_labels) /train_labels.shape[0])\n",
    "print('Validation data shape: ', val_data.shape)\n",
    "print('Validation label shape: ', val_labels.shape)\n",
    "print('Validation action shape: ', val_actions.shape)\n",
    "print('Validation Label=1 ratio:', np.sum(val_labels) / val_labels.shape[0])"
   ]
  },
  {
   "cell_type": "code",
   "execution_count": 4,
   "id": "bronze-tomato",
   "metadata": {},
   "outputs": [],
   "source": [
    "mapping = {\n",
    "    'CALL': 0,\n",
    "    'COUG': 1,\n",
    "    'DRIN': 2,\n",
    "    'SCRA': 3,\n",
    "    'SNEE': 4,\n",
    "    'STRE': 5,\n",
    "    'WAVE': 6,\n",
    "    'WIPE': 7,\n",
    "}\n",
    "train_action_labels = [mapping[x] for x in train_actions]\n",
    "val_action_labels = [mapping[x] for x in val_actions]\n",
    "\n",
    "# One-hot encoding.\n",
    "train_action_labels = np.eye(8)[train_action_labels] \n",
    "val_action_labels = np.eye(8)[val_action_labels] "
   ]
  },
  {
   "cell_type": "markdown",
   "id": "native-perfume",
   "metadata": {},
   "source": [
    "## 1. 3d CNN Model"
   ]
  },
  {
   "cell_type": "markdown",
   "id": "individual-hostel",
   "metadata": {},
   "source": [
    "### 1. Define model"
   ]
  },
  {
   "cell_type": "code",
   "execution_count": 7,
   "id": "municipal-anchor",
   "metadata": {},
   "outputs": [
    {
     "name": "stdout",
     "output_type": "stream",
     "text": [
      "Model: \"sequential_2\"\n",
      "_________________________________________________________________\n",
      "Layer (type)                 Output Shape              Param #   \n",
      "=================================================================\n",
      "conv1 (Conv3D)               (None, 12, 224, 224, 32)  2624      \n",
      "_________________________________________________________________\n",
      "pool1 (MaxPooling3D)         (None, 12, 112, 112, 32)  0         \n",
      "_________________________________________________________________\n",
      "conv2 (Conv3D)               (None, 12, 112, 112, 64)  55360     \n",
      "_________________________________________________________________\n",
      "pool2 (MaxPooling3D)         (None, 6, 56, 56, 64)     0         \n",
      "_________________________________________________________________\n",
      "conv3a (Conv3D)              (None, 6, 56, 56, 128)    221312    \n",
      "_________________________________________________________________\n",
      "conv3b (Conv3D)              (None, 6, 56, 56, 128)    442496    \n",
      "_________________________________________________________________\n",
      "pool3 (MaxPooling3D)         (None, 3, 28, 28, 128)    0         \n",
      "_________________________________________________________________\n",
      "conv4a (Conv3D)              (None, 3, 28, 28, 256)    884992    \n",
      "_________________________________________________________________\n",
      "conv4b (Conv3D)              (None, 3, 28, 28, 256)    1769728   \n",
      "_________________________________________________________________\n",
      "pool4 (MaxPooling3D)         (None, 1, 14, 14, 256)    0         \n",
      "_________________________________________________________________\n",
      "flatten_2 (Flatten)          (None, 50176)             0         \n",
      "_________________________________________________________________\n",
      "fc6 (Dense)                  (None, 64)                3211328   \n",
      "_________________________________________________________________\n",
      "dropout_2 (Dropout)          (None, 64)                0         \n",
      "_________________________________________________________________\n",
      "dense_2 (Dense)              (None, 8)                 520       \n",
      "=================================================================\n",
      "Total params: 6,588,360\n",
      "Trainable params: 6,588,360\n",
      "Non-trainable params: 0\n",
      "_________________________________________________________________\n"
     ]
    }
   ],
   "source": [
    "from keras.layers import Conv3D, MaxPooling3D, BatchNormalization, Dropout, Dense, Flatten, concatenate, ZeroPadding3D\n",
    "from keras import models, Model\n",
    "from keras import Input\n",
    "from keras.regularizers import l2\n",
    "\n",
    "# from keras.layers import Dense, Flatten, Dropout, ZeroPadding3D\n",
    "# from keras.layers.recurrent import LSTM\n",
    "# from keras.models import Sequential, load_model\n",
    "# from keras.optimizers import Adam, RMSprop\n",
    "# from keras.layers.wrappers import TimeDistributed\n",
    "# from keras.layers.convolutional import (Conv2D, MaxPooling3D, Conv3D,\n",
    "#     MaxPooling2D)\n",
    "\n",
    "frames, channels, rows, columns = 12, 3, 224, 224\n",
    "reg_lambda = 1e-3\n",
    "\n",
    "input_model=Input(shape=(frames, rows, columns, channels))\n",
    "\n",
    "# 3D Convolutional Model:\n",
    "# model = models.Sequential()\n",
    "# model.add(Input(shape=(frames, rows, columns, channels)))\n",
    "\n",
    "# model.add(Conv3D(32, (3,3,3), activation='relu', kernel_regularizer=l2(reg_lambda)))\n",
    "# model.add(MaxPooling3D(pool_size=(1, 2, 2), strides=(1, 2, 2)))\n",
    "\n",
    "# model.add(Conv3D(64, (3,3,3), activation='relu', kernel_regularizer=l2(reg_lambda)))\n",
    "# model.add(MaxPooling3D(pool_size=(1, 2, 2), strides=(1, 2, 2)))\n",
    "\n",
    "# model.add(Conv3D(128, (3,3,3), activation='relu' , kernel_regularizer=l2(reg_lambda)))\n",
    "# model.add(Conv3D(128, (3,3,3), activation='relu' , kernel_regularizer=l2(reg_lambda)))\n",
    "# model.add(MaxPooling3D(pool_size=(1, 2, 2), strides=(1, 2, 2)))\n",
    "\n",
    "\n",
    "# model.add(BatchNormalization())\n",
    "# model.add(Flatten())\n",
    "# model.add(Dense(64))\n",
    "# model.add(Dropout(0.3))\n",
    "# #model.add(Dense(1024))\n",
    "# #model.add(Dropout(0.5))\n",
    "# model.add(Dense(8, activation='softmax'))\n",
    "# model.summary()\n",
    "\n",
    "\n",
    "model = models.Sequential()\n",
    "model.add(Input(shape=(frames, rows, columns, channels)))\n",
    "\n",
    "# 1st layer group\n",
    "model.add(Conv3D(32, (3, 3, 3), activation='relu', kernel_regularizer=l2(reg_lambda),\n",
    "                 padding='same', name='conv1',\n",
    "                 strides=(1, 1, 1)))\n",
    "model.add(MaxPooling3D(pool_size=(1, 2, 2), strides=(1, 2, 2),\n",
    "                       padding='valid', name='pool1'))\n",
    "# 2nd layer group\n",
    "model.add(Conv3D(64, (3, 3, 3), activation='relu', kernel_regularizer=l2(reg_lambda),\n",
    "                 padding='same', name='conv2',\n",
    "                 strides=(1, 1, 1)))\n",
    "model.add(MaxPooling3D(pool_size=(2, 2, 2), strides=(2, 2, 2),\n",
    "                       padding='valid', name='pool2'))\n",
    "# 3rd layer group\n",
    "model.add(Conv3D(128, (3, 3, 3), activation='relu', kernel_regularizer=l2(reg_lambda),\n",
    "                 padding='same', name='conv3a',\n",
    "                 strides=(1, 1, 1)))\n",
    "model.add(Conv3D(128, (3, 3, 3), activation='relu', kernel_regularizer=l2(reg_lambda),\n",
    "                 padding='same', name='conv3b',\n",
    "                 strides=(1, 1, 1)))\n",
    "model.add(MaxPooling3D(pool_size=(2, 2, 2), strides=(2, 2, 2),\n",
    "                       padding='valid', name='pool3'))\n",
    "# 4th layer group\n",
    "model.add(Conv3D(256, (3, 3, 3), activation='relu', kernel_regularizer=l2(reg_lambda),\n",
    "                 padding='same', name='conv4a',\n",
    "                 strides=(1, 1, 1)))\n",
    "model.add(Conv3D(256, (3, 3, 3), activation='relu', kernel_regularizer=l2(reg_lambda),\n",
    "                 padding='same', name='conv4b',\n",
    "                 strides=(1, 1, 1)))\n",
    "model.add(MaxPooling3D(pool_size=(2, 2, 2), strides=(2, 2, 2),\n",
    "                       padding='valid', name='pool4'))\n",
    "\n",
    "# # 5th layer group\n",
    "# model.add(Conv3D(512, (3, 3, 3), activation='relu', kernel_regularizer=l2(reg_lambda),\n",
    "#                  padding='same', name='conv5a',\n",
    "#                  strides=(1, 1, 1)))\n",
    "# model.add(Conv3D(512, (3, 3, 3), activation='relu', kernel_regularizer=l2(reg_lambda),\n",
    "#                  padding='same', name='conv5b',\n",
    "#                  strides=(1, 1, 1)))\n",
    "# model.add(ZeroPadding3D(padding=(0, 1, 1)))\n",
    "# model.add(MaxPooling3D(pool_size=(2, 2, 2), strides=(2, 2, 2),\n",
    "#                        padding='same', name='pool5'))\n",
    "\n",
    "model.add(Flatten())\n",
    "\n",
    "# FC layers group\n",
    "model.add(Dense(64, activation='relu', name='fc6'))\n",
    "model.add(Dropout(0.3))\n",
    "model.add(Dense(8, activation='softmax'))\n",
    "model.summary()\n"
   ]
  },
  {
   "cell_type": "code",
   "execution_count": 8,
   "id": "thirty-director",
   "metadata": {},
   "outputs": [],
   "source": [
    "import keras\n",
    "import tensorflow as tf\n",
    "callbacks_list = [keras.callbacks.EarlyStopping(monitor='accuracy', patience=50),\n",
    "                  keras.callbacks.ModelCheckpoint(\n",
    "                      filepath='3d_cnn_clean_model_v1',\n",
    "                      monitor='val_loss',\n",
    "                      save_best_only=True\n",
    "                  ),\n",
    "                  keras.callbacks.ReduceLROnPlateau(\n",
    "                      monitor=\"val_loss\", factor=0.1, patience=50\n",
    "                  )]\n",
    "\n",
    "from keras import optimizers\n",
    "\n",
    "step = tf.Variable(0, trainable=False)\n",
    "boundaries = [30, 60, 90, 120, 150, 180]\n",
    "values = [1e-3, 5e-4, 1e-4, 5e-5, 1e-5, 5e-6, 1e-6]\n",
    "learning_rate_fn = keras.optimizers.schedules.PiecewiseConstantDecay(\n",
    "    boundaries, values)\n",
    "learning_rate = learning_rate_fn(step)\n",
    "\n",
    "optimizer_new=optimizers.Adam(lr=1e-4)\n",
    "#optimizer_new=optimizers.SGD(lr=1e-4, momentum=0.9)\n",
    "#optimizer_new=optimizers.SGD(lr=learning_rate)\n",
    "model.compile(optimizer=optimizer_new,\n",
    "                    loss='categorical_crossentropy',\n",
    "                    metrics=['accuracy'])"
   ]
  },
  {
   "cell_type": "markdown",
   "id": "swedish-baltimore",
   "metadata": {},
   "source": [
    "### 1.2 Train model"
   ]
  },
  {
   "cell_type": "code",
   "execution_count": 9,
   "id": "likely-percentage",
   "metadata": {},
   "outputs": [
    {
     "name": "stdout",
     "output_type": "stream",
     "text": [
      "Epoch 1/60\n",
      "51/51 [==============================] - 224s 4s/step - loss: 2.7352 - accuracy: 0.1069 - val_loss: 2.5813 - val_accuracy: 0.1848\n",
      "INFO:tensorflow:Assets written to: 3d_cnn_clean_model_v1/assets\n",
      "Epoch 2/60\n",
      "51/51 [==============================] - 191s 4s/step - loss: 2.5523 - accuracy: 0.1892 - val_loss: 2.4556 - val_accuracy: 0.1709\n",
      "INFO:tensorflow:Assets written to: 3d_cnn_clean_model_v1/assets\n",
      "Epoch 3/60\n",
      "51/51 [==============================] - 185s 4s/step - loss: 2.4249 - accuracy: 0.2021 - val_loss: 2.3668 - val_accuracy: 0.1732\n",
      "INFO:tensorflow:Assets written to: 3d_cnn_clean_model_v1/assets\n",
      "Epoch 4/60\n",
      "51/51 [==============================] - 184s 4s/step - loss: 2.3585 - accuracy: 0.2103 - val_loss: 2.3046 - val_accuracy: 0.1894\n",
      "INFO:tensorflow:Assets written to: 3d_cnn_clean_model_v1/assets\n",
      "Epoch 5/60\n",
      "51/51 [==============================] - 183s 4s/step - loss: 2.2902 - accuracy: 0.1843 - val_loss: 2.2478 - val_accuracy: 0.1894\n",
      "INFO:tensorflow:Assets written to: 3d_cnn_clean_model_v1/assets\n",
      "Epoch 6/60\n",
      "51/51 [==============================] - 183s 4s/step - loss: 2.2454 - accuracy: 0.1631 - val_loss: 2.2108 - val_accuracy: 0.2055\n",
      "INFO:tensorflow:Assets written to: 3d_cnn_clean_model_v1/assets\n",
      "Epoch 7/60\n",
      "51/51 [==============================] - 183s 4s/step - loss: 2.2056 - accuracy: 0.2067 - val_loss: 2.2267 - val_accuracy: 0.1409\n",
      "Epoch 8/60\n",
      "51/51 [==============================] - 182s 4s/step - loss: 2.2129 - accuracy: 0.1583 - val_loss: 2.1579 - val_accuracy: 0.1755\n",
      "INFO:tensorflow:Assets written to: 3d_cnn_clean_model_v1/assets\n",
      "Epoch 9/60\n",
      "51/51 [==============================] - 182s 4s/step - loss: 2.1346 - accuracy: 0.2243 - val_loss: 2.1499 - val_accuracy: 0.1801\n",
      "INFO:tensorflow:Assets written to: 3d_cnn_clean_model_v1/assets\n",
      "Epoch 10/60\n",
      "51/51 [==============================] - 182s 4s/step - loss: 2.1182 - accuracy: 0.2332 - val_loss: 2.1163 - val_accuracy: 0.1917\n",
      "INFO:tensorflow:Assets written to: 3d_cnn_clean_model_v1/assets\n",
      "Epoch 11/60\n",
      "51/51 [==============================] - 182s 4s/step - loss: 2.0952 - accuracy: 0.2199 - val_loss: 2.0830 - val_accuracy: 0.2148\n",
      "INFO:tensorflow:Assets written to: 3d_cnn_clean_model_v1/assets\n",
      "Epoch 12/60\n",
      "51/51 [==============================] - 182s 4s/step - loss: 2.0776 - accuracy: 0.2013 - val_loss: 2.0989 - val_accuracy: 0.2148\n",
      "Epoch 13/60\n",
      "51/51 [==============================] - 182s 4s/step - loss: 2.0956 - accuracy: 0.2094 - val_loss: 2.0387 - val_accuracy: 0.2240\n",
      "INFO:tensorflow:Assets written to: 3d_cnn_clean_model_v1/assets\n",
      "Epoch 14/60\n",
      "51/51 [==============================] - 182s 4s/step - loss: 2.0464 - accuracy: 0.2307 - val_loss: 2.0484 - val_accuracy: 0.1963\n",
      "Epoch 15/60\n",
      "51/51 [==============================] - 182s 4s/step - loss: 2.0017 - accuracy: 0.2532 - val_loss: 2.0378 - val_accuracy: 0.2309\n",
      "INFO:tensorflow:Assets written to: 3d_cnn_clean_model_v1/assets\n",
      "Epoch 16/60\n",
      "51/51 [==============================] - 182s 4s/step - loss: 2.0127 - accuracy: 0.2380 - val_loss: 2.0385 - val_accuracy: 0.2263\n",
      "Epoch 17/60\n",
      "51/51 [==============================] - 181s 4s/step - loss: 1.9982 - accuracy: 0.2499 - val_loss: 2.0098 - val_accuracy: 0.2102\n",
      "INFO:tensorflow:Assets written to: 3d_cnn_clean_model_v1/assets\n",
      "Epoch 18/60\n",
      "51/51 [==============================] - 182s 4s/step - loss: 1.9350 - accuracy: 0.2619 - val_loss: 1.9844 - val_accuracy: 0.2194\n",
      "INFO:tensorflow:Assets written to: 3d_cnn_clean_model_v1/assets\n",
      "Epoch 19/60\n",
      "51/51 [==============================] - 182s 4s/step - loss: 1.9383 - accuracy: 0.2750 - val_loss: 1.9890 - val_accuracy: 0.2217\n",
      "Epoch 20/60\n",
      "51/51 [==============================] - 182s 4s/step - loss: 1.9208 - accuracy: 0.2714 - val_loss: 1.9625 - val_accuracy: 0.2079\n",
      "INFO:tensorflow:Assets written to: 3d_cnn_clean_model_v1/assets\n",
      "Epoch 21/60\n",
      "51/51 [==============================] - 182s 4s/step - loss: 1.9343 - accuracy: 0.2697 - val_loss: 1.9451 - val_accuracy: 0.2240\n",
      "INFO:tensorflow:Assets written to: 3d_cnn_clean_model_v1/assets\n",
      "Epoch 22/60\n",
      "51/51 [==============================] - 182s 4s/step - loss: 1.8837 - accuracy: 0.2872 - val_loss: 1.9356 - val_accuracy: 0.2356\n",
      "INFO:tensorflow:Assets written to: 3d_cnn_clean_model_v1/assets\n",
      "Epoch 23/60\n",
      "51/51 [==============================] - 182s 4s/step - loss: 1.8836 - accuracy: 0.2813 - val_loss: 1.9380 - val_accuracy: 0.2633\n",
      "Epoch 24/60\n",
      "51/51 [==============================] - 182s 4s/step - loss: 1.8807 - accuracy: 0.2776 - val_loss: 1.9319 - val_accuracy: 0.2540\n",
      "INFO:tensorflow:Assets written to: 3d_cnn_clean_model_v1/assets\n",
      "Epoch 25/60\n",
      "51/51 [==============================] - 182s 4s/step - loss: 1.8669 - accuracy: 0.2611 - val_loss: 1.9358 - val_accuracy: 0.2540\n",
      "Epoch 26/60\n",
      "51/51 [==============================] - 182s 4s/step - loss: 1.8275 - accuracy: 0.2920 - val_loss: 1.9409 - val_accuracy: 0.2517\n",
      "Epoch 27/60\n",
      "51/51 [==============================] - 181s 4s/step - loss: 1.8144 - accuracy: 0.3155 - val_loss: 1.9337 - val_accuracy: 0.2540\n",
      "Epoch 28/60\n",
      "51/51 [==============================] - 182s 4s/step - loss: 1.8592 - accuracy: 0.2794 - val_loss: 1.9521 - val_accuracy: 0.2171\n",
      "Epoch 29/60\n",
      "51/51 [==============================] - 181s 4s/step - loss: 1.9004 - accuracy: 0.2709 - val_loss: 1.9251 - val_accuracy: 0.2633\n",
      "INFO:tensorflow:Assets written to: 3d_cnn_clean_model_v1/assets\n",
      "Epoch 30/60\n",
      "51/51 [==============================] - 182s 4s/step - loss: 1.7448 - accuracy: 0.3394 - val_loss: 1.9203 - val_accuracy: 0.2494\n",
      "INFO:tensorflow:Assets written to: 3d_cnn_clean_model_v1/assets\n",
      "Epoch 31/60\n",
      "51/51 [==============================] - 182s 4s/step - loss: 1.7749 - accuracy: 0.3233 - val_loss: 1.8909 - val_accuracy: 0.2794\n",
      "INFO:tensorflow:Assets written to: 3d_cnn_clean_model_v1/assets\n",
      "Epoch 32/60\n",
      "51/51 [==============================] - 182s 4s/step - loss: 1.7494 - accuracy: 0.3522 - val_loss: 1.9057 - val_accuracy: 0.2702\n",
      "Epoch 33/60\n",
      "51/51 [==============================] - 182s 4s/step - loss: 1.7430 - accuracy: 0.3374 - val_loss: 1.8939 - val_accuracy: 0.2771\n",
      "Epoch 34/60\n",
      "51/51 [==============================] - 182s 4s/step - loss: 1.6645 - accuracy: 0.3722 - val_loss: 1.8957 - val_accuracy: 0.2771\n",
      "Epoch 35/60\n",
      "51/51 [==============================] - 182s 4s/step - loss: 1.7383 - accuracy: 0.3276 - val_loss: 1.8799 - val_accuracy: 0.2841\n",
      "INFO:tensorflow:Assets written to: 3d_cnn_clean_model_v1/assets\n",
      "Epoch 36/60\n",
      "51/51 [==============================] - 182s 4s/step - loss: 1.7043 - accuracy: 0.3662 - val_loss: 1.8821 - val_accuracy: 0.2956\n",
      "Epoch 37/60\n",
      "51/51 [==============================] - 181s 4s/step - loss: 1.6143 - accuracy: 0.3973 - val_loss: 1.8877 - val_accuracy: 0.2910\n",
      "Epoch 38/60\n",
      "51/51 [==============================] - 180s 4s/step - loss: 1.6039 - accuracy: 0.3872 - val_loss: 1.9795 - val_accuracy: 0.2933\n",
      "Epoch 39/60\n",
      "51/51 [==============================] - 181s 4s/step - loss: 1.6246 - accuracy: 0.3888 - val_loss: 1.9368 - val_accuracy: 0.2818\n",
      "Epoch 40/60\n",
      "51/51 [==============================] - 181s 4s/step - loss: 1.6231 - accuracy: 0.4187 - val_loss: 1.9776 - val_accuracy: 0.3002\n",
      "Epoch 41/60\n",
      "51/51 [==============================] - 181s 4s/step - loss: 1.5901 - accuracy: 0.3805 - val_loss: 1.9359 - val_accuracy: 0.3210\n",
      "Epoch 42/60\n",
      "51/51 [==============================] - 181s 4s/step - loss: 1.5839 - accuracy: 0.4142 - val_loss: 2.0024 - val_accuracy: 0.3164\n",
      "Epoch 43/60\n",
      "51/51 [==============================] - 181s 4s/step - loss: 1.5191 - accuracy: 0.4283 - val_loss: 1.9398 - val_accuracy: 0.3025\n",
      "Epoch 44/60\n",
      "51/51 [==============================] - 180s 4s/step - loss: 1.5640 - accuracy: 0.4006 - val_loss: 1.9426 - val_accuracy: 0.2702\n",
      "Epoch 45/60\n",
      "51/51 [==============================] - 181s 4s/step - loss: 1.5408 - accuracy: 0.3929 - val_loss: 2.0077 - val_accuracy: 0.3048\n",
      "Epoch 46/60\n",
      "51/51 [==============================] - 181s 4s/step - loss: 1.4164 - accuracy: 0.4650 - val_loss: 1.9593 - val_accuracy: 0.2979\n",
      "Epoch 47/60\n",
      "51/51 [==============================] - 181s 4s/step - loss: 1.4536 - accuracy: 0.4612 - val_loss: 1.9922 - val_accuracy: 0.3095\n",
      "Epoch 48/60\n",
      "51/51 [==============================] - 181s 4s/step - loss: 1.4401 - accuracy: 0.4518 - val_loss: 1.9830 - val_accuracy: 0.3025\n"
     ]
    },
    {
     "name": "stdout",
     "output_type": "stream",
     "text": [
      "Epoch 49/60\n",
      "51/51 [==============================] - 181s 4s/step - loss: 1.4491 - accuracy: 0.4333 - val_loss: 2.0433 - val_accuracy: 0.2864\n",
      "Epoch 50/60\n",
      "51/51 [==============================] - 181s 4s/step - loss: 1.4417 - accuracy: 0.4483 - val_loss: 2.1321 - val_accuracy: 0.3256\n",
      "Epoch 51/60\n",
      "51/51 [==============================] - 181s 4s/step - loss: 1.4587 - accuracy: 0.4515 - val_loss: 2.0231 - val_accuracy: 0.2794\n",
      "Epoch 52/60\n",
      "51/51 [==============================] - 181s 4s/step - loss: 1.3776 - accuracy: 0.4873 - val_loss: 2.0009 - val_accuracy: 0.2818\n",
      "Epoch 53/60\n",
      "51/51 [==============================] - 181s 4s/step - loss: 1.3762 - accuracy: 0.4784 - val_loss: 2.0595 - val_accuracy: 0.3048\n",
      "Epoch 54/60\n",
      "51/51 [==============================] - 181s 4s/step - loss: 1.3216 - accuracy: 0.4893 - val_loss: 2.1640 - val_accuracy: 0.2956\n",
      "Epoch 55/60\n",
      "51/51 [==============================] - 181s 4s/step - loss: 1.3352 - accuracy: 0.4628 - val_loss: 2.2557 - val_accuracy: 0.2818\n",
      "Epoch 56/60\n",
      "51/51 [==============================] - 181s 4s/step - loss: 1.3992 - accuracy: 0.4589 - val_loss: 2.2018 - val_accuracy: 0.3002\n",
      "Epoch 57/60\n",
      "51/51 [==============================] - 181s 4s/step - loss: 1.3310 - accuracy: 0.5091 - val_loss: 2.1503 - val_accuracy: 0.3164\n",
      "Epoch 58/60\n",
      "51/51 [==============================] - 181s 4s/step - loss: 1.3416 - accuracy: 0.4903 - val_loss: 2.3346 - val_accuracy: 0.3095\n",
      "Epoch 59/60\n",
      "51/51 [==============================] - 181s 4s/step - loss: 1.3608 - accuracy: 0.4606 - val_loss: 2.0540 - val_accuracy: 0.3210\n",
      "Epoch 60/60\n",
      "51/51 [==============================] - 181s 4s/step - loss: 1.3844 - accuracy: 0.4757 - val_loss: 2.2100 - val_accuracy: 0.3048\n"
     ]
    }
   ],
   "source": [
    "history = model.fit(train_data, train_action_labels,\n",
    "                    validation_data=(val_data, val_action_labels),\n",
    "                    batch_size=20, epochs=60,\n",
    "                    callbacks=callbacks_list\n",
    "                    )"
   ]
  },
  {
   "cell_type": "markdown",
   "id": "scenic-glance",
   "metadata": {},
   "source": [
    "### 1.3 Visualize Train/Valid accuracy & loss, confusion matrix"
   ]
  },
  {
   "cell_type": "code",
   "execution_count": 11,
   "id": "qualified-default",
   "metadata": {},
   "outputs": [
    {
     "data": {
      "image/png": "[encoded data removed]",
      "text/plain": [
       "<Figure size 432x288 with 1 Axes>"
      ]
     },
     "metadata": {
      "needs_background": "light"
     },
     "output_type": "display_data"
    },
    {
     "data": {
      "image/png": "[encoded data removed]",
      "text/plain": [
       "<Figure size 432x288 with 1 Axes>"
      ]
     },
     "metadata": {
      "needs_background": "light"
     },
     "output_type": "display_data"
    }
   ],
   "source": [
    "###Plot train/valid accuracy & loss\n",
    "import matplotlib.pyplot as plt\n",
    "\n",
    "acc=history.history[\"accuracy\"]\n",
    "val_acc=history.history[\"val_accuracy\"]\n",
    "loss=history.history[\"loss\"]\n",
    "val_loss=history.history[\"val_loss\"]\n",
    "epoch_stop = len(acc)\n",
    "epochs=np.arange(1, epoch_stop+1)\n",
    "\n",
    "plt.plot(epochs, acc, label = \"Train\", color = 'darkturquoise')\n",
    "plt.plot(epochs, val_acc, label = \"Valid\", linestyle=\"--\", color = 'deepskyblue')\n",
    "plt.legend()\n",
    "plt.title('Train/Valid Accuracy')\n",
    "plt.show()\n",
    "\n",
    "plt.plot(epochs, loss, label = \"Train\", color = 'orchid')\n",
    "plt.plot(epochs, val_loss, label = \"Valid\", linestyle=\"--\", color = 'deeppink')\n",
    "plt.legend()\n",
    "plt.title('Train/Valid Loss')\n",
    "plt.show()"
   ]
  },
  {
   "cell_type": "code",
   "execution_count": 12,
   "id": "missing-eating",
   "metadata": {},
   "outputs": [],
   "source": [
    "import keras\n",
    "# Predictions on validation data:\n",
    "val_preds = model.predict(val_data)\n",
    "val_preds = np.argmax(val_preds,axis=1)\n",
    "val_true = [mapping[x] for x in val_actions]"
   ]
  },
  {
   "cell_type": "code",
   "execution_count": 13,
   "id": "ranging-paint",
   "metadata": {},
   "outputs": [
    {
     "data": {
      "text/plain": [
       "<AxesSubplot:>"
      ]
     },
     "execution_count": 13,
     "metadata": {},
     "output_type": "execute_result"
    },
    {
     "data": {
      "image/png": "[encoded data removed]",
      "text/plain": [
       "<Figure size 648x504 with 2 Axes>"
      ]
     },
     "metadata": {
      "needs_background": "light"
     },
     "output_type": "display_data"
    }
   ],
   "source": [
    "import seaborn as sn\n",
    "import pandas as pd\n",
    "import matplotlib.pyplot as plt\n",
    "import sklearn.metrics as metrics\n",
    "\n",
    "confusion_matrix = metrics.confusion_matrix(y_true=val_true, y_pred=val_preds)\n",
    "df_cm = pd.DataFrame(confusion_matrix, index = mapping.keys(),\n",
    "                  columns = mapping.keys())\n",
    "plt.figure(figsize = (9,7))\n",
    "sn.heatmap(df_cm, annot=True, cmap=\"Blues\")"
   ]
  },
  {
   "cell_type": "code",
   "execution_count": 14,
   "id": "blank-spanking",
   "metadata": {},
   "outputs": [],
   "source": [
    "# COUG:1, SNEE:4\n",
    "val_true_bin = [x in (1, 4) for x in val_true]\n",
    "val_preds_bin = [x in (1, 4) for x in val_preds]"
   ]
  },
  {
   "cell_type": "code",
   "execution_count": 15,
   "id": "separate-delicious",
   "metadata": {},
   "outputs": [
    {
     "data": {
      "text/plain": [
       "<AxesSubplot:>"
      ]
     },
     "execution_count": 15,
     "metadata": {},
     "output_type": "execute_result"
    },
    {
     "data": {
      "image/png": "[encoded data removed]",
      "text/plain": [
       "<Figure size 288x216 with 2 Axes>"
      ]
     },
     "metadata": {
      "needs_background": "light"
     },
     "output_type": "display_data"
    }
   ],
   "source": [
    "confusion_matrix = metrics.confusion_matrix(y_true=val_true_bin, y_pred=val_preds_bin)\n",
    "df_cm = pd.DataFrame(confusion_matrix, index = ['Other', 'COUG_SNEE'],\n",
    "                  columns = ['Other', 'COUG_SNEE'])\n",
    "plt.figure(figsize = (4,3))\n",
    "sn.heatmap(df_cm, annot=True, cmap=\"Blues\")"
   ]
  },
  {
   "cell_type": "code",
   "execution_count": 16,
   "id": "protected-german",
   "metadata": {},
   "outputs": [
    {
     "name": "stdout",
     "output_type": "stream",
     "text": [
      "Prec.% 0.5546218487394958\n",
      "Rec.% 0.6055045871559633\n",
      "Acc.% 0.4074074074074074\n"
     ]
    }
   ],
   "source": [
    "tn, fp, fn, tp = confusion_matrix.ravel()\n",
    "\n",
    "prec = tp/(tp+fp)\n",
    "rec = tp/(tp+fn)\n",
    "acc = tp / (tp+fp+fn)\n",
    "\n",
    "print('Prec.%', prec)\n",
    "print('Rec.%', rec)\n",
    "print('Acc.%', acc)"
   ]
  },
  {
   "cell_type": "markdown",
   "id": "prescription-pillow",
   "metadata": {},
   "source": [
    "### 1.4 Save model and loss history"
   ]
  },
  {
   "cell_type": "code",
   "execution_count": 17,
   "id": "great-float",
   "metadata": {},
   "outputs": [],
   "source": [
    "###Save history\n",
    "np.save(os.path.join(base_dir, \"3d_cnn_clean_v1_history\"), history.history)\n",
    "###Save model\n",
    "model.save(os.path.join(base_dir, \"3d_cnn_clean_v1.h5\"))   \n",
    "\n",
    "#Load history:\n",
    "#history = np.load(os.path.join(base_dir, \"3d_cnn_clean_v1_history.npy\"), allow_pickle=True)\n",
    "\n",
    "#Load saved model:\n",
    "#model = keras.models.load_model(os.path.join(base_dir, \"3d_cnn_clean_v1.h5\"))"
   ]
  },
  {
   "cell_type": "code",
   "execution_count": null,
   "id": "anonymous-omaha",
   "metadata": {},
   "outputs": [],
   "source": [
    "### 1.5 Evaluation on test data"
   ]
  },
  {
   "cell_type": "code",
   "execution_count": 18,
   "id": "advisory-report",
   "metadata": {},
   "outputs": [],
   "source": [
    "#Load Test Data:\n",
    "base_dir = '/home/ubuntu'\n",
    "test_data = np.load(os.path.join(base_dir, 'test_data_pre12.npy'))\n",
    "test_actions = np.load(os.path.join(base_dir, 'test_actions_pre12.npy'), allow_pickle=True)"
   ]
  },
  {
   "cell_type": "code",
   "execution_count": 19,
   "id": "optimum-confusion",
   "metadata": {},
   "outputs": [],
   "source": [
    "# Predictions on test data:\n",
    "test_preds = model.predict(test_data)\n",
    "test_preds = np.argmax(test_preds,axis=1)\n",
    "test_true = [mapping[x] for x in test_actions]"
   ]
  },
  {
   "cell_type": "code",
   "execution_count": 20,
   "id": "commercial-borough",
   "metadata": {},
   "outputs": [
    {
     "data": {
      "text/plain": [
       "<AxesSubplot:>"
      ]
     },
     "execution_count": 20,
     "metadata": {},
     "output_type": "execute_result"
    },
    {
     "data": {
      "image/png": "[encoded data removed]",
      "text/plain": [
       "<Figure size 648x504 with 2 Axes>"
      ]
     },
     "metadata": {
      "needs_background": "light"
     },
     "output_type": "display_data"
    }
   ],
   "source": [
    "import seaborn as sn\n",
    "import pandas as pd\n",
    "import matplotlib.pyplot as plt\n",
    "import sklearn.metrics as metrics\n",
    "\n",
    "confusion_matrix = metrics.confusion_matrix(y_true=test_true, y_pred=test_preds)\n",
    "df_cm = pd.DataFrame(confusion_matrix, index = mapping.keys(),\n",
    "                  columns = mapping.keys())\n",
    "plt.figure(figsize = (9,7))\n",
    "sn.heatmap(df_cm, annot=True, cmap=\"Blues\")"
   ]
  },
  {
   "cell_type": "code",
   "execution_count": 21,
   "id": "affecting-revolution",
   "metadata": {},
   "outputs": [],
   "source": [
    "# COUG:1, SNEE:4\n",
    "test_true_bin = [x in (1, 4) for x in test_true]\n",
    "test_preds_bin = [x in (1, 4) for x in test_preds]"
   ]
  },
  {
   "cell_type": "code",
   "execution_count": 22,
   "id": "industrial-stable",
   "metadata": {},
   "outputs": [
    {
     "data": {
      "text/plain": [
       "<AxesSubplot:>"
      ]
     },
     "execution_count": 22,
     "metadata": {},
     "output_type": "execute_result"
    },
    {
     "data": {
      "image/png": "[encoded data removed]",
      "text/plain": [
       "<Figure size 288x216 with 2 Axes>"
      ]
     },
     "metadata": {
      "needs_background": "light"
     },
     "output_type": "display_data"
    }
   ],
   "source": [
    "confusion_matrix = metrics.confusion_matrix(y_true=test_true_bin, y_pred=test_preds_bin)\n",
    "df_cm = pd.DataFrame(confusion_matrix, index = ['Other', 'COUG_SNEE'],\n",
    "                  columns = ['Other', 'COUG_SNEE'])\n",
    "plt.figure(figsize = (4,3))\n",
    "sn.heatmap(df_cm, annot=True, cmap=\"Blues\")"
   ]
  },
  {
   "cell_type": "code",
   "execution_count": 23,
   "id": "british-mitchell",
   "metadata": {},
   "outputs": [
    {
     "name": "stdout",
     "output_type": "stream",
     "text": [
      "Prec.% 0.3772455089820359\n",
      "Rec.% 0.525\n",
      "Acc.% 0.28125\n"
     ]
    }
   ],
   "source": [
    "tn, fp, fn, tp = confusion_matrix.ravel()\n",
    "\n",
    "prec = tp/(tp+fp)\n",
    "rec = tp/(tp+fn)\n",
    "acc = tp / (tp+fp+fn)\n",
    "\n",
    "print('Prec.%', prec)\n",
    "print('Rec.%', rec)\n",
    "print('Acc.%', acc)"
   ]
  },
  {
   "cell_type": "code",
   "execution_count": null,
   "id": "twelve-norman",
   "metadata": {},
   "outputs": [],
   "source": []
  },
  {
   "cell_type": "code",
   "execution_count": null,
   "id": "crude-theater",
   "metadata": {},
   "outputs": [],
   "source": []
  },
  {
   "cell_type": "code",
   "execution_count": null,
   "id": "separate-rings",
   "metadata": {},
   "outputs": [],
   "source": []
  },
  {
   "cell_type": "code",
   "execution_count": null,
   "id": "silver-indiana",
   "metadata": {},
   "outputs": [],
   "source": []
  },
  {
   "cell_type": "code",
   "execution_count": null,
   "id": "applied-hygiene",
   "metadata": {},
   "outputs": [],
   "source": []
  },
  {
   "cell_type": "code",
   "execution_count": null,
   "id": "vanilla-height",
   "metadata": {},
   "outputs": [],
   "source": []
  },
  {
   "cell_type": "code",
   "execution_count": null,
   "id": "bibliographic-ecuador",
   "metadata": {},
   "outputs": [],
   "source": []
  },
  {
   "cell_type": "code",
   "execution_count": null,
   "id": "exclusive-christianity",
   "metadata": {},
   "outputs": [],
   "source": []
  },
  {
   "cell_type": "markdown",
   "id": "informal-evidence",
   "metadata": {},
   "source": []
  }
 ],
 "metadata": {
  "kernelspec": {
   "display_name": "Environment (conda_tensorflow2_latest_p37)",
   "language": "python",
   "name": "conda_tensorflow2_latest_p37"
  },
  "language_info": {
   "codemirror_mode": {
    "name": "ipython",
    "version": 3
   },
   "file_extension": ".py",
   "mimetype": "text/x-python",
   "name": "python",
   "nbconvert_exporter": "python",
   "pygments_lexer": "ipython3",
   "version": "3.7.10"
  }
 },
 "nbformat": 4,
 "nbformat_minor": 5
}

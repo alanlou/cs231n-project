{
 "cells": [
  {
   "cell_type": "code",
   "execution_count": 1,
   "id": "surrounded-reproduction",
   "metadata": {},
   "outputs": [],
   "source": [
    "import tensorflow"
   ]
  },
  {
   "cell_type": "code",
   "execution_count": 2,
   "id": "convertible-purse",
   "metadata": {},
   "outputs": [
    {
     "name": "stdout",
     "output_type": "stream",
     "text": [
      "/bin/bash: switchml: line 1: syntax error: unexpected end of file\r\n",
      "/bin/bash: error importing function definition for `switchml'\r\n",
      "/bin/bash: _moduleraw: line 1: syntax error: unexpected end of file\r\n",
      "/bin/bash: error importing function definition for `_moduleraw'\r\n",
      "Tue May 11 04:50:02 2021       \r\n",
      "+-----------------------------------------------------------------------------+\r\n",
      "| NVIDIA-SMI 450.119.03   Driver Version: 450.119.03   CUDA Version: 11.0     |\r\n",
      "|-------------------------------+----------------------+----------------------+\r\n",
      "| GPU  Name        Persistence-M| Bus-Id        Disp.A | Volatile Uncorr. ECC |\r\n",
      "| Fan  Temp  Perf  Pwr:Usage/Cap|         Memory-Usage | GPU-Util  Compute M. |\r\n",
      "|                               |                      |               MIG M. |\r\n",
      "|===============================+======================+======================|\r\n",
      "|   0  Tesla K80           On   | 00000000:00:1E.0 Off |                    0 |\r\n",
      "| N/A   36C    P8    32W / 149W |      0MiB / 11441MiB |      0%      Default |\r\n",
      "|                               |                      |                  N/A |\r\n",
      "+-------------------------------+----------------------+----------------------+\r\n",
      "                                                                               \r\n",
      "+-----------------------------------------------------------------------------+\r\n",
      "| Processes:                                                                  |\r\n",
      "|  GPU   GI   CI        PID   Type   Process name                  GPU Memory |\r\n",
      "|        ID   ID                                                   Usage      |\r\n",
      "|=============================================================================|\r\n",
      "|  No running processes found                                                 |\r\n",
      "+-----------------------------------------------------------------------------+\r\n"
     ]
    }
   ],
   "source": [
    "!nvidia-smi"
   ]
  },
  {
   "cell_type": "code",
   "execution_count": 1,
   "id": "medical-spain",
   "metadata": {},
   "outputs": [
    {
     "data": {
      "text/plain": [
       "(59, 0, 58)"
      ]
     },
     "execution_count": 1,
     "metadata": {},
     "output_type": "execute_result"
    }
   ],
   "source": [
    "# check RAM usage\n",
    "import os\n",
    "tot_m, used_m, free_m = map(int, os.popen('free -t -g').readlines()[-1].split()[1:])\n",
    "tot_m, used_m, free_m"
   ]
  },
  {
   "cell_type": "code",
   "execution_count": 2,
   "id": "accredited-point",
   "metadata": {},
   "outputs": [
    {
     "name": "stdout",
     "output_type": "stream",
     "text": [
      "/bin/bash: switchml: line 1: syntax error: unexpected end of file\r\n",
      "/bin/bash: error importing function definition for `switchml'\r\n",
      "/bin/bash: _moduleraw: line 1: syntax error: unexpected end of file\r\n",
      "/bin/bash: error importing function definition for `_moduleraw'\r\n",
      "LICENSE\t\t       download_dataset_to_aws.ipynb  tools\r\n",
      "Nvidia_Cloud_EULA.pdf  examples\t\t\t      train_actions_pre60.npy\r\n",
      "README\t\t       src\t\t\t      tutorials\r\n",
      "anaconda3\t       test_actions_pre60.npy\t      val_actions_pre60.npy\r\n",
      "cs231n-project\t       test_data_pre60.npy\t      val_data_pre60.npy\r\n"
     ]
    }
   ],
   "source": [
    "!ls"
   ]
  },
  {
   "cell_type": "code",
   "execution_count": null,
   "id": "dimensional-thirty",
   "metadata": {},
   "outputs": [],
   "source": [
    "# download dataset from Google Drive\n",
    "#!pip install gdown\n",
    "\n",
    "# shaped_hrnet_data dataset\n",
    "#!gdown https://drive.google.com/uc?id=10CZK-3KMTyrRTiQYbHhDHntIiMPuRuw6\n",
    "#!gdown https://drive.google.com/uc?id=1-0Vuv_VS5yGLOurbVsieeny9XFtwE1Yh\n",
    "#!gdown https://drive.google.com/uc?id=1-EtwDcJGEpZJW9RVdza4h_lHW5QO5YFq\n",
    "\n",
    "# shaped_hrnet_data action labels\n",
    "#!gdown https://drive.google.com/uc?id=1da8zMbZBvl24TQEELRu0gT_LPaYF73kl\n",
    "#!gdown https://drive.google.com/uc?id=1-6ke5HyH1OOJwDhv9_dnrft7dNABFxV2\n",
    "#!gdown https://drive.google.com/uc?id=1-FNvOnBc7NlqljaxUusrulOYPjmo0Nom\n",
    "\n",
    "# shaped_cropped_data dataset\n",
    "#!gdown https://drive.google.com/uc?id=12OUErdcxM-fky6DiTxTU5l3Pr2f6C-4Y\n",
    "#!gdown https://drive.google.com/uc?id=1--1Z_D3qCLPgRbsKndMT1ngxrfYwXSNk\n",
    "#!gdown https://drive.google.com/uc?id=1-894LMr8liDr2hTv3mAXTMEAWQilAS9-\n",
    "\n",
    "# shaped_cropped_data action labels\n",
    "#!gdown https://drive.google.com/uc?id=1BrIxL1XqzILMi_MujNst4kaDwkTBlfXB\n",
    "#!gdown https://drive.google.com/uc?id=1--IQZrwch4NWrwaYfr9vwEcLZ97xQ1FB\n",
    "#!gdown https://drive.google.com/uc?id=1-8H2ZsOKiK6MMj2fVeEe_XvG80AFW_j7"
   ]
  },
  {
   "cell_type": "code",
   "execution_count": null,
   "id": "forward-winning",
   "metadata": {},
   "outputs": [],
   "source": []
  }
 ],
 "metadata": {
  "kernelspec": {
   "display_name": "Environment (conda_tensorflow2_latest_p37)",
   "language": "python",
   "name": "conda_tensorflow2_latest_p37"
  },
  "language_info": {
   "codemirror_mode": {
    "name": "ipython",
    "version": 3
   },
   "file_extension": ".py",
   "mimetype": "text/x-python",
   "name": "python",
   "nbconvert_exporter": "python",
   "pygments_lexer": "ipython3",
   "version": "3.7.10"
  }
 },
 "nbformat": 4,
 "nbformat_minor": 5
}

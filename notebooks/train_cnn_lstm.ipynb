{
 "cells": [
  {
   "cell_type": "code",
   "execution_count": 1,
   "metadata": {
    "colab": {
     "base_uri": "https://localhost:8080/"
    },
    "executionInfo": {
     "elapsed": 1782,
     "status": "ok",
     "timestamp": 1620696911356,
     "user": {
      "displayName": "Alan Lou",
      "photoUrl": "",
      "userId": "01891307768663487619"
     },
     "user_tz": 420
    },
    "id": "Q_acOOXjYOcD",
    "outputId": "f8bf1fba-2e89-46ef-dcfc-8b23a729cb03"
   },
   "outputs": [
    {
     "name": "stdout",
     "output_type": "stream",
     "text": [
      "Not on Google Colab.\n"
     ]
    }
   ],
   "source": [
    "# Skip this cell if we are not on Google Colab\n",
    "try:\n",
    "    # Mount Google Drive to the Colab VM.\n",
    "    from google.colab import drive\n",
    "    drive.mount('/content/drive', force_remount=True)\n",
    "\n",
    "    # Specify working directory.\n",
    "    FOLDERNAME = 'cs231n/project/'\n",
    "    %cd /content/drive/My\\ Drive/$FOLDERNAME\n",
    "\n",
    "    # Ensure that the Python interpreter of the Colab VM can load python files from\n",
    "    # within it.\n",
    "    import sys\n",
    "    sys.path.append('/content/drive/My Drive/{}'.format(FOLDERNAME))\n",
    "except ImportError as e:\n",
    "    print(\"Not on Google Colab.\")"
   ]
  },
  {
   "cell_type": "markdown",
   "metadata": {
    "id": "dFg3BpW0YQga"
   },
   "source": [
    "## Load dataset and labels"
   ]
  },
  {
   "cell_type": "code",
   "execution_count": 2,
   "metadata": {
    "executionInfo": {
     "elapsed": 201961,
     "status": "ok",
     "timestamp": 1620697112142,
     "user": {
      "displayName": "Alan Lou",
      "photoUrl": "",
      "userId": "01891307768663487619"
     },
     "user_tz": 420
    },
    "id": "wDduMsrCYQzb"
   },
   "outputs": [],
   "source": [
    "import numpy as np\n",
    "import os\n",
    "\n",
    "#base_dir = '/content/drive/My Drive/cs231n/project/dataset/shaped_hrnet_data'\n",
    "base_dir = '/home/ubuntu'\n",
    "\n",
    "train_data = np.load(os.path.join(base_dir, 'train_data_pre12.npy'))\n",
    "train_actions = np.load(os.path.join(base_dir, 'train_actions_pre12.npy'), allow_pickle=True)\n",
    "train_labels = np.load(os.path.join(base_dir, 'train_labels_pre12.npy'))\n",
    "\n",
    "val_data = np.load(os.path.join(base_dir, 'val_data_pre12.npy'))\n",
    "val_actions = np.load(os.path.join(base_dir, 'val_actions_pre12.npy'), allow_pickle=True)\n",
    "val_labels = np.load(os.path.join(base_dir, 'val_labels_pre12.npy'))"
   ]
  },
  {
   "cell_type": "code",
   "execution_count": 3,
   "metadata": {
    "colab": {
     "base_uri": "https://localhost:8080/"
    },
    "executionInfo": {
     "elapsed": 201680,
     "status": "ok",
     "timestamp": 1620697112144,
     "user": {
      "displayName": "Alan Lou",
      "photoUrl": "",
      "userId": "01891307768663487619"
     },
     "user_tz": 420
    },
    "id": "IEY0wBBwYUhB",
    "outputId": "ee470caf-23b5-43ac-a7ec-41af9e99d20d"
   },
   "outputs": [
    {
     "name": "stdout",
     "output_type": "stream",
     "text": [
      "Training data shape:  (1007, 12, 224, 224, 3)\n",
      "Training label shape:  (1007,)\n",
      "Training action shape:  (1007,)\n",
      "Train Label=1 ratio: 0.24925521350546176\n",
      "Validation data shape:  (433, 12, 224, 224, 3)\n",
      "Validation label shape:  (433,)\n",
      "Validation action shape:  (433,)\n",
      "Validation Label=1 ratio: 0.2517321016166282\n"
     ]
    }
   ],
   "source": [
    "print('Training data shape: ', train_data.shape)\n",
    "print('Training label shape: ', train_labels.shape)\n",
    "print('Training action shape: ', train_actions.shape)\n",
    "print('Train Label=1 ratio:', np.sum(train_labels) /train_labels.shape[0])\n",
    "print('Validation data shape: ', val_data.shape)\n",
    "print('Validation label shape: ', val_labels.shape)\n",
    "print('Validation action shape: ', val_actions.shape)\n",
    "print('Validation Label=1 ratio:', np.sum(val_labels) / val_labels.shape[0])"
   ]
  },
  {
   "cell_type": "code",
   "execution_count": 4,
   "metadata": {
    "executionInfo": {
     "elapsed": 201322,
     "status": "ok",
     "timestamp": 1620697112145,
     "user": {
      "displayName": "Alan Lou",
      "photoUrl": "",
      "userId": "01891307768663487619"
     },
     "user_tz": 420
    },
    "id": "Ro_AWHGqWHE2"
   },
   "outputs": [],
   "source": [
    "mapping = {\n",
    "    'CALL': 0,\n",
    "    'COUG': 1,\n",
    "    'DRIN': 2,\n",
    "    'SCRA': 3,\n",
    "    'SNEE': 4,\n",
    "    'STRE': 5,\n",
    "    'WAVE': 6,\n",
    "    'WIPE': 7,\n",
    "}\n",
    "train_action_labels = [mapping[x] for x in train_actions]\n",
    "val_action_labels = [mapping[x] for x in val_actions]\n",
    "\n",
    "# One-hot encoding.\n",
    "train_action_labels = np.eye(8)[train_action_labels] \n",
    "val_action_labels = np.eye(8)[val_action_labels] "
   ]
  },
  {
   "cell_type": "markdown",
   "metadata": {
    "id": "xJY0oZCPnmWa"
   },
   "source": [
    "## Model 1: 3d Convolution"
   ]
  },
  {
   "cell_type": "markdown",
   "metadata": {},
   "source": [
    "### 1.1 Define model"
   ]
  },
  {
   "cell_type": "code",
   "execution_count": null,
   "metadata": {},
   "outputs": [],
   "source": [
    "from keras.layers import Conv3D, MaxPooling3D, BatchNormalization, Dropout, Dense, Flatten, concatenate\n",
    "from keras.models import Model\n",
    "from keras import Input\n",
    "\n",
    "frames, channels, rows, columns = 12, 3, 224, 224\n",
    "\n",
    "# 3D Convolutional Model:\n",
    "input_model=Input(shape=(frames, rows, columns, channels))\n",
    "layer=Conv3D(32,(3,3,3),strides=(1,1,1),activation='relu')(input_model)\n",
    "layer=MaxPooling3D((2,2,2))(layer)\n",
    "layer=BatchNormalization()(layer)\n",
    "layer=Conv3D(64,(3,3,3),strides=(1,1,1),activation='relu')(layer)\n",
    "layer=MaxPooling3D((2,2,2))(layer)\n",
    "layer=BatchNormalization()(layer)\n",
    "layer=Flatten()(layer)\n",
    "layer=Dense(128,activation='relu')(layer)\n",
    "layer=Dropout(0.1)(layer)\n",
    "layer=Dense(64,activation='relu')(layer)\n",
    "layer=Dense(32,activation='relu')(layer)\n",
    "layer_output=Dense(8,activation='softmax')(layer)\n",
    "\n",
    "model_3dConv=Model(input_model,layer_output)\n",
    "\n",
    "model_3dConv.summary()"
   ]
  },
  {
   "cell_type": "code",
   "execution_count": null,
   "metadata": {},
   "outputs": [],
   "source": [
    "import keras\n",
    "from keras import optimizers\n",
    "optimizer_adam = optimizers.Adam(lr=1e-3)\n",
    "\n",
    "callbacks_list_conv_3d=[keras.callbacks.EarlyStopping(\n",
    "monitor='accuracy',patience=10),\n",
    "               keras.callbacks.ModelCheckpoint(\n",
    "               filepath='conv_3d_model',\n",
    "               monitor='val_loss',\n",
    "               save_best_only=True),\n",
    "                        keras.callbacks.ReduceLROnPlateau(monitor = \"val_loss\", factor = 0.1, patience = 10)\n",
    "               ]\n",
    "model_3dConv.compile(optimizer=optimizer_adam,loss='categorical_crossentropy',metrics=['accuracy'])"
   ]
  },
  {
   "cell_type": "markdown",
   "metadata": {},
   "source": [
    "### 1.2 Train model"
   ]
  },
  {
   "cell_type": "code",
   "execution_count": null,
   "metadata": {
    "colab": {
     "base_uri": "https://localhost:8080/"
    },
    "executionInfo": {
     "elapsed": 476809,
     "status": "ok",
     "timestamp": 1620697392024,
     "user": {
      "displayName": "Alan Lou",
      "photoUrl": "",
      "userId": "01891307768663487619"
     },
     "user_tz": 420
    },
    "id": "d6NefbDRqoLi",
    "outputId": "d38fd520-79ae-4847-e736-373ab6f0f2d0"
   },
   "outputs": [],
   "source": [
    "history=model_3dConv.fit(train_data, \n",
    "                         train_action_labels,\n",
    "                         batch_size=20, epochs=60,\n",
    "                         validation_data=(val_data,val_action_labels),\n",
    "                         callbacks=callbacks_list_conv_3d)"
   ]
  },
  {
   "cell_type": "markdown",
   "metadata": {},
   "source": [
    "### 1.3 Plot train/valid accuracy & loss"
   ]
  },
  {
   "cell_type": "code",
   "execution_count": null,
   "metadata": {},
   "outputs": [],
   "source": [
    "###Plot train/valid accuracy & loss\n",
    "import matplotlib.pyplot as plt\n",
    "acc=history.history[\"accuracy\"]\n",
    "val_acc=history.history[\"val_accuracy\"]\n",
    "loss=history.history[\"loss\"]\n",
    "val_loss=history.history[\"val_loss\"]\n",
    "epoch_stop = len(acc)\n",
    "epochs=np.arange(1, epoch_stop+1)\n",
    "\n",
    "plt.plot(epochs, acc, label = \"Train\", color = 'darkturquoise')\n",
    "plt.plot(epochs, val_acc, label = \"Valid\", linestyle=\"--\", color = 'deepskyblue')\n",
    "plt.legend()\n",
    "plt.title('Train/Valid Accuracy')\n",
    "plt.show()\n",
    "\n",
    "plt.plot(epochs, loss, label = \"Train\", color = 'orchid')\n",
    "plt.plot(epochs, val_loss, label = \"Valid\", linestyle=\"--\", color = 'deeppink')\n",
    "plt.legend()\n",
    "plt.title('Train/Valid Loss')\n",
    "plt.show()"
   ]
  },
  {
   "cell_type": "code",
   "execution_count": null,
   "metadata": {},
   "outputs": [],
   "source": [
    "## Zoom in train/valid loss after 10 epochs\n",
    "import numpy as np\n",
    "import os\n",
    "base_dir = '/home/ubuntu'\n",
    "\n",
    "model_1_cnn_3d_history = np.load(os.path.join(base_dir, \"model_1_cnn_3d_history.npy\"), allow_pickle=True)\n",
    "\n",
    "acc=model_1_cnn_3d_history.item()[\"accuracy\"]\n",
    "val_acc=model_1_cnn_3d_history.item()[\"val_accuracy\"]\n",
    "loss=model_1_cnn_3d_history.item()[\"loss\"]\n",
    "val_loss=model_1_cnn_3d_history.item()[\"val_loss\"]\n",
    "epoch_stop = len(acc)\n",
    "epochs=np.arange(1, epoch_stop+1)\n",
    "\n",
    "plt.plot(epochs[10:], loss[10:], label = \"Train\", color = 'orchid')\n",
    "plt.plot(epochs[10:], val_loss[10:], label = \"Valid\", linestyle=\"--\", color = 'deeppink')\n",
    "plt.legend()\n",
    "plt.title('Train/Valid Loss')\n",
    "plt.ylim((1, 3))\n",
    "plt.show()"
   ]
  },
  {
   "cell_type": "markdown",
   "metadata": {},
   "source": [
    "### 1.4 Save model history"
   ]
  },
  {
   "cell_type": "code",
   "execution_count": null,
   "metadata": {},
   "outputs": [],
   "source": [
    "###Save history\n",
    "np.save(os.path.join(base_dir, \"model_1_cnn_3d_history\"), history.history)\n",
    "###Save model\n",
    "model_3dConv.save(os.path.join(base_dir, \"conv_3d_model.h5\"))"
   ]
  },
  {
   "cell_type": "markdown",
   "metadata": {},
   "source": [
    "### 1.5.1 Evaluate on validation dataset"
   ]
  },
  {
   "cell_type": "code",
   "execution_count": null,
   "metadata": {},
   "outputs": [],
   "source": [
    "model_3dConv = keras.models.load_model(os.path.join(base_dir, \"conv_3d_model.h5\"))\n",
    "val_preds = model_3dConv.predict(val_data)\n",
    "val_preds = np.argmax(val_preds,axis=1)\n",
    "val_true = [mapping[x] for x in val_actions]"
   ]
  },
  {
   "cell_type": "code",
   "execution_count": null,
   "metadata": {},
   "outputs": [],
   "source": [
    "import seaborn as sn\n",
    "import pandas as pd\n",
    "import matplotlib.pyplot as plt\n",
    "import sklearn.metrics as metrics\n",
    "\n",
    "confusion_matrix = metrics.confusion_matrix(y_true=val_true, y_pred=val_preds)\n",
    "df_cm = pd.DataFrame(confusion_matrix, index = mapping.keys(),\n",
    "                  columns = mapping.keys())\n",
    "plt.figure(figsize = (9,7))\n",
    "sn.heatmap(df_cm, annot=True, cmap=\"Blues\")"
   ]
  },
  {
   "cell_type": "code",
   "execution_count": null,
   "metadata": {},
   "outputs": [],
   "source": [
    "# COUG:1, SNEE:4\n",
    "val_true_bin = [x in (1, 4) for x in val_true]\n",
    "val_preds_bin = [x in (1, 4) for x in val_preds]"
   ]
  },
  {
   "cell_type": "code",
   "execution_count": null,
   "metadata": {},
   "outputs": [],
   "source": [
    "confusion_matrix = metrics.confusion_matrix(y_true=val_true_bin, y_pred=val_preds_bin)\n",
    "df_cm = pd.DataFrame(confusion_matrix, index = ['Other', 'COUG_SNEE'],\n",
    "                  columns = ['Other', 'COUG_SNEE'])\n",
    "plt.figure(figsize = (4,3))\n",
    "sn.heatmap(df_cm, annot=True, cmap=\"Blues\")"
   ]
  },
  {
   "cell_type": "code",
   "execution_count": null,
   "metadata": {},
   "outputs": [],
   "source": [
    "tn, fp, fn, tp = confusion_matrix.ravel()\n",
    "prec = tp/(tp+fp)\n",
    "rec = tp/(tp+fn)\n",
    "acc = tp / (tp+fp+fn)\n",
    "print(prec, rec, acc)"
   ]
  },
  {
   "cell_type": "markdown",
   "metadata": {
    "id": "Uxz2ZuNmYwYg"
   },
   "source": [
    "### 1.5.2 Evaluate model on test dataset"
   ]
  },
  {
   "cell_type": "code",
   "execution_count": 11,
   "metadata": {
    "id": "AxkVsimFYzDj"
   },
   "outputs": [],
   "source": [
    "#Load test\n",
    "base_dir = '/home/ubuntu'\n",
    "\n",
    "test_data = np.load(os.path.join(base_dir, 'test_data_pre12.npy'))\n",
    "test_actions = np.load(os.path.join(base_dir, 'test_actions_pre12.npy'), allow_pickle=True)"
   ]
  },
  {
   "cell_type": "code",
   "execution_count": null,
   "metadata": {},
   "outputs": [],
   "source": [
    "# reshape data\n",
    "#test_data = np.moveaxis(test_data, 2, -1)"
   ]
  },
  {
   "cell_type": "code",
   "execution_count": null,
   "metadata": {},
   "outputs": [],
   "source": [
    "print('Test data shape: ', test_data.shape)\n",
    "print('Test action shape: ', test_actions.shape)"
   ]
  },
  {
   "cell_type": "code",
   "execution_count": null,
   "metadata": {},
   "outputs": [],
   "source": [
    "test_preds = model_3dConv.predict(test_data)\n",
    "\n",
    "test_preds = np.argmax(test_preds,axis=1)\n",
    "test_true = [mapping[x] for x in test_actions]"
   ]
  },
  {
   "cell_type": "code",
   "execution_count": null,
   "metadata": {
    "id": "Ssmi448cUH8B"
   },
   "outputs": [],
   "source": [
    "import seaborn as sn\n",
    "import pandas as pd\n",
    "import matplotlib.pyplot as plt\n",
    "import sklearn.metrics as metrics\n",
    "\n",
    "confusion_matrix = metrics.confusion_matrix(y_true=test_true, y_pred=test_preds)\n",
    "df_cm = pd.DataFrame(confusion_matrix, index = mapping.keys(),\n",
    "                  columns = mapping.keys())\n",
    "plt.figure(figsize = (9,7))\n",
    "sn.heatmap(df_cm, annot=True, cmap=\"Blues\")"
   ]
  },
  {
   "cell_type": "code",
   "execution_count": null,
   "metadata": {},
   "outputs": [],
   "source": [
    "# COUG:1, SNEE:4\n",
    "test_true_bin = [x in (1, 4) for x in test_true]\n",
    "test_preds_bin = [x in (1, 4) for x in test_preds]"
   ]
  },
  {
   "cell_type": "code",
   "execution_count": null,
   "metadata": {},
   "outputs": [],
   "source": [
    "confusion_matrix = metrics.confusion_matrix(y_true=test_true_bin, y_pred=test_preds_bin)\n",
    "df_cm = pd.DataFrame(confusion_matrix, index = ['Other', 'COUG_SNEE'],\n",
    "                  columns = ['Other', 'COUG_SNEE'])\n",
    "plt.figure(figsize = (4,3))\n",
    "sn.heatmap(df_cm, annot=True, cmap=\"Blues\")"
   ]
  },
  {
   "cell_type": "code",
   "execution_count": null,
   "metadata": {},
   "outputs": [],
   "source": [
    "tn, fp, fn, tp = confusion_matrix.ravel()\n",
    "\n",
    "prec = tp/(tp+fp)\n",
    "rec = tp/(tp+fn)\n",
    "acc = tp / (tp+fp+fn)\n",
    "print(prec, rec, acc)"
   ]
  },
  {
   "cell_type": "markdown",
   "metadata": {},
   "source": [
    "## Model 2: CNN and LSTM"
   ]
  },
  {
   "cell_type": "markdown",
   "metadata": {},
   "source": [
    "### 2.1 Define model"
   ]
  },
  {
   "cell_type": "code",
   "execution_count": 43,
   "metadata": {},
   "outputs": [
    {
     "name": "stdout",
     "output_type": "stream",
     "text": [
      "Model: \"sequential_9\"\n",
      "_________________________________________________________________\n",
      "Layer (type)                 Output Shape              Param #   \n",
      "=================================================================\n",
      "time_distributed_53 (TimeDis (None, 12, 224, 224, 32)  896       \n",
      "_________________________________________________________________\n",
      "time_distributed_54 (TimeDis (None, 12, 112, 112, 32)  0         \n",
      "_________________________________________________________________\n",
      "time_distributed_55 (TimeDis (None, 12, 112, 112, 32)  9248      \n",
      "_________________________________________________________________\n",
      "time_distributed_56 (TimeDis (None, 12, 56, 56, 32)    0         \n",
      "_________________________________________________________________\n",
      "time_distributed_57 (TimeDis (None, 12, 56, 56, 64)    18496     \n",
      "_________________________________________________________________\n",
      "time_distributed_58 (TimeDis (None, 12, 28, 28, 64)    0         \n",
      "_________________________________________________________________\n",
      "time_distributed_59 (TimeDis (None, 12, 28, 28, 64)    36928     \n",
      "_________________________________________________________________\n",
      "time_distributed_60 (TimeDis (None, 12, 14, 14, 64)    0         \n",
      "_________________________________________________________________\n",
      "time_distributed_61 (TimeDis (None, 12, 14, 14, 128)   73856     \n",
      "_________________________________________________________________\n",
      "time_distributed_62 (TimeDis (None, 12, 7, 7, 128)     0         \n",
      "_________________________________________________________________\n",
      "time_distributed_63 (TimeDis (None, 12, 7, 7, 128)     147584    \n",
      "_________________________________________________________________\n",
      "time_distributed_64 (TimeDis (None, 12, 3, 3, 128)     0         \n",
      "_________________________________________________________________\n",
      "time_distributed_65 (TimeDis (None, 12, 1152)          0         \n",
      "_________________________________________________________________\n",
      "dropout_16 (Dropout)         (None, 12, 1152)          0         \n",
      "_________________________________________________________________\n",
      "lstm_9 (LSTM)                (None, 16)                74816     \n",
      "_________________________________________________________________\n",
      "dense_22 (Dense)             (None, 32)                544       \n",
      "_________________________________________________________________\n",
      "dropout_17 (Dropout)         (None, 32)                0         \n",
      "_________________________________________________________________\n",
      "dense_23 (Dense)             (None, 8)                 264       \n",
      "=================================================================\n",
      "Total params: 362,632\n",
      "Trainable params: 362,632\n",
      "Non-trainable params: 0\n",
      "_________________________________________________________________\n"
     ]
    }
   ],
   "source": [
    "from keras.layers import TimeDistributed, Conv2D, Dense, MaxPooling2D, Flatten, LSTM, Dropout, BatchNormalization\n",
    "from keras import models\n",
    "\n",
    "frames, channels, rows, columns = 12, 3, 224, 224\n",
    "\n",
    "model_cnlst = models.Sequential()\n",
    "model_cnlst.add(TimeDistributed(Conv2D(32, (3, 3), strides=(1,1),activation='relu', padding = 'same'),input_shape=(frames, rows, columns, channels)))\n",
    "model_cnlst.add(TimeDistributed(MaxPooling2D(2,2)))\n",
    "\n",
    "model_cnlst.add(TimeDistributed(Conv2D(32, (3, 3), strides=(1,1),activation='relu', padding = 'same'),input_shape=(frames, rows, columns, channels)))\n",
    "model_cnlst.add(TimeDistributed(MaxPooling2D(2,2)))\n",
    "\n",
    "model_cnlst.add(TimeDistributed(Conv2D(64, (3, 3), strides=(1,1),activation='relu', padding = 'same'),input_shape=(frames, rows, columns, channels)))\n",
    "model_cnlst.add(TimeDistributed(MaxPooling2D(2,2)))\n",
    "\n",
    "model_cnlst.add(TimeDistributed(Conv2D(64, (3, 3), strides=(1,1),activation='relu', padding = 'same'),input_shape=(frames, rows, columns, channels)))\n",
    "model_cnlst.add(TimeDistributed(MaxPooling2D(2,2)))\n",
    "\n",
    "model_cnlst.add(TimeDistributed(Conv2D(128, (3, 3), strides=(1,1),activation='relu', padding = 'same'),input_shape=(frames, rows, columns, channels)))\n",
    "model_cnlst.add(TimeDistributed(MaxPooling2D(2,2)))\n",
    "\n",
    "model_cnlst.add(TimeDistributed(Conv2D(128, (3, 3), strides=(1,1),activation='relu', padding = 'same'),input_shape=(frames, rows, columns, channels)))\n",
    "model_cnlst.add(TimeDistributed(MaxPooling2D(2,2)))\n",
    "\n",
    "model_cnlst.add(TimeDistributed(Flatten()))\n",
    "model_cnlst.add(Dropout(0.2))\n",
    "model_cnlst.add(LSTM(16,return_sequences=False,dropout=0.2))\n",
    "#model_cnlst.add(Dense(64,activation='relu'))\n",
    "model_cnlst.add(Dense(32,activation='relu'))\n",
    "model_cnlst.add(Dropout(0.2))\n",
    "model_cnlst.add(Dense(8, activation='softmax'))\n",
    "model_cnlst.summary()\n",
    "\n"
   ]
  },
  {
   "cell_type": "code",
   "execution_count": 35,
   "metadata": {},
   "outputs": [
    {
     "name": "stdout",
     "output_type": "stream",
     "text": [
      "Model: \"model_3\"\n",
      "_________________________________________________________________\n",
      "Layer (type)                 Output Shape              Param #   \n",
      "=================================================================\n",
      "input_2 (InputLayer)         [(None, 12, 224, 224, 3)] 0         \n",
      "_________________________________________________________________\n",
      "time_distributed_12 (TimeDis (None, 12, 64)            56320     \n",
      "_________________________________________________________________\n",
      "lstm_4 (LSTM)                (None, 64)                33024     \n",
      "_________________________________________________________________\n",
      "dense_10 (Dense)             (None, 128)               8320      \n",
      "_________________________________________________________________\n",
      "batch_normalization_1 (Batch (None, 128)               512       \n",
      "_________________________________________________________________\n",
      "dense_11 (Dense)             (None, 64)                8256      \n",
      "_________________________________________________________________\n",
      "dense_12 (Dense)             (None, 32)                2080      \n",
      "_________________________________________________________________\n",
      "dropout_7 (Dropout)          (None, 32)                0         \n",
      "_________________________________________________________________\n",
      "dense_13 (Dense)             (None, 8)                 264       \n",
      "=================================================================\n",
      "Total params: 108,776\n",
      "Trainable params: 108,520\n",
      "Non-trainable params: 256\n",
      "_________________________________________________________________\n"
     ]
    }
   ],
   "source": [
    "from keras.layers import Input, TimeDistributed, Conv2D, Dense, MaxPooling2D, Flatten, LSTM, Dropout, BatchNormalization, GlobalAveragePooling2D\n",
    "from keras import models, Model\n",
    "from keras.applications import vgg16\n",
    "\n",
    "frames, channels, rows, columns = 12, 3, 224, 224\n",
    "\n",
    "video = Input(shape=(frames,rows,columns,channels))\n",
    "#cnn_base = vgg16.VGG16(input_shape=(rows,columns,channels),\n",
    "#                weights=\"imagenet\",\n",
    "#                include_top=False)\n",
    "#                #include_top=True) # want the final dense layers#\n",
    "#cnn_base.trainable = False\n",
    "\n",
    "cnn_base = models.Sequential()\n",
    "cnn_base.add(Conv2D(32, (3, 3), activation='relu', input_shape=(rows,columns,channels)))\n",
    "cnn_base.add(MaxPooling2D((2, 2)))\n",
    "cnn_base.add(Conv2D(64, (3, 3), activation='relu'))\n",
    "cnn_base.add(MaxPooling2D((2, 2)))\n",
    "cnn_base.add(Conv2D(64, (3, 3), activation='relu'))\n",
    "\n",
    "#cnn = Model(cnn_base.input, cnn_base.layers[-3].output) # -3 is the 4096 layer\n",
    "cnn_out = GlobalAveragePooling2D()(cnn_base.output)\n",
    "cnn = Model(cnn_base.input, cnn_out)\n",
    "encoded_frames = TimeDistributed(cnn)(video)\n",
    "encoded_sequence = LSTM(64)(encoded_frames)\n",
    "x = Dense(128, activation=\"relu\")(encoded_sequence)\n",
    "x = BatchNormalization()(x)\n",
    "x = Dense(64, activation=\"relu\")(x)\n",
    "x = Dense(32, activation=\"relu\")(x)\n",
    "x = Dropout(0.2)(x)\n",
    "outputs = Dense(8, activation=\"softmax\")(x) # n_labels = 8\n",
    "\n",
    "model = Model(video, outputs)\n",
    "model.summary()"
   ]
  },
  {
   "cell_type": "code",
   "execution_count": 49,
   "metadata": {},
   "outputs": [],
   "source": [
    "import keras\n",
    "callbacks_list_cnlst=[keras.callbacks.EarlyStopping(\n",
    "monitor='accuracy',patience=10),\n",
    "               keras.callbacks.ModelCheckpoint(\n",
    "               filepath='cnn_lstm_model',\n",
    "               monitor='val_loss',\n",
    "               save_best_only=True),\n",
    "               keras.callbacks.ReduceLROnPlateau(monitor = \"val_loss\", factor = 0.1, patience = 10)\n",
    "               ]\n",
    "\n",
    "from keras import optimizers\n",
    "optimizer_new=optimizers.Adam(lr=1e-3)\n",
    "\n",
    "#import tensorflow as tf\n",
    "#run_opts = tf.compat.v1.RunOptions(report_tensor_allocations_upon_oom = True)\n",
    "\n",
    "model.compile(optimizer=optimizer_new,loss='categorical_crossentropy',metrics=['accuracy'] \n",
    "                    #,options = run_opts\n",
    "                   )\n"
   ]
  },
  {
   "cell_type": "code",
   "execution_count": 45,
   "metadata": {},
   "outputs": [
    {
     "name": "stdout",
     "output_type": "stream",
     "text": [
      "RAM memory % used: 63.82\n"
     ]
    }
   ],
   "source": [
    "import os\n",
    "  \n",
    "# Getting all memory using os.popen()\n",
    "total_memory, used_memory, free_memory = map(\n",
    "    int, os.popen('free -t -m').readlines()[-1].split()[1:])\n",
    "  \n",
    "# Memory usage\n",
    "print(\"RAM memory % used:\", round((used_memory/total_memory) * 100, 2))"
   ]
  },
  {
   "cell_type": "markdown",
   "metadata": {},
   "source": [
    "### 2.2 Train model"
   ]
  },
  {
   "cell_type": "code",
   "execution_count": 50,
   "metadata": {},
   "outputs": [
    {
     "name": "stdout",
     "output_type": "stream",
     "text": [
      "Epoch 1/60\n",
      "51/51 [==============================] - 40s 722ms/step - loss: 2.0124 - accuracy: 0.1719 - val_loss: 5.1293 - val_accuracy: 0.1109\n"
     ]
    },
    {
     "name": "stderr",
     "output_type": "stream",
     "text": [
      "WARNING:absl:Found untraced functions such as lstm_cell_6_layer_call_and_return_conditional_losses, lstm_cell_6_layer_call_fn, lstm_cell_6_layer_call_fn, lstm_cell_6_layer_call_and_return_conditional_losses, lstm_cell_6_layer_call_and_return_conditional_losses while saving (showing 5 of 5). These functions will not be directly callable after loading.\n",
      "WARNING:absl:Found untraced functions such as lstm_cell_6_layer_call_and_return_conditional_losses, lstm_cell_6_layer_call_fn, lstm_cell_6_layer_call_fn, lstm_cell_6_layer_call_and_return_conditional_losses, lstm_cell_6_layer_call_and_return_conditional_losses while saving (showing 5 of 5). These functions will not be directly callable after loading.\n"
     ]
    },
    {
     "name": "stdout",
     "output_type": "stream",
     "text": [
      "INFO:tensorflow:Assets written to: cnn_lstm_model/assets\n"
     ]
    },
    {
     "name": "stderr",
     "output_type": "stream",
     "text": [
      "INFO:tensorflow:Assets written to: cnn_lstm_model/assets\n"
     ]
    },
    {
     "name": "stdout",
     "output_type": "stream",
     "text": [
      "Epoch 2/60\n",
      "51/51 [==============================] - 31s 613ms/step - loss: 2.0185 - accuracy: 0.1705 - val_loss: 14.0646 - val_accuracy: 0.1109\n",
      "Epoch 3/60\n",
      "51/51 [==============================] - 31s 610ms/step - loss: 2.0222 - accuracy: 0.1735 - val_loss: 8.4670 - val_accuracy: 0.1524\n",
      "Epoch 4/60\n",
      "51/51 [==============================] - 31s 608ms/step - loss: 1.9802 - accuracy: 0.2035 - val_loss: 6.3487 - val_accuracy: 0.1132\n",
      "Epoch 5/60\n",
      "51/51 [==============================] - 31s 607ms/step - loss: 1.9640 - accuracy: 0.2218 - val_loss: 25.4762 - val_accuracy: 0.1224\n",
      "Epoch 6/60\n",
      "51/51 [==============================] - 31s 605ms/step - loss: 1.9683 - accuracy: 0.2138 - val_loss: 9.4194 - val_accuracy: 0.1132\n",
      "Epoch 7/60\n",
      "51/51 [==============================] - 31s 605ms/step - loss: 1.9496 - accuracy: 0.2267 - val_loss: 33.4835 - val_accuracy: 0.1432\n",
      "Epoch 8/60\n",
      "51/51 [==============================] - 31s 606ms/step - loss: 1.9782 - accuracy: 0.2180 - val_loss: 7.1939 - val_accuracy: 0.1201\n",
      "Epoch 9/60\n",
      "51/51 [==============================] - 31s 607ms/step - loss: 1.9455 - accuracy: 0.2169 - val_loss: 16.0749 - val_accuracy: 0.1109\n",
      "Epoch 10/60\n",
      "51/51 [==============================] - 31s 612ms/step - loss: 1.9931 - accuracy: 0.2060 - val_loss: 4.8367 - val_accuracy: 0.1109\n"
     ]
    },
    {
     "name": "stderr",
     "output_type": "stream",
     "text": [
      "WARNING:absl:Found untraced functions such as lstm_cell_6_layer_call_and_return_conditional_losses, lstm_cell_6_layer_call_fn, lstm_cell_6_layer_call_fn, lstm_cell_6_layer_call_and_return_conditional_losses, lstm_cell_6_layer_call_and_return_conditional_losses while saving (showing 5 of 5). These functions will not be directly callable after loading.\n",
      "WARNING:absl:Found untraced functions such as lstm_cell_6_layer_call_and_return_conditional_losses, lstm_cell_6_layer_call_fn, lstm_cell_6_layer_call_fn, lstm_cell_6_layer_call_and_return_conditional_losses, lstm_cell_6_layer_call_and_return_conditional_losses while saving (showing 5 of 5). These functions will not be directly callable after loading.\n"
     ]
    },
    {
     "name": "stdout",
     "output_type": "stream",
     "text": [
      "INFO:tensorflow:Assets written to: cnn_lstm_model/assets\n"
     ]
    },
    {
     "name": "stderr",
     "output_type": "stream",
     "text": [
      "INFO:tensorflow:Assets written to: cnn_lstm_model/assets\n"
     ]
    },
    {
     "name": "stdout",
     "output_type": "stream",
     "text": [
      "Epoch 11/60\n",
      "51/51 [==============================] - 31s 605ms/step - loss: 1.9637 - accuracy: 0.2226 - val_loss: 22.4131 - val_accuracy: 0.1247\n",
      "Epoch 12/60\n",
      "51/51 [==============================] - 31s 603ms/step - loss: 1.9479 - accuracy: 0.2070 - val_loss: 8.3715 - val_accuracy: 0.1224\n",
      "Epoch 13/60\n",
      "51/51 [==============================] - 31s 609ms/step - loss: 1.9240 - accuracy: 0.2231 - val_loss: 15.8767 - val_accuracy: 0.1316\n",
      "Epoch 14/60\n",
      "51/51 [==============================] - 31s 608ms/step - loss: 1.9265 - accuracy: 0.2158 - val_loss: 3.2274 - val_accuracy: 0.1224\n"
     ]
    },
    {
     "name": "stderr",
     "output_type": "stream",
     "text": [
      "WARNING:absl:Found untraced functions such as lstm_cell_6_layer_call_and_return_conditional_losses, lstm_cell_6_layer_call_fn, lstm_cell_6_layer_call_fn, lstm_cell_6_layer_call_and_return_conditional_losses, lstm_cell_6_layer_call_and_return_conditional_losses while saving (showing 5 of 5). These functions will not be directly callable after loading.\n",
      "WARNING:absl:Found untraced functions such as lstm_cell_6_layer_call_and_return_conditional_losses, lstm_cell_6_layer_call_fn, lstm_cell_6_layer_call_fn, lstm_cell_6_layer_call_and_return_conditional_losses, lstm_cell_6_layer_call_and_return_conditional_losses while saving (showing 5 of 5). These functions will not be directly callable after loading.\n"
     ]
    },
    {
     "name": "stdout",
     "output_type": "stream",
     "text": [
      "INFO:tensorflow:Assets written to: cnn_lstm_model/assets\n"
     ]
    },
    {
     "name": "stderr",
     "output_type": "stream",
     "text": [
      "INFO:tensorflow:Assets written to: cnn_lstm_model/assets\n"
     ]
    },
    {
     "name": "stdout",
     "output_type": "stream",
     "text": [
      "Epoch 15/60\n",
      "51/51 [==============================] - 31s 603ms/step - loss: 1.9346 - accuracy: 0.2195 - val_loss: 18.6223 - val_accuracy: 0.1132\n",
      "Epoch 16/60\n",
      "51/51 [==============================] - 31s 607ms/step - loss: 1.9468 - accuracy: 0.2208 - val_loss: 13.6926 - val_accuracy: 0.1132\n",
      "Epoch 17/60\n",
      "51/51 [==============================] - 31s 604ms/step - loss: 1.8966 - accuracy: 0.2610 - val_loss: 2.8834 - val_accuracy: 0.1201\n"
     ]
    },
    {
     "name": "stderr",
     "output_type": "stream",
     "text": [
      "WARNING:absl:Found untraced functions such as lstm_cell_6_layer_call_and_return_conditional_losses, lstm_cell_6_layer_call_fn, lstm_cell_6_layer_call_fn, lstm_cell_6_layer_call_and_return_conditional_losses, lstm_cell_6_layer_call_and_return_conditional_losses while saving (showing 5 of 5). These functions will not be directly callable after loading.\n",
      "WARNING:absl:Found untraced functions such as lstm_cell_6_layer_call_and_return_conditional_losses, lstm_cell_6_layer_call_fn, lstm_cell_6_layer_call_fn, lstm_cell_6_layer_call_and_return_conditional_losses, lstm_cell_6_layer_call_and_return_conditional_losses while saving (showing 5 of 5). These functions will not be directly callable after loading.\n"
     ]
    },
    {
     "name": "stdout",
     "output_type": "stream",
     "text": [
      "INFO:tensorflow:Assets written to: cnn_lstm_model/assets\n"
     ]
    },
    {
     "name": "stderr",
     "output_type": "stream",
     "text": [
      "INFO:tensorflow:Assets written to: cnn_lstm_model/assets\n"
     ]
    },
    {
     "name": "stdout",
     "output_type": "stream",
     "text": [
      "Epoch 18/60\n",
      "51/51 [==============================] - 31s 604ms/step - loss: 1.8844 - accuracy: 0.2490 - val_loss: 13.6156 - val_accuracy: 0.1339\n",
      "Epoch 19/60\n",
      "51/51 [==============================] - 31s 606ms/step - loss: 1.9200 - accuracy: 0.2266 - val_loss: 9.3978 - val_accuracy: 0.1270\n",
      "Epoch 20/60\n",
      "51/51 [==============================] - 31s 605ms/step - loss: 1.8698 - accuracy: 0.2757 - val_loss: 12.6935 - val_accuracy: 0.1316\n",
      "Epoch 21/60\n",
      "51/51 [==============================] - 31s 603ms/step - loss: 1.8914 - accuracy: 0.2523 - val_loss: 13.7982 - val_accuracy: 0.1109\n",
      "Epoch 22/60\n",
      "51/51 [==============================] - 31s 608ms/step - loss: 1.9334 - accuracy: 0.2225 - val_loss: 17.4765 - val_accuracy: 0.1109\n",
      "Epoch 23/60\n",
      "51/51 [==============================] - 31s 609ms/step - loss: 1.8838 - accuracy: 0.2568 - val_loss: 14.6580 - val_accuracy: 0.1224\n",
      "Epoch 24/60\n",
      "51/51 [==============================] - 31s 605ms/step - loss: 1.8509 - accuracy: 0.2753 - val_loss: 15.9667 - val_accuracy: 0.1293\n",
      "Epoch 25/60\n",
      "51/51 [==============================] - 31s 608ms/step - loss: 1.9159 - accuracy: 0.2419 - val_loss: 7.2621 - val_accuracy: 0.1316\n",
      "Epoch 26/60\n",
      "51/51 [==============================] - 31s 607ms/step - loss: 1.8682 - accuracy: 0.2321 - val_loss: 8.0961 - val_accuracy: 0.1155\n",
      "Epoch 27/60\n",
      "51/51 [==============================] - 31s 604ms/step - loss: 1.8973 - accuracy: 0.2361 - val_loss: 5.7266 - val_accuracy: 0.1132\n",
      "Epoch 28/60\n",
      "51/51 [==============================] - 31s 605ms/step - loss: 1.8552 - accuracy: 0.2780 - val_loss: 4.2462 - val_accuracy: 0.1155\n",
      "Epoch 29/60\n",
      "51/51 [==============================] - 31s 606ms/step - loss: 1.8428 - accuracy: 0.3024 - val_loss: 2.1575 - val_accuracy: 0.1801\n"
     ]
    },
    {
     "name": "stderr",
     "output_type": "stream",
     "text": [
      "WARNING:absl:Found untraced functions such as lstm_cell_6_layer_call_and_return_conditional_losses, lstm_cell_6_layer_call_fn, lstm_cell_6_layer_call_fn, lstm_cell_6_layer_call_and_return_conditional_losses, lstm_cell_6_layer_call_and_return_conditional_losses while saving (showing 5 of 5). These functions will not be directly callable after loading.\n",
      "WARNING:absl:Found untraced functions such as lstm_cell_6_layer_call_and_return_conditional_losses, lstm_cell_6_layer_call_fn, lstm_cell_6_layer_call_fn, lstm_cell_6_layer_call_and_return_conditional_losses, lstm_cell_6_layer_call_and_return_conditional_losses while saving (showing 5 of 5). These functions will not be directly callable after loading.\n"
     ]
    },
    {
     "name": "stdout",
     "output_type": "stream",
     "text": [
      "INFO:tensorflow:Assets written to: cnn_lstm_model/assets\n"
     ]
    },
    {
     "name": "stderr",
     "output_type": "stream",
     "text": [
      "INFO:tensorflow:Assets written to: cnn_lstm_model/assets\n"
     ]
    },
    {
     "name": "stdout",
     "output_type": "stream",
     "text": [
      "Epoch 30/60\n",
      "51/51 [==============================] - 31s 605ms/step - loss: 1.8199 - accuracy: 0.2749 - val_loss: 2.1679 - val_accuracy: 0.1663\n",
      "Epoch 31/60\n",
      "19/51 [==========>...................] - ETA: 16s - loss: 1.7816 - accuracy: 0.2932"
     ]
    },
    {
     "ename": "KeyboardInterrupt",
     "evalue": "",
     "output_type": "error",
     "traceback": [
      "\u001b[0;31m---------------------------------------------------------------------------\u001b[0m",
      "\u001b[0;31mKeyboardInterrupt\u001b[0m                         Traceback (most recent call last)",
      "\u001b[0;32m<ipython-input-50-af8c5f41fcec>\u001b[0m in \u001b[0;36m<module>\u001b[0;34m\u001b[0m\n\u001b[1;32m      3\u001b[0m                           \u001b[0mvalidation_data\u001b[0m\u001b[0;34m=\u001b[0m\u001b[0;34m(\u001b[0m\u001b[0mval_data\u001b[0m\u001b[0;34m,\u001b[0m \u001b[0mval_action_labels\u001b[0m\u001b[0;34m)\u001b[0m\u001b[0;34m,\u001b[0m\u001b[0;34m\u001b[0m\u001b[0;34m\u001b[0m\u001b[0m\n\u001b[1;32m      4\u001b[0m                           \u001b[0mbatch_size\u001b[0m\u001b[0;34m=\u001b[0m\u001b[0;36m20\u001b[0m\u001b[0;34m,\u001b[0m \u001b[0mepochs\u001b[0m\u001b[0;34m=\u001b[0m\u001b[0;36m60\u001b[0m\u001b[0;34m,\u001b[0m\u001b[0;34m\u001b[0m\u001b[0;34m\u001b[0m\u001b[0m\n\u001b[0;32m----> 5\u001b[0;31m                           \u001b[0mcallbacks\u001b[0m\u001b[0;34m=\u001b[0m\u001b[0mcallbacks_list_cnlst\u001b[0m\u001b[0;34m\u001b[0m\u001b[0;34m\u001b[0m\u001b[0m\n\u001b[0m\u001b[1;32m      6\u001b[0m                     )\n",
      "\u001b[0;32m~/anaconda3/envs/tensorflow2_latest_p37/gpu_cuda11.0/lib/python3.7/site-packages/tensorflow/python/keras/engine/training.py\u001b[0m in \u001b[0;36mfit\u001b[0;34m(self, x, y, batch_size, epochs, verbose, callbacks, validation_split, validation_data, shuffle, class_weight, sample_weight, initial_epoch, steps_per_epoch, validation_steps, validation_batch_size, validation_freq, max_queue_size, workers, use_multiprocessing)\u001b[0m\n\u001b[1;32m   1127\u001b[0m                 _r=1):\n\u001b[1;32m   1128\u001b[0m               \u001b[0mcallbacks\u001b[0m\u001b[0;34m.\u001b[0m\u001b[0mon_train_batch_begin\u001b[0m\u001b[0;34m(\u001b[0m\u001b[0mstep\u001b[0m\u001b[0;34m)\u001b[0m\u001b[0;34m\u001b[0m\u001b[0;34m\u001b[0m\u001b[0m\n\u001b[0;32m-> 1129\u001b[0;31m               \u001b[0mtmp_logs\u001b[0m \u001b[0;34m=\u001b[0m \u001b[0mself\u001b[0m\u001b[0;34m.\u001b[0m\u001b[0mtrain_function\u001b[0m\u001b[0;34m(\u001b[0m\u001b[0miterator\u001b[0m\u001b[0;34m)\u001b[0m\u001b[0;34m\u001b[0m\u001b[0;34m\u001b[0m\u001b[0m\n\u001b[0m\u001b[1;32m   1130\u001b[0m               \u001b[0;32mif\u001b[0m \u001b[0mdata_handler\u001b[0m\u001b[0;34m.\u001b[0m\u001b[0mshould_sync\u001b[0m\u001b[0;34m:\u001b[0m\u001b[0;34m\u001b[0m\u001b[0;34m\u001b[0m\u001b[0m\n\u001b[1;32m   1131\u001b[0m                 \u001b[0mcontext\u001b[0m\u001b[0;34m.\u001b[0m\u001b[0masync_wait\u001b[0m\u001b[0;34m(\u001b[0m\u001b[0;34m)\u001b[0m\u001b[0;34m\u001b[0m\u001b[0;34m\u001b[0m\u001b[0m\n",
      "\u001b[0;32m~/anaconda3/envs/tensorflow2_latest_p37/gpu_cuda11.0/lib/python3.7/site-packages/tensorflow/python/eager/def_function.py\u001b[0m in \u001b[0;36m__call__\u001b[0;34m(self, *args, **kwds)\u001b[0m\n\u001b[1;32m    826\u001b[0m     \u001b[0mtracing_count\u001b[0m \u001b[0;34m=\u001b[0m \u001b[0mself\u001b[0m\u001b[0;34m.\u001b[0m\u001b[0mexperimental_get_tracing_count\u001b[0m\u001b[0;34m(\u001b[0m\u001b[0;34m)\u001b[0m\u001b[0;34m\u001b[0m\u001b[0;34m\u001b[0m\u001b[0m\n\u001b[1;32m    827\u001b[0m     \u001b[0;32mwith\u001b[0m \u001b[0mtrace\u001b[0m\u001b[0;34m.\u001b[0m\u001b[0mTrace\u001b[0m\u001b[0;34m(\u001b[0m\u001b[0mself\u001b[0m\u001b[0;34m.\u001b[0m\u001b[0m_name\u001b[0m\u001b[0;34m)\u001b[0m \u001b[0;32mas\u001b[0m \u001b[0mtm\u001b[0m\u001b[0;34m:\u001b[0m\u001b[0;34m\u001b[0m\u001b[0;34m\u001b[0m\u001b[0m\n\u001b[0;32m--> 828\u001b[0;31m       \u001b[0mresult\u001b[0m \u001b[0;34m=\u001b[0m \u001b[0mself\u001b[0m\u001b[0;34m.\u001b[0m\u001b[0m_call\u001b[0m\u001b[0;34m(\u001b[0m\u001b[0;34m*\u001b[0m\u001b[0margs\u001b[0m\u001b[0;34m,\u001b[0m \u001b[0;34m**\u001b[0m\u001b[0mkwds\u001b[0m\u001b[0;34m)\u001b[0m\u001b[0;34m\u001b[0m\u001b[0;34m\u001b[0m\u001b[0m\n\u001b[0m\u001b[1;32m    829\u001b[0m       \u001b[0mcompiler\u001b[0m \u001b[0;34m=\u001b[0m \u001b[0;34m\"xla\"\u001b[0m \u001b[0;32mif\u001b[0m \u001b[0mself\u001b[0m\u001b[0;34m.\u001b[0m\u001b[0m_experimental_compile\u001b[0m \u001b[0;32melse\u001b[0m \u001b[0;34m\"nonXla\"\u001b[0m\u001b[0;34m\u001b[0m\u001b[0;34m\u001b[0m\u001b[0m\n\u001b[1;32m    830\u001b[0m       \u001b[0mnew_tracing_count\u001b[0m \u001b[0;34m=\u001b[0m \u001b[0mself\u001b[0m\u001b[0;34m.\u001b[0m\u001b[0mexperimental_get_tracing_count\u001b[0m\u001b[0;34m(\u001b[0m\u001b[0;34m)\u001b[0m\u001b[0;34m\u001b[0m\u001b[0;34m\u001b[0m\u001b[0m\n",
      "\u001b[0;32m~/anaconda3/envs/tensorflow2_latest_p37/gpu_cuda11.0/lib/python3.7/site-packages/tensorflow/python/eager/def_function.py\u001b[0m in \u001b[0;36m_call\u001b[0;34m(self, *args, **kwds)\u001b[0m\n\u001b[1;32m    853\u001b[0m       \u001b[0;31m# In this case we have created variables on the first call, so we run the\u001b[0m\u001b[0;34m\u001b[0m\u001b[0;34m\u001b[0m\u001b[0;34m\u001b[0m\u001b[0m\n\u001b[1;32m    854\u001b[0m       \u001b[0;31m# defunned version which is guaranteed to never create variables.\u001b[0m\u001b[0;34m\u001b[0m\u001b[0;34m\u001b[0m\u001b[0;34m\u001b[0m\u001b[0m\n\u001b[0;32m--> 855\u001b[0;31m       \u001b[0;32mreturn\u001b[0m \u001b[0mself\u001b[0m\u001b[0;34m.\u001b[0m\u001b[0m_stateless_fn\u001b[0m\u001b[0;34m(\u001b[0m\u001b[0;34m*\u001b[0m\u001b[0margs\u001b[0m\u001b[0;34m,\u001b[0m \u001b[0;34m**\u001b[0m\u001b[0mkwds\u001b[0m\u001b[0;34m)\u001b[0m  \u001b[0;31m# pylint: disable=not-callable\u001b[0m\u001b[0;34m\u001b[0m\u001b[0;34m\u001b[0m\u001b[0m\n\u001b[0m\u001b[1;32m    856\u001b[0m     \u001b[0;32melif\u001b[0m \u001b[0mself\u001b[0m\u001b[0;34m.\u001b[0m\u001b[0m_stateful_fn\u001b[0m \u001b[0;32mis\u001b[0m \u001b[0;32mnot\u001b[0m \u001b[0;32mNone\u001b[0m\u001b[0;34m:\u001b[0m\u001b[0;34m\u001b[0m\u001b[0;34m\u001b[0m\u001b[0m\n\u001b[1;32m    857\u001b[0m       \u001b[0;31m# Release the lock early so that multiple threads can perform the call\u001b[0m\u001b[0;34m\u001b[0m\u001b[0;34m\u001b[0m\u001b[0;34m\u001b[0m\u001b[0m\n",
      "\u001b[0;32m~/anaconda3/envs/tensorflow2_latest_p37/gpu_cuda11.0/lib/python3.7/site-packages/tensorflow/python/eager/function.py\u001b[0m in \u001b[0;36m__call__\u001b[0;34m(self, *args, **kwargs)\u001b[0m\n\u001b[1;32m   2941\u001b[0m        filtered_flat_args) = self._maybe_define_function(args, kwargs)\n\u001b[1;32m   2942\u001b[0m     return graph_function._call_flat(\n\u001b[0;32m-> 2943\u001b[0;31m         filtered_flat_args, captured_inputs=graph_function.captured_inputs)  # pylint: disable=protected-access\n\u001b[0m\u001b[1;32m   2944\u001b[0m \u001b[0;34m\u001b[0m\u001b[0m\n\u001b[1;32m   2945\u001b[0m   \u001b[0;34m@\u001b[0m\u001b[0mproperty\u001b[0m\u001b[0;34m\u001b[0m\u001b[0;34m\u001b[0m\u001b[0m\n",
      "\u001b[0;32m~/anaconda3/envs/tensorflow2_latest_p37/gpu_cuda11.0/lib/python3.7/site-packages/tensorflow/python/eager/function.py\u001b[0m in \u001b[0;36m_call_flat\u001b[0;34m(self, args, captured_inputs, cancellation_manager)\u001b[0m\n\u001b[1;32m   1917\u001b[0m       \u001b[0;31m# No tape is watching; skip to running the function.\u001b[0m\u001b[0;34m\u001b[0m\u001b[0;34m\u001b[0m\u001b[0;34m\u001b[0m\u001b[0m\n\u001b[1;32m   1918\u001b[0m       return self._build_call_outputs(self._inference_function.call(\n\u001b[0;32m-> 1919\u001b[0;31m           ctx, args, cancellation_manager=cancellation_manager))\n\u001b[0m\u001b[1;32m   1920\u001b[0m     forward_backward = self._select_forward_and_backward_functions(\n\u001b[1;32m   1921\u001b[0m         \u001b[0margs\u001b[0m\u001b[0;34m,\u001b[0m\u001b[0;34m\u001b[0m\u001b[0;34m\u001b[0m\u001b[0m\n",
      "\u001b[0;32m~/anaconda3/envs/tensorflow2_latest_p37/gpu_cuda11.0/lib/python3.7/site-packages/tensorflow/python/eager/function.py\u001b[0m in \u001b[0;36mcall\u001b[0;34m(self, ctx, args, cancellation_manager)\u001b[0m\n\u001b[1;32m    558\u001b[0m               \u001b[0minputs\u001b[0m\u001b[0;34m=\u001b[0m\u001b[0margs\u001b[0m\u001b[0;34m,\u001b[0m\u001b[0;34m\u001b[0m\u001b[0;34m\u001b[0m\u001b[0m\n\u001b[1;32m    559\u001b[0m               \u001b[0mattrs\u001b[0m\u001b[0;34m=\u001b[0m\u001b[0mattrs\u001b[0m\u001b[0;34m,\u001b[0m\u001b[0;34m\u001b[0m\u001b[0;34m\u001b[0m\u001b[0m\n\u001b[0;32m--> 560\u001b[0;31m               ctx=ctx)\n\u001b[0m\u001b[1;32m    561\u001b[0m         \u001b[0;32melse\u001b[0m\u001b[0;34m:\u001b[0m\u001b[0;34m\u001b[0m\u001b[0;34m\u001b[0m\u001b[0m\n\u001b[1;32m    562\u001b[0m           outputs = execute.execute_with_cancellation(\n",
      "\u001b[0;32m~/anaconda3/envs/tensorflow2_latest_p37/gpu_cuda11.0/lib/python3.7/site-packages/tensorflow/python/eager/execute.py\u001b[0m in \u001b[0;36mquick_execute\u001b[0;34m(op_name, num_outputs, inputs, attrs, ctx, name)\u001b[0m\n\u001b[1;32m     58\u001b[0m     \u001b[0mctx\u001b[0m\u001b[0;34m.\u001b[0m\u001b[0mensure_initialized\u001b[0m\u001b[0;34m(\u001b[0m\u001b[0;34m)\u001b[0m\u001b[0;34m\u001b[0m\u001b[0;34m\u001b[0m\u001b[0m\n\u001b[1;32m     59\u001b[0m     tensors = pywrap_tfe.TFE_Py_Execute(ctx._handle, device_name, op_name,\n\u001b[0;32m---> 60\u001b[0;31m                                         inputs, attrs, num_outputs)\n\u001b[0m\u001b[1;32m     61\u001b[0m   \u001b[0;32mexcept\u001b[0m \u001b[0mcore\u001b[0m\u001b[0;34m.\u001b[0m\u001b[0m_NotOkStatusException\u001b[0m \u001b[0;32mas\u001b[0m \u001b[0me\u001b[0m\u001b[0;34m:\u001b[0m\u001b[0;34m\u001b[0m\u001b[0;34m\u001b[0m\u001b[0m\n\u001b[1;32m     62\u001b[0m     \u001b[0;32mif\u001b[0m \u001b[0mname\u001b[0m \u001b[0;32mis\u001b[0m \u001b[0;32mnot\u001b[0m \u001b[0;32mNone\u001b[0m\u001b[0;34m:\u001b[0m\u001b[0;34m\u001b[0m\u001b[0;34m\u001b[0m\u001b[0m\n",
      "\u001b[0;31mKeyboardInterrupt\u001b[0m: "
     ]
    }
   ],
   "source": [
    "history = model.fit(train_data, \n",
    "                          train_action_labels,\n",
    "                          validation_data=(val_data, val_action_labels),\n",
    "                          batch_size=20, epochs=60,\n",
    "                          callbacks=callbacks_list_cnlst\n",
    "                    )"
   ]
  },
  {
   "cell_type": "markdown",
   "metadata": {},
   "source": [
    "### 2.3 Plot train/valid accuracy & loss"
   ]
  },
  {
   "cell_type": "code",
   "execution_count": null,
   "metadata": {},
   "outputs": [],
   "source": [
    "###Plot train/valid accuracy & loss\n",
    "#history = np.load(os.path.join(base_dir, \"model_2_cnn_lstm_history.npy\"), allow_pickle=True)\n",
    "\n",
    "import matplotlib.pyplot as plt\n",
    "acc=history.history[\"accuracy\"]\n",
    "val_acc=history.history[\"val_accuracy\"]\n",
    "loss=history.history[\"loss\"]\n",
    "val_loss=history.history[\"val_loss\"]\n",
    "epoch_stop = len(acc)\n",
    "epochs=np.arange(1, epoch_stop+1)\n",
    "\n",
    "plt.plot(epochs, acc, label = \"Train\", color = 'darkturquoise')\n",
    "plt.plot(epochs, val_acc, label = \"Valid\", linestyle=\"--\", color = 'deepskyblue')\n",
    "plt.legend()\n",
    "plt.title('Train/Valid Accuracy')\n",
    "plt.show()\n",
    "\n",
    "plt.plot(epochs, loss, label = \"Train\", color = 'orchid')\n",
    "plt.plot(epochs, val_loss, label = \"Valid\", linestyle=\"--\", color = 'deeppink')\n",
    "plt.legend()\n",
    "plt.title('Train/Valid Loss')\n",
    "plt.show()"
   ]
  },
  {
   "cell_type": "markdown",
   "metadata": {},
   "source": [
    "### 2.4 Save model history"
   ]
  },
  {
   "cell_type": "code",
   "execution_count": 21,
   "metadata": {},
   "outputs": [],
   "source": [
    "###Save history\n",
    "np.save(os.path.join(base_dir, \"model_2_cnn_lstm_history\"), history.history)\n",
    "###Save model\n",
    "model_cnlst.save(os.path.join(base_dir, \"cnn_lstm_model.h5\"))"
   ]
  },
  {
   "cell_type": "markdown",
   "metadata": {},
   "source": [
    "### 2.5.1 Evaluate on validation dataset"
   ]
  },
  {
   "cell_type": "code",
   "execution_count": 19,
   "metadata": {},
   "outputs": [
    {
     "name": "stderr",
     "output_type": "stream",
     "text": [
      "/home/ubuntu/anaconda3/envs/tensorflow2_latest_p37/gpu_cuda11.0/lib/python3.7/site-packages/tensorflow/python/keras/engine/sequential.py:450: UserWarning: `model.predict_classes()` is deprecated and will be removed after 2021-01-01. Please use instead:* `np.argmax(model.predict(x), axis=-1)`,   if your model does multi-class classification   (e.g. if it uses a `softmax` last-layer activation).* `(model.predict(x) > 0.5).astype(\"int32\")`,   if your model does binary classification   (e.g. if it uses a `sigmoid` last-layer activation).\n",
      "  warnings.warn('`model.predict_classes()` is deprecated and '\n"
     ]
    }
   ],
   "source": [
    "model_cnlst = keras.models.load_model(os.path.join(base_dir, \"cnn_lstm_model.h5\"))\n",
    "\n",
    "val_preds = model_cnlst.predict_classes(val_data)\n",
    "\n",
    "mapping = {\n",
    "    'CALL': 0,\n",
    "    'COUG': 1,\n",
    "    'DRIN': 2,\n",
    "    'SCRA': 3,\n",
    "    'SNEE': 4,\n",
    "    'STRE': 5,\n",
    "    'WAVE': 6,\n",
    "    'WIPE': 7,\n",
    "}\n",
    "val_true = [mapping[x] for x in val_actions]"
   ]
  },
  {
   "cell_type": "code",
   "execution_count": 20,
   "metadata": {},
   "outputs": [
    {
     "data": {
      "text/plain": [
       "<AxesSubplot:>"
      ]
     },
     "execution_count": 20,
     "metadata": {},
     "output_type": "execute_result"
    },
    {
     "data": {
      "image/png": "[encoded data removed]",
      "text/plain": [
       "<Figure size 648x504 with 2 Axes>"
      ]
     },
     "metadata": {
      "needs_background": "light"
     },
     "output_type": "display_data"
    }
   ],
   "source": [
    "import seaborn as sn\n",
    "import pandas as pd\n",
    "import matplotlib.pyplot as plt\n",
    "import sklearn.metrics as metrics\n",
    "\n",
    "confusion_matrix = metrics.confusion_matrix(y_true=val_true, y_pred=val_preds)\n",
    "df_cm = pd.DataFrame(confusion_matrix, index = mapping.keys(),\n",
    "                  columns = mapping.keys())\n",
    "plt.figure(figsize = (9,7))\n",
    "sn.heatmap(df_cm, annot=True, cmap=\"Blues\")"
   ]
  },
  {
   "cell_type": "code",
   "execution_count": 21,
   "metadata": {},
   "outputs": [],
   "source": [
    "# COUG:1, SNEE:4\n",
    "val_true_bin = [x in (1, 4) for x in val_true]\n",
    "val_preds_bin = [x in (1, 4) for x in val_preds]"
   ]
  },
  {
   "cell_type": "code",
   "execution_count": 22,
   "metadata": {},
   "outputs": [
    {
     "data": {
      "text/plain": [
       "<AxesSubplot:>"
      ]
     },
     "execution_count": 22,
     "metadata": {},
     "output_type": "execute_result"
    },
    {
     "data": {
      "image/png": "[encoded data removed]",
      "text/plain": [
       "<Figure size 288x216 with 2 Axes>"
      ]
     },
     "metadata": {
      "needs_background": "light"
     },
     "output_type": "display_data"
    }
   ],
   "source": [
    "confusion_matrix = metrics.confusion_matrix(y_true=val_true_bin, y_pred=val_preds_bin)\n",
    "df_cm = pd.DataFrame(confusion_matrix, index = ['Other', 'COUG_SNEE'],\n",
    "                  columns = ['Other', 'COUG_SNEE'])\n",
    "plt.figure(figsize = (4,3))\n",
    "sn.heatmap(df_cm, annot=True, cmap=\"Blues\")"
   ]
  },
  {
   "cell_type": "code",
   "execution_count": 23,
   "metadata": {},
   "outputs": [
    {
     "name": "stdout",
     "output_type": "stream",
     "text": [
      "0.35833333333333334 0.3944954128440367 0.23118279569892472\n"
     ]
    }
   ],
   "source": [
    "tn, fp, fn, tp = confusion_matrix.ravel()\n",
    "\n",
    "prec = tp/(tp+fp)\n",
    "rec = tp/(tp+fn)\n",
    "acc = tp / (tp+fp+fn)\n",
    "print(prec, rec, acc)"
   ]
  },
  {
   "cell_type": "markdown",
   "metadata": {},
   "source": [
    "### 2.5.2 Evaluate model on test dataset"
   ]
  },
  {
   "cell_type": "code",
   "execution_count": 26,
   "metadata": {},
   "outputs": [
    {
     "name": "stderr",
     "output_type": "stream",
     "text": [
      "/home/ubuntu/anaconda3/envs/tensorflow2_latest_p37/gpu_cuda11.0/lib/python3.7/site-packages/tensorflow/python/keras/engine/sequential.py:450: UserWarning: `model.predict_classes()` is deprecated and will be removed after 2021-01-01. Please use instead:* `np.argmax(model.predict(x), axis=-1)`,   if your model does multi-class classification   (e.g. if it uses a `softmax` last-layer activation).* `(model.predict(x) > 0.5).astype(\"int32\")`,   if your model does binary classification   (e.g. if it uses a `sigmoid` last-layer activation).\n",
      "  warnings.warn('`model.predict_classes()` is deprecated and '\n"
     ]
    }
   ],
   "source": [
    "test_preds = model_cnlst.predict_classes(test_data)\n",
    "\n",
    "mapping = {\n",
    "    'CALL': 0,\n",
    "    'COUG': 1,\n",
    "    'DRIN': 2,\n",
    "    'SCRA': 3,\n",
    "    'SNEE': 4,\n",
    "    'STRE': 5,\n",
    "    'WAVE': 6,\n",
    "    'WIPE': 7,\n",
    "}\n",
    "test_true = [mapping[x] for x in test_actions]"
   ]
  },
  {
   "cell_type": "code",
   "execution_count": 28,
   "metadata": {},
   "outputs": [
    {
     "data": {
      "text/plain": [
       "<AxesSubplot:>"
      ]
     },
     "execution_count": 28,
     "metadata": {},
     "output_type": "execute_result"
    },
    {
     "data": {
      "image/png": "[encoded data removed]",
      "text/plain": [
       "<Figure size 648x504 with 2 Axes>"
      ]
     },
     "metadata": {
      "needs_background": "light"
     },
     "output_type": "display_data"
    }
   ],
   "source": [
    "import seaborn as sn\n",
    "import pandas as pd\n",
    "import matplotlib.pyplot as plt\n",
    "import sklearn.metrics as metrics\n",
    "\n",
    "confusion_matrix = metrics.confusion_matrix(y_true=test_true, y_pred=test_preds)\n",
    "df_cm = pd.DataFrame(confusion_matrix, index = mapping.keys(),\n",
    "                  columns = mapping.keys())\n",
    "plt.figure(figsize = (9,7))\n",
    "sn.heatmap(df_cm, annot=True, cmap=\"Blues\")"
   ]
  },
  {
   "cell_type": "code",
   "execution_count": 29,
   "metadata": {},
   "outputs": [],
   "source": [
    "# COUG:1, SNEE:4\n",
    "test_true_bin = [x in (1, 4) for x in test_true]\n",
    "test_preds_bin = [x in (1, 4) for x in test_preds]"
   ]
  },
  {
   "cell_type": "code",
   "execution_count": 30,
   "metadata": {},
   "outputs": [
    {
     "data": {
      "text/plain": [
       "<AxesSubplot:>"
      ]
     },
     "execution_count": 30,
     "metadata": {},
     "output_type": "execute_result"
    },
    {
     "data": {
      "image/png": "[encoded data removed]",
      "text/plain": [
       "<Figure size 288x216 with 2 Axes>"
      ]
     },
     "metadata": {
      "needs_background": "light"
     },
     "output_type": "display_data"
    }
   ],
   "source": [
    "confusion_matrix = metrics.confusion_matrix(y_true=test_true_bin, y_pred=test_preds_bin)\n",
    "df_cm = pd.DataFrame(confusion_matrix, index = ['Other', 'COUG_SNEE'],\n",
    "                  columns = ['Other', 'COUG_SNEE'])\n",
    "plt.figure(figsize = (4,3))\n",
    "sn.heatmap(df_cm, annot=True, cmap=\"Blues\")"
   ]
  },
  {
   "cell_type": "code",
   "execution_count": 31,
   "metadata": {},
   "outputs": [
    {
     "name": "stdout",
     "output_type": "stream",
     "text": [
      "0.27450980392156865 0.35 0.18181818181818182\n"
     ]
    }
   ],
   "source": [
    "tn, fp, fn, tp = confusion_matrix.ravel()\n",
    "\n",
    "prec = tp/(tp+fp)\n",
    "rec = tp/(tp+fn)\n",
    "acc = tp / (tp+fp+fn)\n",
    "print(prec, rec, acc)"
   ]
  },
  {
   "cell_type": "markdown",
   "metadata": {},
   "source": [
    "## Model 3: Pretrained VGG-16 Features + LSTM"
   ]
  },
  {
   "cell_type": "markdown",
   "metadata": {},
   "source": [
    "### 3.1 Define model - fewer dense layers"
   ]
  },
  {
   "cell_type": "code",
   "execution_count": 54,
   "metadata": {},
   "outputs": [
    {
     "name": "stdout",
     "output_type": "stream",
     "text": [
      "Model: \"model_11\"\n",
      "_________________________________________________________________\n",
      "Layer (type)                 Output Shape              Param #   \n",
      "=================================================================\n",
      "input_9 (InputLayer)         [(None, 12, 224, 224, 3)] 0         \n",
      "_________________________________________________________________\n",
      "time_distributed_69 (TimeDis (None, 12, 512)           14714688  \n",
      "_________________________________________________________________\n",
      "lstm_13 (LSTM)               (None, 16)                33856     \n",
      "_________________________________________________________________\n",
      "dense_30 (Dense)             (None, 32)                544       \n",
      "_________________________________________________________________\n",
      "dropout_21 (Dropout)         (None, 32)                0         \n",
      "_________________________________________________________________\n",
      "dense_31 (Dense)             (None, 8)                 264       \n",
      "=================================================================\n",
      "Total params: 14,749,352\n",
      "Trainable params: 34,664\n",
      "Non-trainable params: 14,714,688\n",
      "_________________________________________________________________\n"
     ]
    }
   ],
   "source": [
    "from keras.layers import Input, TimeDistributed, Conv2D, Dense, MaxPooling2D, Flatten, LSTM, Dropout, BatchNormalization, GlobalAveragePooling2D\n",
    "from keras import models, Model\n",
    "from keras.applications import vgg16\n",
    "\n",
    "frames, channels, rows, columns = 12, 3, 224, 224\n",
    "\n",
    "video = Input(shape=(frames,rows,columns,channels))\n",
    "cnn_base = vgg16.VGG16(input_shape=(rows,columns,channels),\n",
    "                 weights=\"imagenet\",\n",
    "                 include_top=False)\n",
    "                 #include_top=True) # want the final dense layers\n",
    "cnn_base.trainable = False\n",
    "\n",
    "#cnn = Model(cnn_base.input, cnn_base.layers[-3].output) # -3 is the 4096 layer\n",
    "cnn_out = GlobalAveragePooling2D()(cnn_base.output)\n",
    "cnn = Model(cnn_base.input, cnn_out)\n",
    "encoded_frames = TimeDistributed(cnn)(video)\n",
    "encoded_sequence = LSTM(16)(encoded_frames)\n",
    "#x = Dense(128, activation=\"relu\")(encoded_sequence)\n",
    "#x = BatchNormalization()(x)\n",
    "#x = Dense(64, activation=\"relu\")(x)\n",
    "x = Dense(32, activation=\"relu\")(encoded_sequence)\n",
    "x = Dropout(0.2)(x)\n",
    "outputs = Dense(8, activation=\"softmax\")(x) # n_labels = 8\n",
    "\n",
    "model = Model(video, outputs)\n",
    "model.summary()"
   ]
  },
  {
   "cell_type": "code",
   "execution_count": 55,
   "metadata": {},
   "outputs": [],
   "source": [
    "import keras\n",
    "callbacks_list = [keras.callbacks.EarlyStopping(monitor='accuracy', patience=10),\n",
    "                  keras.callbacks.ModelCheckpoint(\n",
    "                      filepath='vgg16_lstm_model_fewerDense',\n",
    "                      monitor='val_loss',\n",
    "                      save_best_only=True\n",
    "                  ),\n",
    "                  keras.callbacks.ReduceLROnPlateau(\n",
    "                      monitor=\"val_loss\", factor=0.1, patience=10\n",
    "                  )]\n",
    "\n",
    "from keras import optimizers\n",
    "\n",
    "optimizer_new=optimizers.Adam(lr=1e-3)\n",
    "model.compile(optimizer=optimizer_new,\n",
    "                    loss='categorical_crossentropy',\n",
    "                    metrics=['accuracy'])"
   ]
  },
  {
   "cell_type": "markdown",
   "metadata": {},
   "source": [
    "### 3.2 Train model"
   ]
  },
  {
   "cell_type": "code",
   "execution_count": 56,
   "metadata": {},
   "outputs": [
    {
     "name": "stdout",
     "output_type": "stream",
     "text": [
      "Epoch 1/60\n",
      "51/51 [==============================] - 279s 4s/step - loss: 2.0875 - accuracy: 0.1357 - val_loss: 2.0849 - val_accuracy: 0.1085\n"
     ]
    },
    {
     "name": "stderr",
     "output_type": "stream",
     "text": [
      "WARNING:absl:Found untraced functions such as lstm_cell_15_layer_call_and_return_conditional_losses, lstm_cell_15_layer_call_fn, lstm_cell_15_layer_call_fn, lstm_cell_15_layer_call_and_return_conditional_losses, lstm_cell_15_layer_call_and_return_conditional_losses while saving (showing 5 of 5). These functions will not be directly callable after loading.\n",
      "WARNING:absl:Found untraced functions such as lstm_cell_15_layer_call_and_return_conditional_losses, lstm_cell_15_layer_call_fn, lstm_cell_15_layer_call_fn, lstm_cell_15_layer_call_and_return_conditional_losses, lstm_cell_15_layer_call_and_return_conditional_losses while saving (showing 5 of 5). These functions will not be directly callable after loading.\n"
     ]
    },
    {
     "name": "stdout",
     "output_type": "stream",
     "text": [
      "INFO:tensorflow:Assets written to: vgg16_lstm_model_fewerDense/assets\n"
     ]
    },
    {
     "name": "stderr",
     "output_type": "stream",
     "text": [
      "INFO:tensorflow:Assets written to: vgg16_lstm_model_fewerDense/assets\n"
     ]
    },
    {
     "name": "stdout",
     "output_type": "stream",
     "text": [
      "Epoch 2/60\n",
      "51/51 [==============================] - 123s 2s/step - loss: 2.0807 - accuracy: 0.1372 - val_loss: 2.0795 - val_accuracy: 0.1132\n"
     ]
    },
    {
     "name": "stderr",
     "output_type": "stream",
     "text": [
      "WARNING:absl:Found untraced functions such as lstm_cell_15_layer_call_and_return_conditional_losses, lstm_cell_15_layer_call_fn, lstm_cell_15_layer_call_fn, lstm_cell_15_layer_call_and_return_conditional_losses, lstm_cell_15_layer_call_and_return_conditional_losses while saving (showing 5 of 5). These functions will not be directly callable after loading.\n",
      "WARNING:absl:Found untraced functions such as lstm_cell_15_layer_call_and_return_conditional_losses, lstm_cell_15_layer_call_fn, lstm_cell_15_layer_call_fn, lstm_cell_15_layer_call_and_return_conditional_losses, lstm_cell_15_layer_call_and_return_conditional_losses while saving (showing 5 of 5). These functions will not be directly callable after loading.\n"
     ]
    },
    {
     "name": "stdout",
     "output_type": "stream",
     "text": [
      "INFO:tensorflow:Assets written to: vgg16_lstm_model_fewerDense/assets\n"
     ]
    },
    {
     "name": "stderr",
     "output_type": "stream",
     "text": [
      "INFO:tensorflow:Assets written to: vgg16_lstm_model_fewerDense/assets\n"
     ]
    },
    {
     "name": "stdout",
     "output_type": "stream",
     "text": [
      "Epoch 3/60\n",
      "51/51 [==============================] - 123s 2s/step - loss: 2.0802 - accuracy: 0.1218 - val_loss: 2.0818 - val_accuracy: 0.1178\n",
      "Epoch 4/60\n",
      "51/51 [==============================] - 123s 2s/step - loss: 2.0789 - accuracy: 0.1337 - val_loss: 2.0826 - val_accuracy: 0.1293\n",
      "Epoch 5/60\n",
      "51/51 [==============================] - 123s 2s/step - loss: 2.0748 - accuracy: 0.1447 - val_loss: 2.0819 - val_accuracy: 0.1109\n",
      "Epoch 6/60\n",
      "51/51 [==============================] - 123s 2s/step - loss: 2.0774 - accuracy: 0.1368 - val_loss: 2.0882 - val_accuracy: 0.1132\n",
      "Epoch 7/60\n",
      "51/51 [==============================] - 123s 2s/step - loss: 2.0717 - accuracy: 0.1553 - val_loss: 2.0745 - val_accuracy: 0.1594\n"
     ]
    },
    {
     "name": "stderr",
     "output_type": "stream",
     "text": [
      "WARNING:absl:Found untraced functions such as lstm_cell_15_layer_call_and_return_conditional_losses, lstm_cell_15_layer_call_fn, lstm_cell_15_layer_call_fn, lstm_cell_15_layer_call_and_return_conditional_losses, lstm_cell_15_layer_call_and_return_conditional_losses while saving (showing 5 of 5). These functions will not be directly callable after loading.\n",
      "WARNING:absl:Found untraced functions such as lstm_cell_15_layer_call_and_return_conditional_losses, lstm_cell_15_layer_call_fn, lstm_cell_15_layer_call_fn, lstm_cell_15_layer_call_and_return_conditional_losses, lstm_cell_15_layer_call_and_return_conditional_losses while saving (showing 5 of 5). These functions will not be directly callable after loading.\n"
     ]
    },
    {
     "name": "stdout",
     "output_type": "stream",
     "text": [
      "INFO:tensorflow:Assets written to: vgg16_lstm_model_fewerDense/assets\n"
     ]
    },
    {
     "name": "stderr",
     "output_type": "stream",
     "text": [
      "INFO:tensorflow:Assets written to: vgg16_lstm_model_fewerDense/assets\n"
     ]
    },
    {
     "name": "stdout",
     "output_type": "stream",
     "text": [
      "Epoch 8/60\n",
      "51/51 [==============================] - 123s 2s/step - loss: 2.0748 - accuracy: 0.1411 - val_loss: 2.0712 - val_accuracy: 0.1709\n"
     ]
    },
    {
     "name": "stderr",
     "output_type": "stream",
     "text": [
      "WARNING:absl:Found untraced functions such as lstm_cell_15_layer_call_and_return_conditional_losses, lstm_cell_15_layer_call_fn, lstm_cell_15_layer_call_fn, lstm_cell_15_layer_call_and_return_conditional_losses, lstm_cell_15_layer_call_and_return_conditional_losses while saving (showing 5 of 5). These functions will not be directly callable after loading.\n",
      "WARNING:absl:Found untraced functions such as lstm_cell_15_layer_call_and_return_conditional_losses, lstm_cell_15_layer_call_fn, lstm_cell_15_layer_call_fn, lstm_cell_15_layer_call_and_return_conditional_losses, lstm_cell_15_layer_call_and_return_conditional_losses while saving (showing 5 of 5). These functions will not be directly callable after loading.\n"
     ]
    },
    {
     "name": "stdout",
     "output_type": "stream",
     "text": [
      "INFO:tensorflow:Assets written to: vgg16_lstm_model_fewerDense/assets\n"
     ]
    },
    {
     "name": "stderr",
     "output_type": "stream",
     "text": [
      "INFO:tensorflow:Assets written to: vgg16_lstm_model_fewerDense/assets\n"
     ]
    },
    {
     "name": "stdout",
     "output_type": "stream",
     "text": [
      "Epoch 9/60\n",
      "51/51 [==============================] - 123s 2s/step - loss: 2.0654 - accuracy: 0.1623 - val_loss: 2.0677 - val_accuracy: 0.1524\n"
     ]
    },
    {
     "name": "stderr",
     "output_type": "stream",
     "text": [
      "WARNING:absl:Found untraced functions such as lstm_cell_15_layer_call_and_return_conditional_losses, lstm_cell_15_layer_call_fn, lstm_cell_15_layer_call_fn, lstm_cell_15_layer_call_and_return_conditional_losses, lstm_cell_15_layer_call_and_return_conditional_losses while saving (showing 5 of 5). These functions will not be directly callable after loading.\n",
      "WARNING:absl:Found untraced functions such as lstm_cell_15_layer_call_and_return_conditional_losses, lstm_cell_15_layer_call_fn, lstm_cell_15_layer_call_fn, lstm_cell_15_layer_call_and_return_conditional_losses, lstm_cell_15_layer_call_and_return_conditional_losses while saving (showing 5 of 5). These functions will not be directly callable after loading.\n"
     ]
    },
    {
     "name": "stdout",
     "output_type": "stream",
     "text": [
      "INFO:tensorflow:Assets written to: vgg16_lstm_model_fewerDense/assets\n"
     ]
    },
    {
     "name": "stderr",
     "output_type": "stream",
     "text": [
      "INFO:tensorflow:Assets written to: vgg16_lstm_model_fewerDense/assets\n"
     ]
    },
    {
     "name": "stdout",
     "output_type": "stream",
     "text": [
      "Epoch 10/60\n",
      "51/51 [==============================] - 123s 2s/step - loss: 2.0623 - accuracy: 0.1934 - val_loss: 2.0799 - val_accuracy: 0.1478\n",
      "Epoch 11/60\n",
      "51/51 [==============================] - 123s 2s/step - loss: 2.0679 - accuracy: 0.1777 - val_loss: 2.0552 - val_accuracy: 0.1316\n"
     ]
    },
    {
     "name": "stderr",
     "output_type": "stream",
     "text": [
      "WARNING:absl:Found untraced functions such as lstm_cell_15_layer_call_and_return_conditional_losses, lstm_cell_15_layer_call_fn, lstm_cell_15_layer_call_fn, lstm_cell_15_layer_call_and_return_conditional_losses, lstm_cell_15_layer_call_and_return_conditional_losses while saving (showing 5 of 5). These functions will not be directly callable after loading.\n",
      "WARNING:absl:Found untraced functions such as lstm_cell_15_layer_call_and_return_conditional_losses, lstm_cell_15_layer_call_fn, lstm_cell_15_layer_call_fn, lstm_cell_15_layer_call_and_return_conditional_losses, lstm_cell_15_layer_call_and_return_conditional_losses while saving (showing 5 of 5). These functions will not be directly callable after loading.\n"
     ]
    },
    {
     "name": "stdout",
     "output_type": "stream",
     "text": [
      "INFO:tensorflow:Assets written to: vgg16_lstm_model_fewerDense/assets\n"
     ]
    },
    {
     "name": "stderr",
     "output_type": "stream",
     "text": [
      "INFO:tensorflow:Assets written to: vgg16_lstm_model_fewerDense/assets\n"
     ]
    },
    {
     "name": "stdout",
     "output_type": "stream",
     "text": [
      "Epoch 12/60\n",
      "51/51 [==============================] - 123s 2s/step - loss: 2.0493 - accuracy: 0.1873 - val_loss: 2.0705 - val_accuracy: 0.1247\n",
      "Epoch 13/60\n",
      "51/51 [==============================] - 123s 2s/step - loss: 2.0424 - accuracy: 0.1964 - val_loss: 2.0302 - val_accuracy: 0.1778\n"
     ]
    },
    {
     "name": "stderr",
     "output_type": "stream",
     "text": [
      "WARNING:absl:Found untraced functions such as lstm_cell_15_layer_call_and_return_conditional_losses, lstm_cell_15_layer_call_fn, lstm_cell_15_layer_call_fn, lstm_cell_15_layer_call_and_return_conditional_losses, lstm_cell_15_layer_call_and_return_conditional_losses while saving (showing 5 of 5). These functions will not be directly callable after loading.\n",
      "WARNING:absl:Found untraced functions such as lstm_cell_15_layer_call_and_return_conditional_losses, lstm_cell_15_layer_call_fn, lstm_cell_15_layer_call_fn, lstm_cell_15_layer_call_and_return_conditional_losses, lstm_cell_15_layer_call_and_return_conditional_losses while saving (showing 5 of 5). These functions will not be directly callable after loading.\n"
     ]
    },
    {
     "name": "stdout",
     "output_type": "stream",
     "text": [
      "INFO:tensorflow:Assets written to: vgg16_lstm_model_fewerDense/assets\n"
     ]
    },
    {
     "name": "stderr",
     "output_type": "stream",
     "text": [
      "INFO:tensorflow:Assets written to: vgg16_lstm_model_fewerDense/assets\n"
     ]
    },
    {
     "name": "stdout",
     "output_type": "stream",
     "text": [
      "Epoch 14/60\n",
      "51/51 [==============================] - 123s 2s/step - loss: 2.0316 - accuracy: 0.1836 - val_loss: 2.0292 - val_accuracy: 0.2148\n"
     ]
    },
    {
     "name": "stderr",
     "output_type": "stream",
     "text": [
      "WARNING:absl:Found untraced functions such as lstm_cell_15_layer_call_and_return_conditional_losses, lstm_cell_15_layer_call_fn, lstm_cell_15_layer_call_fn, lstm_cell_15_layer_call_and_return_conditional_losses, lstm_cell_15_layer_call_and_return_conditional_losses while saving (showing 5 of 5). These functions will not be directly callable after loading.\n",
      "WARNING:absl:Found untraced functions such as lstm_cell_15_layer_call_and_return_conditional_losses, lstm_cell_15_layer_call_fn, lstm_cell_15_layer_call_fn, lstm_cell_15_layer_call_and_return_conditional_losses, lstm_cell_15_layer_call_and_return_conditional_losses while saving (showing 5 of 5). These functions will not be directly callable after loading.\n"
     ]
    },
    {
     "name": "stdout",
     "output_type": "stream",
     "text": [
      "INFO:tensorflow:Assets written to: vgg16_lstm_model_fewerDense/assets\n"
     ]
    },
    {
     "name": "stderr",
     "output_type": "stream",
     "text": [
      "INFO:tensorflow:Assets written to: vgg16_lstm_model_fewerDense/assets\n"
     ]
    },
    {
     "name": "stdout",
     "output_type": "stream",
     "text": [
      "Epoch 15/60\n",
      "51/51 [==============================] - 123s 2s/step - loss: 1.9890 - accuracy: 0.2212 - val_loss: 1.9699 - val_accuracy: 0.2032\n"
     ]
    },
    {
     "name": "stderr",
     "output_type": "stream",
     "text": [
      "WARNING:absl:Found untraced functions such as lstm_cell_15_layer_call_and_return_conditional_losses, lstm_cell_15_layer_call_fn, lstm_cell_15_layer_call_fn, lstm_cell_15_layer_call_and_return_conditional_losses, lstm_cell_15_layer_call_and_return_conditional_losses while saving (showing 5 of 5). These functions will not be directly callable after loading.\n",
      "WARNING:absl:Found untraced functions such as lstm_cell_15_layer_call_and_return_conditional_losses, lstm_cell_15_layer_call_fn, lstm_cell_15_layer_call_fn, lstm_cell_15_layer_call_and_return_conditional_losses, lstm_cell_15_layer_call_and_return_conditional_losses while saving (showing 5 of 5). These functions will not be directly callable after loading.\n"
     ]
    },
    {
     "name": "stdout",
     "output_type": "stream",
     "text": [
      "INFO:tensorflow:Assets written to: vgg16_lstm_model_fewerDense/assets\n"
     ]
    },
    {
     "name": "stderr",
     "output_type": "stream",
     "text": [
      "INFO:tensorflow:Assets written to: vgg16_lstm_model_fewerDense/assets\n"
     ]
    },
    {
     "name": "stdout",
     "output_type": "stream",
     "text": [
      "Epoch 16/60\n",
      "51/51 [==============================] - 123s 2s/step - loss: 1.9730 - accuracy: 0.2265 - val_loss: 2.0053 - val_accuracy: 0.2055\n",
      "Epoch 17/60\n",
      "51/51 [==============================] - 123s 2s/step - loss: 1.9316 - accuracy: 0.2210 - val_loss: 1.9171 - val_accuracy: 0.2587\n"
     ]
    },
    {
     "name": "stderr",
     "output_type": "stream",
     "text": [
      "WARNING:absl:Found untraced functions such as lstm_cell_15_layer_call_and_return_conditional_losses, lstm_cell_15_layer_call_fn, lstm_cell_15_layer_call_fn, lstm_cell_15_layer_call_and_return_conditional_losses, lstm_cell_15_layer_call_and_return_conditional_losses while saving (showing 5 of 5). These functions will not be directly callable after loading.\n",
      "WARNING:absl:Found untraced functions such as lstm_cell_15_layer_call_and_return_conditional_losses, lstm_cell_15_layer_call_fn, lstm_cell_15_layer_call_fn, lstm_cell_15_layer_call_and_return_conditional_losses, lstm_cell_15_layer_call_and_return_conditional_losses while saving (showing 5 of 5). These functions will not be directly callable after loading.\n"
     ]
    },
    {
     "name": "stdout",
     "output_type": "stream",
     "text": [
      "INFO:tensorflow:Assets written to: vgg16_lstm_model_fewerDense/assets\n"
     ]
    },
    {
     "name": "stderr",
     "output_type": "stream",
     "text": [
      "INFO:tensorflow:Assets written to: vgg16_lstm_model_fewerDense/assets\n"
     ]
    },
    {
     "name": "stdout",
     "output_type": "stream",
     "text": [
      "Epoch 18/60\n",
      "51/51 [==============================] - 123s 2s/step - loss: 1.8642 - accuracy: 0.2764 - val_loss: 1.8354 - val_accuracy: 0.2702\n"
     ]
    },
    {
     "name": "stderr",
     "output_type": "stream",
     "text": [
      "WARNING:absl:Found untraced functions such as lstm_cell_15_layer_call_and_return_conditional_losses, lstm_cell_15_layer_call_fn, lstm_cell_15_layer_call_fn, lstm_cell_15_layer_call_and_return_conditional_losses, lstm_cell_15_layer_call_and_return_conditional_losses while saving (showing 5 of 5). These functions will not be directly callable after loading.\n",
      "WARNING:absl:Found untraced functions such as lstm_cell_15_layer_call_and_return_conditional_losses, lstm_cell_15_layer_call_fn, lstm_cell_15_layer_call_fn, lstm_cell_15_layer_call_and_return_conditional_losses, lstm_cell_15_layer_call_and_return_conditional_losses while saving (showing 5 of 5). These functions will not be directly callable after loading.\n"
     ]
    },
    {
     "name": "stdout",
     "output_type": "stream",
     "text": [
      "INFO:tensorflow:Assets written to: vgg16_lstm_model_fewerDense/assets\n"
     ]
    },
    {
     "name": "stderr",
     "output_type": "stream",
     "text": [
      "INFO:tensorflow:Assets written to: vgg16_lstm_model_fewerDense/assets\n"
     ]
    },
    {
     "name": "stdout",
     "output_type": "stream",
     "text": [
      "Epoch 19/60\n",
      "51/51 [==============================] - 123s 2s/step - loss: 1.7744 - accuracy: 0.3175 - val_loss: 1.8392 - val_accuracy: 0.2587\n",
      "Epoch 20/60\n",
      "51/51 [==============================] - 123s 2s/step - loss: 1.7538 - accuracy: 0.3455 - val_loss: 1.7323 - val_accuracy: 0.3141\n"
     ]
    },
    {
     "name": "stderr",
     "output_type": "stream",
     "text": [
      "WARNING:absl:Found untraced functions such as lstm_cell_15_layer_call_and_return_conditional_losses, lstm_cell_15_layer_call_fn, lstm_cell_15_layer_call_fn, lstm_cell_15_layer_call_and_return_conditional_losses, lstm_cell_15_layer_call_and_return_conditional_losses while saving (showing 5 of 5). These functions will not be directly callable after loading.\n",
      "WARNING:absl:Found untraced functions such as lstm_cell_15_layer_call_and_return_conditional_losses, lstm_cell_15_layer_call_fn, lstm_cell_15_layer_call_fn, lstm_cell_15_layer_call_and_return_conditional_losses, lstm_cell_15_layer_call_and_return_conditional_losses while saving (showing 5 of 5). These functions will not be directly callable after loading.\n"
     ]
    },
    {
     "name": "stdout",
     "output_type": "stream",
     "text": [
      "INFO:tensorflow:Assets written to: vgg16_lstm_model_fewerDense/assets\n"
     ]
    },
    {
     "name": "stderr",
     "output_type": "stream",
     "text": [
      "INFO:tensorflow:Assets written to: vgg16_lstm_model_fewerDense/assets\n"
     ]
    },
    {
     "name": "stdout",
     "output_type": "stream",
     "text": [
      "Epoch 21/60\n",
      "51/51 [==============================] - 123s 2s/step - loss: 1.6158 - accuracy: 0.3666 - val_loss: 1.6919 - val_accuracy: 0.2979\n"
     ]
    },
    {
     "name": "stderr",
     "output_type": "stream",
     "text": [
      "WARNING:absl:Found untraced functions such as lstm_cell_15_layer_call_and_return_conditional_losses, lstm_cell_15_layer_call_fn, lstm_cell_15_layer_call_fn, lstm_cell_15_layer_call_and_return_conditional_losses, lstm_cell_15_layer_call_and_return_conditional_losses while saving (showing 5 of 5). These functions will not be directly callable after loading.\n",
      "WARNING:absl:Found untraced functions such as lstm_cell_15_layer_call_and_return_conditional_losses, lstm_cell_15_layer_call_fn, lstm_cell_15_layer_call_fn, lstm_cell_15_layer_call_and_return_conditional_losses, lstm_cell_15_layer_call_and_return_conditional_losses while saving (showing 5 of 5). These functions will not be directly callable after loading.\n"
     ]
    },
    {
     "name": "stdout",
     "output_type": "stream",
     "text": [
      "INFO:tensorflow:Assets written to: vgg16_lstm_model_fewerDense/assets\n"
     ]
    },
    {
     "name": "stderr",
     "output_type": "stream",
     "text": [
      "INFO:tensorflow:Assets written to: vgg16_lstm_model_fewerDense/assets\n"
     ]
    },
    {
     "name": "stdout",
     "output_type": "stream",
     "text": [
      "Epoch 22/60\n",
      "51/51 [==============================] - 123s 2s/step - loss: 1.6087 - accuracy: 0.3781 - val_loss: 1.6160 - val_accuracy: 0.3372\n"
     ]
    },
    {
     "name": "stderr",
     "output_type": "stream",
     "text": [
      "WARNING:absl:Found untraced functions such as lstm_cell_15_layer_call_and_return_conditional_losses, lstm_cell_15_layer_call_fn, lstm_cell_15_layer_call_fn, lstm_cell_15_layer_call_and_return_conditional_losses, lstm_cell_15_layer_call_and_return_conditional_losses while saving (showing 5 of 5). These functions will not be directly callable after loading.\n",
      "WARNING:absl:Found untraced functions such as lstm_cell_15_layer_call_and_return_conditional_losses, lstm_cell_15_layer_call_fn, lstm_cell_15_layer_call_fn, lstm_cell_15_layer_call_and_return_conditional_losses, lstm_cell_15_layer_call_and_return_conditional_losses while saving (showing 5 of 5). These functions will not be directly callable after loading.\n"
     ]
    },
    {
     "name": "stdout",
     "output_type": "stream",
     "text": [
      "INFO:tensorflow:Assets written to: vgg16_lstm_model_fewerDense/assets\n"
     ]
    },
    {
     "name": "stderr",
     "output_type": "stream",
     "text": [
      "INFO:tensorflow:Assets written to: vgg16_lstm_model_fewerDense/assets\n"
     ]
    },
    {
     "name": "stdout",
     "output_type": "stream",
     "text": [
      "Epoch 23/60\n",
      "51/51 [==============================] - 123s 2s/step - loss: 1.5096 - accuracy: 0.4154 - val_loss: 1.6376 - val_accuracy: 0.3464\n",
      "Epoch 24/60\n",
      "51/51 [==============================] - 123s 2s/step - loss: 1.5965 - accuracy: 0.3704 - val_loss: 1.6469 - val_accuracy: 0.3418\n",
      "Epoch 25/60\n",
      "51/51 [==============================] - 123s 2s/step - loss: 1.5056 - accuracy: 0.4248 - val_loss: 1.6448 - val_accuracy: 0.3279\n",
      "Epoch 26/60\n",
      "51/51 [==============================] - 123s 2s/step - loss: 1.5053 - accuracy: 0.4287 - val_loss: 1.5930 - val_accuracy: 0.3441\n"
     ]
    },
    {
     "name": "stderr",
     "output_type": "stream",
     "text": [
      "WARNING:absl:Found untraced functions such as lstm_cell_15_layer_call_and_return_conditional_losses, lstm_cell_15_layer_call_fn, lstm_cell_15_layer_call_fn, lstm_cell_15_layer_call_and_return_conditional_losses, lstm_cell_15_layer_call_and_return_conditional_losses while saving (showing 5 of 5). These functions will not be directly callable after loading.\n",
      "WARNING:absl:Found untraced functions such as lstm_cell_15_layer_call_and_return_conditional_losses, lstm_cell_15_layer_call_fn, lstm_cell_15_layer_call_fn, lstm_cell_15_layer_call_and_return_conditional_losses, lstm_cell_15_layer_call_and_return_conditional_losses while saving (showing 5 of 5). These functions will not be directly callable after loading.\n"
     ]
    },
    {
     "name": "stdout",
     "output_type": "stream",
     "text": [
      "INFO:tensorflow:Assets written to: vgg16_lstm_model_fewerDense/assets\n"
     ]
    },
    {
     "name": "stderr",
     "output_type": "stream",
     "text": [
      "INFO:tensorflow:Assets written to: vgg16_lstm_model_fewerDense/assets\n"
     ]
    },
    {
     "name": "stdout",
     "output_type": "stream",
     "text": [
      "Epoch 27/60\n",
      "51/51 [==============================] - 123s 2s/step - loss: 1.4549 - accuracy: 0.4194 - val_loss: 1.5368 - val_accuracy: 0.3626\n"
     ]
    },
    {
     "name": "stderr",
     "output_type": "stream",
     "text": [
      "WARNING:absl:Found untraced functions such as lstm_cell_15_layer_call_and_return_conditional_losses, lstm_cell_15_layer_call_fn, lstm_cell_15_layer_call_fn, lstm_cell_15_layer_call_and_return_conditional_losses, lstm_cell_15_layer_call_and_return_conditional_losses while saving (showing 5 of 5). These functions will not be directly callable after loading.\n",
      "WARNING:absl:Found untraced functions such as lstm_cell_15_layer_call_and_return_conditional_losses, lstm_cell_15_layer_call_fn, lstm_cell_15_layer_call_fn, lstm_cell_15_layer_call_and_return_conditional_losses, lstm_cell_15_layer_call_and_return_conditional_losses while saving (showing 5 of 5). These functions will not be directly callable after loading.\n"
     ]
    },
    {
     "name": "stdout",
     "output_type": "stream",
     "text": [
      "INFO:tensorflow:Assets written to: vgg16_lstm_model_fewerDense/assets\n"
     ]
    },
    {
     "name": "stderr",
     "output_type": "stream",
     "text": [
      "INFO:tensorflow:Assets written to: vgg16_lstm_model_fewerDense/assets\n"
     ]
    },
    {
     "name": "stdout",
     "output_type": "stream",
     "text": [
      "Epoch 28/60\n",
      "51/51 [==============================] - 123s 2s/step - loss: 1.4429 - accuracy: 0.4211 - val_loss: 1.5465 - val_accuracy: 0.3649\n",
      "Epoch 29/60\n",
      "51/51 [==============================] - 124s 2s/step - loss: 1.3529 - accuracy: 0.4852 - val_loss: 1.5132 - val_accuracy: 0.3857\n"
     ]
    },
    {
     "name": "stderr",
     "output_type": "stream",
     "text": [
      "WARNING:absl:Found untraced functions such as lstm_cell_15_layer_call_and_return_conditional_losses, lstm_cell_15_layer_call_fn, lstm_cell_15_layer_call_fn, lstm_cell_15_layer_call_and_return_conditional_losses, lstm_cell_15_layer_call_and_return_conditional_losses while saving (showing 5 of 5). These functions will not be directly callable after loading.\n",
      "WARNING:absl:Found untraced functions such as lstm_cell_15_layer_call_and_return_conditional_losses, lstm_cell_15_layer_call_fn, lstm_cell_15_layer_call_fn, lstm_cell_15_layer_call_and_return_conditional_losses, lstm_cell_15_layer_call_and_return_conditional_losses while saving (showing 5 of 5). These functions will not be directly callable after loading.\n"
     ]
    },
    {
     "name": "stdout",
     "output_type": "stream",
     "text": [
      "INFO:tensorflow:Assets written to: vgg16_lstm_model_fewerDense/assets\n"
     ]
    },
    {
     "name": "stderr",
     "output_type": "stream",
     "text": [
      "INFO:tensorflow:Assets written to: vgg16_lstm_model_fewerDense/assets\n"
     ]
    },
    {
     "name": "stdout",
     "output_type": "stream",
     "text": [
      "Epoch 30/60\n",
      "51/51 [==============================] - 123s 2s/step - loss: 1.3209 - accuracy: 0.4830 - val_loss: 1.5417 - val_accuracy: 0.3603\n",
      "Epoch 31/60\n",
      "51/51 [==============================] - 123s 2s/step - loss: 1.3648 - accuracy: 0.4737 - val_loss: 1.5360 - val_accuracy: 0.3811\n",
      "Epoch 32/60\n",
      "51/51 [==============================] - 124s 2s/step - loss: 1.3539 - accuracy: 0.4616 - val_loss: 1.5117 - val_accuracy: 0.4111\n"
     ]
    },
    {
     "name": "stderr",
     "output_type": "stream",
     "text": [
      "WARNING:absl:Found untraced functions such as lstm_cell_15_layer_call_and_return_conditional_losses, lstm_cell_15_layer_call_fn, lstm_cell_15_layer_call_fn, lstm_cell_15_layer_call_and_return_conditional_losses, lstm_cell_15_layer_call_and_return_conditional_losses while saving (showing 5 of 5). These functions will not be directly callable after loading.\n",
      "WARNING:absl:Found untraced functions such as lstm_cell_15_layer_call_and_return_conditional_losses, lstm_cell_15_layer_call_fn, lstm_cell_15_layer_call_fn, lstm_cell_15_layer_call_and_return_conditional_losses, lstm_cell_15_layer_call_and_return_conditional_losses while saving (showing 5 of 5). These functions will not be directly callable after loading.\n"
     ]
    },
    {
     "name": "stdout",
     "output_type": "stream",
     "text": [
      "INFO:tensorflow:Assets written to: vgg16_lstm_model_fewerDense/assets\n"
     ]
    },
    {
     "name": "stderr",
     "output_type": "stream",
     "text": [
      "INFO:tensorflow:Assets written to: vgg16_lstm_model_fewerDense/assets\n"
     ]
    },
    {
     "name": "stdout",
     "output_type": "stream",
     "text": [
      "Epoch 33/60\n",
      "51/51 [==============================] - 124s 2s/step - loss: 1.2417 - accuracy: 0.5320 - val_loss: 1.5657 - val_accuracy: 0.3718\n",
      "Epoch 34/60\n",
      "51/51 [==============================] - 123s 2s/step - loss: 1.3415 - accuracy: 0.4628 - val_loss: 1.4981 - val_accuracy: 0.4042\n"
     ]
    },
    {
     "name": "stderr",
     "output_type": "stream",
     "text": [
      "WARNING:absl:Found untraced functions such as lstm_cell_15_layer_call_and_return_conditional_losses, lstm_cell_15_layer_call_fn, lstm_cell_15_layer_call_fn, lstm_cell_15_layer_call_and_return_conditional_losses, lstm_cell_15_layer_call_and_return_conditional_losses while saving (showing 5 of 5). These functions will not be directly callable after loading.\n",
      "WARNING:absl:Found untraced functions such as lstm_cell_15_layer_call_and_return_conditional_losses, lstm_cell_15_layer_call_fn, lstm_cell_15_layer_call_fn, lstm_cell_15_layer_call_and_return_conditional_losses, lstm_cell_15_layer_call_and_return_conditional_losses while saving (showing 5 of 5). These functions will not be directly callable after loading.\n"
     ]
    },
    {
     "name": "stdout",
     "output_type": "stream",
     "text": [
      "INFO:tensorflow:Assets written to: vgg16_lstm_model_fewerDense/assets\n"
     ]
    },
    {
     "name": "stderr",
     "output_type": "stream",
     "text": [
      "INFO:tensorflow:Assets written to: vgg16_lstm_model_fewerDense/assets\n"
     ]
    },
    {
     "name": "stdout",
     "output_type": "stream",
     "text": [
      "Epoch 35/60\n",
      "51/51 [==============================] - 123s 2s/step - loss: 1.2496 - accuracy: 0.4962 - val_loss: 1.5031 - val_accuracy: 0.3834\n",
      "Epoch 36/60\n",
      "51/51 [==============================] - 123s 2s/step - loss: 1.2178 - accuracy: 0.5587 - val_loss: 1.4574 - val_accuracy: 0.4203\n"
     ]
    },
    {
     "name": "stderr",
     "output_type": "stream",
     "text": [
      "WARNING:absl:Found untraced functions such as lstm_cell_15_layer_call_and_return_conditional_losses, lstm_cell_15_layer_call_fn, lstm_cell_15_layer_call_fn, lstm_cell_15_layer_call_and_return_conditional_losses, lstm_cell_15_layer_call_and_return_conditional_losses while saving (showing 5 of 5). These functions will not be directly callable after loading.\n",
      "WARNING:absl:Found untraced functions such as lstm_cell_15_layer_call_and_return_conditional_losses, lstm_cell_15_layer_call_fn, lstm_cell_15_layer_call_fn, lstm_cell_15_layer_call_and_return_conditional_losses, lstm_cell_15_layer_call_and_return_conditional_losses while saving (showing 5 of 5). These functions will not be directly callable after loading.\n"
     ]
    },
    {
     "name": "stdout",
     "output_type": "stream",
     "text": [
      "INFO:tensorflow:Assets written to: vgg16_lstm_model_fewerDense/assets\n"
     ]
    },
    {
     "name": "stderr",
     "output_type": "stream",
     "text": [
      "INFO:tensorflow:Assets written to: vgg16_lstm_model_fewerDense/assets\n"
     ]
    },
    {
     "name": "stdout",
     "output_type": "stream",
     "text": [
      "Epoch 37/60\n",
      "51/51 [==============================] - 123s 2s/step - loss: 1.1715 - accuracy: 0.5632 - val_loss: 1.4505 - val_accuracy: 0.4065\n"
     ]
    },
    {
     "name": "stderr",
     "output_type": "stream",
     "text": [
      "WARNING:absl:Found untraced functions such as lstm_cell_15_layer_call_and_return_conditional_losses, lstm_cell_15_layer_call_fn, lstm_cell_15_layer_call_fn, lstm_cell_15_layer_call_and_return_conditional_losses, lstm_cell_15_layer_call_and_return_conditional_losses while saving (showing 5 of 5). These functions will not be directly callable after loading.\n",
      "WARNING:absl:Found untraced functions such as lstm_cell_15_layer_call_and_return_conditional_losses, lstm_cell_15_layer_call_fn, lstm_cell_15_layer_call_fn, lstm_cell_15_layer_call_and_return_conditional_losses, lstm_cell_15_layer_call_and_return_conditional_losses while saving (showing 5 of 5). These functions will not be directly callable after loading.\n"
     ]
    },
    {
     "name": "stdout",
     "output_type": "stream",
     "text": [
      "INFO:tensorflow:Assets written to: vgg16_lstm_model_fewerDense/assets\n"
     ]
    },
    {
     "name": "stderr",
     "output_type": "stream",
     "text": [
      "INFO:tensorflow:Assets written to: vgg16_lstm_model_fewerDense/assets\n"
     ]
    },
    {
     "name": "stdout",
     "output_type": "stream",
     "text": [
      "Epoch 38/60\n",
      "51/51 [==============================] - 123s 2s/step - loss: 1.1458 - accuracy: 0.5913 - val_loss: 1.4396 - val_accuracy: 0.3972\n"
     ]
    },
    {
     "name": "stderr",
     "output_type": "stream",
     "text": [
      "WARNING:absl:Found untraced functions such as lstm_cell_15_layer_call_and_return_conditional_losses, lstm_cell_15_layer_call_fn, lstm_cell_15_layer_call_fn, lstm_cell_15_layer_call_and_return_conditional_losses, lstm_cell_15_layer_call_and_return_conditional_losses while saving (showing 5 of 5). These functions will not be directly callable after loading.\n",
      "WARNING:absl:Found untraced functions such as lstm_cell_15_layer_call_and_return_conditional_losses, lstm_cell_15_layer_call_fn, lstm_cell_15_layer_call_fn, lstm_cell_15_layer_call_and_return_conditional_losses, lstm_cell_15_layer_call_and_return_conditional_losses while saving (showing 5 of 5). These functions will not be directly callable after loading.\n"
     ]
    },
    {
     "name": "stdout",
     "output_type": "stream",
     "text": [
      "INFO:tensorflow:Assets written to: vgg16_lstm_model_fewerDense/assets\n"
     ]
    },
    {
     "name": "stderr",
     "output_type": "stream",
     "text": [
      "INFO:tensorflow:Assets written to: vgg16_lstm_model_fewerDense/assets\n"
     ]
    },
    {
     "name": "stdout",
     "output_type": "stream",
     "text": [
      "Epoch 39/60\n",
      "51/51 [==============================] - 123s 2s/step - loss: 1.1778 - accuracy: 0.5486 - val_loss: 1.4037 - val_accuracy: 0.4411\n"
     ]
    },
    {
     "name": "stderr",
     "output_type": "stream",
     "text": [
      "WARNING:absl:Found untraced functions such as lstm_cell_15_layer_call_and_return_conditional_losses, lstm_cell_15_layer_call_fn, lstm_cell_15_layer_call_fn, lstm_cell_15_layer_call_and_return_conditional_losses, lstm_cell_15_layer_call_and_return_conditional_losses while saving (showing 5 of 5). These functions will not be directly callable after loading.\n",
      "WARNING:absl:Found untraced functions such as lstm_cell_15_layer_call_and_return_conditional_losses, lstm_cell_15_layer_call_fn, lstm_cell_15_layer_call_fn, lstm_cell_15_layer_call_and_return_conditional_losses, lstm_cell_15_layer_call_and_return_conditional_losses while saving (showing 5 of 5). These functions will not be directly callable after loading.\n"
     ]
    },
    {
     "name": "stdout",
     "output_type": "stream",
     "text": [
      "INFO:tensorflow:Assets written to: vgg16_lstm_model_fewerDense/assets\n"
     ]
    },
    {
     "name": "stderr",
     "output_type": "stream",
     "text": [
      "INFO:tensorflow:Assets written to: vgg16_lstm_model_fewerDense/assets\n"
     ]
    },
    {
     "name": "stdout",
     "output_type": "stream",
     "text": [
      "Epoch 40/60\n",
      "51/51 [==============================] - 123s 2s/step - loss: 1.1811 - accuracy: 0.5605 - val_loss: 1.4356 - val_accuracy: 0.4319\n",
      "Epoch 41/60\n",
      "51/51 [==============================] - 123s 2s/step - loss: 1.0740 - accuracy: 0.5812 - val_loss: 1.5099 - val_accuracy: 0.4042\n",
      "Epoch 42/60\n",
      "51/51 [==============================] - 123s 2s/step - loss: 1.1333 - accuracy: 0.5606 - val_loss: 1.4384 - val_accuracy: 0.4157\n",
      "Epoch 43/60\n",
      "51/51 [==============================] - 123s 2s/step - loss: 1.1235 - accuracy: 0.5499 - val_loss: 1.5358 - val_accuracy: 0.4226\n",
      "Epoch 44/60\n",
      "51/51 [==============================] - 123s 2s/step - loss: 1.0664 - accuracy: 0.5904 - val_loss: 1.3787 - val_accuracy: 0.4296\n"
     ]
    },
    {
     "name": "stderr",
     "output_type": "stream",
     "text": [
      "WARNING:absl:Found untraced functions such as lstm_cell_15_layer_call_and_return_conditional_losses, lstm_cell_15_layer_call_fn, lstm_cell_15_layer_call_fn, lstm_cell_15_layer_call_and_return_conditional_losses, lstm_cell_15_layer_call_and_return_conditional_losses while saving (showing 5 of 5). These functions will not be directly callable after loading.\n",
      "WARNING:absl:Found untraced functions such as lstm_cell_15_layer_call_and_return_conditional_losses, lstm_cell_15_layer_call_fn, lstm_cell_15_layer_call_fn, lstm_cell_15_layer_call_and_return_conditional_losses, lstm_cell_15_layer_call_and_return_conditional_losses while saving (showing 5 of 5). These functions will not be directly callable after loading.\n"
     ]
    },
    {
     "name": "stdout",
     "output_type": "stream",
     "text": [
      "INFO:tensorflow:Assets written to: vgg16_lstm_model_fewerDense/assets\n"
     ]
    },
    {
     "name": "stderr",
     "output_type": "stream",
     "text": [
      "INFO:tensorflow:Assets written to: vgg16_lstm_model_fewerDense/assets\n"
     ]
    },
    {
     "name": "stdout",
     "output_type": "stream",
     "text": [
      "Epoch 45/60\n",
      "51/51 [==============================] - 123s 2s/step - loss: 1.0761 - accuracy: 0.5892 - val_loss: 1.5773 - val_accuracy: 0.3926\n",
      "Epoch 46/60\n",
      "51/51 [==============================] - 123s 2s/step - loss: 1.1090 - accuracy: 0.5749 - val_loss: 1.3899 - val_accuracy: 0.4573\n",
      "Epoch 47/60\n",
      "51/51 [==============================] - 123s 2s/step - loss: 1.0407 - accuracy: 0.6181 - val_loss: 1.4708 - val_accuracy: 0.4319\n",
      "Epoch 48/60\n",
      "51/51 [==============================] - 123s 2s/step - loss: 1.0086 - accuracy: 0.6132 - val_loss: 1.5207 - val_accuracy: 0.4550\n",
      "Epoch 49/60\n",
      "51/51 [==============================] - 123s 2s/step - loss: 0.9950 - accuracy: 0.6245 - val_loss: 1.4031 - val_accuracy: 0.4411\n",
      "Epoch 50/60\n",
      "51/51 [==============================] - 123s 2s/step - loss: 1.0492 - accuracy: 0.5927 - val_loss: 1.4105 - val_accuracy: 0.4665\n",
      "Epoch 51/60\n",
      "51/51 [==============================] - 123s 2s/step - loss: 0.9758 - accuracy: 0.6217 - val_loss: 1.5437 - val_accuracy: 0.4411\n",
      "Epoch 52/60\n",
      "51/51 [==============================] - 123s 2s/step - loss: 0.9389 - accuracy: 0.6382 - val_loss: 1.4443 - val_accuracy: 0.4873\n",
      "Epoch 53/60\n",
      "51/51 [==============================] - 123s 2s/step - loss: 0.9176 - accuracy: 0.6605 - val_loss: 1.4844 - val_accuracy: 0.4781\n",
      "Epoch 54/60\n",
      "51/51 [==============================] - 123s 2s/step - loss: 0.8954 - accuracy: 0.6673 - val_loss: 1.4557 - val_accuracy: 0.4896\n",
      "Epoch 55/60\n",
      "51/51 [==============================] - 123s 2s/step - loss: 0.8751 - accuracy: 0.6721 - val_loss: 1.3260 - val_accuracy: 0.5081\n"
     ]
    },
    {
     "name": "stderr",
     "output_type": "stream",
     "text": [
      "WARNING:absl:Found untraced functions such as lstm_cell_15_layer_call_and_return_conditional_losses, lstm_cell_15_layer_call_fn, lstm_cell_15_layer_call_fn, lstm_cell_15_layer_call_and_return_conditional_losses, lstm_cell_15_layer_call_and_return_conditional_losses while saving (showing 5 of 5). These functions will not be directly callable after loading.\n",
      "WARNING:absl:Found untraced functions such as lstm_cell_15_layer_call_and_return_conditional_losses, lstm_cell_15_layer_call_fn, lstm_cell_15_layer_call_fn, lstm_cell_15_layer_call_and_return_conditional_losses, lstm_cell_15_layer_call_and_return_conditional_losses while saving (showing 5 of 5). These functions will not be directly callable after loading.\n"
     ]
    },
    {
     "name": "stdout",
     "output_type": "stream",
     "text": [
      "INFO:tensorflow:Assets written to: vgg16_lstm_model_fewerDense/assets\n"
     ]
    },
    {
     "name": "stderr",
     "output_type": "stream",
     "text": [
      "INFO:tensorflow:Assets written to: vgg16_lstm_model_fewerDense/assets\n"
     ]
    },
    {
     "name": "stdout",
     "output_type": "stream",
     "text": [
      "Epoch 56/60\n",
      "51/51 [==============================] - 123s 2s/step - loss: 0.8177 - accuracy: 0.7087 - val_loss: 1.3482 - val_accuracy: 0.4896\n",
      "Epoch 57/60\n",
      "51/51 [==============================] - 123s 2s/step - loss: 0.8312 - accuracy: 0.6786 - val_loss: 1.3557 - val_accuracy: 0.4942\n",
      "Epoch 58/60\n",
      "51/51 [==============================] - 123s 2s/step - loss: 0.7751 - accuracy: 0.7290 - val_loss: 1.3414 - val_accuracy: 0.5035\n",
      "Epoch 59/60\n",
      "51/51 [==============================] - 123s 2s/step - loss: 0.7794 - accuracy: 0.7262 - val_loss: 1.3794 - val_accuracy: 0.4850\n",
      "Epoch 60/60\n",
      "51/51 [==============================] - 123s 2s/step - loss: 0.7629 - accuracy: 0.7012 - val_loss: 1.3510 - val_accuracy: 0.5012\n"
     ]
    }
   ],
   "source": [
    "history = model.fit(train_data, train_action_labels,\n",
    "                    validation_data=(val_data, val_action_labels),\n",
    "                    batch_size=20, epochs=60,\n",
    "                    callbacks=callbacks_list\n",
    "                    )"
   ]
  },
  {
   "cell_type": "markdown",
   "metadata": {},
   "source": [
    "### 3.3 Plot train/valid accuracy & loss"
   ]
  },
  {
   "cell_type": "code",
   "execution_count": 57,
   "metadata": {},
   "outputs": [
    {
     "data": {
      "image/png": "[encoded data removed]",
      "text/plain": [
       "<Figure size 432x288 with 1 Axes>"
      ]
     },
     "metadata": {
      "needs_background": "light"
     },
     "output_type": "display_data"
    },
    {
     "data": {
      "image/png": "[encoded data removed]",
      "text/plain": [
       "<Figure size 432x288 with 1 Axes>"
      ]
     },
     "metadata": {
      "needs_background": "light"
     },
     "output_type": "display_data"
    }
   ],
   "source": [
    "###Plot train/valid accuracy & loss\n",
    "import matplotlib.pyplot as plt\n",
    "acc=history.history[\"accuracy\"]\n",
    "val_acc=history.history[\"val_accuracy\"]\n",
    "loss=history.history[\"loss\"]\n",
    "val_loss=history.history[\"val_loss\"]\n",
    "epoch_stop = len(acc)\n",
    "epochs=np.arange(1, epoch_stop+1)\n",
    "\n",
    "plt.plot(epochs, acc, label = \"Train\", color = 'darkturquoise')\n",
    "plt.plot(epochs, val_acc, label = \"Valid\", linestyle=\"--\", color = 'deepskyblue')\n",
    "plt.legend()\n",
    "plt.title('Train/Valid Accuracy')\n",
    "plt.show()\n",
    "\n",
    "plt.plot(epochs, loss, label = \"Train\", color = 'orchid')\n",
    "plt.plot(epochs, val_loss, label = \"Valid\", linestyle=\"--\", color = 'deeppink')\n",
    "plt.legend()\n",
    "plt.title('Train/Valid Loss')\n",
    "plt.show()"
   ]
  },
  {
   "cell_type": "markdown",
   "metadata": {},
   "source": [
    "### 3.4 Save model history"
   ]
  },
  {
   "cell_type": "code",
   "execution_count": 58,
   "metadata": {},
   "outputs": [],
   "source": [
    "###Save history\n",
    "np.save(os.path.join(base_dir, \"model_vgg15_lstm_fewerDense_history\"), history.history)\n",
    "###Save model\n",
    "model.save(os.path.join(base_dir, \"vgg16_lstm_model_fewerDense.h5\"))  "
   ]
  },
  {
   "cell_type": "markdown",
   "metadata": {},
   "source": [
    "### Evaluate model on validation dataset"
   ]
  },
  {
   "cell_type": "code",
   "execution_count": 6,
   "metadata": {},
   "outputs": [],
   "source": [
    "import keras\n",
    "model = keras.models.load_model(os.path.join(base_dir, \"vgg16_lstm_model_fewerDense.h5\"))\n",
    "\n",
    "val_preds = model.predict(val_data)\n",
    "val_preds = np.argmax(val_preds,axis=1)\n",
    "val_true = [mapping[x] for x in val_actions]"
   ]
  },
  {
   "cell_type": "code",
   "execution_count": 7,
   "metadata": {},
   "outputs": [
    {
     "data": {
      "text/plain": [
       "<AxesSubplot:>"
      ]
     },
     "execution_count": 7,
     "metadata": {},
     "output_type": "execute_result"
    },
    {
     "data": {
      "image/png": "[encoded data removed]",
      "text/plain": [
       "<Figure size 648x504 with 2 Axes>"
      ]
     },
     "metadata": {
      "needs_background": "light"
     },
     "output_type": "display_data"
    }
   ],
   "source": [
    "import seaborn as sn\n",
    "import pandas as pd\n",
    "import matplotlib.pyplot as plt\n",
    "import sklearn.metrics as metrics\n",
    "\n",
    "confusion_matrix = metrics.confusion_matrix(y_true=val_true, y_pred=val_preds)\n",
    "df_cm = pd.DataFrame(confusion_matrix, index = mapping.keys(),\n",
    "                  columns = mapping.keys())\n",
    "plt.figure(figsize = (9,7))\n",
    "sn.heatmap(df_cm, annot=True, cmap=\"Blues\")"
   ]
  },
  {
   "cell_type": "code",
   "execution_count": 8,
   "metadata": {},
   "outputs": [],
   "source": [
    "# COUG:1, SNEE:4\n",
    "val_true_bin = [x in (1, 4) for x in val_true]\n",
    "val_preds_bin = [x in (1, 4) for x in val_preds]"
   ]
  },
  {
   "cell_type": "code",
   "execution_count": 9,
   "metadata": {},
   "outputs": [
    {
     "data": {
      "text/plain": [
       "<AxesSubplot:>"
      ]
     },
     "execution_count": 9,
     "metadata": {},
     "output_type": "execute_result"
    },
    {
     "data": {
      "image/png": "[encoded data removed]",
      "text/plain": [
       "<Figure size 288x216 with 2 Axes>"
      ]
     },
     "metadata": {
      "needs_background": "light"
     },
     "output_type": "display_data"
    }
   ],
   "source": [
    "confusion_matrix = metrics.confusion_matrix(y_true=val_true_bin, y_pred=val_preds_bin)\n",
    "df_cm = pd.DataFrame(confusion_matrix, index = ['Other', 'COUG_SNEE'],\n",
    "                  columns = ['Other', 'COUG_SNEE'])\n",
    "plt.figure(figsize = (4,3))\n",
    "sn.heatmap(df_cm, annot=True, cmap=\"Blues\")"
   ]
  },
  {
   "cell_type": "code",
   "execution_count": 10,
   "metadata": {},
   "outputs": [
    {
     "name": "stdout",
     "output_type": "stream",
     "text": [
      "0.6632653061224489 0.5963302752293578 0.45774647887323944\n"
     ]
    }
   ],
   "source": [
    "tn, fp, fn, tp = confusion_matrix.ravel()\n",
    "\n",
    "prec = tp/(tp+fp)\n",
    "rec = tp/(tp+fn)\n",
    "acc = tp / (tp+fp+fn)\n",
    "print(prec, rec, acc)"
   ]
  },
  {
   "cell_type": "markdown",
   "metadata": {},
   "source": [
    "### 3.5 Evaluate model on test dataset"
   ]
  },
  {
   "cell_type": "code",
   "execution_count": 12,
   "metadata": {},
   "outputs": [],
   "source": [
    "test_preds = model.predict(test_data)\n",
    "\n",
    "test_preds = np.argmax(test_preds,axis=1)\n",
    "test_true = [mapping[x] for x in test_actions]"
   ]
  },
  {
   "cell_type": "code",
   "execution_count": 13,
   "metadata": {
    "scrolled": true
   },
   "outputs": [
    {
     "data": {
      "text/plain": [
       "<AxesSubplot:>"
      ]
     },
     "execution_count": 13,
     "metadata": {},
     "output_type": "execute_result"
    },
    {
     "data": {
      "image/png": "[encoded data removed]",
      "text/plain": [
       "<Figure size 648x504 with 2 Axes>"
      ]
     },
     "metadata": {
      "needs_background": "light"
     },
     "output_type": "display_data"
    }
   ],
   "source": [
    "import seaborn as sn\n",
    "import pandas as pd\n",
    "import matplotlib.pyplot as plt\n",
    "import sklearn.metrics as metrics\n",
    "\n",
    "confusion_matrix = metrics.confusion_matrix(y_true=test_true, y_pred=test_preds)\n",
    "df_cm = pd.DataFrame(confusion_matrix, index = mapping.keys(),\n",
    "                  columns = mapping.keys())\n",
    "plt.figure(figsize = (9,7))\n",
    "sn.heatmap(df_cm, annot=True, cmap=\"Blues\")"
   ]
  },
  {
   "cell_type": "code",
   "execution_count": 14,
   "metadata": {},
   "outputs": [],
   "source": [
    "# COUG:1, SNEE:4\n",
    "test_true_bin = [x in (1, 4) for x in test_true]\n",
    "test_preds_bin = [x in (1, 4) for x in test_preds]"
   ]
  },
  {
   "cell_type": "code",
   "execution_count": 15,
   "metadata": {},
   "outputs": [
    {
     "data": {
      "text/plain": [
       "<AxesSubplot:>"
      ]
     },
     "execution_count": 15,
     "metadata": {},
     "output_type": "execute_result"
    },
    {
     "data": {
      "image/png": "[encoded data removed]",
      "text/plain": [
       "<Figure size 288x216 with 2 Axes>"
      ]
     },
     "metadata": {
      "needs_background": "light"
     },
     "output_type": "display_data"
    }
   ],
   "source": [
    "confusion_matrix = metrics.confusion_matrix(y_true=test_true_bin, y_pred=test_preds_bin)\n",
    "df_cm = pd.DataFrame(confusion_matrix, index = ['Other', 'COUG_SNEE'],\n",
    "                  columns = ['Other', 'COUG_SNEE'])\n",
    "plt.figure(figsize = (4,3))\n",
    "sn.heatmap(df_cm, annot=True, cmap=\"Blues\")"
   ]
  },
  {
   "cell_type": "code",
   "execution_count": 16,
   "metadata": {},
   "outputs": [
    {
     "name": "stdout",
     "output_type": "stream",
     "text": [
      "0.5096774193548387 0.6583333333333333 0.4030612244897959\n"
     ]
    }
   ],
   "source": [
    "tn, fp, fn, tp = confusion_matrix.ravel()\n",
    "\n",
    "prec = tp/(tp+fp)\n",
    "rec = tp/(tp+fn)\n",
    "acc = tp / (tp+fp+fn)\n",
    "print(prec, rec, acc)"
   ]
  },
  {
   "cell_type": "code",
   "execution_count": null,
   "metadata": {},
   "outputs": [],
   "source": []
  },
  {
   "cell_type": "code",
   "execution_count": null,
   "metadata": {},
   "outputs": [],
   "source": []
  }
 ],
 "metadata": {
  "accelerator": "GPU",
  "colab": {
   "collapsed_sections": [],
   "machine_shape": "hm",
   "name": "train_cnn_lstm.ipynb",
   "provenance": []
  },
  "kernelspec": {
   "display_name": "Python 3",
   "language": "python",
   "name": "python3"
  },
  "language_info": {
   "codemirror_mode": {
    "name": "ipython",
    "version": 3
   },
   "file_extension": ".py",
   "mimetype": "text/x-python",
   "name": "python",
   "nbconvert_exporter": "python",
   "pygments_lexer": "ipython3",
   "version": "3.7.10"
  }
 },
 "nbformat": 4,
 "nbformat_minor": 1
}

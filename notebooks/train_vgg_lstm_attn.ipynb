{
 "cells": [
  {
   "cell_type": "markdown",
   "id": "clinical-feeding",
   "metadata": {},
   "source": [
    "# Train Vgg + LSTM + Attention"
   ]
  },
  {
   "cell_type": "markdown",
   "id": "imposed-timing",
   "metadata": {},
   "source": [
    "## Setup"
   ]
  },
  {
   "cell_type": "code",
   "execution_count": 1,
   "id": "closing-river",
   "metadata": {},
   "outputs": [
    {
     "name": "stdout",
     "output_type": "stream",
     "text": [
      "Not on Google Colab.\n"
     ]
    }
   ],
   "source": [
    "# Skip this cell if we are not on Google Colab\n",
    "try:\n",
    "    # Mount Google Drive to the Colab VM.\n",
    "    from google.colab import drive\n",
    "    drive.mount('/content/drive', force_remount=True)\n",
    "\n",
    "    # Specify working directory.\n",
    "    FOLDERNAME = 'cs231n/project/'\n",
    "    %cd /content/drive/My\\ Drive/$FOLDERNAME\n",
    "\n",
    "    # Ensure that the Python interpreter of the Colab VM can load python files from\n",
    "    # within it.\n",
    "    import sys\n",
    "    sys.path.append('/content/drive/My Drive/{}'.format(FOLDERNAME))\n",
    "except ImportError as e:\n",
    "    print(\"Not on Google Colab.\")"
   ]
  },
  {
   "cell_type": "markdown",
   "id": "combined-fitness",
   "metadata": {},
   "source": [
    "## Load dataset and labels"
   ]
  },
  {
   "cell_type": "code",
   "execution_count": 2,
   "id": "inside-advancement",
   "metadata": {},
   "outputs": [],
   "source": [
    "import numpy as np\n",
    "import os\n",
    "\n",
    "#base_dir = '/content/drive/My Drive/cs231n/project/dataset/shaped_hrnet_data'\n",
    "base_dir = '/home/ubuntu'\n",
    "\n",
    "train_data = np.load(os.path.join(base_dir, 'train_data_pre12.npy'))\n",
    "train_actions = np.load(os.path.join(base_dir, 'train_actions_pre12.npy'), allow_pickle=True)\n",
    "train_labels = np.load(os.path.join(base_dir, 'train_labels_pre12.npy'))\n",
    "\n",
    "val_data = np.load(os.path.join(base_dir, 'val_data_pre12.npy'))\n",
    "val_actions = np.load(os.path.join(base_dir, 'val_actions_pre12.npy'), allow_pickle=True)\n",
    "val_labels = np.load(os.path.join(base_dir, 'val_labels_pre12.npy'))"
   ]
  },
  {
   "cell_type": "code",
   "execution_count": 3,
   "id": "instant-street",
   "metadata": {},
   "outputs": [
    {
     "name": "stdout",
     "output_type": "stream",
     "text": [
      "Training data shape:  (1007, 12, 224, 224, 3)\n",
      "Training label shape:  (1007,)\n",
      "Training action shape:  (1007,)\n",
      "Train Label=1 ratio: 0.24925521350546176\n",
      "Validation data shape:  (433, 12, 224, 224, 3)\n",
      "Validation label shape:  (433,)\n",
      "Validation action shape:  (433,)\n",
      "Validation Label=1 ratio: 0.2517321016166282\n"
     ]
    }
   ],
   "source": [
    "print('Training data shape: ', train_data.shape)\n",
    "print('Training label shape: ', train_labels.shape)\n",
    "print('Training action shape: ', train_actions.shape)\n",
    "print('Train Label=1 ratio:', np.sum(train_labels) /train_labels.shape[0])\n",
    "print('Validation data shape: ', val_data.shape)\n",
    "print('Validation label shape: ', val_labels.shape)\n",
    "print('Validation action shape: ', val_actions.shape)\n",
    "print('Validation Label=1 ratio:', np.sum(val_labels) / val_labels.shape[0])"
   ]
  },
  {
   "cell_type": "code",
   "execution_count": 4,
   "id": "fallen-coating",
   "metadata": {},
   "outputs": [],
   "source": [
    "mapping = {\n",
    "    'CALL': 0,\n",
    "    'COUG': 1,\n",
    "    'DRIN': 2,\n",
    "    'SCRA': 3,\n",
    "    'SNEE': 4,\n",
    "    'STRE': 5,\n",
    "    'WAVE': 6,\n",
    "    'WIPE': 7,\n",
    "}\n",
    "train_action_labels = [mapping[x] for x in train_actions]\n",
    "val_action_labels = [mapping[x] for x in val_actions]\n",
    "\n",
    "# One-hot encoding.\n",
    "train_action_labels = np.eye(8)[train_action_labels] \n",
    "val_action_labels = np.eye(8)[val_action_labels] "
   ]
  },
  {
   "cell_type": "markdown",
   "id": "parental-reach",
   "metadata": {},
   "source": [
    "## 1. VGG + LSTM Model"
   ]
  },
  {
   "cell_type": "markdown",
   "id": "pleasant-enterprise",
   "metadata": {},
   "source": [
    "### 1.1 Define model"
   ]
  },
  {
   "cell_type": "code",
   "execution_count": 5,
   "id": "grateful-diabetes",
   "metadata": {},
   "outputs": [
    {
     "name": "stdout",
     "output_type": "stream",
     "text": [
      "WARNING:tensorflow:Layer lstm will not use cuDNN kernel since it doesn't meet the cuDNN kernel criteria. It will use generic GPU kernel as fallback when running on GPU\n",
      "Model: \"sequential\"\n",
      "_________________________________________________________________\n",
      "Layer (type)                 Output Shape              Param #   \n",
      "=================================================================\n",
      "time_distributed (TimeDistri (None, 12, 7, 7, 512)     14714688  \n",
      "_________________________________________________________________\n",
      "time_distributed_1 (TimeDist (None, 12, 25088)         0         \n",
      "_________________________________________________________________\n",
      "dropout (Dropout)            (None, 12, 25088)         0         \n",
      "_________________________________________________________________\n",
      "lstm (LSTM)                  (None, 64)                6439168   \n",
      "_________________________________________________________________\n",
      "dropout_1 (Dropout)          (None, 64)                0         \n",
      "_________________________________________________________________\n",
      "dense (Dense)                (None, 32)                2080      \n",
      "_________________________________________________________________\n",
      "dropout_2 (Dropout)          (None, 32)                0         \n",
      "_________________________________________________________________\n",
      "dense_1 (Dense)              (None, 8)                 264       \n",
      "=================================================================\n",
      "Total params: 21,156,200\n",
      "Trainable params: 6,441,512\n",
      "Non-trainable params: 14,714,688\n",
      "_________________________________________________________________\n"
     ]
    }
   ],
   "source": [
    "from keras.layers import Permute, multiply, Input, TimeDistributed, Conv2D, Dense, MaxPooling2D, Flatten, LSTM, Dropout, BatchNormalization, GlobalAveragePooling2D\n",
    "from keras import models, Model\n",
    "from keras.applications import vgg16\n",
    "\n",
    "frames, channels, rows, columns = 12, 3, 224, 224\n",
    "#Pre-trained VGG\n",
    "model = models.Sequential()\n",
    "model.add(Input(shape=(frames, rows, columns, channels)))\n",
    "\n",
    "model.add(TimeDistributed(vgg16.VGG16(input_shape=(rows,columns,channels),\n",
    "                 weights=\"imagenet\",\n",
    "                 include_top=False)))\n",
    "\n",
    "for layer in model.layers:\n",
    "    layer.trainable = False\n",
    "\n",
    "model.add(TimeDistributed(Flatten()))\n",
    "model.add(Dropout(0.2))\n",
    "#LSTM:\n",
    "model.add(LSTM(64, dropout=0.25, recurrent_dropout=0.1, return_sequences=False)) # used 64 units\n",
    "model.add(Dropout(0.2))\n",
    "model.add(Dense(32, activation='relu'))\n",
    "model.add(Dropout(0.2))\n",
    "model.add(Dense(8, activation='softmax')) # n_labels = 8\n",
    "model.summary()"
   ]
  },
  {
   "cell_type": "code",
   "execution_count": 7,
   "id": "outdoor-winner",
   "metadata": {},
   "outputs": [],
   "source": [
    "import keras\n",
    "callbacks_list = [keras.callbacks.EarlyStopping(monitor='accuracy', patience=50),\n",
    "                  keras.callbacks.ModelCheckpoint(\n",
    "                      filepath='vgg_lstm_clean_v1',\n",
    "                      monitor='val_loss',\n",
    "                      save_best_only=True\n",
    "                  ),\n",
    "                  keras.callbacks.ReduceLROnPlateau(\n",
    "                      monitor=\"val_loss\", factor=0.1, patience=50\n",
    "                  )]\n",
    "\n",
    "from keras import optimizers\n",
    "\n",
    "optimizer_new=optimizers.Adam(lr=1e-4, beta_1=0.9, beta_2=0.999, epsilon=None,\n",
    "                              decay=0.0, amsgrad=False)\n",
    "model.compile(optimizer=optimizer_new,\n",
    "                    loss='categorical_crossentropy',\n",
    "                    metrics=['accuracy'])"
   ]
  },
  {
   "cell_type": "markdown",
   "id": "subjective-casino",
   "metadata": {},
   "source": [
    "### 1.2 Train model"
   ]
  },
  {
   "cell_type": "code",
   "execution_count": 8,
   "id": "difficult-friendship",
   "metadata": {},
   "outputs": [
    {
     "name": "stdout",
     "output_type": "stream",
     "text": [
      "Epoch 1/200\n",
      "51/51 [==============================] - 301s 5s/step - loss: 2.1187 - accuracy: 0.1453 - val_loss: 2.0733 - val_accuracy: 0.1432\n",
      "INFO:tensorflow:Assets written to: vgg_lstm_clean_v1/assets\n",
      "Epoch 2/200\n",
      "51/51 [==============================] - 154s 3s/step - loss: 2.0739 - accuracy: 0.1399 - val_loss: 2.0809 - val_accuracy: 0.1178\n",
      "Epoch 3/200\n",
      "51/51 [==============================] - 123s 2s/step - loss: 2.0708 - accuracy: 0.1648 - val_loss: 2.0743 - val_accuracy: 0.1293\n",
      "Epoch 4/200\n",
      "51/51 [==============================] - 124s 2s/step - loss: 2.0645 - accuracy: 0.1557 - val_loss: 2.0570 - val_accuracy: 0.1594\n",
      "INFO:tensorflow:Assets written to: vgg_lstm_clean_v1/assets\n",
      "Epoch 5/200\n",
      "51/51 [==============================] - 124s 2s/step - loss: 2.0531 - accuracy: 0.1674 - val_loss: 2.0406 - val_accuracy: 0.1894\n",
      "INFO:tensorflow:Assets written to: vgg_lstm_clean_v1/assets\n",
      "Epoch 6/200\n",
      "51/51 [==============================] - 124s 2s/step - loss: 2.0359 - accuracy: 0.2055 - val_loss: 2.0323 - val_accuracy: 0.2171\n",
      "INFO:tensorflow:Assets written to: vgg_lstm_clean_v1/assets\n",
      "Epoch 7/200\n",
      "51/51 [==============================] - 124s 2s/step - loss: 2.0330 - accuracy: 0.1900 - val_loss: 2.0204 - val_accuracy: 0.2055\n",
      "INFO:tensorflow:Assets written to: vgg_lstm_clean_v1/assets\n",
      "Epoch 8/200\n",
      "51/51 [==============================] - 124s 2s/step - loss: 1.9852 - accuracy: 0.2281 - val_loss: 2.0129 - val_accuracy: 0.1963\n",
      "INFO:tensorflow:Assets written to: vgg_lstm_clean_v1/assets\n",
      "Epoch 9/200\n",
      "51/51 [==============================] - 123s 2s/step - loss: 1.9906 - accuracy: 0.2369 - val_loss: 1.9804 - val_accuracy: 0.2263\n",
      "INFO:tensorflow:Assets written to: vgg_lstm_clean_v1/assets\n",
      "Epoch 10/200\n",
      "51/51 [==============================] - 123s 2s/step - loss: 1.9745 - accuracy: 0.2259 - val_loss: 1.9480 - val_accuracy: 0.2540\n",
      "INFO:tensorflow:Assets written to: vgg_lstm_clean_v1/assets\n",
      "Epoch 11/200\n",
      "51/51 [==============================] - 125s 2s/step - loss: 1.9636 - accuracy: 0.2152 - val_loss: 1.9318 - val_accuracy: 0.2517\n",
      "INFO:tensorflow:Assets written to: vgg_lstm_clean_v1/assets\n",
      "Epoch 12/200\n",
      "51/51 [==============================] - 127s 3s/step - loss: 1.9105 - accuracy: 0.2394 - val_loss: 1.9330 - val_accuracy: 0.2540\n",
      "Epoch 13/200\n",
      "51/51 [==============================] - 125s 2s/step - loss: 1.9203 - accuracy: 0.2489 - val_loss: 1.8862 - val_accuracy: 0.2564\n",
      "INFO:tensorflow:Assets written to: vgg_lstm_clean_v1/assets\n",
      "Epoch 14/200\n",
      "51/51 [==============================] - 127s 3s/step - loss: 1.9061 - accuracy: 0.2450 - val_loss: 1.8928 - val_accuracy: 0.2333\n",
      "Epoch 15/200\n",
      "51/51 [==============================] - 126s 2s/step - loss: 1.8967 - accuracy: 0.2512 - val_loss: 1.8620 - val_accuracy: 0.2910\n",
      "INFO:tensorflow:Assets written to: vgg_lstm_clean_v1/assets\n",
      "Epoch 16/200\n",
      "51/51 [==============================] - 123s 2s/step - loss: 1.8420 - accuracy: 0.2920 - val_loss: 1.8313 - val_accuracy: 0.3095\n",
      "INFO:tensorflow:Assets written to: vgg_lstm_clean_v1/assets\n",
      "Epoch 17/200\n",
      "51/51 [==============================] - 123s 2s/step - loss: 1.7737 - accuracy: 0.3118 - val_loss: 1.8204 - val_accuracy: 0.3002\n",
      "INFO:tensorflow:Assets written to: vgg_lstm_clean_v1/assets\n",
      "Epoch 18/200\n",
      "51/51 [==============================] - 123s 2s/step - loss: 1.7517 - accuracy: 0.3339 - val_loss: 1.7864 - val_accuracy: 0.3187\n",
      "INFO:tensorflow:Assets written to: vgg_lstm_clean_v1/assets\n",
      "Epoch 19/200\n",
      "51/51 [==============================] - 125s 2s/step - loss: 1.7545 - accuracy: 0.3290 - val_loss: 1.7947 - val_accuracy: 0.2933\n",
      "Epoch 20/200\n",
      "51/51 [==============================] - 125s 2s/step - loss: 1.7435 - accuracy: 0.3179 - val_loss: 1.7482 - val_accuracy: 0.3557\n",
      "INFO:tensorflow:Assets written to: vgg_lstm_clean_v1/assets\n",
      "Epoch 21/200\n",
      "51/51 [==============================] - 125s 2s/step - loss: 1.6873 - accuracy: 0.3583 - val_loss: 1.7245 - val_accuracy: 0.3510\n",
      "INFO:tensorflow:Assets written to: vgg_lstm_clean_v1/assets\n",
      "Epoch 22/200\n",
      "51/51 [==============================] - 125s 2s/step - loss: 1.6889 - accuracy: 0.3460 - val_loss: 1.7749 - val_accuracy: 0.3118\n",
      "Epoch 23/200\n",
      "51/51 [==============================] - 125s 2s/step - loss: 1.6670 - accuracy: 0.3700 - val_loss: 1.7062 - val_accuracy: 0.3533\n",
      "INFO:tensorflow:Assets written to: vgg_lstm_clean_v1/assets\n",
      "Epoch 24/200\n",
      "51/51 [==============================] - 125s 2s/step - loss: 1.6609 - accuracy: 0.3631 - val_loss: 1.6837 - val_accuracy: 0.3811\n",
      "INFO:tensorflow:Assets written to: vgg_lstm_clean_v1/assets\n",
      "Epoch 25/200\n",
      "51/51 [==============================] - 125s 2s/step - loss: 1.6020 - accuracy: 0.3984 - val_loss: 1.6875 - val_accuracy: 0.3603\n",
      "Epoch 26/200\n",
      "51/51 [==============================] - 124s 2s/step - loss: 1.5971 - accuracy: 0.3900 - val_loss: 1.6574 - val_accuracy: 0.3741\n",
      "INFO:tensorflow:Assets written to: vgg_lstm_clean_v1/assets\n",
      "Epoch 27/200\n",
      "51/51 [==============================] - 125s 2s/step - loss: 1.5707 - accuracy: 0.3957 - val_loss: 1.6606 - val_accuracy: 0.3718\n",
      "Epoch 28/200\n",
      "51/51 [==============================] - 125s 2s/step - loss: 1.5235 - accuracy: 0.4529 - val_loss: 1.6475 - val_accuracy: 0.3741\n",
      "INFO:tensorflow:Assets written to: vgg_lstm_clean_v1/assets\n",
      "Epoch 29/200\n",
      "51/51 [==============================] - 125s 2s/step - loss: 1.5183 - accuracy: 0.4571 - val_loss: 1.6314 - val_accuracy: 0.3649\n",
      "INFO:tensorflow:Assets written to: vgg_lstm_clean_v1/assets\n",
      "Epoch 30/200\n",
      "51/51 [==============================] - 125s 2s/step - loss: 1.5106 - accuracy: 0.4221 - val_loss: 1.6005 - val_accuracy: 0.4065\n",
      "INFO:tensorflow:Assets written to: vgg_lstm_clean_v1/assets\n",
      "Epoch 31/200\n",
      "51/51 [==============================] - 124s 2s/step - loss: 1.4985 - accuracy: 0.4376 - val_loss: 1.6021 - val_accuracy: 0.3880\n",
      "Epoch 32/200\n",
      "51/51 [==============================] - 125s 2s/step - loss: 1.4478 - accuracy: 0.4624 - val_loss: 1.6031 - val_accuracy: 0.4203\n",
      "Epoch 33/200\n",
      "51/51 [==============================] - 125s 2s/step - loss: 1.4365 - accuracy: 0.5090 - val_loss: 1.6141 - val_accuracy: 0.3764\n",
      "Epoch 34/200\n",
      "51/51 [==============================] - 125s 2s/step - loss: 1.4139 - accuracy: 0.4961 - val_loss: 1.5626 - val_accuracy: 0.3995\n",
      "INFO:tensorflow:Assets written to: vgg_lstm_clean_v1/assets\n",
      "Epoch 35/200\n",
      "51/51 [==============================] - 125s 2s/step - loss: 1.4219 - accuracy: 0.4823 - val_loss: 1.5210 - val_accuracy: 0.4365\n",
      "INFO:tensorflow:Assets written to: vgg_lstm_clean_v1/assets\n",
      "Epoch 36/200\n",
      "51/51 [==============================] - 125s 2s/step - loss: 1.3724 - accuracy: 0.4976 - val_loss: 1.5428 - val_accuracy: 0.4342\n",
      "Epoch 37/200\n",
      "51/51 [==============================] - 125s 2s/step - loss: 1.3538 - accuracy: 0.5255 - val_loss: 1.5236 - val_accuracy: 0.4411\n",
      "Epoch 38/200\n",
      "51/51 [==============================] - 125s 2s/step - loss: 1.3265 - accuracy: 0.5354 - val_loss: 1.4906 - val_accuracy: 0.4273\n",
      "INFO:tensorflow:Assets written to: vgg_lstm_clean_v1/assets\n",
      "Epoch 39/200\n",
      "51/51 [==============================] - 125s 2s/step - loss: 1.3420 - accuracy: 0.5061 - val_loss: 1.5677 - val_accuracy: 0.4018\n",
      "Epoch 40/200\n",
      "51/51 [==============================] - 125s 2s/step - loss: 1.2912 - accuracy: 0.5186 - val_loss: 1.4747 - val_accuracy: 0.4642\n",
      "INFO:tensorflow:Assets written to: vgg_lstm_clean_v1/assets\n",
      "Epoch 41/200\n",
      "51/51 [==============================] - 125s 2s/step - loss: 1.2515 - accuracy: 0.5659 - val_loss: 1.4345 - val_accuracy: 0.4850\n",
      "INFO:tensorflow:Assets written to: vgg_lstm_clean_v1/assets\n",
      "Epoch 42/200\n",
      "51/51 [==============================] - 125s 2s/step - loss: 1.2253 - accuracy: 0.5937 - val_loss: 1.4566 - val_accuracy: 0.4503\n",
      "Epoch 43/200\n",
      "51/51 [==============================] - 125s 2s/step - loss: 1.2503 - accuracy: 0.5645 - val_loss: 1.4216 - val_accuracy: 0.4619\n",
      "INFO:tensorflow:Assets written to: vgg_lstm_clean_v1/assets\n",
      "Epoch 44/200\n",
      "51/51 [==============================] - 126s 2s/step - loss: 1.1836 - accuracy: 0.5923 - val_loss: 1.4369 - val_accuracy: 0.4896\n",
      "Epoch 45/200\n",
      "51/51 [==============================] - 125s 2s/step - loss: 1.1534 - accuracy: 0.5964 - val_loss: 1.4067 - val_accuracy: 0.4827\n",
      "INFO:tensorflow:Assets written to: vgg_lstm_clean_v1/assets\n",
      "Epoch 46/200\n"
     ]
    },
    {
     "name": "stdout",
     "output_type": "stream",
     "text": [
      "51/51 [==============================] - 126s 2s/step - loss: 1.1252 - accuracy: 0.6327 - val_loss: 1.4794 - val_accuracy: 0.4480\n",
      "Epoch 47/200\n",
      "51/51 [==============================] - 126s 2s/step - loss: 1.1975 - accuracy: 0.5775 - val_loss: 1.4051 - val_accuracy: 0.4873\n",
      "INFO:tensorflow:Assets written to: vgg_lstm_clean_v1/assets\n",
      "Epoch 48/200\n",
      "51/51 [==============================] - 126s 2s/step - loss: 1.0986 - accuracy: 0.6184 - val_loss: 1.3990 - val_accuracy: 0.5012\n",
      "INFO:tensorflow:Assets written to: vgg_lstm_clean_v1/assets\n",
      "Epoch 49/200\n",
      "51/51 [==============================] - 126s 2s/step - loss: 1.1184 - accuracy: 0.6143 - val_loss: 1.3682 - val_accuracy: 0.5219\n",
      "INFO:tensorflow:Assets written to: vgg_lstm_clean_v1/assets\n",
      "Epoch 50/200\n",
      "51/51 [==============================] - 126s 2s/step - loss: 1.0570 - accuracy: 0.6394 - val_loss: 1.3178 - val_accuracy: 0.5012\n",
      "INFO:tensorflow:Assets written to: vgg_lstm_clean_v1/assets\n",
      "Epoch 51/200\n",
      "51/51 [==============================] - 125s 2s/step - loss: 1.1210 - accuracy: 0.5878 - val_loss: 1.4773 - val_accuracy: 0.4503\n",
      "Epoch 52/200\n",
      "51/51 [==============================] - 124s 2s/step - loss: 1.0948 - accuracy: 0.6063 - val_loss: 1.3445 - val_accuracy: 0.5058\n",
      "Epoch 53/200\n",
      "51/51 [==============================] - 124s 2s/step - loss: 1.0457 - accuracy: 0.6369 - val_loss: 1.4056 - val_accuracy: 0.4734\n",
      "Epoch 54/200\n",
      "51/51 [==============================] - 124s 2s/step - loss: 0.9476 - accuracy: 0.6964 - val_loss: 1.3205 - val_accuracy: 0.5381\n",
      "Epoch 55/200\n",
      "51/51 [==============================] - 124s 2s/step - loss: 0.9871 - accuracy: 0.6816 - val_loss: 1.3367 - val_accuracy: 0.5058\n",
      "Epoch 56/200\n",
      "51/51 [==============================] - 124s 2s/step - loss: 0.9672 - accuracy: 0.6704 - val_loss: 1.3528 - val_accuracy: 0.5127\n",
      "Epoch 57/200\n",
      "51/51 [==============================] - 124s 2s/step - loss: 0.9282 - accuracy: 0.7100 - val_loss: 1.3571 - val_accuracy: 0.4988\n",
      "Epoch 58/200\n",
      "51/51 [==============================] - 124s 2s/step - loss: 0.8980 - accuracy: 0.7216 - val_loss: 1.2839 - val_accuracy: 0.5473\n",
      "INFO:tensorflow:Assets written to: vgg_lstm_clean_v1/assets\n",
      "Epoch 59/200\n",
      "51/51 [==============================] - 125s 2s/step - loss: 0.9238 - accuracy: 0.7047 - val_loss: 1.2777 - val_accuracy: 0.5520\n",
      "INFO:tensorflow:Assets written to: vgg_lstm_clean_v1/assets\n",
      "Epoch 60/200\n",
      "51/51 [==============================] - 125s 2s/step - loss: 0.8880 - accuracy: 0.7157 - val_loss: 1.2526 - val_accuracy: 0.5520\n",
      "INFO:tensorflow:Assets written to: vgg_lstm_clean_v1/assets\n",
      "Epoch 61/200\n",
      "51/51 [==============================] - 124s 2s/step - loss: 0.8705 - accuracy: 0.7134 - val_loss: 1.2767 - val_accuracy: 0.5450\n",
      "Epoch 62/200\n",
      "51/51 [==============================] - 124s 2s/step - loss: 0.8097 - accuracy: 0.7406 - val_loss: 1.2518 - val_accuracy: 0.5381\n",
      "INFO:tensorflow:Assets written to: vgg_lstm_clean_v1/assets\n",
      "Epoch 63/200\n",
      "51/51 [==============================] - 124s 2s/step - loss: 0.8245 - accuracy: 0.7352 - val_loss: 1.2464 - val_accuracy: 0.5242\n",
      "INFO:tensorflow:Assets written to: vgg_lstm_clean_v1/assets\n",
      "Epoch 64/200\n",
      "51/51 [==============================] - 124s 2s/step - loss: 0.7835 - accuracy: 0.7353 - val_loss: 1.2921 - val_accuracy: 0.5473\n",
      "Epoch 65/200\n",
      "51/51 [==============================] - 124s 2s/step - loss: 0.7873 - accuracy: 0.7439 - val_loss: 1.1986 - val_accuracy: 0.5543\n",
      "INFO:tensorflow:Assets written to: vgg_lstm_clean_v1/assets\n",
      "Epoch 66/200\n",
      "51/51 [==============================] - 124s 2s/step - loss: 0.7687 - accuracy: 0.7468 - val_loss: 1.2104 - val_accuracy: 0.5681\n",
      "Epoch 67/200\n",
      "51/51 [==============================] - 123s 2s/step - loss: 0.8116 - accuracy: 0.7287 - val_loss: 1.2359 - val_accuracy: 0.5450\n",
      "Epoch 68/200\n",
      "51/51 [==============================] - 123s 2s/step - loss: 0.7366 - accuracy: 0.7772 - val_loss: 1.2103 - val_accuracy: 0.5473\n",
      "Epoch 69/200\n",
      "51/51 [==============================] - 124s 2s/step - loss: 0.7384 - accuracy: 0.7763 - val_loss: 1.1917 - val_accuracy: 0.5866\n",
      "INFO:tensorflow:Assets written to: vgg_lstm_clean_v1/assets\n",
      "Epoch 70/200\n",
      "51/51 [==============================] - 124s 2s/step - loss: 0.7494 - accuracy: 0.7446 - val_loss: 1.1582 - val_accuracy: 0.5889\n",
      "INFO:tensorflow:Assets written to: vgg_lstm_clean_v1/assets\n",
      "Epoch 71/200\n",
      "51/51 [==============================] - 124s 2s/step - loss: 0.6933 - accuracy: 0.7759 - val_loss: 1.1909 - val_accuracy: 0.5681\n",
      "Epoch 72/200\n",
      "51/51 [==============================] - 124s 2s/step - loss: 0.6954 - accuracy: 0.7784 - val_loss: 1.1985 - val_accuracy: 0.5774\n",
      "Epoch 73/200\n",
      "51/51 [==============================] - 124s 2s/step - loss: 0.6871 - accuracy: 0.7855 - val_loss: 1.1745 - val_accuracy: 0.5797\n",
      "Epoch 74/200\n",
      "51/51 [==============================] - 124s 2s/step - loss: 0.6607 - accuracy: 0.7942 - val_loss: 1.2291 - val_accuracy: 0.5635\n",
      "Epoch 75/200\n",
      "51/51 [==============================] - 124s 2s/step - loss: 0.7105 - accuracy: 0.7743 - val_loss: 1.1931 - val_accuracy: 0.5774\n",
      "Epoch 76/200\n",
      "51/51 [==============================] - 124s 2s/step - loss: 0.5943 - accuracy: 0.8013 - val_loss: 1.1452 - val_accuracy: 0.5820\n",
      "INFO:tensorflow:Assets written to: vgg_lstm_clean_v1/assets\n",
      "Epoch 77/200\n",
      "51/51 [==============================] - 124s 2s/step - loss: 0.6194 - accuracy: 0.8177 - val_loss: 1.1569 - val_accuracy: 0.5635\n",
      "Epoch 78/200\n",
      "51/51 [==============================] - 124s 2s/step - loss: 0.6323 - accuracy: 0.8179 - val_loss: 1.1647 - val_accuracy: 0.5727\n",
      "Epoch 79/200\n",
      "51/51 [==============================] - 124s 2s/step - loss: 0.6216 - accuracy: 0.8151 - val_loss: 1.1253 - val_accuracy: 0.5843\n",
      "INFO:tensorflow:Assets written to: vgg_lstm_clean_v1/assets\n",
      "Epoch 80/200\n",
      "51/51 [==============================] - 124s 2s/step - loss: 0.5863 - accuracy: 0.8228 - val_loss: 1.1494 - val_accuracy: 0.5681\n",
      "Epoch 81/200\n",
      "51/51 [==============================] - 124s 2s/step - loss: 0.5767 - accuracy: 0.8247 - val_loss: 1.1622 - val_accuracy: 0.5751\n",
      "Epoch 82/200\n",
      "51/51 [==============================] - 123s 2s/step - loss: 0.6154 - accuracy: 0.8256 - val_loss: 1.0955 - val_accuracy: 0.6189\n",
      "INFO:tensorflow:Assets written to: vgg_lstm_clean_v1/assets\n",
      "Epoch 83/200\n",
      "51/51 [==============================] - 124s 2s/step - loss: 0.5538 - accuracy: 0.8312 - val_loss: 1.0768 - val_accuracy: 0.5843\n",
      "INFO:tensorflow:Assets written to: vgg_lstm_clean_v1/assets\n",
      "Epoch 84/200\n",
      "51/51 [==============================] - 124s 2s/step - loss: 0.5672 - accuracy: 0.8328 - val_loss: 1.1870 - val_accuracy: 0.5774\n",
      "Epoch 85/200\n",
      "51/51 [==============================] - 124s 2s/step - loss: 0.5404 - accuracy: 0.8512 - val_loss: 1.1185 - val_accuracy: 0.6005\n",
      "Epoch 86/200\n",
      "51/51 [==============================] - 124s 2s/step - loss: 0.5342 - accuracy: 0.8362 - val_loss: 1.1583 - val_accuracy: 0.5751\n",
      "Epoch 87/200\n",
      "51/51 [==============================] - 124s 2s/step - loss: 0.5201 - accuracy: 0.8524 - val_loss: 1.0592 - val_accuracy: 0.6166\n",
      "INFO:tensorflow:Assets written to: vgg_lstm_clean_v1/assets\n",
      "Epoch 88/200\n",
      "51/51 [==============================] - 124s 2s/step - loss: 0.5170 - accuracy: 0.8267 - val_loss: 1.1598 - val_accuracy: 0.5866\n",
      "Epoch 89/200\n",
      "51/51 [==============================] - 124s 2s/step - loss: 0.5017 - accuracy: 0.8414 - val_loss: 1.1394 - val_accuracy: 0.5751\n",
      "Epoch 90/200\n",
      "51/51 [==============================] - 124s 2s/step - loss: 0.4729 - accuracy: 0.8801 - val_loss: 1.0979 - val_accuracy: 0.6120\n",
      "Epoch 91/200\n",
      "51/51 [==============================] - 124s 2s/step - loss: 0.4746 - accuracy: 0.8594 - val_loss: 1.1379 - val_accuracy: 0.5843\n",
      "Epoch 92/200\n",
      "51/51 [==============================] - 124s 2s/step - loss: 0.4484 - accuracy: 0.8728 - val_loss: 1.0398 - val_accuracy: 0.6074\n",
      "INFO:tensorflow:Assets written to: vgg_lstm_clean_v1/assets\n",
      "Epoch 93/200\n",
      "51/51 [==============================] - 124s 2s/step - loss: 0.4355 - accuracy: 0.8738 - val_loss: 1.0613 - val_accuracy: 0.6143\n",
      "Epoch 94/200\n",
      "51/51 [==============================] - 124s 2s/step - loss: 0.4353 - accuracy: 0.8774 - val_loss: 1.0504 - val_accuracy: 0.6420\n",
      "Epoch 95/200\n",
      "51/51 [==============================] - 124s 2s/step - loss: 0.4220 - accuracy: 0.8694 - val_loss: 1.1037 - val_accuracy: 0.5982\n"
     ]
    },
    {
     "name": "stdout",
     "output_type": "stream",
     "text": [
      "Epoch 96/200\n",
      "51/51 [==============================] - 124s 2s/step - loss: 0.4412 - accuracy: 0.8746 - val_loss: 1.0904 - val_accuracy: 0.6028\n",
      "Epoch 97/200\n",
      "51/51 [==============================] - 124s 2s/step - loss: 0.4545 - accuracy: 0.8752 - val_loss: 1.0831 - val_accuracy: 0.6005\n",
      "Epoch 98/200\n",
      "51/51 [==============================] - 124s 2s/step - loss: 0.4167 - accuracy: 0.8784 - val_loss: 1.0766 - val_accuracy: 0.6143\n",
      "Epoch 99/200\n",
      "51/51 [==============================] - 124s 2s/step - loss: 0.4532 - accuracy: 0.8623 - val_loss: 1.0354 - val_accuracy: 0.6259\n",
      "INFO:tensorflow:Assets written to: vgg_lstm_clean_v1/assets\n",
      "Epoch 100/200\n",
      "51/51 [==============================] - 124s 2s/step - loss: 0.4229 - accuracy: 0.8861 - val_loss: 1.0599 - val_accuracy: 0.6120\n",
      "Epoch 101/200\n",
      "51/51 [==============================] - 124s 2s/step - loss: 0.4100 - accuracy: 0.8698 - val_loss: 1.0595 - val_accuracy: 0.6143\n",
      "Epoch 102/200\n",
      "51/51 [==============================] - 124s 2s/step - loss: 0.3950 - accuracy: 0.8877 - val_loss: 1.0893 - val_accuracy: 0.5982\n",
      "Epoch 103/200\n",
      "51/51 [==============================] - 124s 2s/step - loss: 0.4264 - accuracy: 0.8642 - val_loss: 1.0214 - val_accuracy: 0.6397\n",
      "INFO:tensorflow:Assets written to: vgg_lstm_clean_v1/assets\n",
      "Epoch 104/200\n",
      "51/51 [==============================] - 124s 2s/step - loss: 0.3708 - accuracy: 0.9025 - val_loss: 1.0567 - val_accuracy: 0.6282\n",
      "Epoch 105/200\n",
      "51/51 [==============================] - 124s 2s/step - loss: 0.3509 - accuracy: 0.9232 - val_loss: 1.0884 - val_accuracy: 0.6189\n",
      "Epoch 106/200\n",
      "51/51 [==============================] - 124s 2s/step - loss: 0.3788 - accuracy: 0.9040 - val_loss: 1.0118 - val_accuracy: 0.6189\n",
      "INFO:tensorflow:Assets written to: vgg_lstm_clean_v1/assets\n",
      "Epoch 107/200\n",
      "51/51 [==============================] - 124s 2s/step - loss: 0.3429 - accuracy: 0.9176 - val_loss: 1.0149 - val_accuracy: 0.6513\n",
      "Epoch 108/200\n",
      "51/51 [==============================] - 124s 2s/step - loss: 0.2900 - accuracy: 0.9357 - val_loss: 1.0636 - val_accuracy: 0.6236\n",
      "Epoch 109/200\n",
      "51/51 [==============================] - 124s 2s/step - loss: 0.3531 - accuracy: 0.9122 - val_loss: 1.0524 - val_accuracy: 0.6236\n",
      "Epoch 110/200\n",
      "51/51 [==============================] - 124s 2s/step - loss: 0.3429 - accuracy: 0.9062 - val_loss: 1.0442 - val_accuracy: 0.6351\n",
      "Epoch 111/200\n",
      "51/51 [==============================] - 124s 2s/step - loss: 0.3103 - accuracy: 0.9143 - val_loss: 1.0587 - val_accuracy: 0.6536\n",
      "Epoch 112/200\n",
      "51/51 [==============================] - 124s 2s/step - loss: 0.3136 - accuracy: 0.9181 - val_loss: 0.9973 - val_accuracy: 0.6397\n",
      "INFO:tensorflow:Assets written to: vgg_lstm_clean_v1/assets\n",
      "Epoch 113/200\n",
      "51/51 [==============================] - 124s 2s/step - loss: 0.3091 - accuracy: 0.9164 - val_loss: 1.0087 - val_accuracy: 0.6513\n",
      "Epoch 114/200\n",
      "51/51 [==============================] - 124s 2s/step - loss: 0.3227 - accuracy: 0.9015 - val_loss: 1.0616 - val_accuracy: 0.6351\n",
      "Epoch 115/200\n",
      "51/51 [==============================] - 124s 2s/step - loss: 0.3038 - accuracy: 0.9049 - val_loss: 1.2428 - val_accuracy: 0.6143\n",
      "Epoch 116/200\n",
      "51/51 [==============================] - 124s 2s/step - loss: 0.3348 - accuracy: 0.9114 - val_loss: 1.1105 - val_accuracy: 0.6282\n",
      "Epoch 117/200\n",
      "51/51 [==============================] - 124s 2s/step - loss: 0.3054 - accuracy: 0.9152 - val_loss: 1.0218 - val_accuracy: 0.6559\n",
      "Epoch 118/200\n",
      "51/51 [==============================] - 124s 2s/step - loss: 0.2587 - accuracy: 0.9296 - val_loss: 1.0170 - val_accuracy: 0.6420\n",
      "Epoch 119/200\n",
      "51/51 [==============================] - 124s 2s/step - loss: 0.2758 - accuracy: 0.9344 - val_loss: 1.0188 - val_accuracy: 0.6420\n",
      "Epoch 120/200\n",
      "51/51 [==============================] - 124s 2s/step - loss: 0.2508 - accuracy: 0.9398 - val_loss: 1.0461 - val_accuracy: 0.6467\n",
      "Epoch 121/200\n",
      "51/51 [==============================] - 124s 2s/step - loss: 0.2515 - accuracy: 0.9256 - val_loss: 1.0693 - val_accuracy: 0.6074\n",
      "Epoch 122/200\n",
      "51/51 [==============================] - 124s 2s/step - loss: 0.2699 - accuracy: 0.9301 - val_loss: 1.0051 - val_accuracy: 0.6582\n",
      "Epoch 123/200\n",
      "51/51 [==============================] - 124s 2s/step - loss: 0.2665 - accuracy: 0.9310 - val_loss: 1.0299 - val_accuracy: 0.6559\n",
      "Epoch 124/200\n",
      "51/51 [==============================] - 124s 2s/step - loss: 0.2557 - accuracy: 0.9394 - val_loss: 1.0028 - val_accuracy: 0.6582\n",
      "Epoch 125/200\n",
      "51/51 [==============================] - 124s 2s/step - loss: 0.2473 - accuracy: 0.9354 - val_loss: 1.0247 - val_accuracy: 0.6420\n",
      "Epoch 126/200\n",
      "51/51 [==============================] - 124s 2s/step - loss: 0.2507 - accuracy: 0.9361 - val_loss: 1.1477 - val_accuracy: 0.6166\n",
      "Epoch 127/200\n",
      "51/51 [==============================] - 124s 2s/step - loss: 0.2591 - accuracy: 0.9361 - val_loss: 0.9820 - val_accuracy: 0.6628\n",
      "INFO:tensorflow:Assets written to: vgg_lstm_clean_v1/assets\n",
      "Epoch 128/200\n",
      "51/51 [==============================] - 124s 2s/step - loss: 0.2421 - accuracy: 0.9346 - val_loss: 1.0435 - val_accuracy: 0.6282\n",
      "Epoch 129/200\n",
      "51/51 [==============================] - 124s 2s/step - loss: 0.2595 - accuracy: 0.9311 - val_loss: 0.9781 - val_accuracy: 0.6744\n",
      "INFO:tensorflow:Assets written to: vgg_lstm_clean_v1/assets\n",
      "Epoch 130/200\n",
      "51/51 [==============================] - 124s 2s/step - loss: 0.2274 - accuracy: 0.9486 - val_loss: 1.0340 - val_accuracy: 0.6559\n",
      "Epoch 131/200\n",
      "51/51 [==============================] - 124s 2s/step - loss: 0.2313 - accuracy: 0.9291 - val_loss: 1.0498 - val_accuracy: 0.6697\n",
      "Epoch 132/200\n",
      "51/51 [==============================] - 124s 2s/step - loss: 0.2186 - accuracy: 0.9458 - val_loss: 1.0334 - val_accuracy: 0.6467\n",
      "Epoch 133/200\n",
      "51/51 [==============================] - 124s 2s/step - loss: 0.1934 - accuracy: 0.9494 - val_loss: 1.0355 - val_accuracy: 0.6351\n",
      "Epoch 134/200\n",
      "51/51 [==============================] - 124s 2s/step - loss: 0.2190 - accuracy: 0.9448 - val_loss: 1.0191 - val_accuracy: 0.6467\n",
      "Epoch 135/200\n",
      "51/51 [==============================] - 124s 2s/step - loss: 0.1856 - accuracy: 0.9580 - val_loss: 1.0175 - val_accuracy: 0.6351\n",
      "Epoch 136/200\n",
      "51/51 [==============================] - 124s 2s/step - loss: 0.1841 - accuracy: 0.9648 - val_loss: 1.1174 - val_accuracy: 0.6282\n",
      "Epoch 137/200\n",
      "51/51 [==============================] - 124s 2s/step - loss: 0.2007 - accuracy: 0.9486 - val_loss: 1.0480 - val_accuracy: 0.6536\n",
      "Epoch 138/200\n",
      "51/51 [==============================] - 124s 2s/step - loss: 0.2070 - accuracy: 0.9497 - val_loss: 1.0868 - val_accuracy: 0.6513\n",
      "Epoch 139/200\n",
      "51/51 [==============================] - 124s 2s/step - loss: 0.1950 - accuracy: 0.9631 - val_loss: 1.1176 - val_accuracy: 0.6397\n",
      "Epoch 140/200\n",
      "51/51 [==============================] - 124s 2s/step - loss: 0.1736 - accuracy: 0.9506 - val_loss: 1.0185 - val_accuracy: 0.6651\n",
      "Epoch 141/200\n",
      "51/51 [==============================] - 126s 2s/step - loss: 0.1979 - accuracy: 0.9532 - val_loss: 1.0935 - val_accuracy: 0.6467\n",
      "Epoch 142/200\n",
      "51/51 [==============================] - 128s 3s/step - loss: 0.1805 - accuracy: 0.9616 - val_loss: 1.2323 - val_accuracy: 0.6189\n",
      "Epoch 143/200\n",
      "51/51 [==============================] - 125s 2s/step - loss: 0.2089 - accuracy: 0.9365 - val_loss: 1.2304 - val_accuracy: 0.6120\n",
      "Epoch 144/200\n",
      "51/51 [==============================] - 127s 3s/step - loss: 0.1887 - accuracy: 0.9564 - val_loss: 1.0803 - val_accuracy: 0.6536\n",
      "Epoch 145/200\n",
      "51/51 [==============================] - 126s 2s/step - loss: 0.1934 - accuracy: 0.9366 - val_loss: 1.0704 - val_accuracy: 0.6651\n",
      "Epoch 146/200\n",
      "51/51 [==============================] - 123s 2s/step - loss: 0.1703 - accuracy: 0.9634 - val_loss: 1.0380 - val_accuracy: 0.6536\n",
      "Epoch 147/200\n",
      "51/51 [==============================] - 122s 2s/step - loss: 0.2199 - accuracy: 0.9349 - val_loss: 1.0458 - val_accuracy: 0.6559\n",
      "Epoch 148/200\n",
      "51/51 [==============================] - 124s 2s/step - loss: 0.1535 - accuracy: 0.9597 - val_loss: 1.0866 - val_accuracy: 0.6443\n",
      "Epoch 149/200\n",
      "51/51 [==============================] - 127s 2s/step - loss: 0.1797 - accuracy: 0.9547 - val_loss: 1.1890 - val_accuracy: 0.6282\n",
      "Epoch 150/200\n"
     ]
    },
    {
     "name": "stdout",
     "output_type": "stream",
     "text": [
      "51/51 [==============================] - 127s 3s/step - loss: 0.2085 - accuracy: 0.9371 - val_loss: 1.0994 - val_accuracy: 0.6467\n",
      "Epoch 151/200\n",
      "51/51 [==============================] - 127s 3s/step - loss: 0.1572 - accuracy: 0.9693 - val_loss: 0.9995 - val_accuracy: 0.6836\n",
      "Epoch 152/200\n",
      "51/51 [==============================] - 127s 3s/step - loss: 0.1463 - accuracy: 0.9679 - val_loss: 1.2606 - val_accuracy: 0.6259\n",
      "Epoch 153/200\n",
      "51/51 [==============================] - 127s 3s/step - loss: 0.1574 - accuracy: 0.9661 - val_loss: 1.1508 - val_accuracy: 0.6351\n",
      "Epoch 154/200\n",
      "51/51 [==============================] - 127s 2s/step - loss: 0.1540 - accuracy: 0.9604 - val_loss: 1.0625 - val_accuracy: 0.6674\n",
      "Epoch 155/200\n",
      "51/51 [==============================] - 127s 3s/step - loss: 0.1709 - accuracy: 0.9599 - val_loss: 1.2353 - val_accuracy: 0.6305\n",
      "Epoch 156/200\n",
      "51/51 [==============================] - 127s 2s/step - loss: 0.1692 - accuracy: 0.9491 - val_loss: 1.0594 - val_accuracy: 0.6490\n",
      "Epoch 157/200\n",
      "51/51 [==============================] - 127s 3s/step - loss: 0.1441 - accuracy: 0.9734 - val_loss: 1.1707 - val_accuracy: 0.6513\n",
      "Epoch 158/200\n",
      "51/51 [==============================] - 127s 3s/step - loss: 0.1703 - accuracy: 0.9486 - val_loss: 1.1390 - val_accuracy: 0.6490\n",
      "Epoch 159/200\n",
      "51/51 [==============================] - 127s 3s/step - loss: 0.1542 - accuracy: 0.9529 - val_loss: 1.0314 - val_accuracy: 0.6790\n",
      "Epoch 160/200\n",
      "51/51 [==============================] - 127s 2s/step - loss: 0.1756 - accuracy: 0.9534 - val_loss: 1.0600 - val_accuracy: 0.6628\n",
      "Epoch 161/200\n",
      "51/51 [==============================] - 127s 3s/step - loss: 0.1236 - accuracy: 0.9788 - val_loss: 1.0872 - val_accuracy: 0.6697\n",
      "Epoch 162/200\n",
      "51/51 [==============================] - 127s 3s/step - loss: 0.1679 - accuracy: 0.9522 - val_loss: 1.0741 - val_accuracy: 0.6790\n",
      "Epoch 163/200\n",
      "51/51 [==============================] - 127s 3s/step - loss: 0.1358 - accuracy: 0.9687 - val_loss: 1.0582 - val_accuracy: 0.6420\n",
      "Epoch 164/200\n",
      "51/51 [==============================] - 127s 3s/step - loss: 0.1464 - accuracy: 0.9526 - val_loss: 1.1936 - val_accuracy: 0.6351\n",
      "Epoch 165/200\n",
      "51/51 [==============================] - 127s 2s/step - loss: 0.1498 - accuracy: 0.9563 - val_loss: 1.2127 - val_accuracy: 0.6490\n",
      "Epoch 166/200\n",
      "51/51 [==============================] - 127s 3s/step - loss: 0.1206 - accuracy: 0.9779 - val_loss: 1.1360 - val_accuracy: 0.6420\n",
      "Epoch 167/200\n",
      "51/51 [==============================] - 127s 3s/step - loss: 0.1516 - accuracy: 0.9599 - val_loss: 1.0745 - val_accuracy: 0.6582\n",
      "Epoch 168/200\n",
      "51/51 [==============================] - 127s 3s/step - loss: 0.1149 - accuracy: 0.9766 - val_loss: 1.3088 - val_accuracy: 0.6212\n",
      "Epoch 169/200\n",
      "51/51 [==============================] - 127s 3s/step - loss: 0.1361 - accuracy: 0.9712 - val_loss: 1.1485 - val_accuracy: 0.6767\n",
      "Epoch 170/200\n",
      "51/51 [==============================] - 127s 2s/step - loss: 0.1100 - accuracy: 0.9692 - val_loss: 1.0230 - val_accuracy: 0.6975\n",
      "Epoch 171/200\n",
      "51/51 [==============================] - 127s 3s/step - loss: 0.1287 - accuracy: 0.9691 - val_loss: 1.2211 - val_accuracy: 0.6305\n",
      "Epoch 172/200\n",
      "51/51 [==============================] - 127s 3s/step - loss: 0.1403 - accuracy: 0.9691 - val_loss: 1.1045 - val_accuracy: 0.6605\n",
      "Epoch 173/200\n",
      "51/51 [==============================] - 127s 3s/step - loss: 0.0949 - accuracy: 0.9880 - val_loss: 1.2252 - val_accuracy: 0.6259\n",
      "Epoch 174/200\n",
      "51/51 [==============================] - 127s 2s/step - loss: 0.1385 - accuracy: 0.9652 - val_loss: 1.1001 - val_accuracy: 0.6813\n",
      "Epoch 175/200\n",
      "51/51 [==============================] - 127s 3s/step - loss: 0.1060 - accuracy: 0.9737 - val_loss: 1.1285 - val_accuracy: 0.6443\n",
      "Epoch 176/200\n",
      "51/51 [==============================] - 127s 2s/step - loss: 0.0910 - accuracy: 0.9826 - val_loss: 1.1327 - val_accuracy: 0.6443\n",
      "Epoch 177/200\n",
      "51/51 [==============================] - 127s 3s/step - loss: 0.1045 - accuracy: 0.9767 - val_loss: 1.1716 - val_accuracy: 0.6513\n",
      "Epoch 178/200\n",
      "51/51 [==============================] - 127s 3s/step - loss: 0.1266 - accuracy: 0.9643 - val_loss: 1.2618 - val_accuracy: 0.6351\n",
      "Epoch 179/200\n",
      "51/51 [==============================] - 127s 2s/step - loss: 0.1069 - accuracy: 0.9744 - val_loss: 1.0517 - val_accuracy: 0.6790\n",
      "Epoch 180/200\n",
      "51/51 [==============================] - 127s 3s/step - loss: 0.0864 - accuracy: 0.9828 - val_loss: 1.0565 - val_accuracy: 0.6790\n",
      "Epoch 181/200\n",
      "51/51 [==============================] - 127s 2s/step - loss: 0.0978 - accuracy: 0.9653 - val_loss: 1.0784 - val_accuracy: 0.6721\n",
      "Epoch 182/200\n",
      "51/51 [==============================] - 127s 3s/step - loss: 0.0907 - accuracy: 0.9798 - val_loss: 1.0674 - val_accuracy: 0.6790\n",
      "Epoch 183/200\n",
      "51/51 [==============================] - 127s 3s/step - loss: 0.0854 - accuracy: 0.9782 - val_loss: 1.0584 - val_accuracy: 0.6767\n",
      "Epoch 184/200\n",
      "51/51 [==============================] - 127s 3s/step - loss: 0.0747 - accuracy: 0.9855 - val_loss: 1.0546 - val_accuracy: 0.6697\n",
      "Epoch 185/200\n",
      "51/51 [==============================] - 127s 2s/step - loss: 0.0707 - accuracy: 0.9951 - val_loss: 1.0888 - val_accuracy: 0.6651\n",
      "Epoch 186/200\n",
      "51/51 [==============================] - 127s 3s/step - loss: 0.0789 - accuracy: 0.9836 - val_loss: 1.0568 - val_accuracy: 0.6744\n",
      "Epoch 187/200\n",
      "51/51 [==============================] - 126s 2s/step - loss: 0.0721 - accuracy: 0.9893 - val_loss: 1.0814 - val_accuracy: 0.6744\n",
      "Epoch 188/200\n",
      "51/51 [==============================] - 126s 2s/step - loss: 0.0720 - accuracy: 0.9883 - val_loss: 1.0582 - val_accuracy: 0.6744\n",
      "Epoch 189/200\n",
      "51/51 [==============================] - 126s 2s/step - loss: 0.0710 - accuracy: 0.9894 - val_loss: 1.0809 - val_accuracy: 0.6836\n",
      "Epoch 190/200\n",
      "51/51 [==============================] - 127s 2s/step - loss: 0.0836 - accuracy: 0.9887 - val_loss: 1.0747 - val_accuracy: 0.6882\n",
      "Epoch 191/200\n",
      "51/51 [==============================] - 127s 2s/step - loss: 0.0708 - accuracy: 0.9891 - val_loss: 1.0324 - val_accuracy: 0.6859\n",
      "Epoch 192/200\n",
      "51/51 [==============================] - 126s 2s/step - loss: 0.0772 - accuracy: 0.9848 - val_loss: 1.0442 - val_accuracy: 0.6813\n",
      "Epoch 193/200\n",
      "51/51 [==============================] - 127s 2s/step - loss: 0.0886 - accuracy: 0.9749 - val_loss: 1.0289 - val_accuracy: 0.6859\n",
      "Epoch 194/200\n",
      "51/51 [==============================] - 127s 3s/step - loss: 0.0767 - accuracy: 0.9816 - val_loss: 1.0407 - val_accuracy: 0.6790\n",
      "Epoch 195/200\n",
      "51/51 [==============================] - 127s 2s/step - loss: 0.0692 - accuracy: 0.9889 - val_loss: 1.0549 - val_accuracy: 0.6882\n",
      "Epoch 196/200\n",
      "51/51 [==============================] - 127s 2s/step - loss: 0.0855 - accuracy: 0.9806 - val_loss: 1.0266 - val_accuracy: 0.6905\n",
      "Epoch 197/200\n",
      "51/51 [==============================] - 127s 2s/step - loss: 0.0789 - accuracy: 0.9852 - val_loss: 1.0662 - val_accuracy: 0.6674\n",
      "Epoch 198/200\n",
      "51/51 [==============================] - 127s 3s/step - loss: 0.0902 - accuracy: 0.9830 - val_loss: 1.1057 - val_accuracy: 0.6744\n",
      "Epoch 199/200\n",
      "51/51 [==============================] - 127s 2s/step - loss: 0.0813 - accuracy: 0.9861 - val_loss: 1.0802 - val_accuracy: 0.6836\n",
      "Epoch 200/200\n",
      "51/51 [==============================] - 127s 2s/step - loss: 0.0732 - accuracy: 0.9916 - val_loss: 1.1139 - val_accuracy: 0.6744\n"
     ]
    }
   ],
   "source": [
    "history = model.fit(train_data, train_action_labels,\n",
    "                    validation_data=(val_data, val_action_labels),\n",
    "                    batch_size=20, epochs=200,\n",
    "                    callbacks=callbacks_list\n",
    "                    )"
   ]
  },
  {
   "cell_type": "markdown",
   "id": "adopted-murray",
   "metadata": {},
   "source": [
    "### 1.3 Visualize Train/Valid accuracy & loss, confusion matrix"
   ]
  },
  {
   "cell_type": "code",
   "execution_count": 9,
   "id": "breeding-seating",
   "metadata": {},
   "outputs": [
    {
     "data": {
      "image/png": "[encoded data removed]",
      "text/plain": [
       "<Figure size 432x288 with 1 Axes>"
      ]
     },
     "metadata": {
      "needs_background": "light"
     },
     "output_type": "display_data"
    },
    {
     "data": {
      "image/png": "[encoded data removed]",
      "text/plain": [
       "<Figure size 432x288 with 1 Axes>"
      ]
     },
     "metadata": {
      "needs_background": "light"
     },
     "output_type": "display_data"
    }
   ],
   "source": [
    "###Plot train/valid accuracy & loss\n",
    "import matplotlib.pyplot as plt\n",
    "\n",
    "acc=history.history[\"accuracy\"]\n",
    "val_acc=history.history[\"val_accuracy\"]\n",
    "loss=history.history[\"loss\"]\n",
    "val_loss=history.history[\"val_loss\"]\n",
    "epoch_stop = len(acc)\n",
    "epochs=np.arange(1, epoch_stop+1)\n",
    "\n",
    "plt.plot(epochs, acc, label = \"Train\", color = 'darkturquoise')\n",
    "plt.plot(epochs, val_acc, label = \"Valid\", linestyle=\"--\", color = 'deepskyblue')\n",
    "plt.legend()\n",
    "plt.title('Train/Valid Accuracy')\n",
    "plt.show()\n",
    "\n",
    "plt.plot(epochs, loss, label = \"Train\", color = 'orchid')\n",
    "plt.plot(epochs, val_loss, label = \"Valid\", linestyle=\"--\", color = 'deeppink')\n",
    "plt.legend()\n",
    "plt.title('Train/Valid Loss')\n",
    "plt.show()"
   ]
  },
  {
   "cell_type": "code",
   "execution_count": 10,
   "id": "minimal-independence",
   "metadata": {},
   "outputs": [],
   "source": [
    "import keras\n",
    "# Predictions on validation data:\n",
    "val_preds = model.predict(val_data)\n",
    "val_preds = np.argmax(val_preds,axis=1)\n",
    "val_true = [mapping[x] for x in val_actions]"
   ]
  },
  {
   "cell_type": "code",
   "execution_count": 12,
   "id": "greatest-designer",
   "metadata": {},
   "outputs": [
    {
     "data": {
      "text/plain": [
       "<AxesSubplot:>"
      ]
     },
     "execution_count": 12,
     "metadata": {},
     "output_type": "execute_result"
    },
    {
     "data": {
      "image/png": "[encoded data removed]",
      "text/plain": [
       "<Figure size 648x504 with 2 Axes>"
      ]
     },
     "metadata": {
      "needs_background": "light"
     },
     "output_type": "display_data"
    }
   ],
   "source": [
    "import seaborn as sn\n",
    "import pandas as pd\n",
    "import matplotlib.pyplot as plt\n",
    "import sklearn.metrics as metrics\n",
    "\n",
    "confusion_matrix = metrics.confusion_matrix(y_true=val_true, y_pred=val_preds)\n",
    "df_cm = pd.DataFrame(confusion_matrix, index = mapping.keys(),\n",
    "                  columns = mapping.keys())\n",
    "plt.figure(figsize = (9,7))\n",
    "sn.heatmap(df_cm, annot=True, cmap=\"Blues\")"
   ]
  },
  {
   "cell_type": "code",
   "execution_count": 13,
   "id": "heard-november",
   "metadata": {},
   "outputs": [],
   "source": [
    "# COUG:1, SNEE:4\n",
    "val_true_bin = [x in (1, 4) for x in val_true]\n",
    "val_preds_bin = [x in (1, 4) for x in val_preds]"
   ]
  },
  {
   "cell_type": "code",
   "execution_count": 14,
   "id": "living-connectivity",
   "metadata": {},
   "outputs": [
    {
     "data": {
      "text/plain": [
       "<AxesSubplot:>"
      ]
     },
     "execution_count": 14,
     "metadata": {},
     "output_type": "execute_result"
    },
    {
     "data": {
      "image/png": "[encoded data removed]",
      "text/plain": [
       "<Figure size 288x216 with 2 Axes>"
      ]
     },
     "metadata": {
      "needs_background": "light"
     },
     "output_type": "display_data"
    }
   ],
   "source": [
    "confusion_matrix = metrics.confusion_matrix(y_true=val_true_bin, y_pred=val_preds_bin)\n",
    "df_cm = pd.DataFrame(confusion_matrix, index = ['Other', 'COUG_SNEE'],\n",
    "                  columns = ['Other', 'COUG_SNEE'])\n",
    "plt.figure(figsize = (4,3))\n",
    "sn.heatmap(df_cm, annot=True, cmap=\"Blues\")"
   ]
  },
  {
   "cell_type": "code",
   "execution_count": 15,
   "id": "confidential-dynamics",
   "metadata": {},
   "outputs": [
    {
     "name": "stdout",
     "output_type": "stream",
     "text": [
      "Prec.% 0.7946428571428571\n",
      "Rec.% 0.8165137614678899\n",
      "Acc.% 0.6742424242424242\n"
     ]
    }
   ],
   "source": [
    "tn, fp, fn, tp = confusion_matrix.ravel()\n",
    "\n",
    "prec = tp/(tp+fp)\n",
    "rec = tp/(tp+fn)\n",
    "acc = tp / (tp+fp+fn)\n",
    "\n",
    "print('Prec.%', prec)\n",
    "print('Rec.%', rec)\n",
    "print('Acc.%', acc)"
   ]
  },
  {
   "cell_type": "markdown",
   "id": "fluid-wyoming",
   "metadata": {},
   "source": [
    "### 1.4 Save model and loss history"
   ]
  },
  {
   "cell_type": "code",
   "execution_count": 11,
   "id": "collect-exclusion",
   "metadata": {},
   "outputs": [],
   "source": [
    "###Save history\n",
    "np.save(os.path.join(base_dir, \"vgg_lstm_clean_v1_history\"), history.history)\n",
    "###Save model\n",
    "model.save(os.path.join(base_dir, \"vgg_lstm_clean_v1.h5\"))   \n",
    "\n",
    "#Load history:\n",
    "#history = np.load(os.path.join(base_dir, \"mvgg_lstm_clean_v1_history.npy\"), allow_pickle=True)\n",
    "\n",
    "#Load saved model:\n",
    "#model = keras.models.load_model(os.path.join(base_dir, \"vgg_lstm_clean_v1.h5\"))"
   ]
  },
  {
   "cell_type": "markdown",
   "id": "boxed-aside",
   "metadata": {},
   "source": [
    "### 1.5 Evaluation on test data"
   ]
  },
  {
   "cell_type": "code",
   "execution_count": 16,
   "id": "retained-still",
   "metadata": {},
   "outputs": [],
   "source": [
    "#Load Test Data:\n",
    "base_dir = '/home/ubuntu'\n",
    "test_data = np.load(os.path.join(base_dir, 'test_data_pre12.npy'))\n",
    "test_actions = np.load(os.path.join(base_dir, 'test_actions_pre12.npy'), allow_pickle=True)\n"
   ]
  },
  {
   "cell_type": "code",
   "execution_count": 17,
   "id": "compatible-shelf",
   "metadata": {},
   "outputs": [],
   "source": [
    "# Predictions on test data:\n",
    "test_preds = model.predict(test_data)\n",
    "test_preds = np.argmax(test_preds,axis=1)\n",
    "test_true = [mapping[x] for x in test_actions]"
   ]
  },
  {
   "cell_type": "code",
   "execution_count": 18,
   "id": "affected-cruise",
   "metadata": {},
   "outputs": [
    {
     "data": {
      "text/plain": [
       "<AxesSubplot:>"
      ]
     },
     "execution_count": 18,
     "metadata": {},
     "output_type": "execute_result"
    },
    {
     "data": {
      "image/png": "[encoded data removed]",
      "text/plain": [
       "<Figure size 648x504 with 2 Axes>"
      ]
     },
     "metadata": {
      "needs_background": "light"
     },
     "output_type": "display_data"
    }
   ],
   "source": [
    "import seaborn as sn\n",
    "import pandas as pd\n",
    "import matplotlib.pyplot as plt\n",
    "import sklearn.metrics as metrics\n",
    "\n",
    "confusion_matrix = metrics.confusion_matrix(y_true=test_true, y_pred=test_preds)\n",
    "df_cm = pd.DataFrame(confusion_matrix, index = mapping.keys(),\n",
    "                  columns = mapping.keys())\n",
    "plt.figure(figsize = (9,7))\n",
    "sn.heatmap(df_cm, annot=True, cmap=\"Blues\")"
   ]
  },
  {
   "cell_type": "code",
   "execution_count": 19,
   "id": "collect-kruger",
   "metadata": {},
   "outputs": [],
   "source": [
    "# COUG:1, SNEE:4\n",
    "test_true_bin = [x in (1, 4) for x in test_true]\n",
    "test_preds_bin = [x in (1, 4) for x in test_preds]"
   ]
  },
  {
   "cell_type": "code",
   "execution_count": 20,
   "id": "liked-discrimination",
   "metadata": {},
   "outputs": [
    {
     "data": {
      "text/plain": [
       "<AxesSubplot:>"
      ]
     },
     "execution_count": 20,
     "metadata": {},
     "output_type": "execute_result"
    },
    {
     "data": {
      "image/png": "[encoded data removed]",
      "text/plain": [
       "<Figure size 288x216 with 2 Axes>"
      ]
     },
     "metadata": {
      "needs_background": "light"
     },
     "output_type": "display_data"
    }
   ],
   "source": [
    "confusion_matrix = metrics.confusion_matrix(y_true=test_true_bin, y_pred=test_preds_bin)\n",
    "df_cm = pd.DataFrame(confusion_matrix, index = ['Other', 'COUG_SNEE'],\n",
    "                  columns = ['Other', 'COUG_SNEE'])\n",
    "plt.figure(figsize = (4,3))\n",
    "sn.heatmap(df_cm, annot=True, cmap=\"Blues\")"
   ]
  },
  {
   "cell_type": "code",
   "execution_count": 21,
   "id": "phantom-monaco",
   "metadata": {},
   "outputs": [
    {
     "name": "stdout",
     "output_type": "stream",
     "text": [
      "Prec.% 0.6870229007633588\n",
      "Rec.% 0.75\n",
      "Acc.% 0.5590062111801242\n"
     ]
    }
   ],
   "source": [
    "tn, fp, fn, tp = confusion_matrix.ravel()\n",
    "\n",
    "prec = tp/(tp+fp)\n",
    "rec = tp/(tp+fn)\n",
    "acc = tp / (tp+fp+fn)\n",
    "\n",
    "print('Prec.%', prec)\n",
    "print('Rec.%', rec)\n",
    "print('Acc.%', acc)"
   ]
  },
  {
   "cell_type": "code",
   "execution_count": null,
   "id": "careful-attribute",
   "metadata": {},
   "outputs": [],
   "source": []
  },
  {
   "cell_type": "markdown",
   "id": "aquatic-senator",
   "metadata": {},
   "source": [
    "## 2. VGG + LSTM + Attention Model"
   ]
  },
  {
   "cell_type": "markdown",
   "id": "statewide-breeding",
   "metadata": {},
   "source": [
    "### 2.1 Define model"
   ]
  },
  {
   "cell_type": "code",
   "execution_count": 5,
   "id": "biblical-theta",
   "metadata": {},
   "outputs": [
    {
     "name": "stdout",
     "output_type": "stream",
     "text": [
      "WARNING:tensorflow:Layer lstm will not use cuDNN kernel since it doesn't meet the cuDNN kernel criteria. It will use generic GPU kernel as fallback when running on GPU\n",
      "Model: \"sequential\"\n",
      "_________________________________________________________________\n",
      "Layer (type)                 Output Shape              Param #   \n",
      "=================================================================\n",
      "time_distributed (TimeDistri (None, 12, 7, 7, 512)     14714688  \n",
      "_________________________________________________________________\n",
      "time_distributed_1 (TimeDist (None, 12, 25088)         0         \n",
      "_________________________________________________________________\n",
      "dropout (Dropout)            (None, 12, 25088)         0         \n",
      "_________________________________________________________________\n",
      "lstm (LSTM)                  (None, 12, 64)            6439168   \n",
      "_________________________________________________________________\n",
      "seq_weighted_attention (SeqW (None, 64)                65        \n",
      "_________________________________________________________________\n",
      "dropout_1 (Dropout)          (None, 64)                0         \n",
      "_________________________________________________________________\n",
      "dense (Dense)                (None, 32)                2080      \n",
      "_________________________________________________________________\n",
      "dropout_2 (Dropout)          (None, 32)                0         \n",
      "_________________________________________________________________\n",
      "dense_1 (Dense)              (None, 8)                 264       \n",
      "=================================================================\n",
      "Total params: 21,156,265\n",
      "Trainable params: 6,441,577\n",
      "Non-trainable params: 14,714,688\n",
      "_________________________________________________________________\n"
     ]
    }
   ],
   "source": [
    "from keras.layers import Permute, multiply, Input, TimeDistributed, Conv2D, Dense, MaxPooling2D, Flatten, LSTM, Dropout, BatchNormalization, GlobalAveragePooling2D\n",
    "from keras import models, Model\n",
    "from keras.applications import vgg16\n",
    "from keras_self_attention import SeqSelfAttention, SeqWeightedAttention\n",
    "\n",
    "frames, channels, rows, columns = 12, 3, 224, 224\n",
    "#Pre-trained VGG\n",
    "model = models.Sequential()\n",
    "model.add(Input(shape=(frames, rows, columns, channels)))\n",
    "\n",
    "model.add(TimeDistributed(vgg16.VGG16(input_shape=(rows,columns,channels),\n",
    "                 weights=\"imagenet\",\n",
    "                 include_top=False)))\n",
    "\n",
    "for layer in model.layers:\n",
    "    layer.trainable = False\n",
    "\n",
    "model.add(TimeDistributed(Flatten()))\n",
    "model.add(Dropout(0.2))\n",
    "#LSTM:\n",
    "model.add(LSTM(64, dropout=0.25, recurrent_dropout=0.1, return_sequences=True)) # used 64 units\n",
    "#Self-attention\n",
    "model.add(SeqWeightedAttention())\n",
    "#model.add(Flatten())\n",
    "model.add(Dropout(0.2))\n",
    "model.add(Dense(32, activation='relu'))\n",
    "model.add(Dropout(0.2))\n",
    "model.add(Dense(8, activation='softmax')) # n_labels = 8\n",
    "model.summary()"
   ]
  },
  {
   "cell_type": "code",
   "execution_count": 7,
   "id": "dirty-singer",
   "metadata": {},
   "outputs": [],
   "source": [
    "import keras\n",
    "callbacks_list = [keras.callbacks.EarlyStopping(monitor='accuracy', patience=50),\n",
    "                  keras.callbacks.ModelCheckpoint(\n",
    "                      filepath='vgg_lstm_attn_clean_v1',\n",
    "                      monitor='val_loss',\n",
    "                      save_best_only=True\n",
    "                  ),\n",
    "                  keras.callbacks.ReduceLROnPlateau(\n",
    "                      monitor=\"val_loss\", factor=0.1, patience=50\n",
    "                  )]\n",
    "\n",
    "from keras import optimizers\n",
    "\n",
    "optimizer_new=optimizers.Adam(lr=1e-4, beta_1=0.9, beta_2=0.999, epsilon=None,\n",
    "                              decay=0.0, amsgrad=False)\n",
    "model.compile(optimizer=optimizer_new,\n",
    "                    loss='categorical_crossentropy',\n",
    "                    metrics=['accuracy'])"
   ]
  },
  {
   "cell_type": "markdown",
   "id": "outer-click",
   "metadata": {},
   "source": [
    "### 2.2 Train model"
   ]
  },
  {
   "cell_type": "code",
   "execution_count": 8,
   "id": "working-immunology",
   "metadata": {},
   "outputs": [
    {
     "name": "stdout",
     "output_type": "stream",
     "text": [
      "Epoch 1/200\n",
      "51/51 [==============================] - 321s 5s/step - loss: 2.1323 - accuracy: 0.1302 - val_loss: 2.0434 - val_accuracy: 0.1755\n",
      "INFO:tensorflow:Assets written to: vgg_lstm_attn_clean_v1/assets\n",
      "Epoch 2/200\n",
      "51/51 [==============================] - 142s 3s/step - loss: 2.0538 - accuracy: 0.1737 - val_loss: 2.0260 - val_accuracy: 0.1963\n",
      "INFO:tensorflow:Assets written to: vgg_lstm_attn_clean_v1/assets\n",
      "Epoch 3/200\n",
      "51/51 [==============================] - 125s 2s/step - loss: 2.0248 - accuracy: 0.1889 - val_loss: 2.0374 - val_accuracy: 0.1824\n",
      "Epoch 4/200\n",
      "51/51 [==============================] - 125s 2s/step - loss: 2.0342 - accuracy: 0.2052 - val_loss: 2.0112 - val_accuracy: 0.2009\n",
      "INFO:tensorflow:Assets written to: vgg_lstm_attn_clean_v1/assets\n",
      "Epoch 5/200\n",
      "51/51 [==============================] - 125s 2s/step - loss: 2.0259 - accuracy: 0.1926 - val_loss: 1.9886 - val_accuracy: 0.2402\n",
      "INFO:tensorflow:Assets written to: vgg_lstm_attn_clean_v1/assets\n",
      "Epoch 6/200\n",
      "51/51 [==============================] - 125s 2s/step - loss: 1.9825 - accuracy: 0.2163 - val_loss: 1.9896 - val_accuracy: 0.2009\n",
      "Epoch 7/200\n",
      "51/51 [==============================] - 125s 2s/step - loss: 1.9887 - accuracy: 0.2161 - val_loss: 1.9950 - val_accuracy: 0.1917\n",
      "Epoch 8/200\n",
      "51/51 [==============================] - 125s 2s/step - loss: 1.9591 - accuracy: 0.2406 - val_loss: 1.9633 - val_accuracy: 0.2194\n",
      "INFO:tensorflow:Assets written to: vgg_lstm_attn_clean_v1/assets\n",
      "Epoch 9/200\n",
      "51/51 [==============================] - 125s 2s/step - loss: 1.9666 - accuracy: 0.2220 - val_loss: 1.9504 - val_accuracy: 0.2448\n",
      "INFO:tensorflow:Assets written to: vgg_lstm_attn_clean_v1/assets\n",
      "Epoch 10/200\n",
      "51/51 [==============================] - 125s 2s/step - loss: 1.9226 - accuracy: 0.2724 - val_loss: 1.9231 - val_accuracy: 0.2564\n",
      "INFO:tensorflow:Assets written to: vgg_lstm_attn_clean_v1/assets\n",
      "Epoch 11/200\n",
      "51/51 [==============================] - 125s 2s/step - loss: 1.9027 - accuracy: 0.2493 - val_loss: 1.9047 - val_accuracy: 0.2540\n",
      "INFO:tensorflow:Assets written to: vgg_lstm_attn_clean_v1/assets\n",
      "Epoch 12/200\n",
      "51/51 [==============================] - 125s 2s/step - loss: 1.8821 - accuracy: 0.2940 - val_loss: 1.8977 - val_accuracy: 0.3025\n",
      "INFO:tensorflow:Assets written to: vgg_lstm_attn_clean_v1/assets\n",
      "Epoch 13/200\n",
      "51/51 [==============================] - 125s 2s/step - loss: 1.8626 - accuracy: 0.2685 - val_loss: 1.8904 - val_accuracy: 0.2818\n",
      "INFO:tensorflow:Assets written to: vgg_lstm_attn_clean_v1/assets\n",
      "Epoch 14/200\n",
      "51/51 [==============================] - 125s 2s/step - loss: 1.8538 - accuracy: 0.3041 - val_loss: 1.8337 - val_accuracy: 0.3256\n",
      "INFO:tensorflow:Assets written to: vgg_lstm_attn_clean_v1/assets\n",
      "Epoch 15/200\n",
      "51/51 [==============================] - 125s 2s/step - loss: 1.8191 - accuracy: 0.2865 - val_loss: 1.8740 - val_accuracy: 0.2933\n",
      "Epoch 16/200\n",
      "51/51 [==============================] - 125s 2s/step - loss: 1.7924 - accuracy: 0.3061 - val_loss: 1.8561 - val_accuracy: 0.2679\n",
      "Epoch 17/200\n",
      "51/51 [==============================] - 125s 2s/step - loss: 1.8190 - accuracy: 0.2909 - val_loss: 1.8292 - val_accuracy: 0.2748\n",
      "INFO:tensorflow:Assets written to: vgg_lstm_attn_clean_v1/assets\n",
      "Epoch 18/200\n",
      "51/51 [==============================] - 125s 2s/step - loss: 1.7733 - accuracy: 0.2927 - val_loss: 1.7696 - val_accuracy: 0.3326\n",
      "INFO:tensorflow:Assets written to: vgg_lstm_attn_clean_v1/assets\n",
      "Epoch 19/200\n",
      "51/51 [==============================] - 125s 2s/step - loss: 1.7201 - accuracy: 0.3544 - val_loss: 1.7408 - val_accuracy: 0.3557\n",
      "INFO:tensorflow:Assets written to: vgg_lstm_attn_clean_v1/assets\n",
      "Epoch 20/200\n",
      "51/51 [==============================] - 125s 2s/step - loss: 1.6868 - accuracy: 0.3860 - val_loss: 1.7257 - val_accuracy: 0.3718\n",
      "INFO:tensorflow:Assets written to: vgg_lstm_attn_clean_v1/assets\n",
      "Epoch 21/200\n",
      "51/51 [==============================] - 125s 2s/step - loss: 1.6316 - accuracy: 0.3883 - val_loss: 1.7219 - val_accuracy: 0.3672\n",
      "INFO:tensorflow:Assets written to: vgg_lstm_attn_clean_v1/assets\n",
      "Epoch 22/200\n",
      "51/51 [==============================] - 125s 2s/step - loss: 1.6051 - accuracy: 0.4110 - val_loss: 1.6541 - val_accuracy: 0.4018\n",
      "INFO:tensorflow:Assets written to: vgg_lstm_attn_clean_v1/assets\n",
      "Epoch 23/200\n",
      "51/51 [==============================] - 125s 2s/step - loss: 1.5880 - accuracy: 0.4119 - val_loss: 1.6709 - val_accuracy: 0.3718\n",
      "Epoch 24/200\n",
      "51/51 [==============================] - 125s 2s/step - loss: 1.5760 - accuracy: 0.4145 - val_loss: 1.6444 - val_accuracy: 0.3788\n",
      "INFO:tensorflow:Assets written to: vgg_lstm_attn_clean_v1/assets\n",
      "Epoch 25/200\n",
      "51/51 [==============================] - 125s 2s/step - loss: 1.5327 - accuracy: 0.4308 - val_loss: 1.6093 - val_accuracy: 0.3972\n",
      "INFO:tensorflow:Assets written to: vgg_lstm_attn_clean_v1/assets\n",
      "Epoch 26/200\n",
      "51/51 [==============================] - 125s 2s/step - loss: 1.5153 - accuracy: 0.4427 - val_loss: 1.5898 - val_accuracy: 0.4503\n",
      "INFO:tensorflow:Assets written to: vgg_lstm_attn_clean_v1/assets\n",
      "Epoch 27/200\n",
      "51/51 [==============================] - 125s 2s/step - loss: 1.5037 - accuracy: 0.4304 - val_loss: 1.5902 - val_accuracy: 0.4018\n",
      "Epoch 28/200\n",
      "51/51 [==============================] - 124s 2s/step - loss: 1.4858 - accuracy: 0.4646 - val_loss: 1.5423 - val_accuracy: 0.4296\n",
      "INFO:tensorflow:Assets written to: vgg_lstm_attn_clean_v1/assets\n",
      "Epoch 29/200\n",
      "51/51 [==============================] - 125s 2s/step - loss: 1.3940 - accuracy: 0.5251 - val_loss: 1.5318 - val_accuracy: 0.4134\n",
      "INFO:tensorflow:Assets written to: vgg_lstm_attn_clean_v1/assets\n",
      "Epoch 30/200\n",
      "51/51 [==============================] - 125s 2s/step - loss: 1.3721 - accuracy: 0.5065 - val_loss: 1.5221 - val_accuracy: 0.4134\n",
      "INFO:tensorflow:Assets written to: vgg_lstm_attn_clean_v1/assets\n",
      "Epoch 31/200\n",
      "51/51 [==============================] - 124s 2s/step - loss: 1.3762 - accuracy: 0.5095 - val_loss: 1.5160 - val_accuracy: 0.4480\n",
      "INFO:tensorflow:Assets written to: vgg_lstm_attn_clean_v1/assets\n",
      "Epoch 32/200\n",
      "51/51 [==============================] - 125s 2s/step - loss: 1.3857 - accuracy: 0.5015 - val_loss: 1.4936 - val_accuracy: 0.4411\n",
      "INFO:tensorflow:Assets written to: vgg_lstm_attn_clean_v1/assets\n",
      "Epoch 33/200\n",
      "51/51 [==============================] - 125s 2s/step - loss: 1.3000 - accuracy: 0.5391 - val_loss: 1.4136 - val_accuracy: 0.4988\n",
      "INFO:tensorflow:Assets written to: vgg_lstm_attn_clean_v1/assets\n",
      "Epoch 34/200\n",
      "51/51 [==============================] - 125s 2s/step - loss: 1.2590 - accuracy: 0.5511 - val_loss: 1.4944 - val_accuracy: 0.4619\n",
      "Epoch 35/200\n",
      "51/51 [==============================] - 125s 2s/step - loss: 1.2857 - accuracy: 0.5371 - val_loss: 1.4132 - val_accuracy: 0.4619\n",
      "INFO:tensorflow:Assets written to: vgg_lstm_attn_clean_v1/assets\n",
      "Epoch 36/200\n",
      "51/51 [==============================] - 125s 2s/step - loss: 1.2566 - accuracy: 0.5480 - val_loss: 1.3876 - val_accuracy: 0.4965\n",
      "INFO:tensorflow:Assets written to: vgg_lstm_attn_clean_v1/assets\n",
      "Epoch 37/200\n",
      "51/51 [==============================] - 124s 2s/step - loss: 1.2625 - accuracy: 0.5529 - val_loss: 1.3929 - val_accuracy: 0.5081\n",
      "Epoch 38/200\n",
      "51/51 [==============================] - 125s 2s/step - loss: 1.1877 - accuracy: 0.5962 - val_loss: 1.3519 - val_accuracy: 0.5058\n",
      "INFO:tensorflow:Assets written to: vgg_lstm_attn_clean_v1/assets\n",
      "Epoch 39/200\n",
      "51/51 [==============================] - 125s 2s/step - loss: 1.2431 - accuracy: 0.5454 - val_loss: 1.3293 - val_accuracy: 0.5150\n",
      "INFO:tensorflow:Assets written to: vgg_lstm_attn_clean_v1/assets\n",
      "Epoch 40/200\n",
      "51/51 [==============================] - 125s 2s/step - loss: 1.0786 - accuracy: 0.6274 - val_loss: 1.3572 - val_accuracy: 0.5150\n",
      "Epoch 41/200\n",
      "51/51 [==============================] - 125s 2s/step - loss: 1.1186 - accuracy: 0.6183 - val_loss: 1.3920 - val_accuracy: 0.5127\n",
      "Epoch 42/200\n",
      "51/51 [==============================] - 125s 2s/step - loss: 1.0770 - accuracy: 0.6245 - val_loss: 1.2849 - val_accuracy: 0.5335\n",
      "INFO:tensorflow:Assets written to: vgg_lstm_attn_clean_v1/assets\n",
      "Epoch 43/200\n",
      "51/51 [==============================] - 125s 2s/step - loss: 1.1027 - accuracy: 0.6152 - val_loss: 1.2981 - val_accuracy: 0.4919\n",
      "Epoch 44/200\n"
     ]
    },
    {
     "name": "stdout",
     "output_type": "stream",
     "text": [
      "51/51 [==============================] - 125s 2s/step - loss: 1.0302 - accuracy: 0.6299 - val_loss: 1.2701 - val_accuracy: 0.5381\n",
      "INFO:tensorflow:Assets written to: vgg_lstm_attn_clean_v1/assets\n",
      "Epoch 45/200\n",
      "51/51 [==============================] - 125s 2s/step - loss: 1.0308 - accuracy: 0.6505 - val_loss: 1.2536 - val_accuracy: 0.5289\n",
      "INFO:tensorflow:Assets written to: vgg_lstm_attn_clean_v1/assets\n",
      "Epoch 46/200\n",
      "51/51 [==============================] - 125s 2s/step - loss: 1.0230 - accuracy: 0.6456 - val_loss: 1.2218 - val_accuracy: 0.5612\n",
      "INFO:tensorflow:Assets written to: vgg_lstm_attn_clean_v1/assets\n",
      "Epoch 47/200\n",
      "51/51 [==============================] - 125s 2s/step - loss: 0.9740 - accuracy: 0.6593 - val_loss: 1.2725 - val_accuracy: 0.5381\n",
      "Epoch 48/200\n",
      "51/51 [==============================] - 124s 2s/step - loss: 0.9988 - accuracy: 0.6645 - val_loss: 1.2270 - val_accuracy: 0.5404\n",
      "Epoch 49/200\n",
      "51/51 [==============================] - 124s 2s/step - loss: 0.9470 - accuracy: 0.6795 - val_loss: 1.1982 - val_accuracy: 0.5704\n",
      "INFO:tensorflow:Assets written to: vgg_lstm_attn_clean_v1/assets\n",
      "Epoch 50/200\n",
      "51/51 [==============================] - 125s 2s/step - loss: 0.9585 - accuracy: 0.6759 - val_loss: 1.1927 - val_accuracy: 0.5473\n",
      "INFO:tensorflow:Assets written to: vgg_lstm_attn_clean_v1/assets\n",
      "Epoch 51/200\n",
      "51/51 [==============================] - 124s 2s/step - loss: 0.9176 - accuracy: 0.7008 - val_loss: 1.2246 - val_accuracy: 0.5681\n",
      "Epoch 52/200\n",
      "51/51 [==============================] - 124s 2s/step - loss: 0.8791 - accuracy: 0.7215 - val_loss: 1.1797 - val_accuracy: 0.5704\n",
      "INFO:tensorflow:Assets written to: vgg_lstm_attn_clean_v1/assets\n",
      "Epoch 53/200\n",
      "51/51 [==============================] - 125s 2s/step - loss: 0.8816 - accuracy: 0.7101 - val_loss: 1.1362 - val_accuracy: 0.5774\n",
      "INFO:tensorflow:Assets written to: vgg_lstm_attn_clean_v1/assets\n",
      "Epoch 54/200\n",
      "51/51 [==============================] - 125s 2s/step - loss: 0.8405 - accuracy: 0.6963 - val_loss: 1.2309 - val_accuracy: 0.5566\n",
      "Epoch 55/200\n",
      "51/51 [==============================] - 124s 2s/step - loss: 0.9311 - accuracy: 0.6991 - val_loss: 1.1476 - val_accuracy: 0.5935\n",
      "Epoch 56/200\n",
      "51/51 [==============================] - 124s 2s/step - loss: 0.8578 - accuracy: 0.7024 - val_loss: 1.1003 - val_accuracy: 0.6005\n",
      "INFO:tensorflow:Assets written to: vgg_lstm_attn_clean_v1/assets\n",
      "Epoch 57/200\n",
      "51/51 [==============================] - 125s 2s/step - loss: 0.8064 - accuracy: 0.7303 - val_loss: 1.1048 - val_accuracy: 0.6028\n",
      "Epoch 58/200\n",
      "51/51 [==============================] - 125s 2s/step - loss: 0.7520 - accuracy: 0.7633 - val_loss: 1.1782 - val_accuracy: 0.5843\n",
      "Epoch 59/200\n",
      "51/51 [==============================] - 125s 2s/step - loss: 0.7677 - accuracy: 0.7612 - val_loss: 1.0718 - val_accuracy: 0.6259\n",
      "INFO:tensorflow:Assets written to: vgg_lstm_attn_clean_v1/assets\n",
      "Epoch 60/200\n",
      "51/51 [==============================] - 125s 2s/step - loss: 0.6772 - accuracy: 0.8001 - val_loss: 1.1534 - val_accuracy: 0.5658\n",
      "Epoch 61/200\n",
      "51/51 [==============================] - 125s 2s/step - loss: 0.7125 - accuracy: 0.7781 - val_loss: 1.0977 - val_accuracy: 0.5820\n",
      "Epoch 62/200\n",
      "51/51 [==============================] - 125s 2s/step - loss: 0.7246 - accuracy: 0.7917 - val_loss: 1.1013 - val_accuracy: 0.5982\n",
      "Epoch 63/200\n",
      "51/51 [==============================] - 124s 2s/step - loss: 0.6882 - accuracy: 0.8010 - val_loss: 1.1092 - val_accuracy: 0.5843\n",
      "Epoch 64/200\n",
      "51/51 [==============================] - 125s 2s/step - loss: 0.6786 - accuracy: 0.7767 - val_loss: 1.0741 - val_accuracy: 0.6051\n",
      "Epoch 65/200\n",
      "51/51 [==============================] - 125s 2s/step - loss: 0.6808 - accuracy: 0.7814 - val_loss: 1.0838 - val_accuracy: 0.6051\n",
      "Epoch 66/200\n",
      "51/51 [==============================] - 125s 2s/step - loss: 0.6581 - accuracy: 0.7982 - val_loss: 1.1076 - val_accuracy: 0.5982\n",
      "Epoch 67/200\n",
      "51/51 [==============================] - 125s 2s/step - loss: 0.6255 - accuracy: 0.7985 - val_loss: 1.1015 - val_accuracy: 0.6097\n",
      "Epoch 68/200\n",
      "51/51 [==============================] - 125s 2s/step - loss: 0.6245 - accuracy: 0.7926 - val_loss: 1.0150 - val_accuracy: 0.6074\n",
      "INFO:tensorflow:Assets written to: vgg_lstm_attn_clean_v1/assets\n",
      "Epoch 69/200\n",
      "51/51 [==============================] - 125s 2s/step - loss: 0.6384 - accuracy: 0.7874 - val_loss: 1.0939 - val_accuracy: 0.6051\n",
      "Epoch 70/200\n",
      "51/51 [==============================] - 125s 2s/step - loss: 0.5889 - accuracy: 0.8159 - val_loss: 0.9909 - val_accuracy: 0.6513\n",
      "INFO:tensorflow:Assets written to: vgg_lstm_attn_clean_v1/assets\n",
      "Epoch 71/200\n",
      "51/51 [==============================] - 125s 2s/step - loss: 0.6142 - accuracy: 0.8051 - val_loss: 1.0301 - val_accuracy: 0.6143\n",
      "Epoch 72/200\n",
      "51/51 [==============================] - 125s 2s/step - loss: 0.5298 - accuracy: 0.8337 - val_loss: 1.0378 - val_accuracy: 0.6328\n",
      "Epoch 73/200\n",
      "51/51 [==============================] - 125s 2s/step - loss: 0.5457 - accuracy: 0.8240 - val_loss: 0.9806 - val_accuracy: 0.6420\n",
      "INFO:tensorflow:Assets written to: vgg_lstm_attn_clean_v1/assets\n",
      "Epoch 74/200\n",
      "51/51 [==============================] - 124s 2s/step - loss: 0.5764 - accuracy: 0.8049 - val_loss: 0.9531 - val_accuracy: 0.6582\n",
      "INFO:tensorflow:Assets written to: vgg_lstm_attn_clean_v1/assets\n",
      "Epoch 75/200\n",
      "51/51 [==============================] - 125s 2s/step - loss: 0.4971 - accuracy: 0.8494 - val_loss: 0.9629 - val_accuracy: 0.6490\n",
      "Epoch 76/200\n",
      "51/51 [==============================] - 125s 2s/step - loss: 0.5076 - accuracy: 0.8637 - val_loss: 1.1348 - val_accuracy: 0.6051\n",
      "Epoch 77/200\n",
      "51/51 [==============================] - 125s 2s/step - loss: 0.4957 - accuracy: 0.8575 - val_loss: 0.9720 - val_accuracy: 0.6397\n",
      "Epoch 78/200\n",
      "51/51 [==============================] - 125s 2s/step - loss: 0.5003 - accuracy: 0.8455 - val_loss: 0.9596 - val_accuracy: 0.6513\n",
      "Epoch 79/200\n",
      "51/51 [==============================] - 125s 2s/step - loss: 0.4220 - accuracy: 0.8823 - val_loss: 1.0028 - val_accuracy: 0.6467\n",
      "Epoch 80/200\n",
      "51/51 [==============================] - 124s 2s/step - loss: 0.4435 - accuracy: 0.8745 - val_loss: 0.9972 - val_accuracy: 0.6513\n",
      "Epoch 81/200\n",
      "51/51 [==============================] - 124s 2s/step - loss: 0.4374 - accuracy: 0.8804 - val_loss: 0.9270 - val_accuracy: 0.6721\n",
      "INFO:tensorflow:Assets written to: vgg_lstm_attn_clean_v1/assets\n",
      "Epoch 82/200\n",
      "51/51 [==============================] - 125s 2s/step - loss: 0.4186 - accuracy: 0.8832 - val_loss: 0.9319 - val_accuracy: 0.6397\n",
      "Epoch 83/200\n",
      "51/51 [==============================] - 125s 2s/step - loss: 0.4857 - accuracy: 0.8567 - val_loss: 1.0056 - val_accuracy: 0.6212\n",
      "Epoch 84/200\n",
      "51/51 [==============================] - 125s 2s/step - loss: 0.4187 - accuracy: 0.8787 - val_loss: 1.0765 - val_accuracy: 0.6397\n",
      "Epoch 85/200\n",
      "51/51 [==============================] - 125s 2s/step - loss: 0.4078 - accuracy: 0.8635 - val_loss: 0.9595 - val_accuracy: 0.6513\n",
      "Epoch 86/200\n",
      "51/51 [==============================] - 125s 2s/step - loss: 0.4118 - accuracy: 0.8614 - val_loss: 0.9322 - val_accuracy: 0.6628\n",
      "Epoch 87/200\n",
      "51/51 [==============================] - 125s 2s/step - loss: 0.3773 - accuracy: 0.8864 - val_loss: 0.9491 - val_accuracy: 0.6490\n",
      "Epoch 88/200\n",
      "51/51 [==============================] - 125s 2s/step - loss: 0.3334 - accuracy: 0.9031 - val_loss: 0.9536 - val_accuracy: 0.6536\n",
      "Epoch 89/200\n",
      "51/51 [==============================] - 125s 2s/step - loss: 0.3435 - accuracy: 0.9153 - val_loss: 1.0110 - val_accuracy: 0.6513\n",
      "Epoch 90/200\n",
      "51/51 [==============================] - 125s 2s/step - loss: 0.3696 - accuracy: 0.9007 - val_loss: 1.0142 - val_accuracy: 0.6513\n",
      "Epoch 91/200\n",
      "51/51 [==============================] - 125s 2s/step - loss: 0.3374 - accuracy: 0.9104 - val_loss: 0.9840 - val_accuracy: 0.6467\n",
      "Epoch 92/200\n",
      "51/51 [==============================] - 125s 2s/step - loss: 0.3538 - accuracy: 0.8982 - val_loss: 1.0274 - val_accuracy: 0.6467\n",
      "Epoch 93/200\n",
      "51/51 [==============================] - 125s 2s/step - loss: 0.3541 - accuracy: 0.9037 - val_loss: 1.0162 - val_accuracy: 0.6420\n",
      "Epoch 94/200\n",
      "51/51 [==============================] - 125s 2s/step - loss: 0.3439 - accuracy: 0.8991 - val_loss: 0.9192 - val_accuracy: 0.6813\n",
      "INFO:tensorflow:Assets written to: vgg_lstm_attn_clean_v1/assets\n"
     ]
    },
    {
     "name": "stdout",
     "output_type": "stream",
     "text": [
      "Epoch 95/200\n",
      "51/51 [==============================] - 125s 2s/step - loss: 0.3175 - accuracy: 0.8930 - val_loss: 0.9420 - val_accuracy: 0.6513\n",
      "Epoch 96/200\n",
      "51/51 [==============================] - 125s 2s/step - loss: 0.2690 - accuracy: 0.9377 - val_loss: 0.9465 - val_accuracy: 0.6767\n",
      "Epoch 97/200\n",
      "51/51 [==============================] - 125s 2s/step - loss: 0.2798 - accuracy: 0.9364 - val_loss: 0.9215 - val_accuracy: 0.6697\n",
      "Epoch 98/200\n",
      "51/51 [==============================] - 125s 2s/step - loss: 0.2946 - accuracy: 0.9299 - val_loss: 0.9080 - val_accuracy: 0.6905\n",
      "INFO:tensorflow:Assets written to: vgg_lstm_attn_clean_v1/assets\n",
      "Epoch 99/200\n",
      "51/51 [==============================] - 125s 2s/step - loss: 0.2623 - accuracy: 0.9380 - val_loss: 0.9900 - val_accuracy: 0.6397\n",
      "Epoch 100/200\n",
      "51/51 [==============================] - 125s 2s/step - loss: 0.2869 - accuracy: 0.9179 - val_loss: 0.9816 - val_accuracy: 0.6420\n",
      "Epoch 101/200\n",
      "51/51 [==============================] - 125s 2s/step - loss: 0.2624 - accuracy: 0.9281 - val_loss: 0.9307 - val_accuracy: 0.6767\n",
      "Epoch 102/200\n",
      "51/51 [==============================] - 125s 2s/step - loss: 0.2861 - accuracy: 0.9201 - val_loss: 0.9430 - val_accuracy: 0.6697\n",
      "Epoch 103/200\n",
      "51/51 [==============================] - 125s 2s/step - loss: 0.3036 - accuracy: 0.9233 - val_loss: 1.0485 - val_accuracy: 0.6374\n",
      "Epoch 104/200\n",
      "51/51 [==============================] - 125s 2s/step - loss: 0.2813 - accuracy: 0.9125 - val_loss: 0.9177 - val_accuracy: 0.6721\n",
      "Epoch 105/200\n",
      "51/51 [==============================] - 125s 2s/step - loss: 0.2621 - accuracy: 0.9205 - val_loss: 0.9089 - val_accuracy: 0.7021\n",
      "Epoch 106/200\n",
      "51/51 [==============================] - 125s 2s/step - loss: 0.2533 - accuracy: 0.9398 - val_loss: 0.9494 - val_accuracy: 0.6721\n",
      "Epoch 107/200\n",
      "51/51 [==============================] - 125s 2s/step - loss: 0.2492 - accuracy: 0.9325 - val_loss: 0.9178 - val_accuracy: 0.6605\n",
      "Epoch 108/200\n",
      "51/51 [==============================] - 125s 2s/step - loss: 0.1962 - accuracy: 0.9677 - val_loss: 0.9000 - val_accuracy: 0.6952\n",
      "INFO:tensorflow:Assets written to: vgg_lstm_attn_clean_v1/assets\n",
      "Epoch 109/200\n",
      "51/51 [==============================] - 125s 2s/step - loss: 0.1766 - accuracy: 0.9586 - val_loss: 0.9562 - val_accuracy: 0.6813\n",
      "Epoch 110/200\n",
      "51/51 [==============================] - 125s 2s/step - loss: 0.2300 - accuracy: 0.9343 - val_loss: 0.9265 - val_accuracy: 0.6674\n",
      "Epoch 111/200\n",
      "51/51 [==============================] - 125s 2s/step - loss: 0.2067 - accuracy: 0.9650 - val_loss: 0.9368 - val_accuracy: 0.6721\n",
      "Epoch 112/200\n",
      "51/51 [==============================] - 125s 2s/step - loss: 0.2160 - accuracy: 0.9475 - val_loss: 0.8982 - val_accuracy: 0.6674\n",
      "INFO:tensorflow:Assets written to: vgg_lstm_attn_clean_v1/assets\n",
      "Epoch 113/200\n",
      "51/51 [==============================] - 125s 2s/step - loss: 0.2039 - accuracy: 0.9460 - val_loss: 0.9034 - val_accuracy: 0.6905\n",
      "Epoch 114/200\n",
      "51/51 [==============================] - 125s 2s/step - loss: 0.1799 - accuracy: 0.9566 - val_loss: 1.1280 - val_accuracy: 0.6328\n",
      "Epoch 115/200\n",
      "51/51 [==============================] - 124s 2s/step - loss: 0.2313 - accuracy: 0.9293 - val_loss: 0.9434 - val_accuracy: 0.6744\n",
      "Epoch 116/200\n",
      "51/51 [==============================] - 125s 2s/step - loss: 0.1813 - accuracy: 0.9611 - val_loss: 1.0024 - val_accuracy: 0.6697\n",
      "Epoch 117/200\n",
      "51/51 [==============================] - 125s 2s/step - loss: 0.1854 - accuracy: 0.9509 - val_loss: 1.1232 - val_accuracy: 0.6189\n",
      "Epoch 118/200\n",
      "51/51 [==============================] - 125s 2s/step - loss: 0.2154 - accuracy: 0.9426 - val_loss: 0.9285 - val_accuracy: 0.6859\n",
      "Epoch 119/200\n",
      "51/51 [==============================] - 125s 2s/step - loss: 0.1892 - accuracy: 0.9572 - val_loss: 1.0253 - val_accuracy: 0.6628\n",
      "Epoch 120/200\n",
      "51/51 [==============================] - 124s 2s/step - loss: 0.1744 - accuracy: 0.9546 - val_loss: 1.0345 - val_accuracy: 0.6767\n",
      "Epoch 121/200\n",
      "51/51 [==============================] - 125s 2s/step - loss: 0.1633 - accuracy: 0.9597 - val_loss: 0.9603 - val_accuracy: 0.6952\n",
      "Epoch 122/200\n",
      "51/51 [==============================] - 125s 2s/step - loss: 0.1763 - accuracy: 0.9567 - val_loss: 0.9423 - val_accuracy: 0.6744\n",
      "Epoch 123/200\n",
      "51/51 [==============================] - 125s 2s/step - loss: 0.1655 - accuracy: 0.9601 - val_loss: 1.0785 - val_accuracy: 0.6559\n",
      "Epoch 124/200\n",
      "51/51 [==============================] - 125s 2s/step - loss: 0.1826 - accuracy: 0.9521 - val_loss: 0.9602 - val_accuracy: 0.6859\n",
      "Epoch 125/200\n",
      "51/51 [==============================] - 125s 2s/step - loss: 0.1680 - accuracy: 0.9589 - val_loss: 0.9437 - val_accuracy: 0.6605\n",
      "Epoch 126/200\n",
      "51/51 [==============================] - 125s 2s/step - loss: 0.1460 - accuracy: 0.9643 - val_loss: 0.9080 - val_accuracy: 0.7229\n",
      "Epoch 127/200\n",
      "51/51 [==============================] - 125s 2s/step - loss: 0.1385 - accuracy: 0.9638 - val_loss: 0.9324 - val_accuracy: 0.6952\n",
      "Epoch 128/200\n",
      "51/51 [==============================] - 125s 2s/step - loss: 0.1409 - accuracy: 0.9577 - val_loss: 1.1728 - val_accuracy: 0.6120\n",
      "Epoch 129/200\n",
      "51/51 [==============================] - 124s 2s/step - loss: 0.1894 - accuracy: 0.9467 - val_loss: 0.9259 - val_accuracy: 0.6998\n",
      "Epoch 130/200\n",
      "51/51 [==============================] - 125s 2s/step - loss: 0.1579 - accuracy: 0.9569 - val_loss: 1.0967 - val_accuracy: 0.6651\n",
      "Epoch 131/200\n",
      "51/51 [==============================] - 125s 2s/step - loss: 0.1557 - accuracy: 0.9621 - val_loss: 1.0125 - val_accuracy: 0.6790\n",
      "Epoch 132/200\n",
      "51/51 [==============================] - 125s 2s/step - loss: 0.1563 - accuracy: 0.9723 - val_loss: 1.0105 - val_accuracy: 0.6975\n",
      "Epoch 133/200\n",
      "51/51 [==============================] - 125s 2s/step - loss: 0.2004 - accuracy: 0.9450 - val_loss: 0.9807 - val_accuracy: 0.6998\n",
      "Epoch 134/200\n",
      "51/51 [==============================] - 125s 2s/step - loss: 0.1214 - accuracy: 0.9761 - val_loss: 0.9890 - val_accuracy: 0.6952\n",
      "Epoch 135/200\n",
      "51/51 [==============================] - 125s 2s/step - loss: 0.1193 - accuracy: 0.9696 - val_loss: 0.9901 - val_accuracy: 0.6998\n",
      "Epoch 136/200\n",
      "51/51 [==============================] - 125s 2s/step - loss: 0.1345 - accuracy: 0.9687 - val_loss: 0.9516 - val_accuracy: 0.6744\n",
      "Epoch 137/200\n",
      "51/51 [==============================] - 125s 2s/step - loss: 0.1868 - accuracy: 0.9445 - val_loss: 0.9388 - val_accuracy: 0.7113\n",
      "Epoch 138/200\n",
      "51/51 [==============================] - 124s 2s/step - loss: 0.1380 - accuracy: 0.9650 - val_loss: 0.8777 - val_accuracy: 0.7044\n",
      "INFO:tensorflow:Assets written to: vgg_lstm_attn_clean_v1/assets\n",
      "Epoch 139/200\n",
      "51/51 [==============================] - 124s 2s/step - loss: 0.1409 - accuracy: 0.9607 - val_loss: 0.9894 - val_accuracy: 0.6905\n",
      "Epoch 140/200\n",
      "51/51 [==============================] - 125s 2s/step - loss: 0.1128 - accuracy: 0.9777 - val_loss: 1.0313 - val_accuracy: 0.6998\n",
      "Epoch 141/200\n",
      "51/51 [==============================] - 125s 2s/step - loss: 0.0880 - accuracy: 0.9866 - val_loss: 0.9540 - val_accuracy: 0.6998\n",
      "Epoch 142/200\n",
      "51/51 [==============================] - 125s 2s/step - loss: 0.1241 - accuracy: 0.9650 - val_loss: 1.0257 - val_accuracy: 0.6697\n",
      "Epoch 143/200\n",
      "51/51 [==============================] - 125s 2s/step - loss: 0.0952 - accuracy: 0.9830 - val_loss: 0.9666 - val_accuracy: 0.6952\n",
      "Epoch 144/200\n",
      "51/51 [==============================] - 125s 2s/step - loss: 0.0985 - accuracy: 0.9834 - val_loss: 0.9094 - val_accuracy: 0.6975\n",
      "Epoch 145/200\n",
      "51/51 [==============================] - 124s 2s/step - loss: 0.1007 - accuracy: 0.9783 - val_loss: 0.9644 - val_accuracy: 0.7159\n",
      "Epoch 146/200\n",
      "51/51 [==============================] - 124s 2s/step - loss: 0.0910 - accuracy: 0.9821 - val_loss: 1.0090 - val_accuracy: 0.6905\n",
      "Epoch 147/200\n",
      "51/51 [==============================] - 124s 2s/step - loss: 0.0921 - accuracy: 0.9806 - val_loss: 0.9720 - val_accuracy: 0.7021\n",
      "Epoch 148/200\n",
      "51/51 [==============================] - 124s 2s/step - loss: 0.1022 - accuracy: 0.9762 - val_loss: 1.1651 - val_accuracy: 0.6767\n",
      "Epoch 149/200\n",
      "51/51 [==============================] - 124s 2s/step - loss: 0.0957 - accuracy: 0.9811 - val_loss: 0.9974 - val_accuracy: 0.7090\n",
      "Epoch 150/200\n"
     ]
    },
    {
     "name": "stdout",
     "output_type": "stream",
     "text": [
      "51/51 [==============================] - 124s 2s/step - loss: 0.0795 - accuracy: 0.9863 - val_loss: 1.0650 - val_accuracy: 0.6790\n",
      "Epoch 151/200\n",
      "51/51 [==============================] - 124s 2s/step - loss: 0.1171 - accuracy: 0.9632 - val_loss: 0.9960 - val_accuracy: 0.6744\n",
      "Epoch 152/200\n",
      "51/51 [==============================] - 125s 2s/step - loss: 0.0992 - accuracy: 0.9747 - val_loss: 1.0782 - val_accuracy: 0.6674\n",
      "Epoch 153/200\n",
      "51/51 [==============================] - 125s 2s/step - loss: 0.1003 - accuracy: 0.9726 - val_loss: 0.9855 - val_accuracy: 0.7090\n",
      "Epoch 154/200\n",
      "51/51 [==============================] - 125s 2s/step - loss: 0.1082 - accuracy: 0.9838 - val_loss: 1.0927 - val_accuracy: 0.6559\n",
      "Epoch 155/200\n",
      "51/51 [==============================] - 125s 2s/step - loss: 0.4686 - accuracy: 0.8478 - val_loss: 0.9472 - val_accuracy: 0.6975\n",
      "Epoch 156/200\n",
      "51/51 [==============================] - 125s 2s/step - loss: 0.2070 - accuracy: 0.9423 - val_loss: 1.0064 - val_accuracy: 0.7044\n",
      "Epoch 157/200\n",
      "51/51 [==============================] - 125s 2s/step - loss: 0.1514 - accuracy: 0.9622 - val_loss: 0.9989 - val_accuracy: 0.7021\n",
      "Epoch 158/200\n",
      "51/51 [==============================] - 125s 2s/step - loss: 0.1206 - accuracy: 0.9687 - val_loss: 1.0300 - val_accuracy: 0.6721\n",
      "Epoch 159/200\n",
      "51/51 [==============================] - 125s 2s/step - loss: 0.1411 - accuracy: 0.9637 - val_loss: 1.0791 - val_accuracy: 0.6559\n",
      "Epoch 160/200\n",
      "51/51 [==============================] - 125s 2s/step - loss: 0.1107 - accuracy: 0.9778 - val_loss: 1.0162 - val_accuracy: 0.6928\n",
      "Epoch 161/200\n",
      "51/51 [==============================] - 125s 2s/step - loss: 0.1094 - accuracy: 0.9801 - val_loss: 0.9689 - val_accuracy: 0.6882\n",
      "Epoch 162/200\n",
      "51/51 [==============================] - 125s 2s/step - loss: 0.1226 - accuracy: 0.9676 - val_loss: 1.0048 - val_accuracy: 0.6975\n",
      "Epoch 163/200\n",
      "51/51 [==============================] - 125s 2s/step - loss: 0.0973 - accuracy: 0.9812 - val_loss: 0.9795 - val_accuracy: 0.7021\n",
      "Epoch 164/200\n",
      "51/51 [==============================] - 125s 2s/step - loss: 0.0737 - accuracy: 0.9866 - val_loss: 1.1128 - val_accuracy: 0.6674\n",
      "Epoch 165/200\n",
      "51/51 [==============================] - 125s 2s/step - loss: 0.0993 - accuracy: 0.9775 - val_loss: 1.1594 - val_accuracy: 0.6697\n",
      "Epoch 166/200\n",
      "51/51 [==============================] - 125s 2s/step - loss: 0.1035 - accuracy: 0.9757 - val_loss: 1.1491 - val_accuracy: 0.6790\n",
      "Epoch 167/200\n",
      "51/51 [==============================] - 125s 2s/step - loss: 0.1021 - accuracy: 0.9656 - val_loss: 1.0843 - val_accuracy: 0.6859\n",
      "Epoch 168/200\n",
      "51/51 [==============================] - 125s 2s/step - loss: 0.1084 - accuracy: 0.9699 - val_loss: 1.1291 - val_accuracy: 0.6605\n",
      "Epoch 169/200\n",
      "51/51 [==============================] - 125s 2s/step - loss: 0.0870 - accuracy: 0.9811 - val_loss: 1.1441 - val_accuracy: 0.6674\n",
      "Epoch 170/200\n",
      "51/51 [==============================] - 125s 2s/step - loss: 0.0908 - accuracy: 0.9784 - val_loss: 0.9788 - val_accuracy: 0.7067\n",
      "Epoch 171/200\n",
      "51/51 [==============================] - 125s 2s/step - loss: 0.0723 - accuracy: 0.9868 - val_loss: 0.9911 - val_accuracy: 0.6975\n",
      "Epoch 172/200\n",
      "51/51 [==============================] - 125s 2s/step - loss: 0.0671 - accuracy: 0.9886 - val_loss: 0.9904 - val_accuracy: 0.6767\n",
      "Epoch 173/200\n",
      "51/51 [==============================] - 125s 2s/step - loss: 0.1111 - accuracy: 0.9742 - val_loss: 1.2037 - val_accuracy: 0.6513\n",
      "Epoch 174/200\n",
      "51/51 [==============================] - 125s 2s/step - loss: 0.0990 - accuracy: 0.9788 - val_loss: 1.2383 - val_accuracy: 0.6467\n",
      "Epoch 175/200\n",
      "51/51 [==============================] - 125s 2s/step - loss: 0.0958 - accuracy: 0.9765 - val_loss: 1.1004 - val_accuracy: 0.6674\n",
      "Epoch 176/200\n",
      "51/51 [==============================] - 124s 2s/step - loss: 0.0704 - accuracy: 0.9912 - val_loss: 1.0745 - val_accuracy: 0.7021\n",
      "Epoch 177/200\n",
      "51/51 [==============================] - 125s 2s/step - loss: 0.0652 - accuracy: 0.9918 - val_loss: 1.1628 - val_accuracy: 0.6697\n",
      "Epoch 178/200\n",
      "51/51 [==============================] - 124s 2s/step - loss: 0.0957 - accuracy: 0.9753 - val_loss: 1.0611 - val_accuracy: 0.6721\n",
      "Epoch 179/200\n",
      "51/51 [==============================] - 125s 2s/step - loss: 0.0837 - accuracy: 0.9788 - val_loss: 1.0609 - val_accuracy: 0.6836\n",
      "Epoch 180/200\n",
      "51/51 [==============================] - 125s 2s/step - loss: 0.0819 - accuracy: 0.9784 - val_loss: 1.1641 - val_accuracy: 0.6605\n",
      "Epoch 181/200\n",
      "51/51 [==============================] - 125s 2s/step - loss: 0.0782 - accuracy: 0.9832 - val_loss: 1.0707 - val_accuracy: 0.6975\n",
      "Epoch 182/200\n",
      "51/51 [==============================] - 125s 2s/step - loss: 0.0586 - accuracy: 0.9911 - val_loss: 1.0231 - val_accuracy: 0.6813\n",
      "Epoch 183/200\n",
      "51/51 [==============================] - 124s 2s/step - loss: 0.1003 - accuracy: 0.9725 - val_loss: 1.0307 - val_accuracy: 0.7044\n",
      "Epoch 184/200\n",
      "51/51 [==============================] - 125s 2s/step - loss: 0.0598 - accuracy: 0.9900 - val_loss: 1.0824 - val_accuracy: 0.7044\n",
      "Epoch 185/200\n",
      "51/51 [==============================] - 125s 2s/step - loss: 0.0583 - accuracy: 0.9879 - val_loss: 1.0967 - val_accuracy: 0.7113\n",
      "Epoch 186/200\n",
      "51/51 [==============================] - 125s 2s/step - loss: 0.0642 - accuracy: 0.9886 - val_loss: 1.1136 - val_accuracy: 0.6975\n",
      "Epoch 187/200\n",
      "51/51 [==============================] - 125s 2s/step - loss: 0.0625 - accuracy: 0.9845 - val_loss: 1.0363 - val_accuracy: 0.7159\n",
      "Epoch 188/200\n",
      "51/51 [==============================] - 125s 2s/step - loss: 0.0628 - accuracy: 0.9840 - val_loss: 0.9988 - val_accuracy: 0.7159\n",
      "Epoch 189/200\n",
      "51/51 [==============================] - 125s 2s/step - loss: 0.0380 - accuracy: 0.9988 - val_loss: 1.0043 - val_accuracy: 0.7229\n",
      "Epoch 190/200\n",
      "51/51 [==============================] - 125s 2s/step - loss: 0.0393 - accuracy: 0.9966 - val_loss: 1.0174 - val_accuracy: 0.7159\n",
      "Epoch 191/200\n",
      "51/51 [==============================] - 124s 2s/step - loss: 0.0359 - accuracy: 0.9946 - val_loss: 1.0247 - val_accuracy: 0.7159\n",
      "Epoch 192/200\n",
      "51/51 [==============================] - 125s 2s/step - loss: 0.0366 - accuracy: 0.9988 - val_loss: 1.0260 - val_accuracy: 0.7113\n",
      "Epoch 193/200\n",
      "51/51 [==============================] - 125s 2s/step - loss: 0.0336 - accuracy: 0.9983 - val_loss: 1.0428 - val_accuracy: 0.7159\n",
      "Epoch 194/200\n",
      "51/51 [==============================] - 125s 2s/step - loss: 0.0444 - accuracy: 0.9936 - val_loss: 1.0171 - val_accuracy: 0.7067\n",
      "Epoch 195/200\n",
      "51/51 [==============================] - 125s 2s/step - loss: 0.0344 - accuracy: 0.9955 - val_loss: 1.0282 - val_accuracy: 0.7136\n",
      "Epoch 196/200\n",
      "51/51 [==============================] - 124s 2s/step - loss: 0.0346 - accuracy: 0.9942 - val_loss: 1.0577 - val_accuracy: 0.7067\n",
      "Epoch 197/200\n",
      "51/51 [==============================] - 125s 2s/step - loss: 0.0373 - accuracy: 0.9938 - val_loss: 1.0411 - val_accuracy: 0.7229\n",
      "Epoch 198/200\n",
      "51/51 [==============================] - 125s 2s/step - loss: 0.0323 - accuracy: 0.9985 - val_loss: 1.0427 - val_accuracy: 0.7159\n",
      "Epoch 199/200\n",
      "51/51 [==============================] - 125s 2s/step - loss: 0.0286 - accuracy: 0.9969 - val_loss: 1.0477 - val_accuracy: 0.7090\n",
      "Epoch 200/200\n",
      "51/51 [==============================] - 125s 2s/step - loss: 0.0312 - accuracy: 0.9974 - val_loss: 1.0411 - val_accuracy: 0.7229\n"
     ]
    }
   ],
   "source": [
    "history = model.fit(train_data, train_action_labels,\n",
    "                    validation_data=(val_data, val_action_labels),\n",
    "                    batch_size=20, epochs=200,\n",
    "                    callbacks=callbacks_list\n",
    "                    )"
   ]
  },
  {
   "cell_type": "markdown",
   "id": "reasonable-irrigation",
   "metadata": {},
   "source": [
    "### 2.3 Visualize Train/Valid accuracy & loss, confusion matrix"
   ]
  },
  {
   "cell_type": "code",
   "execution_count": 10,
   "id": "phantom-delaware",
   "metadata": {},
   "outputs": [
    {
     "data": {
      "image/png": "[encoded data removed]",
      "text/plain": [
       "<Figure size 432x288 with 1 Axes>"
      ]
     },
     "metadata": {
      "needs_background": "light"
     },
     "output_type": "display_data"
    },
    {
     "data": {
      "image/png": "[encoded data removed]",
      "text/plain": [
       "<Figure size 432x288 with 1 Axes>"
      ]
     },
     "metadata": {
      "needs_background": "light"
     },
     "output_type": "display_data"
    }
   ],
   "source": [
    "###Plot train/valid accuracy & loss\n",
    "import matplotlib.pyplot as plt\n",
    "\n",
    "acc=history.history[\"accuracy\"]\n",
    "val_acc=history.history[\"val_accuracy\"]\n",
    "loss=history.history[\"loss\"]\n",
    "val_loss=history.history[\"val_loss\"]\n",
    "epoch_stop = len(acc)\n",
    "epochs=np.arange(1, epoch_stop+1)\n",
    "\n",
    "plt.plot(epochs, acc, label = \"Train\", color = 'darkturquoise')\n",
    "plt.plot(epochs, val_acc, label = \"Valid\", linestyle=\"--\", color = 'deepskyblue')\n",
    "plt.legend()\n",
    "plt.title('Train/Valid Accuracy')\n",
    "plt.show()\n",
    "\n",
    "plt.plot(epochs, loss, label = \"Train\", color = 'orchid')\n",
    "plt.plot(epochs, val_loss, label = \"Valid\", linestyle=\"--\", color = 'deeppink')\n",
    "plt.legend()\n",
    "plt.title('Train/Valid Loss')\n",
    "plt.show()"
   ]
  },
  {
   "cell_type": "code",
   "execution_count": 11,
   "id": "waiting-taiwan",
   "metadata": {},
   "outputs": [],
   "source": [
    "import keras\n",
    "# Predictions on validation data:\n",
    "val_preds = model.predict(val_data)\n",
    "val_preds = np.argmax(val_preds,axis=1)\n",
    "val_true = [mapping[x] for x in val_actions]"
   ]
  },
  {
   "cell_type": "code",
   "execution_count": 12,
   "id": "obvious-victorian",
   "metadata": {},
   "outputs": [
    {
     "data": {
      "text/plain": [
       "<AxesSubplot:>"
      ]
     },
     "execution_count": 12,
     "metadata": {},
     "output_type": "execute_result"
    },
    {
     "data": {
      "image/png": "[encoded data removed]",
      "text/plain": [
       "<Figure size 648x504 with 2 Axes>"
      ]
     },
     "metadata": {
      "needs_background": "light"
     },
     "output_type": "display_data"
    }
   ],
   "source": [
    "import seaborn as sn\n",
    "import pandas as pd\n",
    "import matplotlib.pyplot as plt\n",
    "import sklearn.metrics as metrics\n",
    "\n",
    "confusion_matrix = metrics.confusion_matrix(y_true=val_true, y_pred=val_preds)\n",
    "df_cm = pd.DataFrame(confusion_matrix, index = mapping.keys(),\n",
    "                  columns = mapping.keys())\n",
    "plt.figure(figsize = (9,7))\n",
    "sn.heatmap(df_cm, annot=True, cmap=\"Blues\")"
   ]
  },
  {
   "cell_type": "code",
   "execution_count": 13,
   "id": "remarkable-howard",
   "metadata": {},
   "outputs": [],
   "source": [
    "# COUG:1, SNEE:4\n",
    "val_true_bin = [x in (1, 4) for x in val_true]\n",
    "val_preds_bin = [x in (1, 4) for x in val_preds]"
   ]
  },
  {
   "cell_type": "code",
   "execution_count": 14,
   "id": "mighty-console",
   "metadata": {},
   "outputs": [
    {
     "data": {
      "text/plain": [
       "<AxesSubplot:>"
      ]
     },
     "execution_count": 14,
     "metadata": {},
     "output_type": "execute_result"
    },
    {
     "data": {
      "image/png": "[encoded data removed]",
      "text/plain": [
       "<Figure size 288x216 with 2 Axes>"
      ]
     },
     "metadata": {
      "needs_background": "light"
     },
     "output_type": "display_data"
    }
   ],
   "source": [
    "confusion_matrix = metrics.confusion_matrix(y_true=val_true_bin, y_pred=val_preds_bin)\n",
    "df_cm = pd.DataFrame(confusion_matrix, index = ['Other', 'COUG_SNEE'],\n",
    "                  columns = ['Other', 'COUG_SNEE'])\n",
    "plt.figure(figsize = (4,3))\n",
    "sn.heatmap(df_cm, annot=True, cmap=\"Blues\")"
   ]
  },
  {
   "cell_type": "code",
   "execution_count": 15,
   "id": "alternative-gibraltar",
   "metadata": {},
   "outputs": [
    {
     "name": "stdout",
     "output_type": "stream",
     "text": [
      "Prec.% 0.7815126050420168\n",
      "Rec.% 0.8532110091743119\n",
      "Acc.% 0.6888888888888889\n"
     ]
    }
   ],
   "source": [
    "tn, fp, fn, tp = confusion_matrix.ravel()\n",
    "\n",
    "prec = tp/(tp+fp)\n",
    "rec = tp/(tp+fn)\n",
    "acc = tp / (tp+fp+fn)\n",
    "\n",
    "print('Prec.%', prec)\n",
    "print('Rec.%', rec)\n",
    "print('Acc.%', acc)"
   ]
  },
  {
   "cell_type": "markdown",
   "id": "tracked-ecology",
   "metadata": {},
   "source": [
    "### 2.4 Save model and loss history"
   ]
  },
  {
   "cell_type": "code",
   "execution_count": 9,
   "id": "unnecessary-identifier",
   "metadata": {},
   "outputs": [],
   "source": [
    "###Save history\n",
    "np.save(os.path.join(base_dir, \"vgg_lstm_attn_clean_v1_history\"), history.history)\n",
    "###Save model\n",
    "model.save(os.path.join(base_dir, \"vgg_lstm_attn_clean_v1.h5\"))   \n",
    "\n",
    "#Load history:\n",
    "#history = np.load(os.path.join(base_dir, \"mvgg_lstm_attn_clean_v1_history.npy\"), allow_pickle=True)\n",
    "\n",
    "#Load saved model:\n",
    "#model = keras.models.load_model(os.path.join(base_dir, \"vgg_lstm_attn_clean_v1.h5\"))"
   ]
  },
  {
   "cell_type": "markdown",
   "id": "saved-skating",
   "metadata": {},
   "source": [
    "### 2.5 Evaluation on test data"
   ]
  },
  {
   "cell_type": "code",
   "execution_count": 16,
   "id": "municipal-hungary",
   "metadata": {},
   "outputs": [],
   "source": [
    "#Load Test Data:\n",
    "base_dir = '/home/ubuntu'\n",
    "test_data = np.load(os.path.join(base_dir, 'test_data_pre12.npy'))\n",
    "test_actions = np.load(os.path.join(base_dir, 'test_actions_pre12.npy'), allow_pickle=True)"
   ]
  },
  {
   "cell_type": "code",
   "execution_count": 17,
   "id": "intelligent-standing",
   "metadata": {},
   "outputs": [],
   "source": [
    "# Predictions on test data:\n",
    "test_preds = model.predict(test_data)\n",
    "test_preds = np.argmax(test_preds,axis=1)\n",
    "test_true = [mapping[x] for x in test_actions]"
   ]
  },
  {
   "cell_type": "code",
   "execution_count": 18,
   "id": "suspended-insured",
   "metadata": {},
   "outputs": [
    {
     "data": {
      "text/plain": [
       "<AxesSubplot:>"
      ]
     },
     "execution_count": 18,
     "metadata": {},
     "output_type": "execute_result"
    },
    {
     "data": {
      "image/png": "[encoded data removed]",
      "text/plain": [
       "<Figure size 648x504 with 2 Axes>"
      ]
     },
     "metadata": {
      "needs_background": "light"
     },
     "output_type": "display_data"
    }
   ],
   "source": [
    "import seaborn as sn\n",
    "import pandas as pd\n",
    "import matplotlib.pyplot as plt\n",
    "import sklearn.metrics as metrics\n",
    "\n",
    "confusion_matrix = metrics.confusion_matrix(y_true=test_true, y_pred=test_preds)\n",
    "df_cm = pd.DataFrame(confusion_matrix, index = mapping.keys(),\n",
    "                  columns = mapping.keys())\n",
    "plt.figure(figsize = (9,7))\n",
    "sn.heatmap(df_cm, annot=True, cmap=\"Blues\")"
   ]
  },
  {
   "cell_type": "code",
   "execution_count": 19,
   "id": "wrong-notebook",
   "metadata": {},
   "outputs": [],
   "source": [
    "# COUG:1, SNEE:4\n",
    "test_true_bin = [x in (1, 4) for x in test_true]\n",
    "test_preds_bin = [x in (1, 4) for x in test_preds]"
   ]
  },
  {
   "cell_type": "code",
   "execution_count": 20,
   "id": "grand-blood",
   "metadata": {},
   "outputs": [
    {
     "data": {
      "text/plain": [
       "<AxesSubplot:>"
      ]
     },
     "execution_count": 20,
     "metadata": {},
     "output_type": "execute_result"
    },
    {
     "data": {
      "image/png": "[encoded data removed]",
      "text/plain": [
       "<Figure size 288x216 with 2 Axes>"
      ]
     },
     "metadata": {
      "needs_background": "light"
     },
     "output_type": "display_data"
    }
   ],
   "source": [
    "confusion_matrix = metrics.confusion_matrix(y_true=test_true_bin, y_pred=test_preds_bin)\n",
    "df_cm = pd.DataFrame(confusion_matrix, index = ['Other', 'COUG_SNEE'],\n",
    "                  columns = ['Other', 'COUG_SNEE'])\n",
    "plt.figure(figsize = (4,3))\n",
    "sn.heatmap(df_cm, annot=True, cmap=\"Blues\")"
   ]
  },
  {
   "cell_type": "code",
   "execution_count": 21,
   "id": "animal-corner",
   "metadata": {},
   "outputs": [
    {
     "name": "stdout",
     "output_type": "stream",
     "text": [
      "Prec.% 0.5574712643678161\n",
      "Rec.% 0.8083333333333333\n",
      "Acc.% 0.49238578680203043\n"
     ]
    }
   ],
   "source": [
    "tn, fp, fn, tp = confusion_matrix.ravel()\n",
    "\n",
    "prec = tp/(tp+fp)\n",
    "rec = tp/(tp+fn)\n",
    "acc = tp / (tp+fp+fn)\n",
    "\n",
    "print('Prec.%', prec)\n",
    "print('Rec.%', rec)\n",
    "print('Acc.%', acc)"
   ]
  },
  {
   "cell_type": "markdown",
   "id": "discrete-appreciation",
   "metadata": {},
   "source": [
    "### 2.6 Compare Train/Valid Accuracy, Loss for both modles"
   ]
  },
  {
   "cell_type": "code",
   "execution_count": 30,
   "id": "gentle-flooring",
   "metadata": {},
   "outputs": [],
   "source": [
    "#load model history\n",
    "history_with_attn = np.load(os.path.join(base_dir, \"vgg_lstm_attn_clean_v1_history.npy\"), allow_pickle=True)\n",
    "history_no_attn = np.load(os.path.join(base_dir, \"vgg_lstm_clean_v1_history.npy\"), allow_pickle=True)"
   ]
  },
  {
   "cell_type": "code",
   "execution_count": 31,
   "id": "painful-nation",
   "metadata": {},
   "outputs": [
    {
     "data": {
      "image/png": "[encoded data removed]",
      "text/plain": [
       "<Figure size 432x288 with 1 Axes>"
      ]
     },
     "metadata": {
      "needs_background": "light"
     },
     "output_type": "display_data"
    },
    {
     "data": {
      "image/png": "[encoded data removed]",
      "text/plain": [
       "<Figure size 432x288 with 1 Axes>"
      ]
     },
     "metadata": {
      "needs_background": "light"
     },
     "output_type": "display_data"
    }
   ],
   "source": [
    "###Plot train/valid accuracy & loss\n",
    "import matplotlib.pyplot as plt\n",
    "\n",
    "#no attention\n",
    "acc=history_no_attn.item()[\"accuracy\"]\n",
    "val_acc=history_no_attn.item()[\"val_accuracy\"]\n",
    "loss=history_no_attn.item()[\"loss\"]\n",
    "val_loss=history_no_attn.item()[\"val_loss\"]\n",
    "\n",
    "#with attention\n",
    "acc_attn=history_with_attn.item()[\"accuracy\"]\n",
    "val_acc_attn=history_with_attn.item()[\"val_accuracy\"]\n",
    "loss_attn=history_with_attn.item()[\"loss\"]\n",
    "val_loss_attn=history_with_attn.item()[\"val_loss\"]\n",
    "\n",
    "epoch_stop = len(acc)\n",
    "epochs=np.arange(1, epoch_stop+1)\n",
    "\n",
    "plt.plot(epochs, acc, label = \"Train - Vgg+LSTM\", color = 'darkturquoise')\n",
    "plt.plot(epochs, acc_attn, label = \"Train - Vgg+LSTM+Attn\", color = 'darkcyan')\n",
    "plt.plot(epochs, val_acc, label = \"Valid - Vgg+LSTM\", linestyle=\"--\", color = 'deepskyblue')\n",
    "plt.plot(epochs, val_acc_attn, label = \"Valid - Vgg+LSTM+Attn\", linestyle=\"--\", color = 'steelblue')\n",
    "plt.legend()\n",
    "plt.title('Train/Valid Accuracy')\n",
    "plt.show()\n",
    "\n",
    "plt.plot(epochs, loss, label = \"Train - Vgg+LSTM\", color = 'orchid')\n",
    "plt.plot(epochs, loss_attn, label = \"Train - Vgg+LSTM+Attn\", color = 'darkmagenta')\n",
    "plt.plot(epochs, val_loss, label = \"Valid - Vgg+LSTM\", linestyle=\"--\", color = 'orangered')\n",
    "plt.plot(epochs, val_loss_attn, label = \"Valid - Vgg+LSTM+Attn\", linestyle=\"--\", color = 'darkred')\n",
    "plt.legend()\n",
    "plt.title('Train/Valid Loss')\n",
    "plt.show()"
   ]
  },
  {
   "cell_type": "markdown",
   "id": "intermediate-bikini",
   "metadata": {},
   "source": [
    "## Summary"
   ]
  },
  {
   "cell_type": "markdown",
   "id": "floral-chamber",
   "metadata": {},
   "source": [
    "* **Vgg + LSTM**:\n",
    "    - Model file: vgg_lstm_clean_v1.h5\n",
    "    - Loss history: vgg_lstm_clean_v1_history.npy\n",
    "    \n",
    "* **Vgg + LSTM + Attention**:\n",
    "    - Model file: vgg_lstm_attn_clean_v1.h5\n",
    "    - Loss history: vgg_lstm_attn_clean_v1_history.npy"
   ]
  },
  {
   "cell_type": "code",
   "execution_count": null,
   "id": "destroyed-toyota",
   "metadata": {},
   "outputs": [],
   "source": []
  }
 ],
 "metadata": {
  "kernelspec": {
   "display_name": "Environment (conda_tensorflow2_latest_p37)",
   "language": "python",
   "name": "conda_tensorflow2_latest_p37"
  },
  "language_info": {
   "codemirror_mode": {
    "name": "ipython",
    "version": 3
   },
   "file_extension": ".py",
   "mimetype": "text/x-python",
   "name": "python",
   "nbconvert_exporter": "python",
   "pygments_lexer": "ipython3",
   "version": "3.7.10"
  }
 },
 "nbformat": 4,
 "nbformat_minor": 5
}

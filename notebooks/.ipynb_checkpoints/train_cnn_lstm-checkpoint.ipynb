{
 "cells": [
  {
   "cell_type": "markdown",
   "metadata": {},
   "source": [
    "# Train CNN + LSTM + Attention"
   ]
  },
  {
   "cell_type": "markdown",
   "metadata": {},
   "source": [
    "## Setup"
   ]
  },
  {
   "cell_type": "code",
   "execution_count": 1,
   "metadata": {},
   "outputs": [
    {
     "name": "stdout",
     "output_type": "stream",
     "text": [
      "Not on Google Colab.\n"
     ]
    }
   ],
   "source": [
    "# Skip this cell if we are not on Google Colab\n",
    "try:\n",
    "    # Mount Google Drive to the Colab VM.\n",
    "    from google.colab import drive\n",
    "    drive.mount('/content/drive', force_remount=True)\n",
    "\n",
    "    # Specify working directory.\n",
    "    FOLDERNAME = 'cs231n/project/'\n",
    "    %cd /content/drive/My\\ Drive/$FOLDERNAME\n",
    "\n",
    "    # Ensure that the Python interpreter of the Colab VM can load python files from\n",
    "    # within it.\n",
    "    import sys\n",
    "    sys.path.append('/content/drive/My Drive/{}'.format(FOLDERNAME))\n",
    "except ImportError as e:\n",
    "    print(\"Not on Google Colab.\")"
   ]
  },
  {
   "cell_type": "markdown",
   "metadata": {},
   "source": [
    "## Load dataset and labels"
   ]
  },
  {
   "cell_type": "code",
   "execution_count": 2,
   "metadata": {},
   "outputs": [],
   "source": [
    "import numpy as np\n",
    "import os\n",
    "\n",
    "#base_dir = '/content/drive/My Drive/cs231n/project/dataset/shaped_hrnet_data'\n",
    "base_dir = '/home/ubuntu'\n",
    "\n",
    "train_data = np.load(os.path.join(base_dir, 'train_data_pre12.npy'))\n",
    "train_actions = np.load(os.path.join(base_dir, 'train_actions_pre12.npy'), allow_pickle=True)\n",
    "train_labels = np.load(os.path.join(base_dir, 'train_labels_pre12.npy'))\n",
    "\n",
    "val_data = np.load(os.path.join(base_dir, 'val_data_pre12.npy'))\n",
    "val_actions = np.load(os.path.join(base_dir, 'val_actions_pre12.npy'), allow_pickle=True)\n",
    "val_labels = np.load(os.path.join(base_dir, 'val_labels_pre12.npy'))"
   ]
  },
  {
   "cell_type": "code",
   "execution_count": 3,
   "metadata": {},
   "outputs": [
    {
     "name": "stdout",
     "output_type": "stream",
     "text": [
      "Training data shape:  (1007, 12, 224, 224, 3)\n",
      "Training label shape:  (1007,)\n",
      "Training action shape:  (1007,)\n",
      "Train Label=1 ratio: 0.24925521350546176\n",
      "Validation data shape:  (433, 12, 224, 224, 3)\n",
      "Validation label shape:  (433,)\n",
      "Validation action shape:  (433,)\n",
      "Validation Label=1 ratio: 0.2517321016166282\n"
     ]
    }
   ],
   "source": [
    "print('Training data shape: ', train_data.shape)\n",
    "print('Training label shape: ', train_labels.shape)\n",
    "print('Training action shape: ', train_actions.shape)\n",
    "print('Train Label=1 ratio:', np.sum(train_labels) /train_labels.shape[0])\n",
    "print('Validation data shape: ', val_data.shape)\n",
    "print('Validation label shape: ', val_labels.shape)\n",
    "print('Validation action shape: ', val_actions.shape)\n",
    "print('Validation Label=1 ratio:', np.sum(val_labels) / val_labels.shape[0])"
   ]
  },
  {
   "cell_type": "code",
   "execution_count": 12,
   "metadata": {},
   "outputs": [],
   "source": [
    "mapping = {\n",
    "    'CALL': 0,\n",
    "    'COUG': 1,\n",
    "    'DRIN': 2,\n",
    "    'SCRA': 3,\n",
    "    'SNEE': 4,\n",
    "    'STRE': 5,\n",
    "    'WAVE': 6,\n",
    "    'WIPE': 7,\n",
    "}\n",
    "train_action_labels = [mapping[x] for x in train_actions]\n",
    "val_action_labels = [mapping[x] for x in val_actions]\n",
    "\n",
    "# One-hot encoding.\n",
    "train_action_labels = np.eye(8)[train_action_labels] \n",
    "val_action_labels = np.eye(8)[val_action_labels] "
   ]
  },
  {
   "cell_type": "markdown",
   "metadata": {},
   "source": [
    "## 1. CNN + LSTM Model"
   ]
  },
  {
   "cell_type": "markdown",
   "metadata": {},
   "source": [
    "### 1.1 Define model"
   ]
  },
  {
   "cell_type": "code",
   "execution_count": 5,
   "metadata": {},
   "outputs": [
    {
     "name": "stdout",
     "output_type": "stream",
     "text": [
      "WARNING:tensorflow:Layer lstm will not use cuDNN kernel since it doesn't meet the cuDNN kernel criteria. It will use generic GPU kernel as fallback when running on GPU\n",
      "Model: \"sequential\"\n",
      "_________________________________________________________________\n",
      "Layer (type)                 Output Shape              Param #   \n",
      "=================================================================\n",
      "time_distributed (TimeDistri (None, 12, 112, 112, 32)  896       \n",
      "_________________________________________________________________\n",
      "time_distributed_1 (TimeDist (None, 12, 112, 112, 32)  128       \n",
      "_________________________________________________________________\n",
      "time_distributed_2 (TimeDist (None, 12, 112, 112, 32)  0         \n",
      "_________________________________________________________________\n",
      "time_distributed_3 (TimeDist (None, 12, 110, 110, 32)  9248      \n",
      "_________________________________________________________________\n",
      "time_distributed_4 (TimeDist (None, 12, 110, 110, 32)  128       \n",
      "_________________________________________________________________\n",
      "time_distributed_5 (TimeDist (None, 12, 110, 110, 32)  0         \n",
      "_________________________________________________________________\n",
      "time_distributed_6 (TimeDist (None, 12, 55, 55, 32)    0         \n",
      "_________________________________________________________________\n",
      "time_distributed_7 (TimeDist (None, 12, 55, 55, 64)    18496     \n",
      "_________________________________________________________________\n",
      "time_distributed_8 (TimeDist (None, 12, 55, 55, 64)    256       \n",
      "_________________________________________________________________\n",
      "time_distributed_9 (TimeDist (None, 12, 55, 55, 64)    0         \n",
      "_________________________________________________________________\n",
      "time_distributed_10 (TimeDis (None, 12, 55, 55, 64)    36928     \n",
      "_________________________________________________________________\n",
      "time_distributed_11 (TimeDis (None, 12, 55, 55, 64)    256       \n",
      "_________________________________________________________________\n",
      "time_distributed_12 (TimeDis (None, 12, 55, 55, 64)    0         \n",
      "_________________________________________________________________\n",
      "time_distributed_13 (TimeDis (None, 12, 27, 27, 64)    0         \n",
      "_________________________________________________________________\n",
      "time_distributed_14 (TimeDis (None, 12, 46656)         0         \n",
      "_________________________________________________________________\n",
      "dropout (Dropout)            (None, 12, 46656)         0         \n",
      "_________________________________________________________________\n",
      "lstm (LSTM)                  (None, 32)                5976192   \n",
      "_________________________________________________________________\n",
      "dropout_1 (Dropout)          (None, 32)                0         \n",
      "_________________________________________________________________\n",
      "dense (Dense)                (None, 64)                2112      \n",
      "_________________________________________________________________\n",
      "dropout_2 (Dropout)          (None, 64)                0         \n",
      "_________________________________________________________________\n",
      "dense_1 (Dense)              (None, 8)                 520       \n",
      "=================================================================\n",
      "Total params: 6,045,160\n",
      "Trainable params: 6,044,776\n",
      "Non-trainable params: 384\n",
      "_________________________________________________________________\n"
     ]
    }
   ],
   "source": [
    "from keras.layers import Multiply, Activation, RepeatVector, Bidirectional, Lambda, Permute, multiply, Input, TimeDistributed, Conv2D, Dense, MaxPooling2D, Flatten, LSTM, Dropout, BatchNormalization, GlobalAveragePooling2D\n",
    "from keras import models, Model\n",
    "from keras import backend as K\n",
    "from keras_self_attention import SeqSelfAttention\n",
    "from keras.regularizers import l2\n",
    "\n",
    "frames, channels, rows, columns = 12, 3, 224, 224\n",
    "\n",
    "video = Input(shape=(frames,rows,columns,channels))\n",
    "\n",
    "initialiser = 'glorot_uniform'\n",
    "reg_lambda = 1e-3\n",
    "\n",
    "model = models.Sequential()\n",
    "model.add(Input(shape=(frames, rows, columns, channels)))\n",
    "\n",
    "\n",
    "\n",
    "model.add(TimeDistributed(Conv2D(32, (3, 3), \n",
    "                                 strides=(2, 2), \n",
    "                                 padding='same',\n",
    "                                 kernel_initializer=initialiser, \n",
    "                                 kernel_regularizer=l2(reg_lambda))))\n",
    "model.add(TimeDistributed(BatchNormalization()))\n",
    "model.add(TimeDistributed(Activation('relu')))\n",
    "model.add(TimeDistributed(Conv2D(32, (3,3), \n",
    "                                 kernel_initializer=initialiser, \n",
    "                                 kernel_regularizer=l2(reg_lambda))))\n",
    "model.add(TimeDistributed(BatchNormalization()))\n",
    "model.add(TimeDistributed(Activation('relu')))\n",
    "model.add(TimeDistributed(MaxPooling2D((2, 2), strides=(2, 2))))\n",
    "          \n",
    "\n",
    "model.add(TimeDistributed(Conv2D(64, (3,3), \n",
    "                                 padding='same',\n",
    "                                 kernel_initializer=initialiser, \n",
    "                                 kernel_regularizer=l2(reg_lambda))))\n",
    "model.add(TimeDistributed(BatchNormalization()))\n",
    "model.add(TimeDistributed(Activation('relu')))         \n",
    "model.add(TimeDistributed(Conv2D(64, (3,3), \n",
    "                                 padding='same',\n",
    "                                 kernel_initializer=initialiser, \n",
    "                                 kernel_regularizer=l2(reg_lambda))))\n",
    "model.add(TimeDistributed(BatchNormalization()))\n",
    "model.add(TimeDistributed(Activation('relu')))      \n",
    "model.add(TimeDistributed(MaxPooling2D((2, 2), strides=(2, 2))))\n",
    "\n",
    "\n",
    "# model.add(TimeDistributed(Conv2D(128, (3,3), \n",
    "#                                  padding='same',\n",
    "#                                  kernel_initializer=initialiser, \n",
    "#                                  kernel_regularizer=l2(reg_lambda))))\n",
    "# model.add(TimeDistributed(BatchNormalization()))\n",
    "# model.add(TimeDistributed(Activation('relu')))         \n",
    "# model.add(TimeDistributed(Conv2D(128, (3,3), \n",
    "#                                  padding='same',\n",
    "#                                  kernel_initializer=initialiser, \n",
    "#                                  kernel_regularizer=l2(reg_lambda))))\n",
    "# model.add(TimeDistributed(BatchNormalization()))\n",
    "# model.add(TimeDistributed(Activation('relu')))      \n",
    "# model.add(TimeDistributed(MaxPooling2D((2, 2), strides=(2, 2))))\n",
    "          \n",
    "# model.add(TimeDistributed(Conv2D(256, (3,3), \n",
    "#                                  padding='same',\n",
    "#                                  kernel_initializer=initialiser, \n",
    "#                                  kernel_regularizer=l2(reg_lambda))))\n",
    "# model.add(TimeDistributed(BatchNormalization()))\n",
    "# model.add(TimeDistributed(Activation('relu')))         \n",
    "# model.add(TimeDistributed(Conv2D(256, (3,3), \n",
    "#                                  padding='same',\n",
    "#                                  kernel_initializer=initialiser, \n",
    "#                                  kernel_regularizer=l2(reg_lambda))))\n",
    "# model.add(TimeDistributed(BatchNormalization()))\n",
    "# model.add(TimeDistributed(Activation('relu')))      \n",
    "# model.add(TimeDistributed(MaxPooling2D((2, 2), strides=(2, 2))))\n",
    "\n",
    "          \n",
    "\n",
    "# model.add(TimeDistributed(Conv2D(512, (3,3), \n",
    "#                                  padding='same',\n",
    "#                                  kernel_initializer=initialiser, \n",
    "#                                  kernel_regularizer=l2(reg_lambda))))\n",
    "# model.add(TimeDistributed(BatchNormalization()))\n",
    "# model.add(TimeDistributed(Activation('relu')))         \n",
    "# model.add(TimeDistributed(Conv2D(512, (3,3), \n",
    "#                                  padding='same',\n",
    "#                                  kernel_initializer=initialiser, \n",
    "#                                  kernel_regularizer=l2(reg_lambda))))\n",
    "# model.add(TimeDistributed(BatchNormalization()))\n",
    "# model.add(TimeDistributed(Activation('relu')))      \n",
    "# model.add(TimeDistributed(MaxPooling2D((2, 2), strides=(2, 2))))\n",
    "\n",
    "          \n",
    "\n",
    "#model.add(TimeDistributed(Conv2D(16, (3, 3), padding = 'same', activation='relu')))\n",
    "#model.add(TimeDistributed(BatchNormalization()))\n",
    "#model.add(TimeDistributed(Conv2D(64, (3, 3), padding = 'same', activation='relu', kernel_regularizer=l2(1e-2))))\n",
    "#model.add(TimeDistributed(BatchNormalization()))\n",
    "#model.add(TimeDistributed(MaxPooling2D(2,2)))\n",
    "\n",
    "#model.add(TimeDistributed(Conv2D(64, (3, 3), padding = 'same', activation='relu', kernel_regularizer=l2(1e-2))))\n",
    "#model.add(TimeDistributed(BatchNormalization()))\n",
    "#model.add(TimeDistributed(MaxPooling2D(2,2)))\n",
    "\n",
    "\n",
    "#model.add(TimeDistributed(Conv2D(128, (3, 3), padding = 'same', activation='relu')))\n",
    "#model.add(TimeDistributed(BatchNormalization()))\n",
    "#model.add(TimeDistributed(MaxPooling2D(2,2)))\n",
    "\n",
    "#model.add(TimeDistributed(Conv2D(128, (3, 3), activation='relu')))\n",
    "#model.add(TimeDistributed(BatchNormalization()))\n",
    "#model.add(TimeDistributed(MaxPooling2D(2,2)))\n",
    "\n",
    "model.add(TimeDistributed(Flatten()))\n",
    "model.add(Dropout(0.2))\n",
    "\n",
    "#model.add(Masking(mask_value=special_value))\n",
    "model.add(LSTM(32, dropout=0.25, recurrent_dropout=0.1, return_sequences=False)) # used 64 units\n",
    "#model.add(SeqSelfAttention(attention_activation='sigmoid'))\n",
    "#model.add(Flatten())\n",
    "model.add(Dropout(0.2))\n",
    "\n",
    "model.add(Dense(64, activation='relu'))\n",
    "model.add(Dropout(0.2))\n",
    "model.add(Dense(8, activation='softmax')) # n_labels = 8\n",
    "model.summary()\n",
    "\n",
    "# #cnn_base.add(Conv2D(128, (3, 3), activation='relu'))\n",
    "# #cnn_base.add(Conv2D(128, (3, 3), activation='relu'))\n",
    "# #cnn_base.add(MaxPooling2D((2, 2)))\n",
    "\n",
    "# #cnn_base.add(Conv2D(256, (3, 3), activation='relu'))\n",
    "# #cnn_base.add(Conv2D(256, (3, 3), activation='relu'))\n",
    "# #cnn_base.add(MaxPooling2D((2, 2)))\n",
    "\n",
    "# #cnn_base.add(Conv2D(512, (3, 3), activation='relu'))\n",
    "# #cnn_base.add(Conv2D(512, (3, 3), activation='relu'))\n",
    "# #cnn_base.add(Conv2D(512, (3, 3), activation='relu'))\n",
    "# #cnn_base.add(MaxPooling2D((2, 2)))\n",
    "\n",
    "# #cnn_out = GlobalAveragePooling2D()(cnn_base.output)\n",
    "# cnn_base.add(Flatten())\n",
    "# cnn = Model(cnn_base.input, cnn_base.output)\n",
    "# encoded_frames = TimeDistributed(cnn)(video)\n",
    "# #encoded_sequence = LSTM(16, return_sequences=True)(encoded_frames)\n",
    "\n",
    "# #Attention Block:\n",
    "# units = 16\n",
    "# #activations =Bidirectional(LSTM(units, return_sequences=True, dropout = 0.2, recurrent_dropout = 0.2))(encoded_frames)\n",
    "# activations = LSTM(units, return_sequences=True, dropout = 0.25, recurrent_dropout = 0.1)(encoded_frames)\n",
    "# attention_mul = SeqSelfAttention(attention_activation = 'sigmoid')(activations)\n",
    "# #attention_mul = Flatten()(attention_mul)\n",
    "# attention_mul = Dropout(0.2)(attention_mul)\n",
    "# #attention=Dense(1, activation='tanh')(activations)\n",
    "# #attention=Flatten()(attention)\n",
    "# #attention=Activation('softmax')(attention)\n",
    "# #attention=RepeatVector(units)(attention)\n",
    "# #attention=RepeatVector(units*2)(attention) #Bidirectional lstm need to have units*2\n",
    "# #attention=Permute((2, 1))(attention)\n",
    "# #sent_representation = Multiply()([activations, attention])\n",
    "# #sent_representation = Lambda(lambda xin: K.sum(xin, axis=-2), output_shape=(units*2,))(sent_representation)\n",
    "# #attention_mul = Dense(1, activation = 'sigmoid')(sent_representation)\n",
    "\n",
    "\n",
    "\n",
    "# #attention_mul = attention_block(encoded_sequence, frames)\n",
    "# #attention_mul = Flatten()(attention_mul)\n",
    "\n",
    "# #x = Dense(128, activation=\"relu\")(attention_mul)\n",
    "# x = Dense(32, activation=\"relu\")(attention_mul)\n",
    "# #x = BatchNormalization()(x)\n",
    "# #x = Dense(64, activation=\"relu\")(x)\n",
    "# #x = Dense(32, activation=\"relu\")(x)\n",
    "# x = Dropout(0.2)(x)\n",
    "# #outputs = Dense(8, activation=\"softmax\")(x)\n",
    "# outputs = Dense(8, activation=\"softmax\")(x)\n",
    "\n",
    "# model = Model(video, outputs)\n",
    "#model.summary()"
   ]
  },
  {
   "cell_type": "code",
   "execution_count": 7,
   "metadata": {},
   "outputs": [],
   "source": [
    "import keras\n",
    "import tensorflow as tf\n",
    "callbacks_list = [keras.callbacks.EarlyStopping(monitor='accuracy', patience=50),\n",
    "                  keras.callbacks.ModelCheckpoint(\n",
    "                      filepath='cnn_lstm_clean_model_v6',\n",
    "                      monitor='val_loss',\n",
    "                      save_best_only=True\n",
    "                  ),\n",
    "                  keras.callbacks.ReduceLROnPlateau(\n",
    "                      monitor=\"val_loss\", factor=0.1, patience=50\n",
    "                  )]\n",
    "\n",
    "from keras import optimizers\n",
    "\n",
    "step = tf.Variable(0, trainable=False)\n",
    "boundaries = [30, 60, 90, 120, 150, 180]\n",
    "values = [1e-3, 5e-4, 1e-4, 5e-5, 1e-5, 5e-6, 1e-6]\n",
    "learning_rate_fn = keras.optimizers.schedules.PiecewiseConstantDecay(\n",
    "    boundaries, values)\n",
    "learning_rate = learning_rate_fn(step)\n",
    "\n",
    "optimizer_new=optimizers.Adam(lr=1e-4)\n",
    "#optimizer_new=optimizers.SGD(lr=1e-4, momentum=0.9)\n",
    "#optimizer_new=optimizers.SGD(lr=learning_rate)\n",
    "model.compile(optimizer=optimizer_new,\n",
    "                    loss='categorical_crossentropy',\n",
    "                    metrics=['accuracy'])"
   ]
  },
  {
   "cell_type": "markdown",
   "metadata": {},
   "source": [
    "### 1.2 Train model"
   ]
  },
  {
   "cell_type": "code",
   "execution_count": 8,
   "metadata": {},
   "outputs": [
    {
     "name": "stdout",
     "output_type": "stream",
     "text": [
      "Epoch 1/60\n",
      "51/51 [==============================] - 62s 1s/step - loss: 2.2664 - accuracy: 0.1285 - val_loss: 2.2326 - val_accuracy: 0.1085\n",
      "INFO:tensorflow:Assets written to: cnn_lstm_clean_model_v6/assets\n",
      "Epoch 2/60\n",
      "51/51 [==============================] - 43s 845ms/step - loss: 2.2383 - accuracy: 0.1184 - val_loss: 2.2279 - val_accuracy: 0.1247\n",
      "INFO:tensorflow:Assets written to: cnn_lstm_clean_model_v6/assets\n",
      "Epoch 3/60\n",
      "51/51 [==============================] - 40s 794ms/step - loss: 2.2288 - accuracy: 0.1404 - val_loss: 2.2301 - val_accuracy: 0.1224\n",
      "Epoch 4/60\n",
      "51/51 [==============================] - 40s 795ms/step - loss: 2.2258 - accuracy: 0.1366 - val_loss: 2.2251 - val_accuracy: 0.1224\n",
      "INFO:tensorflow:Assets written to: cnn_lstm_clean_model_v6/assets\n",
      "Epoch 5/60\n",
      "51/51 [==============================] - 40s 793ms/step - loss: 2.2160 - accuracy: 0.1341 - val_loss: 2.2311 - val_accuracy: 0.1224\n",
      "Epoch 6/60\n",
      "51/51 [==============================] - 40s 794ms/step - loss: 2.2156 - accuracy: 0.1690 - val_loss: 2.2313 - val_accuracy: 0.1224\n",
      "Epoch 7/60\n",
      "51/51 [==============================] - 40s 794ms/step - loss: 2.1978 - accuracy: 0.1433 - val_loss: 2.2304 - val_accuracy: 0.1224\n",
      "Epoch 8/60\n",
      "51/51 [==============================] - 40s 794ms/step - loss: 2.1934 - accuracy: 0.1420 - val_loss: 2.2322 - val_accuracy: 0.1224\n",
      "Epoch 9/60\n",
      "51/51 [==============================] - 41s 805ms/step - loss: 2.1966 - accuracy: 0.1409 - val_loss: 2.2261 - val_accuracy: 0.0924\n",
      "Epoch 10/60\n",
      "51/51 [==============================] - 40s 793ms/step - loss: 2.1914 - accuracy: 0.1380 - val_loss: 2.1955 - val_accuracy: 0.1432\n",
      "INFO:tensorflow:Assets written to: cnn_lstm_clean_model_v6/assets\n",
      "Epoch 11/60\n",
      "51/51 [==============================] - 40s 791ms/step - loss: 2.1891 - accuracy: 0.1471 - val_loss: 2.1966 - val_accuracy: 0.1732\n",
      "Epoch 12/60\n",
      "51/51 [==============================] - 40s 789ms/step - loss: 2.1864 - accuracy: 0.1395 - val_loss: 2.1879 - val_accuracy: 0.1778\n",
      "INFO:tensorflow:Assets written to: cnn_lstm_clean_model_v6/assets\n",
      "Epoch 13/60\n",
      "51/51 [==============================] - 40s 790ms/step - loss: 2.1793 - accuracy: 0.1733 - val_loss: 2.1809 - val_accuracy: 0.1409\n",
      "INFO:tensorflow:Assets written to: cnn_lstm_clean_model_v6/assets\n",
      "Epoch 14/60\n",
      "51/51 [==============================] - 40s 792ms/step - loss: 2.1583 - accuracy: 0.1971 - val_loss: 2.1869 - val_accuracy: 0.1270\n",
      "Epoch 15/60\n",
      "51/51 [==============================] - 40s 794ms/step - loss: 2.1609 - accuracy: 0.1924 - val_loss: 2.1828 - val_accuracy: 0.1224\n",
      "Epoch 16/60\n",
      "51/51 [==============================] - 41s 796ms/step - loss: 2.1805 - accuracy: 0.1253 - val_loss: 2.1900 - val_accuracy: 0.1270\n",
      "Epoch 17/60\n",
      "51/51 [==============================] - 40s 792ms/step - loss: 2.1710 - accuracy: 0.1504 - val_loss: 2.1788 - val_accuracy: 0.1409\n",
      "INFO:tensorflow:Assets written to: cnn_lstm_clean_model_v6/assets\n",
      "Epoch 18/60\n",
      "51/51 [==============================] - 40s 792ms/step - loss: 2.1441 - accuracy: 0.2213 - val_loss: 2.1658 - val_accuracy: 0.1894\n",
      "INFO:tensorflow:Assets written to: cnn_lstm_clean_model_v6/assets\n",
      "Epoch 19/60\n",
      "51/51 [==============================] - 40s 790ms/step - loss: 2.1384 - accuracy: 0.2019 - val_loss: 2.1614 - val_accuracy: 0.1940\n",
      "INFO:tensorflow:Assets written to: cnn_lstm_clean_model_v6/assets\n",
      "Epoch 20/60\n",
      "51/51 [==============================] - 40s 791ms/step - loss: 2.1462 - accuracy: 0.1691 - val_loss: 2.1559 - val_accuracy: 0.1917\n",
      "INFO:tensorflow:Assets written to: cnn_lstm_clean_model_v6/assets\n",
      "Epoch 21/60\n",
      "51/51 [==============================] - 40s 790ms/step - loss: 2.1147 - accuracy: 0.2145 - val_loss: 2.1440 - val_accuracy: 0.1663\n",
      "INFO:tensorflow:Assets written to: cnn_lstm_clean_model_v6/assets\n",
      "Epoch 22/60\n",
      "51/51 [==============================] - 40s 790ms/step - loss: 2.1252 - accuracy: 0.1933 - val_loss: 2.1500 - val_accuracy: 0.1570\n",
      "Epoch 23/60\n",
      "51/51 [==============================] - 40s 793ms/step - loss: 2.1036 - accuracy: 0.2096 - val_loss: 2.1608 - val_accuracy: 0.1178\n",
      "Epoch 24/60\n",
      "51/51 [==============================] - 41s 799ms/step - loss: 2.1205 - accuracy: 0.1837 - val_loss: 2.1384 - val_accuracy: 0.1755\n",
      "INFO:tensorflow:Assets written to: cnn_lstm_clean_model_v6/assets\n",
      "Epoch 25/60\n",
      "51/51 [==============================] - 40s 793ms/step - loss: 2.0995 - accuracy: 0.2232 - val_loss: 2.1353 - val_accuracy: 0.1617\n",
      "INFO:tensorflow:Assets written to: cnn_lstm_clean_model_v6/assets\n",
      "Epoch 26/60\n",
      "51/51 [==============================] - 40s 794ms/step - loss: 2.1020 - accuracy: 0.2073 - val_loss: 2.1232 - val_accuracy: 0.1478\n",
      "INFO:tensorflow:Assets written to: cnn_lstm_clean_model_v6/assets\n",
      "Epoch 27/60\n",
      "51/51 [==============================] - 41s 795ms/step - loss: 2.0909 - accuracy: 0.2204 - val_loss: 2.1170 - val_accuracy: 0.1316\n",
      "INFO:tensorflow:Assets written to: cnn_lstm_clean_model_v6/assets\n",
      "Epoch 28/60\n",
      "51/51 [==============================] - 40s 793ms/step - loss: 2.0945 - accuracy: 0.2260 - val_loss: 2.1150 - val_accuracy: 0.1755\n",
      "INFO:tensorflow:Assets written to: cnn_lstm_clean_model_v6/assets\n",
      "Epoch 29/60\n",
      "51/51 [==============================] - 40s 793ms/step - loss: 2.0471 - accuracy: 0.2468 - val_loss: 2.1163 - val_accuracy: 0.1709\n",
      "Epoch 30/60\n",
      "51/51 [==============================] - 40s 792ms/step - loss: 2.0632 - accuracy: 0.2356 - val_loss: 2.0981 - val_accuracy: 0.2009\n",
      "INFO:tensorflow:Assets written to: cnn_lstm_clean_model_v6/assets\n",
      "Epoch 31/60\n",
      "51/51 [==============================] - 40s 794ms/step - loss: 2.0664 - accuracy: 0.2280 - val_loss: 2.1001 - val_accuracy: 0.2125\n",
      "Epoch 32/60\n",
      "51/51 [==============================] - 40s 795ms/step - loss: 2.0521 - accuracy: 0.2516 - val_loss: 2.1021 - val_accuracy: 0.1986\n",
      "Epoch 33/60\n",
      "51/51 [==============================] - 40s 793ms/step - loss: 2.0306 - accuracy: 0.2396 - val_loss: 2.1033 - val_accuracy: 0.1801\n",
      "Epoch 34/60\n",
      "51/51 [==============================] - 41s 798ms/step - loss: 2.0283 - accuracy: 0.2736 - val_loss: 2.1562 - val_accuracy: 0.1594\n",
      "Epoch 35/60\n",
      "51/51 [==============================] - 40s 794ms/step - loss: 2.0663 - accuracy: 0.2301 - val_loss: 2.1364 - val_accuracy: 0.1617\n",
      "Epoch 36/60\n",
      "51/51 [==============================] - 40s 794ms/step - loss: 2.0446 - accuracy: 0.2680 - val_loss: 2.1369 - val_accuracy: 0.1801\n",
      "Epoch 37/60\n",
      "51/51 [==============================] - 40s 792ms/step - loss: 2.0241 - accuracy: 0.2840 - val_loss: 2.1208 - val_accuracy: 0.1986\n",
      "Epoch 38/60\n",
      "51/51 [==============================] - 40s 791ms/step - loss: 2.0281 - accuracy: 0.2689 - val_loss: 2.1187 - val_accuracy: 0.2032\n",
      "Epoch 39/60\n",
      "51/51 [==============================] - 40s 791ms/step - loss: 2.0047 - accuracy: 0.2792 - val_loss: 2.1147 - val_accuracy: 0.1848\n",
      "Epoch 40/60\n",
      "51/51 [==============================] - 40s 796ms/step - loss: 1.9856 - accuracy: 0.3018 - val_loss: 2.1064 - val_accuracy: 0.2032\n",
      "Epoch 41/60\n",
      "51/51 [==============================] - 40s 794ms/step - loss: 1.9897 - accuracy: 0.3012 - val_loss: 2.1284 - val_accuracy: 0.1570\n",
      "Epoch 42/60\n",
      "51/51 [==============================] - 40s 793ms/step - loss: 1.9355 - accuracy: 0.3616 - val_loss: 2.1138 - val_accuracy: 0.1963\n",
      "Epoch 43/60\n",
      "51/51 [==============================] - 40s 790ms/step - loss: 1.9995 - accuracy: 0.2597 - val_loss: 2.1093 - val_accuracy: 0.2055\n",
      "Epoch 44/60\n",
      "51/51 [==============================] - 40s 795ms/step - loss: 1.9470 - accuracy: 0.3115 - val_loss: 2.1051 - val_accuracy: 0.1894\n",
      "Epoch 45/60\n",
      "51/51 [==============================] - 40s 793ms/step - loss: 1.9196 - accuracy: 0.3297 - val_loss: 2.1018 - val_accuracy: 0.1917\n",
      "Epoch 46/60\n",
      "51/51 [==============================] - 40s 792ms/step - loss: 1.8625 - accuracy: 0.4007 - val_loss: 2.1112 - val_accuracy: 0.1848\n",
      "Epoch 47/60\n",
      "51/51 [==============================] - 40s 795ms/step - loss: 1.8830 - accuracy: 0.3755 - val_loss: 2.1071 - val_accuracy: 0.1917\n",
      "Epoch 48/60\n",
      "51/51 [==============================] - 40s 793ms/step - loss: 1.9094 - accuracy: 0.3321 - val_loss: 2.0989 - val_accuracy: 0.1940\n",
      "Epoch 49/60\n",
      "51/51 [==============================] - 40s 794ms/step - loss: 1.8578 - accuracy: 0.3747 - val_loss: 2.1042 - val_accuracy: 0.1963\n",
      "Epoch 50/60\n",
      "51/51 [==============================] - 40s 793ms/step - loss: 1.8376 - accuracy: 0.3783 - val_loss: 2.1080 - val_accuracy: 0.2102\n",
      "Epoch 51/60\n",
      "51/51 [==============================] - 40s 792ms/step - loss: 1.8522 - accuracy: 0.3803 - val_loss: 2.0993 - val_accuracy: 0.2032\n",
      "Epoch 52/60\n",
      "51/51 [==============================] - 40s 795ms/step - loss: 1.7986 - accuracy: 0.4072 - val_loss: 2.1037 - val_accuracy: 0.2102\n",
      "Epoch 53/60\n",
      "51/51 [==============================] - 41s 797ms/step - loss: 1.7977 - accuracy: 0.3694 - val_loss: 2.1003 - val_accuracy: 0.2217\n",
      "Epoch 54/60\n",
      "51/51 [==============================] - 41s 797ms/step - loss: 1.7926 - accuracy: 0.3771 - val_loss: 2.0972 - val_accuracy: 0.2079\n",
      "INFO:tensorflow:Assets written to: cnn_lstm_clean_model_v6/assets\n",
      "Epoch 55/60\n",
      "51/51 [==============================] - 41s 795ms/step - loss: 1.7362 - accuracy: 0.4301 - val_loss: 2.0953 - val_accuracy: 0.2148\n",
      "INFO:tensorflow:Assets written to: cnn_lstm_clean_model_v6/assets\n",
      "Epoch 56/60\n",
      "51/51 [==============================] - 40s 794ms/step - loss: 1.7694 - accuracy: 0.4047 - val_loss: 2.0833 - val_accuracy: 0.2171\n",
      "INFO:tensorflow:Assets written to: cnn_lstm_clean_model_v6/assets\n",
      "Epoch 57/60\n",
      "51/51 [==============================] - 41s 804ms/step - loss: 1.6850 - accuracy: 0.4740 - val_loss: 2.0882 - val_accuracy: 0.2286\n",
      "Epoch 58/60\n",
      "51/51 [==============================] - 40s 794ms/step - loss: 1.7000 - accuracy: 0.4730 - val_loss: 2.0977 - val_accuracy: 0.2148\n",
      "Epoch 59/60\n",
      "51/51 [==============================] - 40s 796ms/step - loss: 1.6421 - accuracy: 0.4775 - val_loss: 2.1144 - val_accuracy: 0.2032\n",
      "Epoch 60/60\n",
      "51/51 [==============================] - 40s 791ms/step - loss: 1.6637 - accuracy: 0.4298 - val_loss: 2.1137 - val_accuracy: 0.1894\n"
     ]
    }
   ],
   "source": [
    "history = model.fit(train_data, train_action_labels,\n",
    "                    validation_data=(val_data, val_action_labels),\n",
    "                    batch_size=20, epochs=60,\n",
    "                    callbacks=callbacks_list\n",
    "                    )"
   ]
  },
  {
   "cell_type": "markdown",
   "metadata": {},
   "source": [
    "### 1.3 Visualize Train/Valid accuracy & loss, confusion matrix"
   ]
  },
  {
   "cell_type": "code",
   "execution_count": 9,
   "metadata": {},
   "outputs": [
    {
     "data": {
      "image/png": "[encoded data removed]",
      "text/plain": [
       "<Figure size 432x288 with 1 Axes>"
      ]
     },
     "metadata": {
      "needs_background": "light"
     },
     "output_type": "display_data"
    },
    {
     "data": {
      "image/png": "[encoded data removed]",
      "text/plain": [
       "<Figure size 432x288 with 1 Axes>"
      ]
     },
     "metadata": {
      "needs_background": "light"
     },
     "output_type": "display_data"
    }
   ],
   "source": [
    "###Plot train/valid accuracy & loss\n",
    "import matplotlib.pyplot as plt\n",
    "\n",
    "acc=history.history[\"accuracy\"]\n",
    "val_acc=history.history[\"val_accuracy\"]\n",
    "loss=history.history[\"loss\"]\n",
    "val_loss=history.history[\"val_loss\"]\n",
    "epoch_stop = len(acc)\n",
    "epochs=np.arange(1, epoch_stop+1)\n",
    "\n",
    "plt.plot(epochs, acc, label = \"Train\", color = 'darkturquoise')\n",
    "plt.plot(epochs, val_acc, label = \"Valid\", linestyle=\"--\", color = 'deepskyblue')\n",
    "plt.legend()\n",
    "plt.title('Train/Valid Accuracy')\n",
    "plt.show()\n",
    "\n",
    "plt.plot(epochs, loss, label = \"Train\", color = 'orchid')\n",
    "plt.plot(epochs, val_loss, label = \"Valid\", linestyle=\"--\", color = 'deeppink')\n",
    "plt.legend()\n",
    "plt.title('Train/Valid Loss')\n",
    "plt.show()"
   ]
  },
  {
   "cell_type": "code",
   "execution_count": 11,
   "metadata": {},
   "outputs": [],
   "source": [
    "import keras\n",
    "# Predictions on validation data:\n",
    "val_preds = model.predict(val_data)\n",
    "val_preds = np.argmax(val_preds,axis=1)\n",
    "val_true = [mapping[x] for x in val_actions]"
   ]
  },
  {
   "cell_type": "code",
   "execution_count": 12,
   "metadata": {},
   "outputs": [
    {
     "data": {
      "text/plain": [
       "<AxesSubplot:>"
      ]
     },
     "execution_count": 12,
     "metadata": {},
     "output_type": "execute_result"
    },
    {
     "data": {
      "image/png": "[encoded data removed]",
      "text/plain": [
       "<Figure size 648x504 with 2 Axes>"
      ]
     },
     "metadata": {
      "needs_background": "light"
     },
     "output_type": "display_data"
    }
   ],
   "source": [
    "import seaborn as sn\n",
    "import pandas as pd\n",
    "import matplotlib.pyplot as plt\n",
    "import sklearn.metrics as metrics\n",
    "\n",
    "confusion_matrix = metrics.confusion_matrix(y_true=val_true, y_pred=val_preds)\n",
    "df_cm = pd.DataFrame(confusion_matrix, index = mapping.keys(),\n",
    "                  columns = mapping.keys())\n",
    "plt.figure(figsize = (9,7))\n",
    "sn.heatmap(df_cm, annot=True, cmap=\"Blues\")"
   ]
  },
  {
   "cell_type": "code",
   "execution_count": 13,
   "metadata": {},
   "outputs": [],
   "source": [
    "# COUG:1, SNEE:4\n",
    "val_true_bin = [x in (1, 4) for x in val_true]\n",
    "val_preds_bin = [x in (1, 4) for x in val_preds]"
   ]
  },
  {
   "cell_type": "code",
   "execution_count": 14,
   "metadata": {},
   "outputs": [
    {
     "data": {
      "text/plain": [
       "<AxesSubplot:>"
      ]
     },
     "execution_count": 14,
     "metadata": {},
     "output_type": "execute_result"
    },
    {
     "data": {
      "image/png": "[encoded data removed]",
      "text/plain": [
       "<Figure size 288x216 with 2 Axes>"
      ]
     },
     "metadata": {
      "needs_background": "light"
     },
     "output_type": "display_data"
    }
   ],
   "source": [
    "confusion_matrix = metrics.confusion_matrix(y_true=val_true_bin, y_pred=val_preds_bin)\n",
    "df_cm = pd.DataFrame(confusion_matrix, index = ['Other', 'COUG_SNEE'],\n",
    "                  columns = ['Other', 'COUG_SNEE'])\n",
    "plt.figure(figsize = (4,3))\n",
    "sn.heatmap(df_cm, annot=True, cmap=\"Blues\")"
   ]
  },
  {
   "cell_type": "code",
   "execution_count": 15,
   "metadata": {},
   "outputs": [
    {
     "name": "stdout",
     "output_type": "stream",
     "text": [
      "Prec.% 0.3458646616541353\n",
      "Rec.% 0.42201834862385323\n",
      "Acc.% 0.23469387755102042\n"
     ]
    }
   ],
   "source": [
    "tn, fp, fn, tp = confusion_matrix.ravel()\n",
    "\n",
    "prec = tp/(tp+fp)\n",
    "rec = tp/(tp+fn)\n",
    "acc = tp / (tp+fp+fn)\n",
    "\n",
    "print('Prec.%', prec)\n",
    "print('Rec.%', rec)\n",
    "print('Acc.%', acc)"
   ]
  },
  {
   "cell_type": "markdown",
   "metadata": {},
   "source": [
    "### 1.4 Save model and loss history"
   ]
  },
  {
   "cell_type": "code",
   "execution_count": 23,
   "metadata": {},
   "outputs": [],
   "source": [
    "###Save history\n",
    "np.save(os.path.join(base_dir, \"cnn_lstm_clean_v6_history\"), history.history)\n",
    "###Save model\n",
    "model.save(os.path.join(base_dir, \"cnn_lstm_clean_v6.h5\"))   \n",
    "\n",
    "#Load history:\n",
    "#history = np.load(os.path.join(base_dir, \"cnn_lstm_clean_v1_history.npy\"), allow_pickle=True)\n",
    "\n",
    "#Load saved model:\n",
    "#model = keras.models.load_model(os.path.join(base_dir, \"cnn_lstm_clean_v1.h5\"))"
   ]
  },
  {
   "cell_type": "markdown",
   "metadata": {},
   "source": [
    "### 1.5 Evaluation on test data"
   ]
  },
  {
   "cell_type": "code",
   "execution_count": 16,
   "metadata": {},
   "outputs": [],
   "source": [
    "#Load Test Data:\n",
    "base_dir = '/home/ubuntu'\n",
    "test_data = np.load(os.path.join(base_dir, 'test_data_pre12.npy'))\n",
    "test_actions = np.load(os.path.join(base_dir, 'test_actions_pre12.npy'), allow_pickle=True)"
   ]
  },
  {
   "cell_type": "code",
   "execution_count": 17,
   "metadata": {},
   "outputs": [],
   "source": [
    "# Predictions on test data:\n",
    "test_preds = model.predict(test_data)\n",
    "test_preds = np.argmax(test_preds,axis=1)\n",
    "test_true = [mapping[x] for x in test_actions]"
   ]
  },
  {
   "cell_type": "code",
   "execution_count": 18,
   "metadata": {},
   "outputs": [
    {
     "data": {
      "text/plain": [
       "<AxesSubplot:>"
      ]
     },
     "execution_count": 18,
     "metadata": {},
     "output_type": "execute_result"
    },
    {
     "data": {
      "image/png": "[encoded data removed]",
      "text/plain": [
       "<Figure size 648x504 with 2 Axes>"
      ]
     },
     "metadata": {
      "needs_background": "light"
     },
     "output_type": "display_data"
    }
   ],
   "source": [
    "import seaborn as sn\n",
    "import pandas as pd\n",
    "import matplotlib.pyplot as plt\n",
    "import sklearn.metrics as metrics\n",
    "\n",
    "confusion_matrix = metrics.confusion_matrix(y_true=test_true, y_pred=test_preds)\n",
    "df_cm = pd.DataFrame(confusion_matrix, index = mapping.keys(),\n",
    "                  columns = mapping.keys())\n",
    "plt.figure(figsize = (9,7))\n",
    "sn.heatmap(df_cm, annot=True, cmap=\"Blues\")"
   ]
  },
  {
   "cell_type": "code",
   "execution_count": 19,
   "metadata": {},
   "outputs": [],
   "source": [
    "# COUG:1, SNEE:4\n",
    "test_true_bin = [x in (1, 4) for x in test_true]\n",
    "test_preds_bin = [x in (1, 4) for x in test_preds]"
   ]
  },
  {
   "cell_type": "code",
   "execution_count": 21,
   "metadata": {},
   "outputs": [
    {
     "data": {
      "text/plain": [
       "<AxesSubplot:>"
      ]
     },
     "execution_count": 21,
     "metadata": {},
     "output_type": "execute_result"
    },
    {
     "data": {
      "image/png": "[encoded data removed]",
      "text/plain": [
       "<Figure size 288x216 with 2 Axes>"
      ]
     },
     "metadata": {
      "needs_background": "light"
     },
     "output_type": "display_data"
    }
   ],
   "source": [
    "confusion_matrix = metrics.confusion_matrix(y_true=test_true_bin, y_pred=test_preds_bin)\n",
    "df_cm = pd.DataFrame(confusion_matrix, index = ['Other', 'COUG_SNEE'],\n",
    "                  columns = ['Other', 'COUG_SNEE'])\n",
    "plt.figure(figsize = (4,3))\n",
    "sn.heatmap(df_cm, annot=True, cmap=\"Blues\")"
   ]
  },
  {
   "cell_type": "code",
   "execution_count": 22,
   "metadata": {},
   "outputs": [
    {
     "name": "stdout",
     "output_type": "stream",
     "text": [
      "Prec.% 0.30337078651685395\n",
      "Rec.% 0.45\n",
      "Acc.% 0.22131147540983606\n"
     ]
    }
   ],
   "source": [
    "tn, fp, fn, tp = confusion_matrix.ravel()\n",
    "\n",
    "prec = tp/(tp+fp)\n",
    "rec = tp/(tp+fn)\n",
    "acc = tp / (tp+fp+fn)\n",
    "\n",
    "print('Prec.%', prec)\n",
    "print('Rec.%', rec)\n",
    "print('Acc.%', acc)"
   ]
  },
  {
   "cell_type": "code",
   "execution_count": null,
   "metadata": {},
   "outputs": [],
   "source": []
  }
 ],
 "metadata": {
  "kernelspec": {
   "display_name": "Python 3",
   "language": "python",
   "name": "python3"
  },
  "language_info": {
   "codemirror_mode": {
    "name": "ipython",
    "version": 3
   },
   "file_extension": ".py",
   "mimetype": "text/x-python",
   "name": "python",
   "nbconvert_exporter": "python",
   "pygments_lexer": "ipython3",
   "version": "3.7.6"
  }
 },
 "nbformat": 4,
 "nbformat_minor": 5
}

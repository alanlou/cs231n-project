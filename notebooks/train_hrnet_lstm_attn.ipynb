{
 "cells": [
  {
   "cell_type": "code",
   "execution_count": 1,
   "metadata": {
    "colab": {
     "base_uri": "https://localhost:8080/"
    },
    "executionInfo": {
     "elapsed": 1709,
     "status": "ok",
     "timestamp": 1620706610046,
     "user": {
      "displayName": "Alan Lou",
      "photoUrl": "",
      "userId": "01891307768663487619"
     },
     "user_tz": 420
    },
    "id": "Q_acOOXjYOcD",
    "outputId": "81a8b4e7-e398-4e15-9879-7d6429d4d31b"
   },
   "outputs": [
    {
     "name": "stdout",
     "output_type": "stream",
     "text": [
      "Not on Google Colab.\n"
     ]
    }
   ],
   "source": [
    "# Skip this cell if we are not on Google Colab\n",
    "try:\n",
    "    # Mount Google Drive to the Colab VM.\n",
    "    from google.colab import drive\n",
    "    drive.mount('/content/drive', force_remount=True)\n",
    "\n",
    "    # Specify working directory.\n",
    "    FOLDERNAME = 'cs231n/project/'\n",
    "    %cd /content/drive/My\\ Drive/$FOLDERNAME\n",
    "\n",
    "    # Ensure that the Python interpreter of the Colab VM can load python files from\n",
    "    # within it.\n",
    "    import sys\n",
    "    sys.path.append('/content/drive/My Drive/{}'.format(FOLDERNAME))\n",
    "except ImportError as e:\n",
    "    print(\"Not on Google Colab.\")"
   ]
  },
  {
   "cell_type": "markdown",
   "metadata": {
    "id": "dFg3BpW0YQga"
   },
   "source": [
    "## Load dataset and labels"
   ]
  },
  {
   "cell_type": "code",
   "execution_count": 2,
   "metadata": {
    "executionInfo": {
     "elapsed": 159507,
     "status": "ok",
     "timestamp": 1620706767852,
     "user": {
      "displayName": "Alan Lou",
      "photoUrl": "",
      "userId": "01891307768663487619"
     },
     "user_tz": 420
    },
    "id": "wDduMsrCYQzb"
   },
   "outputs": [],
   "source": [
    "import numpy as np\n",
    "import os\n",
    "\n",
    "#base_dir = '/content/drive/My Drive/cs231n/project/dataset/shaped_hrnet_data'\n",
    "base_dir = '/home/ubuntu'\n",
    "\n",
    "train_data = np.load(os.path.join(base_dir, 'train_data_pre60.npy'))\n",
    "train_actions = np.load(os.path.join(base_dir, 'train_actions_pre60.npy'), allow_pickle=True)\n",
    "\n",
    "val_data = np.load(os.path.join(base_dir, 'val_data_pre60.npy'))\n",
    "val_actions = np.load(os.path.join(base_dir, 'val_actions_pre60.npy'), allow_pickle=True)"
   ]
  },
  {
   "cell_type": "code",
   "execution_count": 3,
   "metadata": {
    "executionInfo": {
     "elapsed": 159502,
     "status": "ok",
     "timestamp": 1620706767853,
     "user": {
      "displayName": "Alan Lou",
      "photoUrl": "",
      "userId": "01891307768663487619"
     },
     "user_tz": 420
    },
    "id": "h-frk4X3qNS3"
   },
   "outputs": [],
   "source": [
    "# reshape data\n",
    "train_data = np.moveaxis(train_data, 2, -1)\n",
    "val_data = np.moveaxis(val_data, 2, -1)"
   ]
  },
  {
   "cell_type": "code",
   "execution_count": 4,
   "metadata": {
    "colab": {
     "base_uri": "https://localhost:8080/"
    },
    "executionInfo": {
     "elapsed": 159497,
     "status": "ok",
     "timestamp": 1620706767853,
     "user": {
      "displayName": "Alan Lou",
      "photoUrl": "",
      "userId": "01891307768663487619"
     },
     "user_tz": 420
    },
    "id": "IEY0wBBwYUhB",
    "outputId": "e5f799bc-20f3-4340-a18f-9d6a415d4788"
   },
   "outputs": [
    {
     "name": "stdout",
     "output_type": "stream",
     "text": [
      "Training data shape:  (1007, 60, 64, 48, 17)\n",
      "Training action shape:  (1007,)\n",
      "Validation data shape:  (433, 60, 64, 48, 17)\n",
      "Validation action shape:  (433,)\n"
     ]
    }
   ],
   "source": [
    "print('Training data shape: ', train_data.shape)\n",
    "print('Training action shape: ', train_actions.shape)\n",
    "print('Validation data shape: ', val_data.shape)\n",
    "print('Validation action shape: ', val_actions.shape)"
   ]
  },
  {
   "cell_type": "code",
   "execution_count": 5,
   "metadata": {
    "executionInfo": {
     "elapsed": 159493,
     "status": "ok",
     "timestamp": 1620706767854,
     "user": {
      "displayName": "Alan Lou",
      "photoUrl": "",
      "userId": "01891307768663487619"
     },
     "user_tz": 420
    },
    "id": "Ro_AWHGqWHE2"
   },
   "outputs": [],
   "source": [
    "mapping = {\n",
    "    'CALL': 0,\n",
    "    'COUG': 1,\n",
    "    'DRIN': 2,\n",
    "    'SCRA': 3,\n",
    "    'SNEE': 4,\n",
    "    'STRE': 5,\n",
    "    'WAVE': 6,\n",
    "    'WIPE': 7,\n",
    "}\n",
    "train_action_labels = [mapping[x] for x in train_actions]\n",
    "val_action_labels = [mapping[x] for x in val_actions]\n",
    "\n",
    "# One-hot encoding.\n",
    "train_action_labels = np.eye(8)[train_action_labels] \n",
    "val_action_labels = np.eye(8)[val_action_labels] "
   ]
  },
  {
   "cell_type": "code",
   "execution_count": 6,
   "metadata": {},
   "outputs": [
    {
     "data": {
      "text/plain": [
       "<function matplotlib.pyplot.show(close=None, block=None)>"
      ]
     },
     "execution_count": 6,
     "metadata": {},
     "output_type": "execute_result"
    },
    {
     "data": {
      "image/png": "[encoded data removed]",
      "text/plain": [
       "<Figure size 432x288 with 2 Axes>"
      ]
     },
     "metadata": {
      "needs_background": "light"
     },
     "output_type": "display_data"
    }
   ],
   "source": [
    "# make sure input dataset is correct\n",
    "import matplotlib.pyplot as plt\n",
    "\n",
    "plt.imshow(np.max(train_data[0,-1,:,:,:], axis=-1))\n",
    "plt.colorbar()\n",
    "plt.show"
   ]
  },
  {
   "cell_type": "code",
   "execution_count": 7,
   "metadata": {},
   "outputs": [
    {
     "name": "stdout",
     "output_type": "stream",
     "text": [
      "special value may be: [[-10. -10. -10. ... -10. -10. -10.]\n",
      " [-10. -10. -10. ... -10. -10. -10.]\n",
      " [-10. -10. -10. ... -10. -10. -10.]\n",
      " ...\n",
      " [-10. -10. -10. ... -10. -10. -10.]\n",
      " [-10. -10. -10. ... -10. -10. -10.]\n",
      " [-10. -10. -10. ... -10. -10. -10.]]\n"
     ]
    }
   ],
   "source": [
    "print(f\"special value may be: {train_data[1,0,:,:,:].max(axis=-1)}\")"
   ]
  },
  {
   "cell_type": "code",
   "execution_count": 8,
   "metadata": {},
   "outputs": [
    {
     "data": {
      "text/plain": [
       "(1007, 60, 64, 48, 17)"
      ]
     },
     "execution_count": 8,
     "metadata": {},
     "output_type": "execute_result"
    }
   ],
   "source": [
    "train_data.shape"
   ]
  },
  {
   "cell_type": "markdown",
   "metadata": {
    "id": "xJY0oZCPnmWa"
   },
   "source": [
    "## Model Structure: HR-Net + LSTM"
   ]
  },
  {
   "cell_type": "code",
   "execution_count": 9,
   "metadata": {
    "colab": {
     "base_uri": "https://localhost:8080/"
    },
    "executionInfo": {
     "elapsed": 10110,
     "status": "ok",
     "timestamp": 1620707140970,
     "user": {
      "displayName": "Alan Lou",
      "photoUrl": "",
      "userId": "01891307768663487619"
     },
     "user_tz": 420
    },
    "id": "POAXQXJTnvZr",
    "outputId": "6012e540-0dc7-4826-dfdf-54aab5fbe708"
   },
   "outputs": [
    {
     "name": "stdout",
     "output_type": "stream",
     "text": [
      "WARNING:tensorflow:Layer lstm will not use cuDNN kernel since it doesn't meet the cuDNN kernel criteria. It will use generic GPU kernel as fallback when running on GPU\n",
      "Model: \"sequential\"\n",
      "_________________________________________________________________\n",
      "Layer (type)                 Output Shape              Param #   \n",
      "=================================================================\n",
      "time_distributed (TimeDistri (None, 60, 52224)         0         \n",
      "_________________________________________________________________\n",
      "dropout (Dropout)            (None, 60, 52224)         0         \n",
      "_________________________________________________________________\n",
      "masking (Masking)            (None, 60, 52224)         0         \n",
      "_________________________________________________________________\n",
      "lstm (LSTM)                  (None, 60, 64)            13385984  \n",
      "_________________________________________________________________\n",
      "seq_self_attention (SeqSelfA (None, 60, 64)            4161      \n",
      "_________________________________________________________________\n",
      "flatten_1 (Flatten)          (None, 3840)              0         \n",
      "_________________________________________________________________\n",
      "dropout_1 (Dropout)          (None, 3840)              0         \n",
      "_________________________________________________________________\n",
      "dense (Dense)                (None, 32)                122912    \n",
      "_________________________________________________________________\n",
      "dropout_2 (Dropout)          (None, 32)                0         \n",
      "_________________________________________________________________\n",
      "dense_1 (Dense)              (None, 8)                 264       \n",
      "=================================================================\n",
      "Total params: 13,513,321\n",
      "Trainable params: 13,513,321\n",
      "Non-trainable params: 0\n",
      "_________________________________________________________________\n"
     ]
    }
   ],
   "source": [
    "from keras.layers import Input, TimeDistributed, Conv2D, Dense, MaxPooling2D, Flatten, LSTM, Dropout, BatchNormalization, Masking, Bidirectional\n",
    "from keras_self_attention import SeqSelfAttention\n",
    "from keras import models\n",
    "\n",
    "# hr-net heatmap: (x, 60, 64, 48, 17)\n",
    "timesteps = 60\n",
    "rows, columns, channels = 64, 48, 17\n",
    "special_value = -10.0\n",
    "\n",
    "model = models.Sequential()\n",
    "model.add(Input(shape=(timesteps, rows, columns, channels)))\n",
    "model.add(TimeDistributed(Flatten()))\n",
    "model.add(Dropout(0.2))\n",
    "\n",
    "model.add(Masking(mask_value=special_value))\n",
    "model.add(LSTM(64, dropout=0.25, recurrent_dropout=0.1, return_sequences=True)) # used 64 units\n",
    "model.add(SeqSelfAttention(attention_activation='sigmoid'))\n",
    "model.add(Flatten())\n",
    "model.add(Dropout(0.2))\n",
    "\n",
    "model.add(Dense(32, activation='relu'))\n",
    "model.add(Dropout(0.2))\n",
    "model.add(Dense(8, activation='softmax')) # n_labels = 8\n",
    "model.summary()"
   ]
  },
  {
   "cell_type": "code",
   "execution_count": 10,
   "metadata": {
    "executionInfo": {
     "elapsed": 1126,
     "status": "ok",
     "timestamp": 1620707140970,
     "user": {
      "displayName": "Alan Lou",
      "photoUrl": "",
      "userId": "01891307768663487619"
     },
     "user_tz": 420
    },
    "id": "KNcneeeDtS12"
   },
   "outputs": [],
   "source": [
    "import keras\n",
    "callbacks_list = [keras.callbacks.EarlyStopping(monitor='accuracy', patience=5),\n",
    "                  keras.callbacks.ModelCheckpoint(\n",
    "                      filepath='hrnet_lstm_64_attn_dense_d_32_d_8',\n",
    "                      monitor='val_loss',\n",
    "                      save_best_only=True\n",
    "                  ),\n",
    "                  keras.callbacks.ReduceLROnPlateau(\n",
    "                      monitor=\"val_loss\", factor=0.1, patience=3\n",
    "                  )]\n",
    "\n",
    "from keras import optimizers\n",
    "\n",
    "optimizer_new=optimizers.Adam(lr=1e-4, beta_1=0.9, beta_2=0.999, epsilon=None,\n",
    "                              decay=0.0, amsgrad=False)\n",
    "model.compile(optimizer=optimizer_new,\n",
    "                    loss='categorical_crossentropy',\n",
    "                    metrics=['accuracy'])"
   ]
  },
  {
   "cell_type": "code",
   "execution_count": 11,
   "metadata": {
    "colab": {
     "base_uri": "https://localhost:8080/"
    },
    "executionInfo": {
     "elapsed": 444280,
     "status": "ok",
     "timestamp": 1620707589919,
     "user": {
      "displayName": "Alan Lou",
      "photoUrl": "",
      "userId": "01891307768663487619"
     },
     "user_tz": 420
    },
    "id": "RxfSoKPYtVKL",
    "outputId": "ba0dceeb-2aeb-4284-9207-cd8da65c62a3"
   },
   "outputs": [
    {
     "name": "stdout",
     "output_type": "stream",
     "text": [
      "Epoch 1/60\n",
      "51/51 [==============================] - 52s 941ms/step - loss: 2.0294 - accuracy: 0.1587 - val_loss: 1.9691 - val_accuracy: 0.1894\n",
      "INFO:tensorflow:Assets written to: hrnet_lstm_64_attn_dense_d_32_d_8/assets\n",
      "Epoch 2/60\n",
      "51/51 [==============================] - 39s 760ms/step - loss: 1.7425 - accuracy: 0.3108 - val_loss: 1.4615 - val_accuracy: 0.4688\n",
      "INFO:tensorflow:Assets written to: hrnet_lstm_64_attn_dense_d_32_d_8/assets\n",
      "Epoch 3/60\n",
      "51/51 [==============================] - 39s 769ms/step - loss: 1.3272 - accuracy: 0.4932 - val_loss: 1.2964 - val_accuracy: 0.4988\n",
      "INFO:tensorflow:Assets written to: hrnet_lstm_64_attn_dense_d_32_d_8/assets\n",
      "Epoch 4/60\n",
      "51/51 [==============================] - 40s 776ms/step - loss: 1.1022 - accuracy: 0.5867 - val_loss: 1.0250 - val_accuracy: 0.6166\n",
      "INFO:tensorflow:Assets written to: hrnet_lstm_64_attn_dense_d_32_d_8/assets\n",
      "Epoch 5/60\n",
      "51/51 [==============================] - 39s 767ms/step - loss: 0.8973 - accuracy: 0.6581 - val_loss: 1.1130 - val_accuracy: 0.5797\n",
      "Epoch 6/60\n",
      "51/51 [==============================] - 39s 766ms/step - loss: 0.7592 - accuracy: 0.7230 - val_loss: 0.9664 - val_accuracy: 0.6212\n",
      "INFO:tensorflow:Assets written to: hrnet_lstm_64_attn_dense_d_32_d_8/assets\n",
      "Epoch 7/60\n",
      "51/51 [==============================] - 41s 797ms/step - loss: 0.6876 - accuracy: 0.7382 - val_loss: 0.9818 - val_accuracy: 0.6166\n",
      "Epoch 8/60\n",
      "51/51 [==============================] - 39s 769ms/step - loss: 0.6242 - accuracy: 0.7658 - val_loss: 1.0111 - val_accuracy: 0.6143\n",
      "Epoch 9/60\n",
      "51/51 [==============================] - 39s 770ms/step - loss: 0.4957 - accuracy: 0.8141 - val_loss: 0.8829 - val_accuracy: 0.6536\n",
      "INFO:tensorflow:Assets written to: hrnet_lstm_64_attn_dense_d_32_d_8/assets\n",
      "Epoch 10/60\n",
      "51/51 [==============================] - 39s 772ms/step - loss: 0.4866 - accuracy: 0.8184 - val_loss: 0.8591 - val_accuracy: 0.6836\n",
      "INFO:tensorflow:Assets written to: hrnet_lstm_64_attn_dense_d_32_d_8/assets\n",
      "Epoch 11/60\n",
      "51/51 [==============================] - 39s 768ms/step - loss: 0.3800 - accuracy: 0.8532 - val_loss: 0.9562 - val_accuracy: 0.6513\n",
      "Epoch 12/60\n",
      "51/51 [==============================] - 39s 770ms/step - loss: 0.3881 - accuracy: 0.8486 - val_loss: 0.9505 - val_accuracy: 0.6790\n",
      "Epoch 13/60\n",
      "51/51 [==============================] - 39s 774ms/step - loss: 0.3333 - accuracy: 0.8651 - val_loss: 0.8993 - val_accuracy: 0.6905\n",
      "Epoch 14/60\n",
      "51/51 [==============================] - 39s 765ms/step - loss: 0.2314 - accuracy: 0.9185 - val_loss: 0.9011 - val_accuracy: 0.6928\n",
      "Epoch 15/60\n",
      "51/51 [==============================] - 41s 809ms/step - loss: 0.2559 - accuracy: 0.9067 - val_loss: 0.8762 - val_accuracy: 0.6975\n",
      "Epoch 16/60\n",
      "51/51 [==============================] - 43s 839ms/step - loss: 0.2102 - accuracy: 0.9214 - val_loss: 0.8746 - val_accuracy: 0.6998\n",
      "Epoch 17/60\n",
      "51/51 [==============================] - 42s 835ms/step - loss: 0.1969 - accuracy: 0.9262 - val_loss: 0.8759 - val_accuracy: 0.7021\n",
      "Epoch 18/60\n",
      "51/51 [==============================] - 41s 800ms/step - loss: 0.1959 - accuracy: 0.9347 - val_loss: 0.8757 - val_accuracy: 0.7067\n",
      "Epoch 19/60\n",
      "51/51 [==============================] - 40s 769ms/step - loss: 0.2126 - accuracy: 0.9308 - val_loss: 0.8799 - val_accuracy: 0.7067\n",
      "Epoch 20/60\n",
      "51/51 [==============================] - 39s 773ms/step - loss: 0.1959 - accuracy: 0.9339 - val_loss: 0.8802 - val_accuracy: 0.7067\n",
      "Epoch 21/60\n",
      "51/51 [==============================] - 39s 775ms/step - loss: 0.1936 - accuracy: 0.9277 - val_loss: 0.8804 - val_accuracy: 0.7067\n",
      "Epoch 22/60\n",
      "51/51 [==============================] - 39s 775ms/step - loss: 0.1909 - accuracy: 0.9317 - val_loss: 0.8804 - val_accuracy: 0.7067\n",
      "Epoch 23/60\n",
      "51/51 [==============================] - 40s 779ms/step - loss: 0.1999 - accuracy: 0.9394 - val_loss: 0.8804 - val_accuracy: 0.7067\n",
      "Epoch 24/60\n",
      "51/51 [==============================] - 39s 776ms/step - loss: 0.2161 - accuracy: 0.9199 - val_loss: 0.8804 - val_accuracy: 0.7067\n",
      "Epoch 25/60\n",
      "51/51 [==============================] - 39s 766ms/step - loss: 0.2225 - accuracy: 0.9097 - val_loss: 0.8804 - val_accuracy: 0.7067\n",
      "Epoch 26/60\n",
      "51/51 [==============================] - 39s 761ms/step - loss: 0.2162 - accuracy: 0.9216 - val_loss: 0.8804 - val_accuracy: 0.7067\n",
      "Epoch 27/60\n",
      "51/51 [==============================] - 41s 809ms/step - loss: 0.1925 - accuracy: 0.9399 - val_loss: 0.8804 - val_accuracy: 0.7067\n",
      "Epoch 28/60\n",
      "51/51 [==============================] - 41s 809ms/step - loss: 0.1938 - accuracy: 0.9476 - val_loss: 0.8804 - val_accuracy: 0.7067\n"
     ]
    }
   ],
   "source": [
    "history = model.fit(train_data, train_action_labels,\n",
    "                    validation_data=(val_data, val_action_labels),\n",
    "                    batch_size=20, epochs=60,\n",
    "                    callbacks=callbacks_list\n",
    "                    )"
   ]
  },
  {
   "cell_type": "code",
   "execution_count": 12,
   "metadata": {
    "colab": {
     "base_uri": "https://localhost:8080/",
     "height": 545
    },
    "executionInfo": {
     "elapsed": 886,
     "status": "ok",
     "timestamp": 1620706437223,
     "user": {
      "displayName": "Alan Lou",
      "photoUrl": "",
      "userId": "01891307768663487619"
     },
     "user_tz": 420
    },
    "id": "kUxjVSKqyp7c",
    "outputId": "0133925f-37a1-4e27-b313-edaae9e48258"
   },
   "outputs": [
    {
     "data": {
      "image/png": "[encoded data removed]",
      "text/plain": [
       "<Figure size 432x288 with 1 Axes>"
      ]
     },
     "metadata": {
      "needs_background": "light"
     },
     "output_type": "display_data"
    },
    {
     "data": {
      "image/png": "[encoded data removed]",
      "text/plain": [
       "<Figure size 432x288 with 1 Axes>"
      ]
     },
     "metadata": {
      "needs_background": "light"
     },
     "output_type": "display_data"
    }
   ],
   "source": [
    "import matplotlib.pyplot as plt\n",
    "\n",
    "acc=history.history[\"accuracy\"]\n",
    "val_acc=history.history[\"val_accuracy\"]\n",
    "loss=history.history[\"loss\"]\n",
    "val_loss=history.history[\"val_loss\"]\n",
    "epoch_stop = len(acc)\n",
    "epochs=np.arange(1, epoch_stop+1)\n",
    "\n",
    "plt.plot(epochs, acc, label = \"Train\", color = 'darkblue')\n",
    "plt.plot(epochs, val_acc, label = \"Valid\", linestyle=\"--\", color = 'darkred')\n",
    "plt.legend()\n",
    "plt.title('Train/Valid Accuracy')\n",
    "plt.show()\n",
    "\n",
    "plt.plot(epochs, loss, label = \"Train\", color = 'darkblue')\n",
    "plt.plot(epochs, val_loss, label = \"Valid\", linestyle=\"--\", color = 'darkred')\n",
    "plt.legend()\n",
    "plt.title('Train/Valid Loss')\n",
    "plt.show()"
   ]
  },
  {
   "cell_type": "code",
   "execution_count": 13,
   "metadata": {},
   "outputs": [],
   "source": [
    "# save training history for visualization\n",
    "base_dir = '/home/ubuntu'\n",
    "np.save(os.path.join(base_dir, \"hrnet_lstm_64_attn_dense_d_32_d_8\"), history.history)"
   ]
  },
  {
   "cell_type": "markdown",
   "metadata": {
    "id": "Uxz2ZuNmYwYg"
   },
   "source": [
    "## Evaluate model on test dataset"
   ]
  },
  {
   "cell_type": "markdown",
   "metadata": {},
   "source": [
    "## Validation dataset"
   ]
  },
  {
   "cell_type": "code",
   "execution_count": 20,
   "metadata": {},
   "outputs": [],
   "source": [
    "# run this cell to load previously trained model\n",
    "import numpy as np\n",
    "import keras\n",
    "import os\n",
    "\n",
    "base_dir = '/home/ubuntu'\n",
    "#model = keras.models.load_model(os.path.join(base_dir, 'cs231n-project/notebooks', 'hrnet_lstm_model_v2'))\n",
    "\n",
    "#val_data = np.load(os.path.join(base_dir, 'val_data_pre60.npy'))data\n",
    "#val_data = np.moveaxis(val_data, 2, -1)\n",
    "#val_actions = np.load(os.path.join(base_dir, 'val_actions_pre60.npy'), allow_pickle=True)"
   ]
  },
  {
   "cell_type": "code",
   "execution_count": 21,
   "metadata": {},
   "outputs": [],
   "source": [
    "val_preds = np.argmax(model.predict(val_data), axis=-1)\n",
    "\n",
    "mapping = {\n",
    "    'CALL': 0,\n",
    "    'COUG': 1,\n",
    "    'DRIN': 2,\n",
    "    'SCRA': 3,\n",
    "    'SNEE': 4,\n",
    "    'STRE': 5,\n",
    "    'WAVE': 6,\n",
    "    'WIPE': 7,\n",
    "}\n",
    "val_true = [mapping[x] for x in val_actions]"
   ]
  },
  {
   "cell_type": "code",
   "execution_count": 22,
   "metadata": {
    "id": "zxv3NRgVxcR3"
   },
   "outputs": [
    {
     "data": {
      "text/plain": [
       "<AxesSubplot:>"
      ]
     },
     "execution_count": 22,
     "metadata": {},
     "output_type": "execute_result"
    },
    {
     "data": {
      "image/png": "[encoded data removed]",
      "text/plain": [
       "<Figure size 648x504 with 2 Axes>"
      ]
     },
     "metadata": {
      "needs_background": "light"
     },
     "output_type": "display_data"
    }
   ],
   "source": [
    "import seaborn as sn\n",
    "import pandas as pd\n",
    "import matplotlib.pyplot as plt\n",
    "import sklearn.metrics as metrics\n",
    "\n",
    "confusion_matrix = metrics.confusion_matrix(y_true=val_true, y_pred=val_preds)\n",
    "df_cm = pd.DataFrame(confusion_matrix, index = mapping.keys(),\n",
    "                  columns = mapping.keys())\n",
    "plt.figure(figsize = (9,7))\n",
    "sn.heatmap(df_cm, annot=True, cmap=\"Blues\")"
   ]
  },
  {
   "cell_type": "code",
   "execution_count": 23,
   "metadata": {},
   "outputs": [],
   "source": [
    "# COUG:1, SNEE:4\n",
    "val_true_bin = [x in (1, 4) for x in val_true]\n",
    "val_preds_bin = [x in (1, 4) for x in val_preds]"
   ]
  },
  {
   "cell_type": "code",
   "execution_count": 24,
   "metadata": {},
   "outputs": [
    {
     "data": {
      "text/plain": [
       "<AxesSubplot:>"
      ]
     },
     "execution_count": 24,
     "metadata": {},
     "output_type": "execute_result"
    },
    {
     "data": {
      "image/png": "[encoded data removed]",
      "text/plain": [
       "<Figure size 288x216 with 2 Axes>"
      ]
     },
     "metadata": {
      "needs_background": "light"
     },
     "output_type": "display_data"
    }
   ],
   "source": [
    "confusion_matrix = metrics.confusion_matrix(y_true=val_true_bin, y_pred=val_preds_bin)\n",
    "df_cm = pd.DataFrame(confusion_matrix, index = ['Other', 'COUG_SNEE'],\n",
    "                  columns = ['Other', 'COUG_SNEE'])\n",
    "plt.figure(figsize = (4,3))\n",
    "sn.heatmap(df_cm, annot=True, cmap=\"Blues\")"
   ]
  },
  {
   "cell_type": "code",
   "execution_count": 25,
   "metadata": {},
   "outputs": [
    {
     "name": "stdout",
     "output_type": "stream",
     "text": [
      "0.8796296296296297 0.8715596330275229 0.7786885245901639\n"
     ]
    }
   ],
   "source": [
    "tn, fp, fn, tp = confusion_matrix.ravel()\n",
    "prec = tp / (tp + fp)\n",
    "rec = tp / (tp + fn)\n",
    "acc = tp / (tp+fp+fn)\n",
    "print(prec, rec, acc)"
   ]
  },
  {
   "cell_type": "markdown",
   "metadata": {},
   "source": [
    "## Test dataset"
   ]
  },
  {
   "cell_type": "code",
   "execution_count": 26,
   "metadata": {
    "id": "OOYy99ExynxE"
   },
   "outputs": [],
   "source": [
    "#base_dir = '/content/drive/My Drive/cs231n/project/dataset/shaped_hrnet_data'\n",
    "base_dir = '/home/ubuntu'\n",
    "\n",
    "test_data = np.load(os.path.join(base_dir, 'test_data_pre60.npy'))\n",
    "test_actions = np.load(os.path.join(base_dir, 'test_actions_pre60.npy'), allow_pickle=True)"
   ]
  },
  {
   "cell_type": "code",
   "execution_count": 27,
   "metadata": {},
   "outputs": [],
   "source": [
    "# reshape data\n",
    "test_data = np.moveaxis(test_data, 2, -1)"
   ]
  },
  {
   "cell_type": "code",
   "execution_count": 28,
   "metadata": {},
   "outputs": [
    {
     "name": "stdout",
     "output_type": "stream",
     "text": [
      "Test data shape:  (480, 60, 64, 48, 17)\n",
      "Test action shape:  (480,)\n"
     ]
    }
   ],
   "source": [
    "print('Test data shape: ', test_data.shape)\n",
    "print('Test action shape: ', test_actions.shape)"
   ]
  },
  {
   "cell_type": "code",
   "execution_count": 29,
   "metadata": {},
   "outputs": [],
   "source": [
    "test_preds = np.argmax(model.predict(test_data), axis=-1)\n",
    "\n",
    "mapping = {\n",
    "    'CALL': 0,\n",
    "    'COUG': 1,\n",
    "    'DRIN': 2,\n",
    "    'SCRA': 3,\n",
    "    'SNEE': 4,\n",
    "    'STRE': 5,\n",
    "    'WAVE': 6,\n",
    "    'WIPE': 7,\n",
    "}\n",
    "test_true = [mapping[x] for x in test_actions]"
   ]
  },
  {
   "cell_type": "code",
   "execution_count": 30,
   "metadata": {},
   "outputs": [
    {
     "data": {
      "text/plain": [
       "<AxesSubplot:>"
      ]
     },
     "execution_count": 30,
     "metadata": {},
     "output_type": "execute_result"
    },
    {
     "data": {
      "image/png": "[encoded data removed]",
      "text/plain": [
       "<Figure size 648x504 with 2 Axes>"
      ]
     },
     "metadata": {
      "needs_background": "light"
     },
     "output_type": "display_data"
    }
   ],
   "source": [
    "import seaborn as sn\n",
    "import pandas as pd\n",
    "import matplotlib.pyplot as plt\n",
    "import sklearn.metrics as metrics\n",
    "\n",
    "confusion_matrix = metrics.confusion_matrix(y_true=test_true, y_pred=test_preds)\n",
    "df_cm = pd.DataFrame(confusion_matrix, index = mapping.keys(),\n",
    "                  columns = mapping.keys())\n",
    "plt.figure(figsize = (9,7))\n",
    "sn.heatmap(df_cm, annot=True, cmap=\"Blues\")"
   ]
  },
  {
   "cell_type": "code",
   "execution_count": 31,
   "metadata": {},
   "outputs": [],
   "source": [
    "# COUG:1, SNEE:4\n",
    "test_true_bin = [x in (1, 4) for x in test_true]\n",
    "test_preds_bin = [x in (1, 4) for x in test_preds]"
   ]
  },
  {
   "cell_type": "code",
   "execution_count": 32,
   "metadata": {},
   "outputs": [
    {
     "data": {
      "text/plain": [
       "<AxesSubplot:>"
      ]
     },
     "execution_count": 32,
     "metadata": {},
     "output_type": "execute_result"
    },
    {
     "data": {
      "image/png": "[encoded data removed]",
      "text/plain": [
       "<Figure size 288x216 with 2 Axes>"
      ]
     },
     "metadata": {
      "needs_background": "light"
     },
     "output_type": "display_data"
    }
   ],
   "source": [
    "confusion_matrix = metrics.confusion_matrix(y_true=test_true_bin, y_pred=test_preds_bin)\n",
    "df_cm = pd.DataFrame(confusion_matrix, index = ['Other', 'COUG_SNEE'],\n",
    "                  columns = ['Other', 'COUG_SNEE'])\n",
    "plt.figure(figsize = (4,3))\n",
    "sn.heatmap(df_cm, annot=True, cmap=\"Blues\")"
   ]
  },
  {
   "cell_type": "code",
   "execution_count": 33,
   "metadata": {},
   "outputs": [
    {
     "name": "stdout",
     "output_type": "stream",
     "text": [
      "0.905982905982906 0.8833333333333333 0.8091603053435115\n"
     ]
    }
   ],
   "source": [
    "tn, fp, fn, tp = confusion_matrix.ravel()\n",
    "prec = tp / (tp + fp)\n",
    "rec = tp / (tp + fn)\n",
    "acc = tp / (tp+fp+fn)\n",
    "print(prec, rec, acc)"
   ]
  },
  {
   "cell_type": "code",
   "execution_count": null,
   "metadata": {},
   "outputs": [],
   "source": []
  }
 ],
 "metadata": {
  "accelerator": "GPU",
  "colab": {
   "collapsed_sections": [],
   "machine_shape": "hm",
   "name": "Copy of  train_cnn_lstm_hrnet.ipynb",
   "provenance": [],
   "toc_visible": true
  },
  "kernelspec": {
   "display_name": "Python 3",
   "language": "python",
   "name": "python3"
  },
  "language_info": {
   "codemirror_mode": {
    "name": "ipython",
    "version": 3
   },
   "file_extension": ".py",
   "mimetype": "text/x-python",
   "name": "python",
   "nbconvert_exporter": "python",
   "pygments_lexer": "ipython3",
   "version": "3.7.10"
  }
 },
 "nbformat": 4,
 "nbformat_minor": 1
}

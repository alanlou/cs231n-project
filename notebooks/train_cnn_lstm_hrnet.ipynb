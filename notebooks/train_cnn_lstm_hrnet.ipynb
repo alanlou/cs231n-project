{
 "cells": [
  {
   "cell_type": "code",
   "execution_count": 1,
   "metadata": {
    "colab": {
     "base_uri": "https://localhost:8080/"
    },
    "executionInfo": {
     "elapsed": 1709,
     "status": "ok",
     "timestamp": 1620706610046,
     "user": {
      "displayName": "Alan Lou",
      "photoUrl": "",
      "userId": "01891307768663487619"
     },
     "user_tz": 420
    },
    "id": "Q_acOOXjYOcD",
    "outputId": "81a8b4e7-e398-4e15-9879-7d6429d4d31b"
   },
   "outputs": [
    {
     "name": "stdout",
     "output_type": "stream",
     "text": [
      "Not on Google Colab.\n"
     ]
    }
   ],
   "source": [
    "# Skip this cell if we are not on Google Colab\n",
    "try:\n",
    "    # Mount Google Drive to the Colab VM.\n",
    "    from google.colab import drive\n",
    "    drive.mount('/content/drive', force_remount=True)\n",
    "\n",
    "    # Specify working directory.\n",
    "    FOLDERNAME = 'cs231n/project/'\n",
    "    %cd /content/drive/My\\ Drive/$FOLDERNAME\n",
    "\n",
    "    # Ensure that the Python interpreter of the Colab VM can load python files from\n",
    "    # within it.\n",
    "    import sys\n",
    "    sys.path.append('/content/drive/My Drive/{}'.format(FOLDERNAME))\n",
    "except ImportError as e:\n",
    "    print(\"Not on Google Colab.\")"
   ]
  },
  {
   "cell_type": "markdown",
   "metadata": {
    "id": "dFg3BpW0YQga"
   },
   "source": [
    "## Load dataset and labels"
   ]
  },
  {
   "cell_type": "code",
   "execution_count": 2,
   "metadata": {},
   "outputs": [
    {
     "data": {
      "text/plain": [
       "(59, 0, 46)"
      ]
     },
     "execution_count": 2,
     "metadata": {},
     "output_type": "execute_result"
    }
   ],
   "source": [
    "# check RAM usage\n",
    "import os\n",
    "tot_m, used_m, free_m = map(int, os.popen('free -t -g').readlines()[-1].split()[1:])\n",
    "tot_m, used_m, free_m"
   ]
  },
  {
   "cell_type": "code",
   "execution_count": 3,
   "metadata": {},
   "outputs": [
    {
     "name": "stdout",
     "output_type": "stream",
     "text": [
      "LICENSE\t\t\t       test_data_pre60.npy\r\n",
      "Nvidia_Cloud_EULA.pdf\t       tools\r\n",
      "README\t\t\t       train_actions_pre12.npy\r\n",
      "anaconda3\t\t       train_actions_pre60.npy\r\n",
      "cs231n-project\t\t       train_data_pre60.npy\r\n",
      "download_dataset_to_aws.ipynb  train_data_pre60.npy.zip\r\n",
      "examples\t\t       tutorials\r\n",
      "src\t\t\t       val_actions_pre12.npy\r\n",
      "test_actions_pre12.npy\t       val_actions_pre60.npy\r\n",
      "test_actions_pre60.npy\t       val_data_pre60.npy\r\n"
     ]
    }
   ],
   "source": [
    "!ls /home/ubuntu"
   ]
  },
  {
   "cell_type": "code",
   "execution_count": 4,
   "metadata": {
    "executionInfo": {
     "elapsed": 159507,
     "status": "ok",
     "timestamp": 1620706767852,
     "user": {
      "displayName": "Alan Lou",
      "photoUrl": "",
      "userId": "01891307768663487619"
     },
     "user_tz": 420
    },
    "id": "wDduMsrCYQzb"
   },
   "outputs": [],
   "source": [
    "import numpy as np\n",
    "import os\n",
    "\n",
    "#base_dir = '/content/drive/My Drive/cs231n/project/dataset/shaped_hrnet_data'\n",
    "base_dir = '/home/ubuntu'\n",
    "\n",
    "train_data = np.load(os.path.join(base_dir, 'train_data_pre60.npy'))\n",
    "train_actions = np.load(os.path.join(base_dir, 'train_actions_pre60.npy'), allow_pickle=True)\n",
    "\n",
    "val_data = np.load(os.path.join(base_dir, 'val_data_pre60.npy'))\n",
    "val_actions = np.load(os.path.join(base_dir, 'val_actions_pre60.npy'), allow_pickle=True)"
   ]
  },
  {
   "cell_type": "code",
   "execution_count": 5,
   "metadata": {
    "executionInfo": {
     "elapsed": 159502,
     "status": "ok",
     "timestamp": 1620706767853,
     "user": {
      "displayName": "Alan Lou",
      "photoUrl": "",
      "userId": "01891307768663487619"
     },
     "user_tz": 420
    },
    "id": "h-frk4X3qNS3"
   },
   "outputs": [],
   "source": [
    "# reshape data\n",
    "train_data = np.moveaxis(train_data, 2, -1)\n",
    "val_data = np.moveaxis(val_data, 2, -1)"
   ]
  },
  {
   "cell_type": "code",
   "execution_count": 6,
   "metadata": {
    "colab": {
     "base_uri": "https://localhost:8080/"
    },
    "executionInfo": {
     "elapsed": 159497,
     "status": "ok",
     "timestamp": 1620706767853,
     "user": {
      "displayName": "Alan Lou",
      "photoUrl": "",
      "userId": "01891307768663487619"
     },
     "user_tz": 420
    },
    "id": "IEY0wBBwYUhB",
    "outputId": "e5f799bc-20f3-4340-a18f-9d6a415d4788"
   },
   "outputs": [
    {
     "name": "stdout",
     "output_type": "stream",
     "text": [
      "Training data shape:  (1007, 60, 64, 48, 17)\n",
      "Training action shape:  (1007,)\n",
      "Validation data shape:  (433, 60, 64, 48, 17)\n",
      "Validation action shape:  (433,)\n"
     ]
    }
   ],
   "source": [
    "print('Training data shape: ', train_data.shape)\n",
    "print('Training action shape: ', train_actions.shape)\n",
    "print('Validation data shape: ', val_data.shape)\n",
    "print('Validation action shape: ', val_actions.shape)"
   ]
  },
  {
   "cell_type": "code",
   "execution_count": 7,
   "metadata": {
    "executionInfo": {
     "elapsed": 159493,
     "status": "ok",
     "timestamp": 1620706767854,
     "user": {
      "displayName": "Alan Lou",
      "photoUrl": "",
      "userId": "01891307768663487619"
     },
     "user_tz": 420
    },
    "id": "Ro_AWHGqWHE2"
   },
   "outputs": [],
   "source": [
    "mapping = {\n",
    "    'CALL': 0,\n",
    "    'COUG': 1,\n",
    "    'DRIN': 2,\n",
    "    'SCRA': 3,\n",
    "    'SNEE': 4,\n",
    "    'STRE': 5,\n",
    "    'WAVE': 6,\n",
    "    'WIPE': 7,\n",
    "}\n",
    "train_action_labels = [mapping[x] for x in train_actions]\n",
    "val_action_labels = [mapping[x] for x in val_actions]\n",
    "\n",
    "# One-hot encoding.\n",
    "train_action_labels = np.eye(8)[train_action_labels] \n",
    "val_action_labels = np.eye(8)[val_action_labels] "
   ]
  },
  {
   "cell_type": "code",
   "execution_count": 8,
   "metadata": {},
   "outputs": [
    {
     "data": {
      "text/plain": [
       "<function matplotlib.pyplot.show(close=None, block=None)>"
      ]
     },
     "execution_count": 8,
     "metadata": {},
     "output_type": "execute_result"
    },
    {
     "data": {
      "image/png": "[encoded data removed]",
      "text/plain": [
       "<Figure size 432x288 with 2 Axes>"
      ]
     },
     "metadata": {
      "needs_background": "light"
     },
     "output_type": "display_data"
    }
   ],
   "source": [
    "# make sure input dataset is correct\n",
    "import matplotlib.pyplot as plt\n",
    "\n",
    "plt.imshow(np.max(train_data[0,-1,:,:,:], axis=-1))\n",
    "plt.colorbar()\n",
    "plt.show"
   ]
  },
  {
   "cell_type": "code",
   "execution_count": 11,
   "metadata": {},
   "outputs": [
    {
     "name": "stdout",
     "output_type": "stream",
     "text": [
      "special value may be: [[-10. -10. -10. ... -10. -10. -10.]\n",
      " [-10. -10. -10. ... -10. -10. -10.]\n",
      " [-10. -10. -10. ... -10. -10. -10.]\n",
      " ...\n",
      " [-10. -10. -10. ... -10. -10. -10.]\n",
      " [-10. -10. -10. ... -10. -10. -10.]\n",
      " [-10. -10. -10. ... -10. -10. -10.]]\n"
     ]
    }
   ],
   "source": [
    "print(f\"special value may be: {train_data[1,0,:,:,:].max(axis=-1)}\")"
   ]
  },
  {
   "cell_type": "code",
   "execution_count": 10,
   "metadata": {},
   "outputs": [
    {
     "data": {
      "text/plain": [
       "(1007, 60, 64, 48, 17)"
      ]
     },
     "execution_count": 10,
     "metadata": {},
     "output_type": "execute_result"
    }
   ],
   "source": [
    "train_data.shape"
   ]
  },
  {
   "cell_type": "markdown",
   "metadata": {
    "id": "xJY0oZCPnmWa"
   },
   "source": [
    "## Model Structure: HR-Net + LSTM"
   ]
  },
  {
   "cell_type": "code",
   "execution_count": 12,
   "metadata": {
    "colab": {
     "base_uri": "https://localhost:8080/"
    },
    "executionInfo": {
     "elapsed": 10110,
     "status": "ok",
     "timestamp": 1620707140970,
     "user": {
      "displayName": "Alan Lou",
      "photoUrl": "",
      "userId": "01891307768663487619"
     },
     "user_tz": 420
    },
    "id": "POAXQXJTnvZr",
    "outputId": "6012e540-0dc7-4826-dfdf-54aab5fbe708"
   },
   "outputs": [
    {
     "name": "stdout",
     "output_type": "stream",
     "text": [
      "Model: \"sequential\"\n",
      "_________________________________________________________________\n",
      "Layer (type)                 Output Shape              Param #   \n",
      "=================================================================\n",
      "time_distributed (TimeDistri (None, 60, 52224)         0         \n",
      "_________________________________________________________________\n",
      "dropout (Dropout)            (None, 60, 52224)         0         \n",
      "_________________________________________________________________\n",
      "masking (Masking)            (None, 60, 52224)         0         \n",
      "_________________________________________________________________\n",
      "lstm (LSTM)                  (None, 16)                3343424   \n",
      "_________________________________________________________________\n",
      "dense (Dense)                (None, 32)                544       \n",
      "_________________________________________________________________\n",
      "dropout_1 (Dropout)          (None, 32)                0         \n",
      "_________________________________________________________________\n",
      "dense_1 (Dense)              (None, 8)                 264       \n",
      "=================================================================\n",
      "Total params: 3,344,232\n",
      "Trainable params: 3,344,232\n",
      "Non-trainable params: 0\n",
      "_________________________________________________________________\n"
     ]
    }
   ],
   "source": [
    "from keras.layers import Input, TimeDistributed, Conv2D, Dense, MaxPooling2D, Flatten, LSTM, Dropout, BatchNormalization, Masking\n",
    "from keras import models\n",
    "\n",
    "# hr-net heatmap: (x, 60, 64, 48, 17)\n",
    "timesteps = 60\n",
    "rows, columns, channels = 64, 48, 17\n",
    "special_value = -10.0\n",
    "\n",
    "model = models.Sequential()\n",
    "model.add(Input(shape=(timesteps, rows, columns, channels)))\n",
    "model.add(TimeDistributed(Flatten()))\n",
    "model.add(Dropout(0.2))\n",
    "\n",
    "model.add(Masking(mask_value=special_value))\n",
    "model.add(LSTM(16, return_sequences=False, dropout=0.2)) # used 16 units\n",
    "\n",
    "#model.add(Dense(64, activation='relu'))\n",
    "model.add(Dense(32, activation='relu'))\n",
    "model.add(Dropout(0.2))\n",
    "model.add(Dense(8, activation='softmax')) # n_labels = 8\n",
    "model.summary()"
   ]
  },
  {
   "cell_type": "code",
   "execution_count": 13,
   "metadata": {
    "executionInfo": {
     "elapsed": 1126,
     "status": "ok",
     "timestamp": 1620707140970,
     "user": {
      "displayName": "Alan Lou",
      "photoUrl": "",
      "userId": "01891307768663487619"
     },
     "user_tz": 420
    },
    "id": "KNcneeeDtS12"
   },
   "outputs": [],
   "source": [
    "import keras\n",
    "callbacks_list = [keras.callbacks.EarlyStopping(monitor='accuracy', patience=5),\n",
    "                  keras.callbacks.ModelCheckpoint(\n",
    "                      filepath='hrnet_lstm_model_v1',\n",
    "                      monitor='val_loss',\n",
    "                      save_best_only=True\n",
    "                  ),\n",
    "                  keras.callbacks.ReduceLROnPlateau(\n",
    "                      monitor=\"val_loss\", factor=0.1, patience=3\n",
    "                  )]\n",
    "\n",
    "from keras import optimizers\n",
    "\n",
    "optimizer_new=optimizers.Adam(lr=1e-4, beta_1=0.9, beta_2=0.999, epsilon=None,\n",
    "                              decay=0.0, amsgrad=False)\n",
    "model.compile(optimizer=optimizer_new,\n",
    "                    loss='categorical_crossentropy',\n",
    "                    metrics=['accuracy'])"
   ]
  },
  {
   "cell_type": "code",
   "execution_count": 14,
   "metadata": {
    "colab": {
     "base_uri": "https://localhost:8080/"
    },
    "executionInfo": {
     "elapsed": 444280,
     "status": "ok",
     "timestamp": 1620707589919,
     "user": {
      "displayName": "Alan Lou",
      "photoUrl": "",
      "userId": "01891307768663487619"
     },
     "user_tz": 420
    },
    "id": "RxfSoKPYtVKL",
    "outputId": "ba0dceeb-2aeb-4284-9207-cd8da65c62a3"
   },
   "outputs": [
    {
     "name": "stdout",
     "output_type": "stream",
     "text": [
      "Epoch 1/50\n",
      "101/101 [==============================] - 31s 241ms/step - loss: 2.0596 - accuracy: 0.1761 - val_loss: 1.9779 - val_accuracy: 0.2102\n"
     ]
    },
    {
     "name": "stderr",
     "output_type": "stream",
     "text": [
      "WARNING:absl:Found untraced functions such as lstm_cell_layer_call_and_return_conditional_losses, lstm_cell_layer_call_fn, lstm_cell_layer_call_fn, lstm_cell_layer_call_and_return_conditional_losses, lstm_cell_layer_call_and_return_conditional_losses while saving (showing 5 of 5). These functions will not be directly callable after loading.\n",
      "WARNING:absl:Found untraced functions such as lstm_cell_layer_call_and_return_conditional_losses, lstm_cell_layer_call_fn, lstm_cell_layer_call_fn, lstm_cell_layer_call_and_return_conditional_losses, lstm_cell_layer_call_and_return_conditional_losses while saving (showing 5 of 5). These functions will not be directly callable after loading.\n"
     ]
    },
    {
     "name": "stdout",
     "output_type": "stream",
     "text": [
      "INFO:tensorflow:Assets written to: hrnet_lstm_model_v1/assets\n"
     ]
    },
    {
     "name": "stderr",
     "output_type": "stream",
     "text": [
      "INFO:tensorflow:Assets written to: hrnet_lstm_model_v1/assets\n"
     ]
    },
    {
     "name": "stdout",
     "output_type": "stream",
     "text": [
      "Epoch 2/50\n",
      "101/101 [==============================] - 13s 131ms/step - loss: 1.9273 - accuracy: 0.2796 - val_loss: 1.8697 - val_accuracy: 0.2564\n"
     ]
    },
    {
     "name": "stderr",
     "output_type": "stream",
     "text": [
      "WARNING:absl:Found untraced functions such as lstm_cell_layer_call_and_return_conditional_losses, lstm_cell_layer_call_fn, lstm_cell_layer_call_fn, lstm_cell_layer_call_and_return_conditional_losses, lstm_cell_layer_call_and_return_conditional_losses while saving (showing 5 of 5). These functions will not be directly callable after loading.\n",
      "WARNING:absl:Found untraced functions such as lstm_cell_layer_call_and_return_conditional_losses, lstm_cell_layer_call_fn, lstm_cell_layer_call_fn, lstm_cell_layer_call_and_return_conditional_losses, lstm_cell_layer_call_and_return_conditional_losses while saving (showing 5 of 5). These functions will not be directly callable after loading.\n"
     ]
    },
    {
     "name": "stdout",
     "output_type": "stream",
     "text": [
      "INFO:tensorflow:Assets written to: hrnet_lstm_model_v1/assets\n"
     ]
    },
    {
     "name": "stderr",
     "output_type": "stream",
     "text": [
      "INFO:tensorflow:Assets written to: hrnet_lstm_model_v1/assets\n"
     ]
    },
    {
     "name": "stdout",
     "output_type": "stream",
     "text": [
      "Epoch 3/50\n",
      "101/101 [==============================] - 13s 133ms/step - loss: 1.8096 - accuracy: 0.3263 - val_loss: 1.7796 - val_accuracy: 0.3233\n"
     ]
    },
    {
     "name": "stderr",
     "output_type": "stream",
     "text": [
      "WARNING:absl:Found untraced functions such as lstm_cell_layer_call_and_return_conditional_losses, lstm_cell_layer_call_fn, lstm_cell_layer_call_fn, lstm_cell_layer_call_and_return_conditional_losses, lstm_cell_layer_call_and_return_conditional_losses while saving (showing 5 of 5). These functions will not be directly callable after loading.\n",
      "WARNING:absl:Found untraced functions such as lstm_cell_layer_call_and_return_conditional_losses, lstm_cell_layer_call_fn, lstm_cell_layer_call_fn, lstm_cell_layer_call_and_return_conditional_losses, lstm_cell_layer_call_and_return_conditional_losses while saving (showing 5 of 5). These functions will not be directly callable after loading.\n"
     ]
    },
    {
     "name": "stdout",
     "output_type": "stream",
     "text": [
      "INFO:tensorflow:Assets written to: hrnet_lstm_model_v1/assets\n"
     ]
    },
    {
     "name": "stderr",
     "output_type": "stream",
     "text": [
      "INFO:tensorflow:Assets written to: hrnet_lstm_model_v1/assets\n"
     ]
    },
    {
     "name": "stdout",
     "output_type": "stream",
     "text": [
      "Epoch 4/50\n",
      "101/101 [==============================] - 13s 134ms/step - loss: 1.7021 - accuracy: 0.3956 - val_loss: 1.7726 - val_accuracy: 0.3141\n"
     ]
    },
    {
     "name": "stderr",
     "output_type": "stream",
     "text": [
      "WARNING:absl:Found untraced functions such as lstm_cell_layer_call_and_return_conditional_losses, lstm_cell_layer_call_fn, lstm_cell_layer_call_fn, lstm_cell_layer_call_and_return_conditional_losses, lstm_cell_layer_call_and_return_conditional_losses while saving (showing 5 of 5). These functions will not be directly callable after loading.\n",
      "WARNING:absl:Found untraced functions such as lstm_cell_layer_call_and_return_conditional_losses, lstm_cell_layer_call_fn, lstm_cell_layer_call_fn, lstm_cell_layer_call_and_return_conditional_losses, lstm_cell_layer_call_and_return_conditional_losses while saving (showing 5 of 5). These functions will not be directly callable after loading.\n"
     ]
    },
    {
     "name": "stdout",
     "output_type": "stream",
     "text": [
      "INFO:tensorflow:Assets written to: hrnet_lstm_model_v1/assets\n"
     ]
    },
    {
     "name": "stderr",
     "output_type": "stream",
     "text": [
      "INFO:tensorflow:Assets written to: hrnet_lstm_model_v1/assets\n"
     ]
    },
    {
     "name": "stdout",
     "output_type": "stream",
     "text": [
      "Epoch 5/50\n",
      "101/101 [==============================] - 13s 131ms/step - loss: 1.6462 - accuracy: 0.3978 - val_loss: 1.6504 - val_accuracy: 0.3926\n"
     ]
    },
    {
     "name": "stderr",
     "output_type": "stream",
     "text": [
      "WARNING:absl:Found untraced functions such as lstm_cell_layer_call_and_return_conditional_losses, lstm_cell_layer_call_fn, lstm_cell_layer_call_fn, lstm_cell_layer_call_and_return_conditional_losses, lstm_cell_layer_call_and_return_conditional_losses while saving (showing 5 of 5). These functions will not be directly callable after loading.\n",
      "WARNING:absl:Found untraced functions such as lstm_cell_layer_call_and_return_conditional_losses, lstm_cell_layer_call_fn, lstm_cell_layer_call_fn, lstm_cell_layer_call_and_return_conditional_losses, lstm_cell_layer_call_and_return_conditional_losses while saving (showing 5 of 5). These functions will not be directly callable after loading.\n"
     ]
    },
    {
     "name": "stdout",
     "output_type": "stream",
     "text": [
      "INFO:tensorflow:Assets written to: hrnet_lstm_model_v1/assets\n"
     ]
    },
    {
     "name": "stderr",
     "output_type": "stream",
     "text": [
      "INFO:tensorflow:Assets written to: hrnet_lstm_model_v1/assets\n"
     ]
    },
    {
     "name": "stdout",
     "output_type": "stream",
     "text": [
      "Epoch 6/50\n",
      "101/101 [==============================] - 13s 133ms/step - loss: 1.4902 - accuracy: 0.4961 - val_loss: 1.5971 - val_accuracy: 0.3741\n"
     ]
    },
    {
     "name": "stderr",
     "output_type": "stream",
     "text": [
      "WARNING:absl:Found untraced functions such as lstm_cell_layer_call_and_return_conditional_losses, lstm_cell_layer_call_fn, lstm_cell_layer_call_fn, lstm_cell_layer_call_and_return_conditional_losses, lstm_cell_layer_call_and_return_conditional_losses while saving (showing 5 of 5). These functions will not be directly callable after loading.\n",
      "WARNING:absl:Found untraced functions such as lstm_cell_layer_call_and_return_conditional_losses, lstm_cell_layer_call_fn, lstm_cell_layer_call_fn, lstm_cell_layer_call_and_return_conditional_losses, lstm_cell_layer_call_and_return_conditional_losses while saving (showing 5 of 5). These functions will not be directly callable after loading.\n"
     ]
    },
    {
     "name": "stdout",
     "output_type": "stream",
     "text": [
      "INFO:tensorflow:Assets written to: hrnet_lstm_model_v1/assets\n"
     ]
    },
    {
     "name": "stderr",
     "output_type": "stream",
     "text": [
      "INFO:tensorflow:Assets written to: hrnet_lstm_model_v1/assets\n"
     ]
    },
    {
     "name": "stdout",
     "output_type": "stream",
     "text": [
      "Epoch 7/50\n",
      "101/101 [==============================] - 13s 132ms/step - loss: 1.3941 - accuracy: 0.5745 - val_loss: 1.5864 - val_accuracy: 0.3926\n"
     ]
    },
    {
     "name": "stderr",
     "output_type": "stream",
     "text": [
      "WARNING:absl:Found untraced functions such as lstm_cell_layer_call_and_return_conditional_losses, lstm_cell_layer_call_fn, lstm_cell_layer_call_fn, lstm_cell_layer_call_and_return_conditional_losses, lstm_cell_layer_call_and_return_conditional_losses while saving (showing 5 of 5). These functions will not be directly callable after loading.\n",
      "WARNING:absl:Found untraced functions such as lstm_cell_layer_call_and_return_conditional_losses, lstm_cell_layer_call_fn, lstm_cell_layer_call_fn, lstm_cell_layer_call_and_return_conditional_losses, lstm_cell_layer_call_and_return_conditional_losses while saving (showing 5 of 5). These functions will not be directly callable after loading.\n"
     ]
    },
    {
     "name": "stdout",
     "output_type": "stream",
     "text": [
      "INFO:tensorflow:Assets written to: hrnet_lstm_model_v1/assets\n"
     ]
    },
    {
     "name": "stderr",
     "output_type": "stream",
     "text": [
      "INFO:tensorflow:Assets written to: hrnet_lstm_model_v1/assets\n"
     ]
    },
    {
     "name": "stdout",
     "output_type": "stream",
     "text": [
      "Epoch 8/50\n",
      "101/101 [==============================] - 13s 131ms/step - loss: 1.3526 - accuracy: 0.5726 - val_loss: 1.4924 - val_accuracy: 0.4596\n"
     ]
    },
    {
     "name": "stderr",
     "output_type": "stream",
     "text": [
      "WARNING:absl:Found untraced functions such as lstm_cell_layer_call_and_return_conditional_losses, lstm_cell_layer_call_fn, lstm_cell_layer_call_fn, lstm_cell_layer_call_and_return_conditional_losses, lstm_cell_layer_call_and_return_conditional_losses while saving (showing 5 of 5). These functions will not be directly callable after loading.\n",
      "WARNING:absl:Found untraced functions such as lstm_cell_layer_call_and_return_conditional_losses, lstm_cell_layer_call_fn, lstm_cell_layer_call_fn, lstm_cell_layer_call_and_return_conditional_losses, lstm_cell_layer_call_and_return_conditional_losses while saving (showing 5 of 5). These functions will not be directly callable after loading.\n"
     ]
    },
    {
     "name": "stdout",
     "output_type": "stream",
     "text": [
      "INFO:tensorflow:Assets written to: hrnet_lstm_model_v1/assets\n"
     ]
    },
    {
     "name": "stderr",
     "output_type": "stream",
     "text": [
      "INFO:tensorflow:Assets written to: hrnet_lstm_model_v1/assets\n"
     ]
    },
    {
     "name": "stdout",
     "output_type": "stream",
     "text": [
      "Epoch 9/50\n",
      "101/101 [==============================] - 14s 137ms/step - loss: 1.2784 - accuracy: 0.6156 - val_loss: 1.4243 - val_accuracy: 0.4850\n"
     ]
    },
    {
     "name": "stderr",
     "output_type": "stream",
     "text": [
      "WARNING:absl:Found untraced functions such as lstm_cell_layer_call_and_return_conditional_losses, lstm_cell_layer_call_fn, lstm_cell_layer_call_fn, lstm_cell_layer_call_and_return_conditional_losses, lstm_cell_layer_call_and_return_conditional_losses while saving (showing 5 of 5). These functions will not be directly callable after loading.\n",
      "WARNING:absl:Found untraced functions such as lstm_cell_layer_call_and_return_conditional_losses, lstm_cell_layer_call_fn, lstm_cell_layer_call_fn, lstm_cell_layer_call_and_return_conditional_losses, lstm_cell_layer_call_and_return_conditional_losses while saving (showing 5 of 5). These functions will not be directly callable after loading.\n"
     ]
    },
    {
     "name": "stdout",
     "output_type": "stream",
     "text": [
      "INFO:tensorflow:Assets written to: hrnet_lstm_model_v1/assets\n"
     ]
    },
    {
     "name": "stderr",
     "output_type": "stream",
     "text": [
      "INFO:tensorflow:Assets written to: hrnet_lstm_model_v1/assets\n"
     ]
    },
    {
     "name": "stdout",
     "output_type": "stream",
     "text": [
      "Epoch 10/50\n",
      "101/101 [==============================] - 13s 131ms/step - loss: 1.2253 - accuracy: 0.6336 - val_loss: 1.4244 - val_accuracy: 0.4711\n",
      "Epoch 11/50\n",
      "101/101 [==============================] - 13s 131ms/step - loss: 1.1718 - accuracy: 0.6455 - val_loss: 1.3792 - val_accuracy: 0.5035\n"
     ]
    },
    {
     "name": "stderr",
     "output_type": "stream",
     "text": [
      "WARNING:absl:Found untraced functions such as lstm_cell_layer_call_and_return_conditional_losses, lstm_cell_layer_call_fn, lstm_cell_layer_call_fn, lstm_cell_layer_call_and_return_conditional_losses, lstm_cell_layer_call_and_return_conditional_losses while saving (showing 5 of 5). These functions will not be directly callable after loading.\n",
      "WARNING:absl:Found untraced functions such as lstm_cell_layer_call_and_return_conditional_losses, lstm_cell_layer_call_fn, lstm_cell_layer_call_fn, lstm_cell_layer_call_and_return_conditional_losses, lstm_cell_layer_call_and_return_conditional_losses while saving (showing 5 of 5). These functions will not be directly callable after loading.\n"
     ]
    },
    {
     "name": "stdout",
     "output_type": "stream",
     "text": [
      "INFO:tensorflow:Assets written to: hrnet_lstm_model_v1/assets\n"
     ]
    },
    {
     "name": "stderr",
     "output_type": "stream",
     "text": [
      "INFO:tensorflow:Assets written to: hrnet_lstm_model_v1/assets\n"
     ]
    },
    {
     "name": "stdout",
     "output_type": "stream",
     "text": [
      "Epoch 12/50\n",
      "101/101 [==============================] - 14s 135ms/step - loss: 1.1053 - accuracy: 0.6630 - val_loss: 1.2810 - val_accuracy: 0.5450\n"
     ]
    },
    {
     "name": "stderr",
     "output_type": "stream",
     "text": [
      "WARNING:absl:Found untraced functions such as lstm_cell_layer_call_and_return_conditional_losses, lstm_cell_layer_call_fn, lstm_cell_layer_call_fn, lstm_cell_layer_call_and_return_conditional_losses, lstm_cell_layer_call_and_return_conditional_losses while saving (showing 5 of 5). These functions will not be directly callable after loading.\n",
      "WARNING:absl:Found untraced functions such as lstm_cell_layer_call_and_return_conditional_losses, lstm_cell_layer_call_fn, lstm_cell_layer_call_fn, lstm_cell_layer_call_and_return_conditional_losses, lstm_cell_layer_call_and_return_conditional_losses while saving (showing 5 of 5). These functions will not be directly callable after loading.\n"
     ]
    },
    {
     "name": "stdout",
     "output_type": "stream",
     "text": [
      "INFO:tensorflow:Assets written to: hrnet_lstm_model_v1/assets\n"
     ]
    },
    {
     "name": "stderr",
     "output_type": "stream",
     "text": [
      "INFO:tensorflow:Assets written to: hrnet_lstm_model_v1/assets\n"
     ]
    },
    {
     "name": "stdout",
     "output_type": "stream",
     "text": [
      "Epoch 13/50\n",
      "101/101 [==============================] - 13s 132ms/step - loss: 0.9894 - accuracy: 0.7404 - val_loss: 1.2781 - val_accuracy: 0.5450\n"
     ]
    },
    {
     "name": "stderr",
     "output_type": "stream",
     "text": [
      "WARNING:absl:Found untraced functions such as lstm_cell_layer_call_and_return_conditional_losses, lstm_cell_layer_call_fn, lstm_cell_layer_call_fn, lstm_cell_layer_call_and_return_conditional_losses, lstm_cell_layer_call_and_return_conditional_losses while saving (showing 5 of 5). These functions will not be directly callable after loading.\n",
      "WARNING:absl:Found untraced functions such as lstm_cell_layer_call_and_return_conditional_losses, lstm_cell_layer_call_fn, lstm_cell_layer_call_fn, lstm_cell_layer_call_and_return_conditional_losses, lstm_cell_layer_call_and_return_conditional_losses while saving (showing 5 of 5). These functions will not be directly callable after loading.\n"
     ]
    },
    {
     "name": "stdout",
     "output_type": "stream",
     "text": [
      "INFO:tensorflow:Assets written to: hrnet_lstm_model_v1/assets\n"
     ]
    },
    {
     "name": "stderr",
     "output_type": "stream",
     "text": [
      "INFO:tensorflow:Assets written to: hrnet_lstm_model_v1/assets\n"
     ]
    },
    {
     "name": "stdout",
     "output_type": "stream",
     "text": [
      "Epoch 14/50\n",
      "101/101 [==============================] - 13s 132ms/step - loss: 0.9763 - accuracy: 0.7276 - val_loss: 1.2724 - val_accuracy: 0.5612\n"
     ]
    },
    {
     "name": "stderr",
     "output_type": "stream",
     "text": [
      "WARNING:absl:Found untraced functions such as lstm_cell_layer_call_and_return_conditional_losses, lstm_cell_layer_call_fn, lstm_cell_layer_call_fn, lstm_cell_layer_call_and_return_conditional_losses, lstm_cell_layer_call_and_return_conditional_losses while saving (showing 5 of 5). These functions will not be directly callable after loading.\n",
      "WARNING:absl:Found untraced functions such as lstm_cell_layer_call_and_return_conditional_losses, lstm_cell_layer_call_fn, lstm_cell_layer_call_fn, lstm_cell_layer_call_and_return_conditional_losses, lstm_cell_layer_call_and_return_conditional_losses while saving (showing 5 of 5). These functions will not be directly callable after loading.\n"
     ]
    },
    {
     "name": "stdout",
     "output_type": "stream",
     "text": [
      "INFO:tensorflow:Assets written to: hrnet_lstm_model_v1/assets\n"
     ]
    },
    {
     "name": "stderr",
     "output_type": "stream",
     "text": [
      "INFO:tensorflow:Assets written to: hrnet_lstm_model_v1/assets\n"
     ]
    },
    {
     "name": "stdout",
     "output_type": "stream",
     "text": [
      "Epoch 15/50\n",
      "101/101 [==============================] - 13s 133ms/step - loss: 0.9584 - accuracy: 0.7231 - val_loss: 1.2044 - val_accuracy: 0.5381\n"
     ]
    },
    {
     "name": "stderr",
     "output_type": "stream",
     "text": [
      "WARNING:absl:Found untraced functions such as lstm_cell_layer_call_and_return_conditional_losses, lstm_cell_layer_call_fn, lstm_cell_layer_call_fn, lstm_cell_layer_call_and_return_conditional_losses, lstm_cell_layer_call_and_return_conditional_losses while saving (showing 5 of 5). These functions will not be directly callable after loading.\n",
      "WARNING:absl:Found untraced functions such as lstm_cell_layer_call_and_return_conditional_losses, lstm_cell_layer_call_fn, lstm_cell_layer_call_fn, lstm_cell_layer_call_and_return_conditional_losses, lstm_cell_layer_call_and_return_conditional_losses while saving (showing 5 of 5). These functions will not be directly callable after loading.\n"
     ]
    },
    {
     "name": "stdout",
     "output_type": "stream",
     "text": [
      "INFO:tensorflow:Assets written to: hrnet_lstm_model_v1/assets\n"
     ]
    },
    {
     "name": "stderr",
     "output_type": "stream",
     "text": [
      "INFO:tensorflow:Assets written to: hrnet_lstm_model_v1/assets\n"
     ]
    },
    {
     "name": "stdout",
     "output_type": "stream",
     "text": [
      "Epoch 16/50\n",
      "101/101 [==============================] - 13s 133ms/step - loss: 0.8478 - accuracy: 0.7667 - val_loss: 1.1611 - val_accuracy: 0.5820\n"
     ]
    },
    {
     "name": "stderr",
     "output_type": "stream",
     "text": [
      "WARNING:absl:Found untraced functions such as lstm_cell_layer_call_and_return_conditional_losses, lstm_cell_layer_call_fn, lstm_cell_layer_call_fn, lstm_cell_layer_call_and_return_conditional_losses, lstm_cell_layer_call_and_return_conditional_losses while saving (showing 5 of 5). These functions will not be directly callable after loading.\n",
      "WARNING:absl:Found untraced functions such as lstm_cell_layer_call_and_return_conditional_losses, lstm_cell_layer_call_fn, lstm_cell_layer_call_fn, lstm_cell_layer_call_and_return_conditional_losses, lstm_cell_layer_call_and_return_conditional_losses while saving (showing 5 of 5). These functions will not be directly callable after loading.\n"
     ]
    },
    {
     "name": "stdout",
     "output_type": "stream",
     "text": [
      "INFO:tensorflow:Assets written to: hrnet_lstm_model_v1/assets\n"
     ]
    },
    {
     "name": "stderr",
     "output_type": "stream",
     "text": [
      "INFO:tensorflow:Assets written to: hrnet_lstm_model_v1/assets\n"
     ]
    },
    {
     "name": "stdout",
     "output_type": "stream",
     "text": [
      "Epoch 17/50\n",
      "101/101 [==============================] - 13s 132ms/step - loss: 0.8476 - accuracy: 0.7689 - val_loss: 1.1545 - val_accuracy: 0.5797\n"
     ]
    },
    {
     "name": "stderr",
     "output_type": "stream",
     "text": [
      "WARNING:absl:Found untraced functions such as lstm_cell_layer_call_and_return_conditional_losses, lstm_cell_layer_call_fn, lstm_cell_layer_call_fn, lstm_cell_layer_call_and_return_conditional_losses, lstm_cell_layer_call_and_return_conditional_losses while saving (showing 5 of 5). These functions will not be directly callable after loading.\n",
      "WARNING:absl:Found untraced functions such as lstm_cell_layer_call_and_return_conditional_losses, lstm_cell_layer_call_fn, lstm_cell_layer_call_fn, lstm_cell_layer_call_and_return_conditional_losses, lstm_cell_layer_call_and_return_conditional_losses while saving (showing 5 of 5). These functions will not be directly callable after loading.\n"
     ]
    },
    {
     "name": "stdout",
     "output_type": "stream",
     "text": [
      "INFO:tensorflow:Assets written to: hrnet_lstm_model_v1/assets\n"
     ]
    },
    {
     "name": "stderr",
     "output_type": "stream",
     "text": [
      "INFO:tensorflow:Assets written to: hrnet_lstm_model_v1/assets\n"
     ]
    },
    {
     "name": "stdout",
     "output_type": "stream",
     "text": [
      "Epoch 18/50\n",
      "101/101 [==============================] - 13s 131ms/step - loss: 0.8506 - accuracy: 0.7554 - val_loss: 1.1028 - val_accuracy: 0.5889\n"
     ]
    },
    {
     "name": "stderr",
     "output_type": "stream",
     "text": [
      "WARNING:absl:Found untraced functions such as lstm_cell_layer_call_and_return_conditional_losses, lstm_cell_layer_call_fn, lstm_cell_layer_call_fn, lstm_cell_layer_call_and_return_conditional_losses, lstm_cell_layer_call_and_return_conditional_losses while saving (showing 5 of 5). These functions will not be directly callable after loading.\n",
      "WARNING:absl:Found untraced functions such as lstm_cell_layer_call_and_return_conditional_losses, lstm_cell_layer_call_fn, lstm_cell_layer_call_fn, lstm_cell_layer_call_and_return_conditional_losses, lstm_cell_layer_call_and_return_conditional_losses while saving (showing 5 of 5). These functions will not be directly callable after loading.\n"
     ]
    },
    {
     "name": "stdout",
     "output_type": "stream",
     "text": [
      "INFO:tensorflow:Assets written to: hrnet_lstm_model_v1/assets\n"
     ]
    },
    {
     "name": "stderr",
     "output_type": "stream",
     "text": [
      "INFO:tensorflow:Assets written to: hrnet_lstm_model_v1/assets\n"
     ]
    },
    {
     "name": "stdout",
     "output_type": "stream",
     "text": [
      "Epoch 19/50\n",
      "101/101 [==============================] - 13s 133ms/step - loss: 0.7397 - accuracy: 0.8002 - val_loss: 1.0868 - val_accuracy: 0.6028\n"
     ]
    },
    {
     "name": "stderr",
     "output_type": "stream",
     "text": [
      "WARNING:absl:Found untraced functions such as lstm_cell_layer_call_and_return_conditional_losses, lstm_cell_layer_call_fn, lstm_cell_layer_call_fn, lstm_cell_layer_call_and_return_conditional_losses, lstm_cell_layer_call_and_return_conditional_losses while saving (showing 5 of 5). These functions will not be directly callable after loading.\n",
      "WARNING:absl:Found untraced functions such as lstm_cell_layer_call_and_return_conditional_losses, lstm_cell_layer_call_fn, lstm_cell_layer_call_fn, lstm_cell_layer_call_and_return_conditional_losses, lstm_cell_layer_call_and_return_conditional_losses while saving (showing 5 of 5). These functions will not be directly callable after loading.\n"
     ]
    },
    {
     "name": "stdout",
     "output_type": "stream",
     "text": [
      "INFO:tensorflow:Assets written to: hrnet_lstm_model_v1/assets\n"
     ]
    },
    {
     "name": "stderr",
     "output_type": "stream",
     "text": [
      "INFO:tensorflow:Assets written to: hrnet_lstm_model_v1/assets\n"
     ]
    },
    {
     "name": "stdout",
     "output_type": "stream",
     "text": [
      "Epoch 20/50\n",
      "101/101 [==============================] - 13s 132ms/step - loss: 0.7208 - accuracy: 0.7875 - val_loss: 1.0867 - val_accuracy: 0.5982\n"
     ]
    },
    {
     "name": "stderr",
     "output_type": "stream",
     "text": [
      "WARNING:absl:Found untraced functions such as lstm_cell_layer_call_and_return_conditional_losses, lstm_cell_layer_call_fn, lstm_cell_layer_call_fn, lstm_cell_layer_call_and_return_conditional_losses, lstm_cell_layer_call_and_return_conditional_losses while saving (showing 5 of 5). These functions will not be directly callable after loading.\n",
      "WARNING:absl:Found untraced functions such as lstm_cell_layer_call_and_return_conditional_losses, lstm_cell_layer_call_fn, lstm_cell_layer_call_fn, lstm_cell_layer_call_and_return_conditional_losses, lstm_cell_layer_call_and_return_conditional_losses while saving (showing 5 of 5). These functions will not be directly callable after loading.\n"
     ]
    },
    {
     "name": "stdout",
     "output_type": "stream",
     "text": [
      "INFO:tensorflow:Assets written to: hrnet_lstm_model_v1/assets\n"
     ]
    },
    {
     "name": "stderr",
     "output_type": "stream",
     "text": [
      "INFO:tensorflow:Assets written to: hrnet_lstm_model_v1/assets\n"
     ]
    },
    {
     "name": "stdout",
     "output_type": "stream",
     "text": [
      "Epoch 21/50\n",
      "101/101 [==============================] - 13s 132ms/step - loss: 0.7220 - accuracy: 0.8029 - val_loss: 1.0145 - val_accuracy: 0.6166\n"
     ]
    },
    {
     "name": "stderr",
     "output_type": "stream",
     "text": [
      "WARNING:absl:Found untraced functions such as lstm_cell_layer_call_and_return_conditional_losses, lstm_cell_layer_call_fn, lstm_cell_layer_call_fn, lstm_cell_layer_call_and_return_conditional_losses, lstm_cell_layer_call_and_return_conditional_losses while saving (showing 5 of 5). These functions will not be directly callable after loading.\n",
      "WARNING:absl:Found untraced functions such as lstm_cell_layer_call_and_return_conditional_losses, lstm_cell_layer_call_fn, lstm_cell_layer_call_fn, lstm_cell_layer_call_and_return_conditional_losses, lstm_cell_layer_call_and_return_conditional_losses while saving (showing 5 of 5). These functions will not be directly callable after loading.\n"
     ]
    },
    {
     "name": "stdout",
     "output_type": "stream",
     "text": [
      "INFO:tensorflow:Assets written to: hrnet_lstm_model_v1/assets\n"
     ]
    },
    {
     "name": "stderr",
     "output_type": "stream",
     "text": [
      "INFO:tensorflow:Assets written to: hrnet_lstm_model_v1/assets\n"
     ]
    },
    {
     "name": "stdout",
     "output_type": "stream",
     "text": [
      "Epoch 22/50\n",
      "101/101 [==============================] - 13s 133ms/step - loss: 0.6209 - accuracy: 0.8396 - val_loss: 1.0026 - val_accuracy: 0.6282\n"
     ]
    },
    {
     "name": "stderr",
     "output_type": "stream",
     "text": [
      "WARNING:absl:Found untraced functions such as lstm_cell_layer_call_and_return_conditional_losses, lstm_cell_layer_call_fn, lstm_cell_layer_call_fn, lstm_cell_layer_call_and_return_conditional_losses, lstm_cell_layer_call_and_return_conditional_losses while saving (showing 5 of 5). These functions will not be directly callable after loading.\n",
      "WARNING:absl:Found untraced functions such as lstm_cell_layer_call_and_return_conditional_losses, lstm_cell_layer_call_fn, lstm_cell_layer_call_fn, lstm_cell_layer_call_and_return_conditional_losses, lstm_cell_layer_call_and_return_conditional_losses while saving (showing 5 of 5). These functions will not be directly callable after loading.\n"
     ]
    },
    {
     "name": "stdout",
     "output_type": "stream",
     "text": [
      "INFO:tensorflow:Assets written to: hrnet_lstm_model_v1/assets\n"
     ]
    },
    {
     "name": "stderr",
     "output_type": "stream",
     "text": [
      "INFO:tensorflow:Assets written to: hrnet_lstm_model_v1/assets\n"
     ]
    },
    {
     "name": "stdout",
     "output_type": "stream",
     "text": [
      "Epoch 23/50\n",
      "101/101 [==============================] - 13s 132ms/step - loss: 0.6139 - accuracy: 0.8419 - val_loss: 1.0616 - val_accuracy: 0.5820\n",
      "Epoch 24/50\n",
      "101/101 [==============================] - 13s 131ms/step - loss: 0.6242 - accuracy: 0.8265 - val_loss: 0.9690 - val_accuracy: 0.6166\n"
     ]
    },
    {
     "name": "stderr",
     "output_type": "stream",
     "text": [
      "WARNING:absl:Found untraced functions such as lstm_cell_layer_call_and_return_conditional_losses, lstm_cell_layer_call_fn, lstm_cell_layer_call_fn, lstm_cell_layer_call_and_return_conditional_losses, lstm_cell_layer_call_and_return_conditional_losses while saving (showing 5 of 5). These functions will not be directly callable after loading.\n",
      "WARNING:absl:Found untraced functions such as lstm_cell_layer_call_and_return_conditional_losses, lstm_cell_layer_call_fn, lstm_cell_layer_call_fn, lstm_cell_layer_call_and_return_conditional_losses, lstm_cell_layer_call_and_return_conditional_losses while saving (showing 5 of 5). These functions will not be directly callable after loading.\n"
     ]
    },
    {
     "name": "stdout",
     "output_type": "stream",
     "text": [
      "INFO:tensorflow:Assets written to: hrnet_lstm_model_v1/assets\n"
     ]
    },
    {
     "name": "stderr",
     "output_type": "stream",
     "text": [
      "INFO:tensorflow:Assets written to: hrnet_lstm_model_v1/assets\n"
     ]
    },
    {
     "name": "stdout",
     "output_type": "stream",
     "text": [
      "Epoch 25/50\n",
      "101/101 [==============================] - 13s 133ms/step - loss: 0.5547 - accuracy: 0.8507 - val_loss: 1.0517 - val_accuracy: 0.5912\n",
      "Epoch 26/50\n",
      "101/101 [==============================] - 13s 132ms/step - loss: 0.6537 - accuracy: 0.8209 - val_loss: 1.0766 - val_accuracy: 0.5843\n",
      "Epoch 27/50\n",
      "101/101 [==============================] - 13s 132ms/step - loss: 0.5363 - accuracy: 0.8581 - val_loss: 0.9832 - val_accuracy: 0.6259\n",
      "Epoch 28/50\n",
      "101/101 [==============================] - 14s 136ms/step - loss: 0.5270 - accuracy: 0.8739 - val_loss: 0.9245 - val_accuracy: 0.6536\n"
     ]
    },
    {
     "name": "stderr",
     "output_type": "stream",
     "text": [
      "WARNING:absl:Found untraced functions such as lstm_cell_layer_call_and_return_conditional_losses, lstm_cell_layer_call_fn, lstm_cell_layer_call_fn, lstm_cell_layer_call_and_return_conditional_losses, lstm_cell_layer_call_and_return_conditional_losses while saving (showing 5 of 5). These functions will not be directly callable after loading.\n",
      "WARNING:absl:Found untraced functions such as lstm_cell_layer_call_and_return_conditional_losses, lstm_cell_layer_call_fn, lstm_cell_layer_call_fn, lstm_cell_layer_call_and_return_conditional_losses, lstm_cell_layer_call_and_return_conditional_losses while saving (showing 5 of 5). These functions will not be directly callable after loading.\n"
     ]
    },
    {
     "name": "stdout",
     "output_type": "stream",
     "text": [
      "INFO:tensorflow:Assets written to: hrnet_lstm_model_v1/assets\n"
     ]
    },
    {
     "name": "stderr",
     "output_type": "stream",
     "text": [
      "INFO:tensorflow:Assets written to: hrnet_lstm_model_v1/assets\n"
     ]
    },
    {
     "name": "stdout",
     "output_type": "stream",
     "text": [
      "Epoch 29/50\n",
      "101/101 [==============================] - 13s 132ms/step - loss: 0.4839 - accuracy: 0.8864 - val_loss: 0.9165 - val_accuracy: 0.6513\n"
     ]
    },
    {
     "name": "stderr",
     "output_type": "stream",
     "text": [
      "WARNING:absl:Found untraced functions such as lstm_cell_layer_call_and_return_conditional_losses, lstm_cell_layer_call_fn, lstm_cell_layer_call_fn, lstm_cell_layer_call_and_return_conditional_losses, lstm_cell_layer_call_and_return_conditional_losses while saving (showing 5 of 5). These functions will not be directly callable after loading.\n",
      "WARNING:absl:Found untraced functions such as lstm_cell_layer_call_and_return_conditional_losses, lstm_cell_layer_call_fn, lstm_cell_layer_call_fn, lstm_cell_layer_call_and_return_conditional_losses, lstm_cell_layer_call_and_return_conditional_losses while saving (showing 5 of 5). These functions will not be directly callable after loading.\n"
     ]
    },
    {
     "name": "stdout",
     "output_type": "stream",
     "text": [
      "INFO:tensorflow:Assets written to: hrnet_lstm_model_v1/assets\n"
     ]
    },
    {
     "name": "stderr",
     "output_type": "stream",
     "text": [
      "INFO:tensorflow:Assets written to: hrnet_lstm_model_v1/assets\n"
     ]
    },
    {
     "name": "stdout",
     "output_type": "stream",
     "text": [
      "Epoch 30/50\n",
      "101/101 [==============================] - 13s 131ms/step - loss: 0.4733 - accuracy: 0.8849 - val_loss: 0.9138 - val_accuracy: 0.6582\n"
     ]
    },
    {
     "name": "stderr",
     "output_type": "stream",
     "text": [
      "WARNING:absl:Found untraced functions such as lstm_cell_layer_call_and_return_conditional_losses, lstm_cell_layer_call_fn, lstm_cell_layer_call_fn, lstm_cell_layer_call_and_return_conditional_losses, lstm_cell_layer_call_and_return_conditional_losses while saving (showing 5 of 5). These functions will not be directly callable after loading.\n",
      "WARNING:absl:Found untraced functions such as lstm_cell_layer_call_and_return_conditional_losses, lstm_cell_layer_call_fn, lstm_cell_layer_call_fn, lstm_cell_layer_call_and_return_conditional_losses, lstm_cell_layer_call_and_return_conditional_losses while saving (showing 5 of 5). These functions will not be directly callable after loading.\n"
     ]
    },
    {
     "name": "stdout",
     "output_type": "stream",
     "text": [
      "INFO:tensorflow:Assets written to: hrnet_lstm_model_v1/assets\n"
     ]
    },
    {
     "name": "stderr",
     "output_type": "stream",
     "text": [
      "INFO:tensorflow:Assets written to: hrnet_lstm_model_v1/assets\n"
     ]
    },
    {
     "name": "stdout",
     "output_type": "stream",
     "text": [
      "Epoch 31/50\n",
      "101/101 [==============================] - 14s 135ms/step - loss: 0.4458 - accuracy: 0.8953 - val_loss: 0.9167 - val_accuracy: 0.6605\n",
      "Epoch 32/50\n",
      "101/101 [==============================] - 13s 132ms/step - loss: 0.4678 - accuracy: 0.8745 - val_loss: 0.9156 - val_accuracy: 0.6582\n",
      "Epoch 33/50\n",
      "101/101 [==============================] - 13s 133ms/step - loss: 0.4520 - accuracy: 0.8854 - val_loss: 0.9089 - val_accuracy: 0.6605\n"
     ]
    },
    {
     "name": "stderr",
     "output_type": "stream",
     "text": [
      "WARNING:absl:Found untraced functions such as lstm_cell_layer_call_and_return_conditional_losses, lstm_cell_layer_call_fn, lstm_cell_layer_call_fn, lstm_cell_layer_call_and_return_conditional_losses, lstm_cell_layer_call_and_return_conditional_losses while saving (showing 5 of 5). These functions will not be directly callable after loading.\n",
      "WARNING:absl:Found untraced functions such as lstm_cell_layer_call_and_return_conditional_losses, lstm_cell_layer_call_fn, lstm_cell_layer_call_fn, lstm_cell_layer_call_and_return_conditional_losses, lstm_cell_layer_call_and_return_conditional_losses while saving (showing 5 of 5). These functions will not be directly callable after loading.\n"
     ]
    },
    {
     "name": "stdout",
     "output_type": "stream",
     "text": [
      "INFO:tensorflow:Assets written to: hrnet_lstm_model_v1/assets\n"
     ]
    },
    {
     "name": "stderr",
     "output_type": "stream",
     "text": [
      "INFO:tensorflow:Assets written to: hrnet_lstm_model_v1/assets\n"
     ]
    },
    {
     "name": "stdout",
     "output_type": "stream",
     "text": [
      "Epoch 34/50\n",
      "101/101 [==============================] - 14s 134ms/step - loss: 0.4918 - accuracy: 0.8696 - val_loss: 0.9215 - val_accuracy: 0.6467\n",
      "Epoch 35/50\n",
      "101/101 [==============================] - 13s 131ms/step - loss: 0.4321 - accuracy: 0.9105 - val_loss: 0.9061 - val_accuracy: 0.6651\n"
     ]
    },
    {
     "name": "stderr",
     "output_type": "stream",
     "text": [
      "WARNING:absl:Found untraced functions such as lstm_cell_layer_call_and_return_conditional_losses, lstm_cell_layer_call_fn, lstm_cell_layer_call_fn, lstm_cell_layer_call_and_return_conditional_losses, lstm_cell_layer_call_and_return_conditional_losses while saving (showing 5 of 5). These functions will not be directly callable after loading.\n",
      "WARNING:absl:Found untraced functions such as lstm_cell_layer_call_and_return_conditional_losses, lstm_cell_layer_call_fn, lstm_cell_layer_call_fn, lstm_cell_layer_call_and_return_conditional_losses, lstm_cell_layer_call_and_return_conditional_losses while saving (showing 5 of 5). These functions will not be directly callable after loading.\n"
     ]
    },
    {
     "name": "stdout",
     "output_type": "stream",
     "text": [
      "INFO:tensorflow:Assets written to: hrnet_lstm_model_v1/assets\n"
     ]
    },
    {
     "name": "stderr",
     "output_type": "stream",
     "text": [
      "INFO:tensorflow:Assets written to: hrnet_lstm_model_v1/assets\n"
     ]
    },
    {
     "name": "stdout",
     "output_type": "stream",
     "text": [
      "Epoch 36/50\n",
      "101/101 [==============================] - 13s 132ms/step - loss: 0.4376 - accuracy: 0.8902 - val_loss: 0.9090 - val_accuracy: 0.6651\n",
      "Epoch 37/50\n",
      "101/101 [==============================] - 13s 131ms/step - loss: 0.4419 - accuracy: 0.8865 - val_loss: 0.9072 - val_accuracy: 0.6559\n",
      "Epoch 38/50\n",
      "101/101 [==============================] - 13s 134ms/step - loss: 0.4352 - accuracy: 0.8874 - val_loss: 0.9167 - val_accuracy: 0.6490\n",
      "Epoch 39/50\n",
      "101/101 [==============================] - 13s 132ms/step - loss: 0.4162 - accuracy: 0.9020 - val_loss: 0.9142 - val_accuracy: 0.6559\n",
      "Epoch 40/50\n",
      "101/101 [==============================] - 14s 134ms/step - loss: 0.4286 - accuracy: 0.9037 - val_loss: 0.9134 - val_accuracy: 0.6582\n",
      "Epoch 41/50\n",
      "101/101 [==============================] - 13s 133ms/step - loss: 0.4325 - accuracy: 0.8978 - val_loss: 0.9137 - val_accuracy: 0.6559\n",
      "Epoch 42/50\n",
      "101/101 [==============================] - 13s 131ms/step - loss: 0.4165 - accuracy: 0.8937 - val_loss: 0.9135 - val_accuracy: 0.6559\n",
      "Epoch 43/50\n",
      "101/101 [==============================] - 13s 133ms/step - loss: 0.4536 - accuracy: 0.8934 - val_loss: 0.9133 - val_accuracy: 0.6582\n",
      "Epoch 44/50\n",
      "101/101 [==============================] - 13s 131ms/step - loss: 0.4301 - accuracy: 0.8961 - val_loss: 0.9132 - val_accuracy: 0.6582\n",
      "Epoch 45/50\n",
      "101/101 [==============================] - 14s 134ms/step - loss: 0.4080 - accuracy: 0.9117 - val_loss: 0.9132 - val_accuracy: 0.6605\n",
      "Epoch 46/50\n",
      "101/101 [==============================] - 13s 131ms/step - loss: 0.4500 - accuracy: 0.8887 - val_loss: 0.9132 - val_accuracy: 0.6605\n",
      "Epoch 47/50\n",
      "101/101 [==============================] - 14s 134ms/step - loss: 0.4075 - accuracy: 0.9203 - val_loss: 0.9131 - val_accuracy: 0.6605\n",
      "Epoch 48/50\n",
      "101/101 [==============================] - 13s 131ms/step - loss: 0.4354 - accuracy: 0.9078 - val_loss: 0.9131 - val_accuracy: 0.6605\n"
     ]
    }
   ],
   "source": [
    "history = model.fit(train_data, train_action_labels,\n",
    "                    validation_data=(val_data, val_action_labels),\n",
    "                    batch_size=10, epochs=50,\n",
    "                    callbacks=callbacks_list\n",
    "                    )"
   ]
  },
  {
   "cell_type": "code",
   "execution_count": 16,
   "metadata": {
    "colab": {
     "base_uri": "https://localhost:8080/",
     "height": 545
    },
    "executionInfo": {
     "elapsed": 886,
     "status": "ok",
     "timestamp": 1620706437223,
     "user": {
      "displayName": "Alan Lou",
      "photoUrl": "",
      "userId": "01891307768663487619"
     },
     "user_tz": 420
    },
    "id": "kUxjVSKqyp7c",
    "outputId": "0133925f-37a1-4e27-b313-edaae9e48258"
   },
   "outputs": [
    {
     "data": {
      "image/png": "[encoded data removed]",
      "text/plain": [
       "<Figure size 432x288 with 1 Axes>"
      ]
     },
     "metadata": {
      "needs_background": "light"
     },
     "output_type": "display_data"
    },
    {
     "data": {
      "image/png": "[encoded data removed]",
      "text/plain": [
       "<Figure size 432x288 with 1 Axes>"
      ]
     },
     "metadata": {
      "needs_background": "light"
     },
     "output_type": "display_data"
    }
   ],
   "source": [
    "import matplotlib.pyplot as plt\n",
    "\n",
    "acc=history.history[\"accuracy\"]\n",
    "val_acc=history.history[\"val_accuracy\"]\n",
    "loss=history.history[\"loss\"]\n",
    "val_loss=history.history[\"val_loss\"]\n",
    "epoch_stop = len(acc)\n",
    "epochs=np.arange(1, epoch_stop+1)\n",
    "\n",
    "plt.plot(epochs, acc, label = \"Train\", color = 'darkblue')\n",
    "plt.plot(epochs, val_acc, label = \"Valid\", linestyle=\"--\", color = 'darkred')\n",
    "plt.legend()\n",
    "plt.title('Train/Valid Accuracy')\n",
    "plt.show()\n",
    "\n",
    "plt.plot(epochs, loss, label = \"Train\", color = 'darkblue')\n",
    "plt.plot(epochs, val_loss, label = \"Valid\", linestyle=\"--\", color = 'darkred')\n",
    "plt.legend()\n",
    "plt.title('Train/Valid Loss')\n",
    "plt.show()"
   ]
  },
  {
   "cell_type": "markdown",
   "metadata": {
    "id": "Uxz2ZuNmYwYg"
   },
   "source": [
    "## Evaluate model on test dataset"
   ]
  },
  {
   "cell_type": "markdown",
   "metadata": {},
   "source": [
    "## Validation dataset"
   ]
  },
  {
   "cell_type": "code",
   "execution_count": null,
   "metadata": {},
   "outputs": [],
   "source": [
    "val_preds = model.predict_classes(val_data)\n",
    "\n",
    "mapping = {\n",
    "    'CALL': 0,\n",
    "    'COUG': 1,\n",
    "    'DRIN': 2,\n",
    "    'SCRA': 3,\n",
    "    'SNEE': 4,\n",
    "    'STRE': 5,\n",
    "    'WAVE': 6,\n",
    "    'WIPE': 7,\n",
    "}\n",
    "val_true = [mapping[x] for x in val_actions]"
   ]
  },
  {
   "cell_type": "code",
   "execution_count": 31,
   "metadata": {
    "id": "zxv3NRgVxcR3"
   },
   "outputs": [
    {
     "data": {
      "text/plain": [
       "<AxesSubplot:>"
      ]
     },
     "execution_count": 31,
     "metadata": {},
     "output_type": "execute_result"
    },
    {
     "data": {
      "image/png": "[encoded data removed]",
      "text/plain": [
       "<Figure size 720x504 with 2 Axes>"
      ]
     },
     "metadata": {
      "needs_background": "light"
     },
     "output_type": "display_data"
    }
   ],
   "source": [
    "import seaborn as sn\n",
    "import pandas as pd\n",
    "import matplotlib.pyplot as plt\n",
    "import sklearn.metrics as metrics\n",
    "\n",
    "confusion_matrix = metrics.confusion_matrix(y_true=val_true, y_pred=val_preds)\n",
    "df_cm = pd.DataFrame(confusion_matrix, index = mapping.keys(),\n",
    "                  columns = mapping.keys())\n",
    "plt.figure(figsize = (10,7))\n",
    "sn.heatmap(df_cm, annot=True, cmap=\"Blues\")"
   ]
  },
  {
   "cell_type": "code",
   "execution_count": 37,
   "metadata": {},
   "outputs": [],
   "source": [
    "# COUG:1, SNEE:4\n",
    "val_true_bin = [x in (1, 4) for x in val_true]\n",
    "val_preds_bin = [x in (1, 4) for x in val_preds]"
   ]
  },
  {
   "cell_type": "code",
   "execution_count": 66,
   "metadata": {},
   "outputs": [
    {
     "data": {
      "text/plain": [
       "<AxesSubplot:>"
      ]
     },
     "execution_count": 66,
     "metadata": {},
     "output_type": "execute_result"
    },
    {
     "data": {
      "image/png": "[encoded data removed]",
      "text/plain": [
       "<Figure size 288x216 with 2 Axes>"
      ]
     },
     "metadata": {
      "needs_background": "light"
     },
     "output_type": "display_data"
    }
   ],
   "source": [
    "confusion_matrix = metrics.confusion_matrix(y_true=val_true_bin, y_pred=val_preds_bin)\n",
    "df_cm = pd.DataFrame(confusion_matrix, index = ['Other', 'COUG_SNEE'],\n",
    "                  columns = ['Other', 'COUG_SNEE'])\n",
    "plt.figure(figsize = (4,3))\n",
    "sn.heatmap(df_cm, annot=True, cmap=\"Blues\")"
   ]
  },
  {
   "cell_type": "code",
   "execution_count": 75,
   "metadata": {},
   "outputs": [
    {
     "data": {
      "text/plain": [
       "0.7364341085271318"
      ]
     },
     "execution_count": 75,
     "metadata": {},
     "output_type": "execute_result"
    }
   ],
   "source": [
    "tn, fp, fn, tp = confusion_matrix.ravel()\n",
    "acc = tp / (tp+fp+fn)\n",
    "acc"
   ]
  },
  {
   "cell_type": "markdown",
   "metadata": {},
   "source": [
    "## Validation dataset"
   ]
  },
  {
   "cell_type": "code",
   "execution_count": 76,
   "metadata": {
    "id": "OOYy99ExynxE"
   },
   "outputs": [],
   "source": [
    "#base_dir = '/content/drive/My Drive/cs231n/project/dataset/shaped_hrnet_data'\n",
    "base_dir = '/home/ubuntu'\n",
    "\n",
    "test_data = np.load(os.path.join(base_dir, 'test_data_pre60.npy'))\n",
    "test_actions = np.load(os.path.join(base_dir, 'test_actions_pre60.npy'), allow_pickle=True)"
   ]
  },
  {
   "cell_type": "code",
   "execution_count": 81,
   "metadata": {},
   "outputs": [],
   "source": [
    "# reshape data\n",
    "test_data = np.moveaxis(test_data, 2, -1)"
   ]
  },
  {
   "cell_type": "code",
   "execution_count": 82,
   "metadata": {},
   "outputs": [],
   "source": [
    "test_preds = model.predict_classes(test_data)\n",
    "\n",
    "mapping = {\n",
    "    'CALL': 0,\n",
    "    'COUG': 1,\n",
    "    'DRIN': 2,\n",
    "    'SCRA': 3,\n",
    "    'SNEE': 4,\n",
    "    'STRE': 5,\n",
    "    'WAVE': 6,\n",
    "    'WIPE': 7,\n",
    "}\n",
    "test_true = [mapping[x] for x in test_actions]"
   ]
  },
  {
   "cell_type": "code",
   "execution_count": 83,
   "metadata": {},
   "outputs": [
    {
     "data": {
      "text/plain": [
       "<AxesSubplot:>"
      ]
     },
     "execution_count": 83,
     "metadata": {},
     "output_type": "execute_result"
    },
    {
     "data": {
      "image/png": "[encoded data removed]",
      "text/plain": [
       "<Figure size 720x504 with 2 Axes>"
      ]
     },
     "metadata": {
      "needs_background": "light"
     },
     "output_type": "display_data"
    }
   ],
   "source": [
    "import seaborn as sn\n",
    "import pandas as pd\n",
    "import matplotlib.pyplot as plt\n",
    "import sklearn.metrics as metrics\n",
    "\n",
    "confusion_matrix = metrics.confusion_matrix(y_true=test_true, y_pred=test_preds)\n",
    "df_cm = pd.DataFrame(confusion_matrix, index = mapping.keys(),\n",
    "                  columns = mapping.keys())\n",
    "plt.figure(figsize = (10,7))\n",
    "sn.heatmap(df_cm, annot=True, cmap=\"Blues\")"
   ]
  },
  {
   "cell_type": "code",
   "execution_count": 84,
   "metadata": {},
   "outputs": [],
   "source": [
    "# COUG:1, SNEE:4\n",
    "test_true_bin = [x in (1, 4) for x in test_true]\n",
    "test_preds_bin = [x in (1, 4) for x in test_preds]"
   ]
  },
  {
   "cell_type": "code",
   "execution_count": 85,
   "metadata": {},
   "outputs": [
    {
     "data": {
      "text/plain": [
       "<AxesSubplot:>"
      ]
     },
     "execution_count": 85,
     "metadata": {},
     "output_type": "execute_result"
    },
    {
     "data": {
      "image/png": "[encoded data removed]",
      "text/plain": [
       "<Figure size 288x216 with 2 Axes>"
      ]
     },
     "metadata": {
      "needs_background": "light"
     },
     "output_type": "display_data"
    }
   ],
   "source": [
    "confusion_matrix = metrics.confusion_matrix(y_true=test_true_bin, y_pred=test_preds_bin)\n",
    "df_cm = pd.DataFrame(confusion_matrix, index = ['Other', 'COUG_SNEE'],\n",
    "                  columns = ['Other', 'COUG_SNEE'])\n",
    "plt.figure(figsize = (4,3))\n",
    "sn.heatmap(df_cm, annot=True, cmap=\"Blues\")"
   ]
  },
  {
   "cell_type": "code",
   "execution_count": 86,
   "metadata": {},
   "outputs": [
    {
     "data": {
      "text/plain": [
       "0.7516778523489933"
      ]
     },
     "execution_count": 86,
     "metadata": {},
     "output_type": "execute_result"
    }
   ],
   "source": [
    "tn, fp, fn, tp = confusion_matrix.ravel()\n",
    "acc = tp / (tp+fp+fn)\n",
    "acc"
   ]
  },
  {
   "cell_type": "code",
   "execution_count": null,
   "metadata": {},
   "outputs": [],
   "source": []
  }
 ],
 "metadata": {
  "accelerator": "GPU",
  "colab": {
   "collapsed_sections": [],
   "machine_shape": "hm",
   "name": "Copy of  train_cnn_lstm_hrnet.ipynb",
   "provenance": [],
   "toc_visible": true
  },
  "kernelspec": {
   "display_name": "Python 3",
   "language": "python",
   "name": "python3"
  },
  "language_info": {
   "codemirror_mode": {
    "name": "ipython",
    "version": 3
   },
   "file_extension": ".py",
   "mimetype": "text/x-python",
   "name": "python",
   "nbconvert_exporter": "python",
   "pygments_lexer": "ipython3",
   "version": "3.7.10"
  }
 },
 "nbformat": 4,
 "nbformat_minor": 1
}

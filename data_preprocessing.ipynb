{
  "nbformat": 4,
  "nbformat_minor": 0,
  "metadata": {
    "colab": {
      "name": "data_preprocessing.ipynb",
      "provenance": [],
      "collapsed_sections": [],
      "toc_visible": true,
      "machine_shape": "hm"
    },
    "kernelspec": {
      "name": "python3",
      "display_name": "Python 3"
    },
    "language_info": {
      "name": "python"
    }
  },
  "cells": [
    {
      "cell_type": "code",
      "metadata": {
        "id": "BwgB1WdM4C3_",
        "colab": {
          "base_uri": "https://localhost:8080/"
        },
        "outputId": "32aea2fe-5ba7-4427-b198-5c7e242dda20"
      },
      "source": [
        "# Mount Google Drive to the Colab VM.\n",
        "from google.colab import drive\n",
        "drive.mount('/content/drive', force_remount=True)\n",
        "\n",
        "# Specify working directory.\n",
        "FOLDERNAME = 'cs231n/project/'\n",
        "%cd /content/drive/My\\ Drive/$FOLDERNAME\n",
        "\n",
        "# Ensure that the Python interpreter of the Colab VM can load python files from\n",
        "# within it.\n",
        "import sys\n",
        "sys.path.append('/content/drive/My Drive/{}'.format(FOLDERNAME))"
      ],
      "execution_count": 1,
      "outputs": [
        {
          "output_type": "stream",
          "text": [
            "Mounted at /content/drive\n",
            "/content/drive/My Drive/cs231n/project\n"
          ],
          "name": "stdout"
        }
      ]
    },
    {
      "cell_type": "markdown",
      "metadata": {
        "id": "EKlouTNl_nSJ"
      },
      "source": [
        "## Create videos dataframe\n",
        "Download \n",
        "BII Sneeze-Cough Human Action Video Dataset at https://web.bii.a-star.edu.sg/~chengli/FluRecognition/videos/biisc.zip, unzip it, and save the `videos` folder under directory `cs231n/project/dataset/videos`.\n",
        "\n",
        "Video File Naming Convention:\n",
        "\n",
        "\\{subject id: 4 char\\}_{gender: 1 char}_\\{action: 4 char\\}_\\{stand or walk: 3 char\\}_\\{pose: 3 char\\}[_HF].avi\n"
      ]
    },
    {
      "cell_type": "code",
      "metadata": {
        "id": "jyoqLXma86SZ",
        "colab": {
          "base_uri": "https://localhost:8080/",
          "height": 204
        },
        "outputId": "e83cdcae-7f4a-49b0-e43f-b6215db0f519"
      },
      "source": [
        "import os\n",
        "import pandas as pd\n",
        "\n",
        "video_path = 'dataset/videos/'\n",
        "videos = os.listdir(video_path)\n",
        "subjects = []\n",
        "actions =[]\n",
        "\n",
        "for vid in videos:\n",
        "  # Read index.\n",
        "  subjects.append(vid[:4])\n",
        "  # Read actions\n",
        "  actions.append(vid.split('_')[2])\n",
        "\n",
        "# Convert actions to 1 = flu sym, 0 = no flu sym.\n",
        "mapping = {\n",
        "    'CALL': 0,\n",
        "    'COUG': 1,\n",
        "    'DRIN': 0,\n",
        "    'SCRA': 0,\n",
        "    'SNEE': 1,\n",
        "    'STRE': 0,\n",
        "    'WAVE': 0,\n",
        "    'WIPE': 0,\n",
        "}\n",
        "labels = [mapping[x] for x in actions]    \n",
        "\n",
        "df_videos = pd.DataFrame({\n",
        "    'video_subject': subjects,\n",
        "    'video_name': videos,\n",
        "    'action': actions,\n",
        "    'label': labels\n",
        "    \n",
        "})\n",
        "df_videos.head()"
      ],
      "execution_count": 2,
      "outputs": [
        {
          "output_type": "execute_result",
          "data": {
            "text/html": [
              "<div>\n",
              "<style scoped>\n",
              "    .dataframe tbody tr th:only-of-type {\n",
              "        vertical-align: middle;\n",
              "    }\n",
              "\n",
              "    .dataframe tbody tr th {\n",
              "        vertical-align: top;\n",
              "    }\n",
              "\n",
              "    .dataframe thead th {\n",
              "        text-align: right;\n",
              "    }\n",
              "</style>\n",
              "<table border=\"1\" class=\"dataframe\">\n",
              "  <thead>\n",
              "    <tr style=\"text-align: right;\">\n",
              "      <th></th>\n",
              "      <th>video_subject</th>\n",
              "      <th>video_name</th>\n",
              "      <th>action</th>\n",
              "      <th>label</th>\n",
              "    </tr>\n",
              "  </thead>\n",
              "  <tbody>\n",
              "    <tr>\n",
              "      <th>0</th>\n",
              "      <td>S018</td>\n",
              "      <td>S018_M_WAVE_WLK_LFT_HF.avi</td>\n",
              "      <td>WAVE</td>\n",
              "      <td>0</td>\n",
              "    </tr>\n",
              "    <tr>\n",
              "      <th>1</th>\n",
              "      <td>S012</td>\n",
              "      <td>S012_M_CALL_WLK_LFT.avi</td>\n",
              "      <td>CALL</td>\n",
              "      <td>0</td>\n",
              "    </tr>\n",
              "    <tr>\n",
              "      <th>2</th>\n",
              "      <td>S015</td>\n",
              "      <td>S015_M_CALL_STD_LFT_HF.avi</td>\n",
              "      <td>CALL</td>\n",
              "      <td>0</td>\n",
              "    </tr>\n",
              "    <tr>\n",
              "      <th>3</th>\n",
              "      <td>S016</td>\n",
              "      <td>S016_F_SNEE_STD_RGT_HF.avi</td>\n",
              "      <td>SNEE</td>\n",
              "      <td>1</td>\n",
              "    </tr>\n",
              "    <tr>\n",
              "      <th>4</th>\n",
              "      <td>S018</td>\n",
              "      <td>S018_M_SCRA_STD_LFT_HF.avi</td>\n",
              "      <td>SCRA</td>\n",
              "      <td>0</td>\n",
              "    </tr>\n",
              "  </tbody>\n",
              "</table>\n",
              "</div>"
            ],
            "text/plain": [
              "  video_subject                  video_name action  label\n",
              "0          S018  S018_M_WAVE_WLK_LFT_HF.avi   WAVE      0\n",
              "1          S012     S012_M_CALL_WLK_LFT.avi   CALL      0\n",
              "2          S015  S015_M_CALL_STD_LFT_HF.avi   CALL      0\n",
              "3          S016  S016_F_SNEE_STD_RGT_HF.avi   SNEE      1\n",
              "4          S018  S018_M_SCRA_STD_LFT_HF.avi   SCRA      0"
            ]
          },
          "metadata": {
            "tags": []
          },
          "execution_count": 2
        }
      ]
    },
    {
      "cell_type": "code",
      "metadata": {
        "id": "qEQcMNP6d3NB"
      },
      "source": [
        "# Shuffle df_videos.\n",
        "df_videos = df_videos.sample(frac=1, random_state=42).reset_index(drop=True)"
      ],
      "execution_count": 3,
      "outputs": []
    },
    {
      "cell_type": "markdown",
      "metadata": {
        "id": "daKk1JvPTrXj"
      },
      "source": [
        "## Create Train/Test datasets\n",
        "\n",
        "From the paper authors: \"In our current experiments, the videos from subjects S002, S003, S004, S005, S006 are used for testing and the rest are used for training.\""
      ]
    },
    {
      "cell_type": "code",
      "metadata": {
        "id": "o0i6ZH_u-cm4",
        "colab": {
          "base_uri": "https://localhost:8080/"
        },
        "outputId": "1d6ec00f-7839-4ada-a8d6-555aa4ede121"
      },
      "source": [
        "df_videos_train = df_videos.loc[~df_videos['video_subject'].isin(\n",
        "    ['S002','S003', 'S004', 'S005', 'S006'])].reset_index()\n",
        "df_videos_test  = df_videos.loc[df_videos['video_subject'].isin(\n",
        "    ['S002','S003', 'S004', 'S005', 'S006'])].reset_index()\n",
        "print(df_videos_train.groupby('label').count())\n",
        "print(df_videos_test.groupby('label').count())"
      ],
      "execution_count": 4,
      "outputs": [
        {
          "output_type": "stream",
          "text": [
            "       index  video_subject  video_name  action\n",
            "label                                          \n",
            "0       1080           1080        1080    1080\n",
            "1        360            360         360     360\n",
            "       index  video_subject  video_name  action\n",
            "label                                          \n",
            "0        360            360         360     360\n",
            "1        120            120         120     120\n"
          ],
          "name": "stdout"
        }
      ]
    },
    {
      "cell_type": "markdown",
      "metadata": {
        "id": "bUmZ-8ncT0SH"
      },
      "source": [
        "## Create folders for Train & Test frames"
      ]
    },
    {
      "cell_type": "code",
      "metadata": {
        "id": "pPd9Sx05-pjj"
      },
      "source": [
        "frames_path = 'dataset/frames/'\n",
        "train_frames_path = os.path.join(frames_path, 'train')\n",
        "test_frames_path = os.path.join(frames_path, 'test')\n",
        "try:\n",
        "    os.mkdir(frames_path)\n",
        "except FileExistsError as ae:\n",
        "    print('dataset/frames already created')\n",
        "try:\n",
        "    os.mkdir(train_frames_path)\n",
        "except FileExistsError as ae:\n",
        "    print('dataset/frames/train already created')\n",
        "try:\n",
        "    os.mkdir(test_frames_path)\n",
        "except FileExistsError as ae:\n",
        "    print('dataset/frames/test already created')"
      ],
      "execution_count": 5,
      "outputs": []
    },
    {
      "cell_type": "markdown",
      "metadata": {
        "id": "44RqmWclPVhT"
      },
      "source": [
        "### Extract frames from videos\n",
        "\n",
        "We extract two frames from each second of the video and save the frames as images."
      ]
    },
    {
      "cell_type": "code",
      "metadata": {
        "id": "6cfTGewhGwq4",
        "colab": {
          "base_uri": "https://localhost:8080/"
        },
        "outputId": "cf8f4f15-0423-49a4-bb67-5f2a0ad31748"
      },
      "source": [
        "# Read the video files, extract frames from each corresponding video and put\n",
        "# them in the corresponding train/test folder.\n",
        "import cv2\n",
        "\n",
        "def extract_frames(df, folder_name):\n",
        "    for _, row in df.iterrows():\n",
        "        _, video_subject, video_name, action, label = row\n",
        "        video_read_path = os.path.join(video_path, video_name)\n",
        "        try:\n",
        "          os.mkdir(os.path.join(os.path.join(frames_path, folder_name),\n",
        "                                video_name.split(\".\")[0]))\n",
        "          \n",
        "          train_write_file=os.path.join(os.path.join(frames_path, folder_name),\n",
        "                                    video_name.split(\".\")[0])\n",
        "          cap=cv2.VideoCapture(video_read_path)\n",
        "          cap.set(cv2.CAP_PROP_FPS, 20)\n",
        "          frame_rate=int(cap.get(5))\n",
        "          \n",
        "          count=0\n",
        "          while(cap.isOpened()):\n",
        "              frame_id = cap.get(1)\n",
        "              ret, frame = cap.read()\n",
        "              if (ret != True):\n",
        "                  break\n",
        "              # Extract 2 frames from each second.\n",
        "              if (2 * frame_id % frame_rate == 0):\n",
        "                  filename =\"frame%d.jpg\" % count; count+=1\n",
        "                  frame_grey=cv2.cvtColor(frame, cv2.COLOR_BGR2GRAY)\n",
        "                  cv2.imwrite(os.path.join(train_write_file,filename), frame_grey)\n",
        "          cap.release()\n",
        "        except:\n",
        "            pass\n",
        "\n",
        "    return print(\"All frames written in the \"+folder_name+\" folder\")\n",
        "\n",
        "extract_frames(df_videos_train, 'train')\n",
        "extract_frames(df_videos_test, 'test')"
      ],
      "execution_count": 6,
      "outputs": [
        {
          "output_type": "stream",
          "text": [
            "All frames written in the train folder\n",
            "All frames written in the test folder\n"
          ],
          "name": "stdout"
        }
      ]
    },
    {
      "cell_type": "code",
      "metadata": {
        "id": "d0Mt6rrWG7Cw"
      },
      "source": [
        "# See how many frames are captured for each video.\n",
        "train_path='/content/drive/My Drive/cs231n/project/dataset/frames/train/'\n",
        "test_path='/content/drive/My Drive/cs231n/project/dataset/frames/test/'\n",
        "\n",
        "vid_file_name=df_videos_train.video_name[0].split('.')[0]\n",
        "\n",
        "train_frames=[]\n",
        "for i in range(len(df_videos_train.video_name)):\n",
        "    vid_file_name=df_videos_train.video_name[i].split('.')[0]\n",
        "    train_frames.append(len(os.listdir(os.path.join(train_path, vid_file_name))))\n",
        "\n",
        "test_frames=[]\n",
        "for i in range(len(df_videos_test.video_name)):\n",
        "    vid_file_name=df_videos_test.video_name[i].split('.')[0]\n",
        "    test_frames.append(len(os.listdir(os.path.join(test_path,vid_file_name))))"
      ],
      "execution_count": 7,
      "outputs": []
    },
    {
      "cell_type": "code",
      "metadata": {
        "id": "bie8175bTPTt",
        "colab": {
          "base_uri": "https://localhost:8080/",
          "height": 513
        },
        "outputId": "da7ba0d4-824a-40e9-f555-f42530b35741"
      },
      "source": [
        "import matplotlib.pyplot as plt\n",
        "\n",
        "plt.hist(train_frames)\n",
        "plt.show()\n",
        "\n",
        "plt.hist(test_frames)\n",
        "plt.show()"
      ],
      "execution_count": 8,
      "outputs": [
        {
          "output_type": "display_data",
          "data": {
            "image/png": "[encoded data removed]",
            "text/plain": [
              "<Figure size 432x288 with 1 Axes>"
            ]
          },
          "metadata": {
            "tags": [],
            "needs_background": "light"
          }
        },
        {
          "output_type": "display_data",
          "data": {
            "image/png": "[encoded data removed]",
            "text/plain": [
              "<Figure size 432x288 with 1 Axes>"
            ]
          },
          "metadata": {
            "tags": [],
            "needs_background": "light"
          }
        }
      ]
    },
    {
      "cell_type": "markdown",
      "metadata": {
        "id": "uxVYYtgxLPrw"
      },
      "source": [
        "\n",
        "## Making sure that each video has at least 20 frames\n",
        "\n",
        "Some videos are of length <10 secs, so the frames captured from them are less than 20. We will generate extra frames by creating copies of the last frame and put them at the end. This is to make sure that we have at least 20 frames in each video."
      ]
    },
    {
      "cell_type": "code",
      "metadata": {
        "id": "wCIT4UAkIQOd",
        "colab": {
          "base_uri": "https://localhost:8080/"
        },
        "outputId": "3b2f7fb1-c02b-49b4-b7aa-5236c1e761fb"
      },
      "source": [
        "import shutil\n",
        "\n",
        "def extract_frames(dataset, dir_path):\n",
        "    for i in range(len(dataset.video_name)):\n",
        "        vid_namu = dataset.video_name[i]\n",
        "        vid_path = os.path.join(dir_path,vid_namu.split(\".\")[0])\n",
        "        len_frame = len(os.listdir(vid_path))\n",
        "        j = 20 - len(os.listdir(vid_path))\n",
        "        if j > 0:\n",
        "            list_frames = os.listdir(vid_path)\n",
        "            c = 0\n",
        "            for k in range(j):\n",
        "                list_frames=os.listdir(vid_path)\n",
        "                frame=os.path.join(vid_path, list_frames[c])\n",
        "                countu=k+len_frame\n",
        "                new_frame=\"frame%d.jpg\" % countu\n",
        "                shutil.copy2(frame,os.path.join(vid_path,new_frame))\n",
        "                c+=1\n",
        "        else:\n",
        "            pass\n",
        "    return print(\"Frame Generation Done!\")\n",
        "    \n",
        "train_path='/content/drive/My Drive/cs231n/project/dataset/frames/train/'\n",
        "test_path='/content/drive/My Drive/cs231n/project/dataset/frames/test/'\n",
        "\n",
        "extract_frames(df_videos_train, train_path)\n",
        "extract_frames(df_videos_test, test_path)"
      ],
      "execution_count": 9,
      "outputs": [
        {
          "output_type": "stream",
          "text": [
            "Frame Generation Done!\n",
            "Frame Generation Done!\n"
          ],
          "name": "stdout"
        }
      ]
    },
    {
      "cell_type": "markdown",
      "metadata": {
        "id": "7FPFIfTMcuhO"
      },
      "source": [
        "## Split training and validation datasets"
      ]
    },
    {
      "cell_type": "code",
      "metadata": {
        "id": "FK7IqdPncu1b"
      },
      "source": [
        "train_ratio = 0.70\n",
        "\n",
        "label_1_dat = df_videos_train.loc[df_videos_train[\"label\"]==1,]\n",
        "label_0_dat = df_videos_train.loc[df_videos_train[\"label\"]==0,]\n",
        "\n",
        "train_len_label1 = int(len(label_1_dat)*train_ratio)\n",
        "train_len_label0 = int(len(label_0_dat)*train_ratio)\n",
        "\n",
        "train_dat_label1 = label_1_dat.iloc[:train_len_label1,]\n",
        "train_dat_label0 = label_0_dat.iloc[:train_len_label0,]\n",
        "\n",
        "val_dat_label1 = label_1_dat.iloc[train_len_label1:,]\n",
        "val_dat_label0 = label_0_dat.iloc[train_len_label0:,]\n",
        "\n",
        "train_dat = train_dat_label1.append(train_dat_label0, ignore_index=True)\n",
        "val_dat = val_dat_label1.append(val_dat_label0, ignore_index=True)"
      ],
      "execution_count": 10,
      "outputs": []
    },
    {
      "cell_type": "code",
      "metadata": {
        "id": "qrF2z1BXcw5j",
        "colab": {
          "base_uri": "https://localhost:8080/"
        },
        "outputId": "d9524e51-8d9f-4a37-a806-6ccd560b9c35"
      },
      "source": [
        "print(train_dat.groupby('action')['index'].count())\n",
        "print(val_dat.groupby('action')['index'].count())"
      ],
      "execution_count": 11,
      "outputs": [
        {
          "output_type": "stream",
          "text": [
            "action\n",
            "CALL    125\n",
            "COUG    121\n",
            "DRIN    120\n",
            "SCRA    129\n",
            "SNEE    130\n",
            "STRE    133\n",
            "WAVE    121\n",
            "WIPE    128\n",
            "Name: index, dtype: int64\n",
            "action\n",
            "CALL    55\n",
            "COUG    59\n",
            "DRIN    60\n",
            "SCRA    51\n",
            "SNEE    50\n",
            "STRE    47\n",
            "WAVE    59\n",
            "WIPE    52\n",
            "Name: index, dtype: int64\n"
          ],
          "name": "stdout"
        }
      ]
    },
    {
      "cell_type": "markdown",
      "metadata": {
        "id": "l9hEwBmIe_wl"
      },
      "source": [
        "## Create final datasets\n",
        "\n",
        "Function below extracts the first 20 frames for each video, resize each frame into (250,250) image and convert it into greyscale image."
      ]
    },
    {
      "cell_type": "code",
      "metadata": {
        "id": "5f-auioTeiKx"
      },
      "source": [
        "from PIL import Image\n",
        "import numpy as np\n",
        "\n",
        "def create_final_dataset(dataset, input_path, output_path):\n",
        "    frames = []\n",
        "    for i in np.arange(len(dataset)):\n",
        "        if i % 100 == 0: print(f'Progress: {i} / {len(dataset)}')\n",
        "        vid_name = dataset.video_name[i].split(\".\")[0]\n",
        "        vid_dir_path = os.path.join(input_path, vid_name)\n",
        "        frames_to_select = []\n",
        "        for l in np.arange(0,20):\n",
        "            frames_to_select.append('frame%d.jpg' % l)\n",
        "        vid_data=[]\n",
        "        for frame in frames_to_select:\n",
        "            image = Image.open(os.path.join(vid_dir_path,frame))\n",
        "            image = image.resize((250, 250), Image.ANTIALIAS) \n",
        "            datu = np.asarray(image)\n",
        "            normu_dat = datu/255\n",
        "            vid_data.append(normu_dat)\n",
        "        vid_data = np.array(vid_data)\n",
        "        frames.append(vid_data)\n",
        "    dataset_new = np.array(frames)\n",
        "    dataset_new = dataset_new.reshape((dataset_new.shape[0],20,250,250,1))\n",
        "    labels = np.array(dataset.label)\n",
        "    return dataset_new, labels"
      ],
      "execution_count": 12,
      "outputs": []
    },
    {
      "cell_type": "code",
      "metadata": {
        "id": "OOI7BmG5a9aq"
      },
      "source": [
        "# Output directory.\n",
        "output_path = \"/content/drive/My Drive/cs231n/project/dataset/shaped_data/\"\n",
        "\n",
        "# Save final dataset.\n",
        "try:\n",
        "    os.mkdir(output_path)\n",
        "except FileExistsError:\n",
        "    pass"
      ],
      "execution_count": 13,
      "outputs": []
    },
    {
      "cell_type": "code",
      "metadata": {
        "id": "forBwIO5V7tW"
      },
      "source": [
        "# Training dataset.\n",
        "input_path='/content/drive/My Drive/cs231n/project/dataset/frames/train/'\n",
        "dataset_new, labels = create_final_dataset(train_dat, input_path, output_path)\n",
        "np.save(os.path.join(output_path, \"train_data\"), dataset_new)\n",
        "np.save(os.path.join(output_path, \"train_labels\"), labels)"
      ],
      "execution_count": 17,
      "outputs": []
    },
    {
      "cell_type": "code",
      "metadata": {
        "id": "MWSsXY5cV9nV"
      },
      "source": [
        "# Validation dataset.\n",
        "input_path='/content/drive/My Drive/cs231n/project/dataset/frames/train/'\n",
        "dataset_new, labels = create_final_dataset(val_dat, input_path, output_path)\n",
        "np.save(os.path.join(output_path, \"val_data\"), dataset_new)\n",
        "np.save(os.path.join(output_path, \"val_labels\"), labels)"
      ],
      "execution_count": 18,
      "outputs": []
    },
    {
      "cell_type": "code",
      "metadata": {
        "id": "gFq-iCMwf4F7"
      },
      "source": [
        "# Test dataset.\n",
        "input_path='/content/drive/My Drive/cs231n/project/dataset/frames/test/'\n",
        "dataset_new, labels = create_final_dataset(df_videos_test, input_path, output_path)\n",
        "np.save(os.path.join(output_path, \"test_data\"), dataset_new)\n",
        "np.save(os.path.join(output_path, \"test_labels\"), labels)"
      ],
      "execution_count": 18,
      "outputs": []
    },
    {
      "cell_type": "code",
      "metadata": {
        "id": "uzVjiY0H9QpO"
      },
      "source": [
        "# To load dataset:\n",
        "# train_dataset_new = np.load('/content/drive/My Drive/cs231n/project/dataset/shaped_data/train_data.npy')\n",
        "# val_dataset_new = np.load('/content/drive/My Drive/cs231n/project/dataset/shaped_data/val_data.npy')\n",
        "# test_dataset_new = np.load('/content/drive/My Drive/cs231n/project/dataset/shaped_data/test_data.npy')\n",
        "# train_labels = np.load('/content/drive/My Drive/cs231n/project/dataset/shaped_data/train_labels.npy')\n",
        "# val_labels = np.load('/content/drive/My Drive/cs231n/project/dataset/shaped_data/val_labels.npy')\n",
        "# test_labels = np.load('/content/drive/My Drive/cs231n/project/dataset/shaped_data/test_labels.npy')"
      ],
      "execution_count": null,
      "outputs": []
    }
  ]
}
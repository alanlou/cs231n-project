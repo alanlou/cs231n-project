{
  "nbformat": 4,
  "nbformat_minor": 0,
  "metadata": {
    "colab": {
      "name": "data_preprocessing.ipynb",
      "provenance": [],
      "collapsed_sections": []
    },
    "kernelspec": {
      "name": "python3",
      "display_name": "Python 3"
    },
    "language_info": {
      "name": "python"
    }
  },
  "cells": [
    {
      "cell_type": "code",
      "metadata": {
        "colab": {
          "base_uri": "https://localhost:8080/"
        },
        "id": "BwgB1WdM4C3_",
        "outputId": "b8a84bef-c6cd-4b64-fab2-a16597b19e76"
      },
      "source": [
        "# Mount Google Drive to the Colab VM.\n",
        "from google.colab import drive\n",
        "drive.mount('/content/drive', force_remount=True)\n",
        "\n",
        "# Specify working directory.\n",
        "FOLDERNAME = 'cs231n/project/'\n",
        "%cd /content/drive/My\\ Drive/$FOLDERNAME\n",
        "\n",
        "# Ensure that the Python interpreter of the Colab VM can load python files from\n",
        "# within it.\n",
        "import sys\n",
        "sys.path.append('/content/drive/My Drive/{}'.format(FOLDERNAME))"
      ],
      "execution_count": 1,
      "outputs": [
        {
          "output_type": "stream",
          "text": [
            "Mounted at /content/drive\n",
            "/content/drive/My Drive/cs231n/project\n"
          ],
          "name": "stdout"
        }
      ]
    },
    {
      "cell_type": "markdown",
      "metadata": {
        "id": "EKlouTNl_nSJ"
      },
      "source": [
        "## Create videos dataframe\n",
        "Download \n",
        "BII Sneeze-Cough Human Action Video Dataset at https://web.bii.a-star.edu.sg/~chengli/FluRecognition/videos/biisc.zip, unzip it, and save the `videos` folder under directory `cs231n/project/dataset/videos`.\n",
        "\n",
        "Video File Naming Convention:\n",
        "\n",
        "\\{subject id: 4 char\\}_{gender: 1 char}_\\{action: 4 char\\}_\\{stand or walk: 3 char\\}_\\{pose: 3 char\\}[_HF].avi\n"
      ]
    },
    {
      "cell_type": "code",
      "metadata": {
        "colab": {
          "base_uri": "https://localhost:8080/",
          "height": 204
        },
        "id": "jyoqLXma86SZ",
        "outputId": "73d8e985-1db2-48c4-da2f-112d905f172b"
      },
      "source": [
        "import os\n",
        "import pandas as pd\n",
        "\n",
        "video_path = 'dataset/videos/'\n",
        "videos = os.listdir(video_path)\n",
        "subjects = []\n",
        "actions =[]\n",
        "\n",
        "for vid in videos:\n",
        "  # Read index.\n",
        "  subjects.append(vid[:4])\n",
        "  # Read actions\n",
        "  actions.append(vid.split('_')[2])\n",
        "\n",
        "# Convert actions to 1 = flu sym, 0 = no flu sym.\n",
        "mapping = {\n",
        "    'CALL': 0,\n",
        "    'COUG': 1,\n",
        "    'DRIN': 0,\n",
        "    'SCRA': 0,\n",
        "    'SNEE': 1,\n",
        "    'STRE': 0,\n",
        "    'WAVE': 0,\n",
        "    'WIPE': 0,\n",
        "}\n",
        "labels = [mapping[x] for x in actions]    \n",
        "\n",
        "df_videos = pd.DataFrame({\n",
        "    'video_subject': subjects,\n",
        "    'video_name': videos,\n",
        "    'action': actions,\n",
        "    'label': labels\n",
        "    \n",
        "})\n",
        "df_videos.head()"
      ],
      "execution_count": 2,
      "outputs": [
        {
          "output_type": "execute_result",
          "data": {
            "text/html": [
              "<div>\n",
              "<style scoped>\n",
              "    .dataframe tbody tr th:only-of-type {\n",
              "        vertical-align: middle;\n",
              "    }\n",
              "\n",
              "    .dataframe tbody tr th {\n",
              "        vertical-align: top;\n",
              "    }\n",
              "\n",
              "    .dataframe thead th {\n",
              "        text-align: right;\n",
              "    }\n",
              "</style>\n",
              "<table border=\"1\" class=\"dataframe\">\n",
              "  <thead>\n",
              "    <tr style=\"text-align: right;\">\n",
              "      <th></th>\n",
              "      <th>video_subject</th>\n",
              "      <th>video_name</th>\n",
              "      <th>action</th>\n",
              "      <th>label</th>\n",
              "    </tr>\n",
              "  </thead>\n",
              "  <tbody>\n",
              "    <tr>\n",
              "      <th>0</th>\n",
              "      <td>S004</td>\n",
              "      <td>S004_M_SCRA_WLK_RGT.avi</td>\n",
              "      <td>SCRA</td>\n",
              "      <td>0</td>\n",
              "    </tr>\n",
              "    <tr>\n",
              "      <th>1</th>\n",
              "      <td>S001</td>\n",
              "      <td>S001_M_WIPE_WLK_RGT.avi</td>\n",
              "      <td>WIPE</td>\n",
              "      <td>0</td>\n",
              "    </tr>\n",
              "    <tr>\n",
              "      <th>2</th>\n",
              "      <td>S001</td>\n",
              "      <td>S001_M_WAVE_WLK_LFT_HF.avi</td>\n",
              "      <td>WAVE</td>\n",
              "      <td>0</td>\n",
              "    </tr>\n",
              "    <tr>\n",
              "      <th>3</th>\n",
              "      <td>S001</td>\n",
              "      <td>S001_M_SCRA_STD_RGT_HF.avi</td>\n",
              "      <td>SCRA</td>\n",
              "      <td>0</td>\n",
              "    </tr>\n",
              "    <tr>\n",
              "      <th>4</th>\n",
              "      <td>S006</td>\n",
              "      <td>S006_M_WAVE_STD_LFT.avi</td>\n",
              "      <td>WAVE</td>\n",
              "      <td>0</td>\n",
              "    </tr>\n",
              "  </tbody>\n",
              "</table>\n",
              "</div>"
            ],
            "text/plain": [
              "  video_subject                  video_name action  label\n",
              "0          S004     S004_M_SCRA_WLK_RGT.avi   SCRA      0\n",
              "1          S001     S001_M_WIPE_WLK_RGT.avi   WIPE      0\n",
              "2          S001  S001_M_WAVE_WLK_LFT_HF.avi   WAVE      0\n",
              "3          S001  S001_M_SCRA_STD_RGT_HF.avi   SCRA      0\n",
              "4          S006     S006_M_WAVE_STD_LFT.avi   WAVE      0"
            ]
          },
          "metadata": {
            "tags": []
          },
          "execution_count": 2
        }
      ]
    },
    {
      "cell_type": "markdown",
      "metadata": {
        "id": "daKk1JvPTrXj"
      },
      "source": [
        "## Create Train/Test datasets\n",
        "\n",
        "From the paper authors: In our current experiments, the videos from subjects S002, S003, S004, S005, S006 are used for testing and the rest are used for training."
      ]
    },
    {
      "cell_type": "code",
      "metadata": {
        "colab": {
          "base_uri": "https://localhost:8080/"
        },
        "id": "o0i6ZH_u-cm4",
        "outputId": "2b6f6fa6-d0bb-4d69-e8f0-098ae68b4cd0"
      },
      "source": [
        "df_videos_train = df_videos.loc[~df_videos['video_subject'].isin(\n",
        "    ['S002','S003', 'S004', 'S005', 'S006'])].reset_index()\n",
        "df_videos_test  = df_videos.loc[df_videos['video_subject'].isin(\n",
        "    ['S002','S003', 'S004', 'S005', 'S006'])].reset_index()\n",
        "print(df_videos_train.groupby('label').count())\n",
        "print(df_videos_test.groupby('label').count())"
      ],
      "execution_count": 3,
      "outputs": [
        {
          "output_type": "stream",
          "text": [
            "       index  video_subject  video_name  action\n",
            "label                                          \n",
            "0       1080           1080        1080    1080\n",
            "1        360            360         360     360\n",
            "       index  video_subject  video_name  action\n",
            "label                                          \n",
            "0        360            360         360     360\n",
            "1        120            120         120     120\n"
          ],
          "name": "stdout"
        }
      ]
    },
    {
      "cell_type": "markdown",
      "metadata": {
        "id": "bUmZ-8ncT0SH"
      },
      "source": [
        "## Create folders for Train & Test frames"
      ]
    },
    {
      "cell_type": "code",
      "metadata": {
        "colab": {
          "base_uri": "https://localhost:8080/"
        },
        "id": "pPd9Sx05-pjj",
        "outputId": "d649b190-64ab-454a-89c9-b8191a995708"
      },
      "source": [
        "frames_path = 'dataset/frames/'\n",
        "train_frames_path = os.path.join(frames_path, 'train')\n",
        "test_frames_path = os.path.join(frames_path, 'test')\n",
        "try:\n",
        "    os.mkdir(frames_path)\n",
        "except FileExistsError as ae:\n",
        "    print('Frames Folder Already Created')\n",
        "try:\n",
        "    os.mkdir(train_frames_path)\n",
        "except FileExistsError as ae:\n",
        "    print('Train_Videos Folder Already Created')\n",
        "try:\n",
        "    os.mkdir(test_frames_path)\n",
        "except FileExistsError as ae:\n",
        "    print('Test_Videos Folder Already Created')"
      ],
      "execution_count": 4,
      "outputs": [
        {
          "output_type": "stream",
          "text": [
            "Frames Folder Already Created\n",
            "Train_Videos Folder Already Created\n",
            "Test_Videos Folder Already Created\n"
          ],
          "name": "stdout"
        }
      ]
    },
    {
      "cell_type": "markdown",
      "metadata": {
        "id": "44RqmWclPVhT"
      },
      "source": [
        "### Extract frames from videos\n",
        "\n",
        "We extract two frames from each second of the video and save the frames as images."
      ]
    },
    {
      "cell_type": "code",
      "metadata": {
        "colab": {
          "base_uri": "https://localhost:8080/"
        },
        "id": "6cfTGewhGwq4",
        "outputId": "745c8c49-caa5-4e59-efad-b30c0af9ae4c"
      },
      "source": [
        "# Read the video files, extract frames from each corresponding video and put\n",
        "# them in the respective train/test folder.\n",
        "import cv2\n",
        "\n",
        "def video_capturing_function(df, folder_name):\n",
        "    for _, row in df.iterrows():\n",
        "        _, video_subject, video_name, action, label = row\n",
        "        video_read_path = os.path.join(video_path, video_name)\n",
        "        try:\n",
        "            os.mkdir(os.path.join(os.path.join(frames_path, folder_name),\n",
        "                                  video_name.split(\".\")[0]))\n",
        "        except:\n",
        "            print(\"File Already Created\")\n",
        "        \n",
        "        train_write_file=os.path.join(os.path.join(frames_path, folder_name),\n",
        "                                  video_name.split(\".\")[0])\n",
        "        cap=cv2.VideoCapture(video_read_path)\n",
        "        cap.set(cv2.CAP_PROP_FPS, 20)\n",
        "        frame_rate=int(cap.get(5))\n",
        "        \n",
        "        count=0\n",
        "        while(cap.isOpened()):\n",
        "            frame_id = cap.get(1)\n",
        "            ret, frame = cap.read()\n",
        "            if (ret != True):\n",
        "                break\n",
        "            # Extract 2 frames from each second.\n",
        "            if (2 * frame_id % frame_rate == 0):\n",
        "                filename =\"frame%d.jpg\" % count; count+=1\n",
        "                frame_grey=cv2.cvtColor(frame, cv2.COLOR_BGR2GRAY)\n",
        "                cv2.imwrite(os.path.join(train_write_file,filename), frame_grey)\n",
        "        cap.release()\n",
        "\n",
        "    return print(\"All frames written in the: \"+folder_name+\" Folder\")\n",
        "\n",
        "video_capturing_function(df_videos_train, 'train')\n",
        "video_capturing_function(df_videos_test, 'test')"
      ],
      "execution_count": 5,
      "outputs": [
        {
          "output_type": "stream",
          "text": [
            "All frames written in the: train Folder\n",
            "All frames written in the: test Folder\n"
          ],
          "name": "stdout"
        }
      ]
    },
    {
      "cell_type": "code",
      "metadata": {
        "id": "d0Mt6rrWG7Cw"
      },
      "source": [
        "# See how many frames are captured for each video.\n",
        "train_path='/content/drive/My Drive/cs231n/project/dataset/frames/train/'\n",
        "test_path='/content/drive/My Drive/cs231n/project/dataset/frames/test/'\n",
        "\n",
        "vid_file_name=df_videos_train.video_name[0].split('.')[0]\n",
        "\n",
        "train_frames=[]\n",
        "for i in range(len(df_videos_train.video_name)):\n",
        "    vid_file_name=df_videos_train.video_name[i].split('.')[0]\n",
        "    train_frames.append(len(os.listdir(os.path.join(train_path, vid_file_name))))\n",
        "\n",
        "test_frames=[]\n",
        "for i in range(len(df_videos_test.video_name)):\n",
        "    vid_file_name=df_videos_test.video_name[i].split('.')[0]\n",
        "    test_frames.append(len(os.listdir(os.path.join(test_path,vid_file_name))))"
      ],
      "execution_count": 6,
      "outputs": []
    },
    {
      "cell_type": "code",
      "metadata": {
        "colab": {
          "base_uri": "https://localhost:8080/",
          "height": 513
        },
        "id": "bie8175bTPTt",
        "outputId": "a91c35bb-6486-4992-8ff3-fcd74ae31bfd"
      },
      "source": [
        "import matplotlib.pyplot as plt\n",
        "\n",
        "plt.hist(train_frames)\n",
        "plt.show()\n",
        "\n",
        "plt.hist(test_frames)\n",
        "plt.show()"
      ],
      "execution_count": 7,
      "outputs": [
        {
          "output_type": "display_data",
          "data": {
            "image/png": "[encoded data removed]",
            "text/plain": [
              "<Figure size 432x288 with 1 Axes>"
            ]
          },
          "metadata": {
            "tags": [],
            "needs_background": "light"
          }
        },
        {
          "output_type": "display_data",
          "data": {
            "image/png": "[encoded data removed]",
            "text/plain": [
              "<Figure size 432x288 with 1 Axes>"
            ]
          },
          "metadata": {
            "tags": [],
            "needs_background": "light"
          }
        }
      ]
    },
    {
      "cell_type": "markdown",
      "metadata": {
        "id": "uxVYYtgxLPrw"
      },
      "source": [
        "\n",
        "## Making sure that each video has at least 20 frames\n",
        "\n",
        "Some videos are of length <10 secs, so the frames captured from them are less than 20. We will generate extra frames by creating the copies of the frames at the start and put them at the end. This is to make sure that we have at least 20 frames in each video."
      ]
    },
    {
      "cell_type": "code",
      "metadata": {
        "colab": {
          "base_uri": "https://localhost:8080/"
        },
        "id": "wCIT4UAkIQOd",
        "outputId": "77a46551-8232-4be6-ab3d-2dcc20086dcd"
      },
      "source": [
        "import shutil\n",
        "\n",
        "def frame_generating_function(dataset, dir_path):\n",
        "    for i in range(len(dataset.video_name)):\n",
        "        vid_namu = dataset.video_name[i]\n",
        "        vid_path = os.path.join(dir_path,vid_namu.split(\".\")[0])\n",
        "        len_frame = len(os.listdir(vid_path))\n",
        "        j = 20 - len(os.listdir(vid_path))\n",
        "        if j > 0:\n",
        "            list_frames=os.listdir(vid_path)\n",
        "            c=0\n",
        "            for k in range(j):\n",
        "                list_frames=os.listdir(vid_path)\n",
        "                frame=os.path.join(vid_path,list_frames[c])\n",
        "                countu=k+len_frame\n",
        "                new_frame=\"frame%d.jpg\" % countu\n",
        "                shutil.copy2(frame,os.path.join(vid_path,new_frame))\n",
        "                c+=1\n",
        "        else:\n",
        "            pass\n",
        "    return print(\"Frame Generation Done!\")\n",
        "    \n",
        "train_path='/content/drive/My Drive/cs231n/project/dataset/frames/train/'\n",
        "test_path='/content/drive/My Drive/cs231n/project/dataset/frames/test/'\n",
        "\n",
        "frame_generating_function(df_videos_train, train_path)\n",
        "frame_generating_function(df_videos_test, test_path)"
      ],
      "execution_count": 10,
      "outputs": [
        {
          "output_type": "stream",
          "text": [
            "Frame Generation Done!\n",
            "Frame Generation Done!\n"
          ],
          "name": "stdout"
        }
      ]
    }
  ]
}